{
 "cells": [
  {
   "cell_type": "markdown",
   "metadata": {},
   "source": [
    "# Python3入门到精通——正则表达式与JSON\n",
    "\n",
    "作者： Daniel Meng\n",
    "\n",
    "GitHub： [LibertyDream](https://github.com/LibertyDream)\n",
    "\n",
    "博客：[明月轩](https://libertydream.github.io/)\n",
    "\n",
    "> 本系列教程采用[知识共享署名-非商业性使用-相同方式共享 2.5 中国大陆许可协议](http://creativecommons.org/licenses/by-nc-sa/2.5/cn/)\n",
    "\n",
    "## 什么是正则表达式\n",
    "\n",
    "**正则表达式**是一种特殊的字符串序列，用于检测接收到的字符串是否符合特定的模式或规则。如果符合规则，我们说字符串与正则表达式相**匹配**。常用于检索、替换或者修改文本，应用有邮件格式检测，电话号码检测等等。\n",
    "\n",
    "比如说，现在我们想查询字符串 `sub = abc` 是否存在于字符串 `s = xaababcbcd` 中。`abc` 可以被视为要求严格对应的一条正则表达式。\n",
    "\n",
    "正则表达式通常自左向右检测匹配结果，所以从第一个字符开始匹配 `s[0] == sub[0]`，匹配标绿，反之为红\n",
    "\n",
    "![]( https://raw.githubusercontent.com/LibertyDream/diy_img_host/master/img/2019-09-05_regex_display.png)\n",
    "\n",
    "第一个字符不匹配，向右滑动一格检测 `s[1:4] == sub`\n",
    "\n",
    "![]( https://raw.githubusercontent.com/LibertyDream/diy_img_host/master/img/2019-09-05_regex_display_1.png)\n",
    "\n",
    "第二个字符不匹配，匹配失败，递归继续向右滑动，直到 `s[4:7]==sub`，匹配完成\n",
    "\n",
    "![]( https://raw.githubusercontent.com/LibertyDream/diy_img_host/master/img/2019-09-05_regex_display_2.png)\n"
   ]
  },
  {
   "cell_type": "markdown",
   "metadata": {},
   "source": [
    "## 语法介绍\n",
    "\n",
    "正则表达式由两部分组成：普通字符和特殊字符（元字符）\n",
    "\n",
    "![]( https://raw.githubusercontent.com/LibertyDream/diy_img_host/master/img/2019-09-05_regex_cheat_sheet.png)\n",
    "\n",
    "![]( https://raw.githubusercontent.com/LibertyDream/diy_img_host/master/img/2019-09-05_regex_cheat_sheet_1.png)"
   ]
  },
  {
   "cell_type": "markdown",
   "metadata": {},
   "source": [
    "### 应用实例\n",
    "\n",
    "**导入表达式库**"
   ]
  },
  {
   "cell_type": "code",
   "execution_count": 1,
   "metadata": {},
   "outputs": [],
   "source": [
    "import re"
   ]
  },
  {
   "cell_type": "markdown",
   "metadata": {},
   "source": [
    "**硬件与版本**"
   ]
  },
  {
   "cell_type": "code",
   "execution_count": 2,
   "metadata": {},
   "outputs": [
    {
     "name": "stdout",
     "output_type": "stream",
     "text": [
      "CPython 3.7.3\n",
      "IPython 7.6.1\n",
      "\n",
      "ipywidgets 7.5.0\n",
      "re 2.2.1\n",
      "\n",
      "compiler   : MSC v.1915 64 bit (AMD64)\n",
      "system     : Windows\n",
      "release    : 10\n",
      "machine    : AMD64\n",
      "processor  : Intel64 Family 6 Model 60 Stepping 3, GenuineIntel\n",
      "CPU cores  : 4\n",
      "interpreter: 64bit\n"
     ]
    }
   ],
   "source": [
    "%load_ext watermark\n",
    "%watermark -v -m -p ipywidgets,re"
   ]
  },
  {
   "cell_type": "markdown",
   "metadata": {},
   "source": [
    "**普通字符匹配**\n",
    "\n",
    "![]( https://raw.githubusercontent.com/LibertyDream/diy_img_host/master/img/2019-09-05_regex_cheat_sheet_1.png)"
   ]
  },
  {
   "cell_type": "code",
   "execution_count": 3,
   "metadata": {},
   "outputs": [
    {
     "data": {
      "text/plain": [
       "'hungry'"
      ]
     },
     "execution_count": 3,
     "metadata": {},
     "output_type": "execute_result"
    }
   ],
   "source": [
    "# 检索 hungry\n",
    "re.search(r'hungry','Stay hungry, Stay foolish!').group()"
   ]
  },
  {
   "cell_type": "markdown",
   "metadata": {},
   "source": [
    "**通配符**\n",
    "\n",
    "![]( https://raw.githubusercontent.com/LibertyDream/diy_img_host/master/img/2019-09-05_regex_wildcard.png)"
   ]
  },
  {
   "cell_type": "code",
   "execution_count": 4,
   "metadata": {},
   "outputs": [
    {
     "data": {
      "text/plain": [
       "['bad', 'bed', 'bid', 'bud']"
      ]
     },
     "execution_count": 4,
     "metadata": {},
     "output_type": "execute_result"
    }
   ],
   "source": [
    "re.findall(r'b.d','bad,bed,bid,bud')"
   ]
  },
  {
   "cell_type": "markdown",
   "metadata": {},
   "source": [
    "**定位符**\n",
    "\n",
    "![](https://raw.githubusercontent.com/LibertyDream/diy_img_host/master/img/2019-09-17_regix_loc.png)"
   ]
  },
  {
   "cell_type": "code",
   "execution_count": 5,
   "metadata": {},
   "outputs": [
    {
     "name": "stdout",
     "output_type": "stream",
     "text": [
      "^ 示例： I\n",
      "\\A 示例： I\n"
     ]
    }
   ],
   "source": [
    "# 匹配字符串开头的字母\n",
    "print('^ 示例：', re.search(r'^\\w', 'I am Daniel Meng').group())\n",
    "print('\\A 示例：', re.search(r'\\A\\w', 'I am Daniel Meng').group())"
   ]
  },
  {
   "cell_type": "code",
   "execution_count": 6,
   "metadata": {},
   "outputs": [
    {
     "name": "stdout",
     "output_type": "stream",
     "text": [
      "$ 示例： g\n",
      "\\Z 示例： g\n"
     ]
    }
   ],
   "source": [
    "# 匹配字符串结尾的字母\n",
    "print('$ 示例：', re.search(r'\\w$', 'I am Daniel Meng').group())\n",
    "print('\\Z 示例：', re.search(r'\\w\\Z', 'I am Daniel Meng').group())"
   ]
  },
  {
   "cell_type": "code",
   "execution_count": 7,
   "metadata": {},
   "outputs": [
    {
     "name": "stdout",
     "output_type": "stream",
     "text": [
      "\\b 示例： Daniel Meng\n"
     ]
    }
   ],
   "source": [
    "# 匹配姓名 Daniel Meng\n",
    "print('\\\\b 示例：', re.search(r'\\bDaniel Meng\\b', 'I am Daniel Meng haha').group())"
   ]
  },
  {
   "cell_type": "code",
   "execution_count": 8,
   "metadata": {},
   "outputs": [
    {
     "name": "stdout",
     "output_type": "stream",
     "text": [
      "\\B 示例： ['app']\n"
     ]
    }
   ],
   "source": [
    "# 匹配不是开头或结尾的app，即左右两边都是字符\n",
    "print('\\\\B 示例：', re.findall(r'\\Bapp\\B', 'app capp appd eappe app app'))"
   ]
  },
  {
   "cell_type": "markdown",
   "metadata": {},
   "source": [
    "**限定符**\n",
    "\n",
    "![](https://raw.githubusercontent.com/LibertyDream/diy_img_host/master/img/2019-09-17_regix_limit.png)"
   ]
  },
  {
   "cell_type": "code",
   "execution_count": 9,
   "metadata": {},
   "outputs": [],
   "source": [
    "text = 'google good book'"
   ]
  },
  {
   "cell_type": "code",
   "execution_count": 10,
   "metadata": {},
   "outputs": [
    {
     "name": "stdout",
     "output_type": "stream",
     "text": [
      "* 示例： ['goo', 'g', 'goo']\n"
     ]
    }
   ],
   "source": [
    "# g 后面有 0 或以上的 o\n",
    "print('* 示例：',re.findall(r'go*',text))"
   ]
  },
  {
   "cell_type": "code",
   "execution_count": 11,
   "metadata": {},
   "outputs": [
    {
     "name": "stdout",
     "output_type": "stream",
     "text": [
      "? 示例： ['go', 'g', 'go']\n"
     ]
    }
   ],
   "source": [
    "# g 后面有 0 或 1 个 o\n",
    "print('? 示例：',re.findall(r'go?',text))"
   ]
  },
  {
   "cell_type": "code",
   "execution_count": 12,
   "metadata": {},
   "outputs": [
    {
     "name": "stdout",
     "output_type": "stream",
     "text": [
      "+ 示例： ['goo', 'goo']\n"
     ]
    }
   ],
   "source": [
    "# g 后面有 1 个以上的 o\n",
    "print('+ 示例：',re.findall(r'go+',text))"
   ]
  },
  {
   "cell_type": "code",
   "execution_count": 13,
   "metadata": {},
   "outputs": [
    {
     "name": "stdout",
     "output_type": "stream",
     "text": [
      "{} 示例： ['goo', 'goo']\n"
     ]
    }
   ],
   "source": [
    "# g 后面有 1 或 2 个 o\n",
    "print('{} 示例：',re.findall(r'go{1,2}',text))"
   ]
  },
  {
   "cell_type": "code",
   "execution_count": 14,
   "metadata": {},
   "outputs": [
    {
     "name": "stdout",
     "output_type": "stream",
     "text": [
      "懒惰匹配示例： ['g', 'g', 'g'] ['go', 'go']\n"
     ]
    }
   ],
   "source": [
    "# 懒惰匹配\n",
    "print('懒惰匹配示例：',re.findall(r'go*?',text), re.findall(r'go+?',text))"
   ]
  },
  {
   "cell_type": "markdown",
   "metadata": {},
   "source": [
    "**转义字符**\n",
    "\n",
    "![](https://raw.githubusercontent.com/LibertyDream/diy_img_host/master/img/2019-09-17_regix_ESC.png)"
   ]
  },
  {
   "cell_type": "code",
   "execution_count": 15,
   "metadata": {},
   "outputs": [
    {
     "name": "stdout",
     "output_type": "stream",
     "text": [
      "\\ 示例： ,\n"
     ]
    }
   ],
   "source": [
    "# 匹配句子中的逗号\n",
    "print('\\\\ 示例：',re.search(r'\\,', 'Stay hungry, Stay foolish').group())"
   ]
  },
  {
   "cell_type": "markdown",
   "metadata": {},
   "source": [
    "**分支条件**\n",
    "\n",
    "![](https://raw.githubusercontent.com/LibertyDream/diy_img_host/master/img/2019-09-17_regix_branch.png)"
   ]
  },
  {
   "cell_type": "code",
   "execution_count": 16,
   "metadata": {},
   "outputs": [
    {
     "name": "stdout",
     "output_type": "stream",
     "text": [
      "| 示例： zhuang\n"
     ]
    }
   ],
   "source": [
    "print('| 示例：',re.search(r'zhuang|zhunag', 'zhuang zhunag').group())"
   ]
  },
  {
   "cell_type": "markdown",
   "metadata": {},
   "source": [
    "**字符集合**\n",
    "\n",
    "![](https://raw.githubusercontent.com/LibertyDream/diy_img_host/master/img/2019-09-17_regix_char_set.png)"
   ]
  },
  {
   "cell_type": "code",
   "execution_count": 17,
   "metadata": {},
   "outputs": [
    {
     "name": "stdout",
     "output_type": "stream",
     "text": [
      "[a-z] 示例： ear\n"
     ]
    }
   ],
   "source": [
    "# 匹配字符集中的任意字符\n",
    "print('[a-z] 示例：',re.search(r'[a-z]+', 'Tear down the wall').group())"
   ]
  },
  {
   "cell_type": "code",
   "execution_count": 18,
   "metadata": {},
   "outputs": [
    {
     "name": "stdout",
     "output_type": "stream",
     "text": [
      "[^a-z] 示例： T\n"
     ]
    }
   ],
   "source": [
    "# 匹配字符集之外的任意字符\n",
    "print('[^a-z] 示例：',re.search(r'[^a-z]+', 'Tear down the wall').group())"
   ]
  },
  {
   "cell_type": "markdown",
   "metadata": {},
   "source": [
    "**分组**\n",
    "\n",
    "![](https://raw.githubusercontent.com/LibertyDream/diy_img_host/master/img/2019-09-17_regix_group.png)"
   ]
  },
  {
   "cell_type": "code",
   "execution_count": 19,
   "metadata": {},
   "outputs": [
    {
     "name": "stdout",
     "output_type": "stream",
     "text": [
      "(...) 示例： hahaha\n"
     ]
    }
   ],
   "source": [
    "# 分组的向后引用\n",
    "print('(...) 示例：', re.search(r'(ha)\\1\\1','hahaha').group())"
   ]
  },
  {
   "cell_type": "code",
   "execution_count": 20,
   "metadata": {},
   "outputs": [
    {
     "name": "stdout",
     "output_type": "stream",
     "text": [
      "(?P<name>) 示例： ha\n"
     ]
    }
   ],
   "source": [
    "# 给分组命名\n",
    "print('(?P<name>) 示例：', re.search(r'(?P<one>)\\w+','ha ha ha').group())"
   ]
  },
  {
   "cell_type": "code",
   "execution_count": 21,
   "metadata": {},
   "outputs": [
    {
     "name": "stdout",
     "output_type": "stream",
     "text": [
      "(?i) 示例： ['hello', 'Hello']\n"
     ]
    }
   ],
   "source": [
    "# 匹配 hello 忽略大小写\n",
    "print('(?i) 示例：', re.findall(r'(?i)hello','hello Hello'))"
   ]
  },
  {
   "cell_type": "code",
   "execution_count": 22,
   "metadata": {},
   "outputs": [
    {
     "name": "stdout",
     "output_type": "stream",
     "text": [
      "(?#) 示例： ha ha\n"
     ]
    }
   ],
   "source": [
    "# 添加注释\n",
    "print('(?#) 示例：', re.search(r'(?#匹配笑声)\\w+ \\w+','ha ha').group())"
   ]
  },
  {
   "cell_type": "code",
   "execution_count": 23,
   "metadata": {},
   "outputs": [
    {
     "name": "stdout",
     "output_type": "stream",
     "text": [
      "(?=) 示例1： None\n",
      "(?=) 示例2： abc\n"
     ]
    }
   ],
   "source": [
    "# 匹配 def 前的 abc\n",
    "print('(?=) 示例1：', re.search(r'abc(?=def)','defabc'))\n",
    "print('(?=) 示例2：', re.search(r'abc(?=def)','abcdef').group())"
   ]
  },
  {
   "cell_type": "code",
   "execution_count": 24,
   "metadata": {},
   "outputs": [
    {
     "name": "stdout",
     "output_type": "stream",
     "text": [
      "(?!) 示例1： abc\n",
      "(?!) 示例2： None\n"
     ]
    }
   ],
   "source": [
    "# 匹配不在 def 前的 abc\n",
    "print('(?!) 示例1：', re.search(r'abc(?!def)','defabc').group())\n",
    "print('(?!) 示例2：', re.search(r'abc(?!def)','abcdef'))"
   ]
  },
  {
   "cell_type": "code",
   "execution_count": 25,
   "metadata": {},
   "outputs": [
    {
     "name": "stdout",
     "output_type": "stream",
     "text": [
      "(?<=) 示例： def\n"
     ]
    }
   ],
   "source": [
    "# 匹配 abc 后的 def\n",
    "print('(?<=) 示例：', re.search(r'(?<=abc)def','abcdef').group())"
   ]
  },
  {
   "cell_type": "code",
   "execution_count": 26,
   "metadata": {},
   "outputs": [
    {
     "name": "stdout",
     "output_type": "stream",
     "text": [
      "(?<!) 示例： None\n"
     ]
    }
   ],
   "source": [
    "# 匹配不在 abc 后面的 def\n",
    "print('(?<!) 示例：', re.search(r'(?<!abc)def','abcdef'))"
   ]
  },
  {
   "cell_type": "code",
   "execution_count": 27,
   "metadata": {},
   "outputs": [
    {
     "name": "stdout",
     "output_type": "stream",
     "text": [
      "(?(id/name) yes-pattern | no-parrtern) 示例1： read good book\n"
     ]
    }
   ],
   "source": [
    "# 如果结尾是数字匹配数字，否则匹配 haha\n",
    "print('(?(id/name) yes-pattern | no-parrtern) 示例1：', \n",
    "      re.search(r'(\\w+) good (?(1)\\w+|---)','read good book').group())"
   ]
  },
  {
   "cell_type": "code",
   "execution_count": 28,
   "metadata": {},
   "outputs": [
    {
     "name": "stdout",
     "output_type": "stream",
     "text": [
      "(?(id/name) yes-pattern | no-parrtern) 示例2：  good book\n"
     ]
    }
   ],
   "source": [
    "print('(?(id/name) yes-pattern | no-parrtern) 示例2：', \n",
    "      re.search(r'(\\d+)? good (?(1)\\d+|\\w+)','read good book').group())"
   ]
  },
  {
   "cell_type": "markdown",
   "metadata": {},
   "source": [
    "**向后引用**\n",
    "\n",
    "![](https://raw.githubusercontent.com/LibertyDream/diy_img_host/master/img/2019-09-22_backward_reference.png)"
   ]
  },
  {
   "cell_type": "code",
   "execution_count": 29,
   "metadata": {},
   "outputs": [
    {
     "name": "stdout",
     "output_type": "stream",
     "text": [
      "1abc1\n"
     ]
    }
   ],
   "source": [
    "print(re.search(r'(?P<number>\\d)abc(?P=number)','1abc1').group())"
   ]
  },
  {
   "cell_type": "code",
   "execution_count": 30,
   "metadata": {},
   "outputs": [
    {
     "name": "stdout",
     "output_type": "stream",
     "text": [
      "1abc1\n"
     ]
    }
   ],
   "source": [
    "print(re.search(r'(?P<number>\\d)abc\\1','1abc1').group())"
   ]
  },
  {
   "cell_type": "markdown",
   "metadata": {},
   "source": [
    "**预定义字符**\n",
    "\n",
    "![](https://raw.githubusercontent.com/LibertyDream/diy_img_host/master/img/2019-09-22_predef_char.png)"
   ]
  },
  {
   "cell_type": "code",
   "execution_count": 31,
   "metadata": {},
   "outputs": [
    {
     "name": "stdout",
     "output_type": "stream",
     "text": [
      "19202120291\n"
     ]
    }
   ],
   "source": [
    "# 找出QQ号\n",
    "print(re.search(r'\\d+', 'Li Meimei has a QQ called 19202120291. What\"s about Han Lei?').group())"
   ]
  },
  {
   "cell_type": "code",
   "execution_count": 32,
   "metadata": {},
   "outputs": [
    {
     "name": "stdout",
     "output_type": "stream",
     "text": [
      "Li Meimei has a QQ called \n"
     ]
    }
   ],
   "source": [
    "# 找出QQ号之前的内容\n",
    "print(re.search(r'\\D+', 'Li Meimei has a QQ called 19202120291. What\"s about Han Lei?').group())"
   ]
  },
  {
   "cell_type": "code",
   "execution_count": 33,
   "metadata": {},
   "outputs": [
    {
     "name": "stdout",
     "output_type": "stream",
     "text": [
      "Li Meimei\n"
     ]
    }
   ],
   "source": [
    "# 匹配 Li Meimei\n",
    "print(re.search(r'Li\\sMeimei', 'Li Meimei has a QQ called 19202120291. What\"s about Han Lei?').group())"
   ]
  },
  {
   "cell_type": "code",
   "execution_count": 34,
   "metadata": {},
   "outputs": [
    {
     "name": "stdout",
     "output_type": "stream",
     "text": [
      "Lei?\n"
     ]
    }
   ],
   "source": [
    "# 匹配 Lei?\n",
    "print(re.search(r'Lei\\S', 'Li Meimei has a QQ called 19202120291. What\"s about Han Lei?').group())"
   ]
  },
  {
   "cell_type": "code",
   "execution_count": 35,
   "metadata": {},
   "outputs": [
    {
     "name": "stdout",
     "output_type": "stream",
     "text": [
      "Li\n"
     ]
    }
   ],
   "source": [
    "# 匹配句首单词\n",
    "print(re.search(r'\\w+', 'Li Meimei has a QQ called 19202120291. What\"s about Han Lei?').group())"
   ]
  },
  {
   "cell_type": "code",
   "execution_count": 36,
   "metadata": {},
   "outputs": [
    {
     "name": "stdout",
     "output_type": "stream",
     "text": [
      "?\n"
     ]
    }
   ],
   "source": [
    "# 匹配句尾标点\n",
    "print(re.search(r'\\W$', 'Li Meimei has a QQ called 19202120291. What\"s about Han Lei?').group())"
   ]
  },
  {
   "cell_type": "markdown",
   "metadata": {},
   "source": [
    "## re模块\n",
    "\n",
    "从上面例子里应该会注意到，Python 里想要使用正则表达式，离不开 re 模块。严格的 re 运用三板斧为：\n",
    "\n",
    "1. 将构成正则表达式的字符串编译成 Pattern 实例\n",
    "2. 使用 Pattern 与字符串进行匹配，得到匹配结果 Match 实例\n",
    "3. 使用 Match 实例获取匹配到的信息"
   ]
  },
  {
   "cell_type": "code",
   "execution_count": 37,
   "metadata": {},
   "outputs": [],
   "source": [
    "import re\n",
    "\n",
    "pattern = re.compile(r'\\d{4}-\\d{2}-\\d{2}')\n",
    "\n",
    "# 不会匹配到生日\n",
    "ret = pattern.match('Tom was born on 2000-01-01')\n",
    "\n",
    "if ret is not None:\n",
    "    print(ret.group())"
   ]
  },
  {
   "cell_type": "markdown",
   "metadata": {},
   "source": [
    "match 方法是从头开始匹配的，如果第一个字符起就不符合表达式，则自动停止搜索并返回 None"
   ]
  },
  {
   "cell_type": "code",
   "execution_count": 38,
   "metadata": {},
   "outputs": [
    {
     "data": {
      "text/plain": [
       "'2000-01-01'"
      ]
     },
     "execution_count": 38,
     "metadata": {},
     "output_type": "execute_result"
    }
   ],
   "source": [
    "pattern.match('2000-01-01 is Tom\"s birthday').group()"
   ]
  },
  {
   "cell_type": "markdown",
   "metadata": {},
   "source": [
    "re 模块里提供了大量正则表达式的处理方法，可能会用到的有\n",
    "\n",
    "|函数|功能|函数|功能|\n",
    "|:-:|:-:|:-:|:-:|\n",
    "|**re.compile ( )**|将字符串形式的正则表达式编译为Pattern对象|**re.match ( )**|匹配字符串开头|\n",
    "|**re.search ( )**|从左到右扫描字符串，返回对应第一个匹配对象|**re.finall ( )**|匹配的子字符串以列表形式返回|\n",
    "|**re.finditer ( )**|返回匹配访问顺序|**re.split ( )**|按照能够匹配的子串将string分割后返回列表|\n",
    "|**re.sub ( )**| 输出修改替换后的字符串|**re.subn ( )**|返回一个元组（新字符串，替换次数)|\n",
    "|**re.escape ( )**|转义除ASCII字母、数字和下划线的所有字符|**re.purge ( )**|清除所有正则表达式缓存|"
   ]
  },
  {
   "cell_type": "markdown",
   "metadata": {},
   "source": [
    "此外，re 模块提供了若干匹配模式，使 re 用起来更加灵活\n",
    "\n",
    "|flags|功能|\n",
    "|:-|:-|  \n",
    "|**re.I(re.IGNORECASE)**  |忽略大小写（括号内是完整写法，下同)|\n",
    "|**re.M(MULTILINE)**  |多行模式，'^'和'$'匹配每行的开头和结尾|\n",
    "|**re.S(DOTALL)**  |点任意匹配模式，'.'匹配任意字符，包括换行符|\n",
    "|**re.L(LOCALE)**  |使预定字符类 \\w \\W \\b \\B \\s \\S 取决于当前语言设定|\n",
    "|**re.U(UNICODE)**  |使预定字符类 \\w \\W \\b \\B \\s \\S \\d \\D 取决于unicode定义的字符属性|\n",
    "|**re.X(VERBOSE)**  |详细模式。这个模式下正则表达式可以是多行，忽略空白字符，并可以加入注释|\n",
    "|**re.A(ASCII)**  |在unicode字符串模式的情况下影响\\w, \\W, \\b, \\B, \\d, \\D, \\s, \\S，让它们只匹配ASCII码,在bytes字符串模式下会被忽略|\n",
    "\n",
    "【例】**re.match(pattern, string, flags=0)**\n",
    "\n",
    "      pattern：需要匹配的正则表达式\n",
    "\n",
    "      string：需要被匹配的字符串\n",
    "      \n",
    "      flags：匹配模式\n",
    "\n",
    "匹配模式可以使用按位或运算符'|'表示同时生效"
   ]
  },
  {
   "cell_type": "code",
   "execution_count": 63,
   "metadata": {},
   "outputs": [
    {
     "name": "stdout",
     "output_type": "stream",
     "text": [
      "None\n"
     ]
    }
   ],
   "source": [
    "pattern = re.compile('ab.c')\n",
    "print(pattern.search('AB\\nC'))"
   ]
  },
  {
   "cell_type": "code",
   "execution_count": 64,
   "metadata": {},
   "outputs": [
    {
     "name": "stdout",
     "output_type": "stream",
     "text": [
      "None\n"
     ]
    }
   ],
   "source": [
    "pattern = re.compile('ab.c', re.I)\n",
    "print(pattern.search('AB\\nC'))"
   ]
  },
  {
   "cell_type": "code",
   "execution_count": 60,
   "metadata": {},
   "outputs": [
    {
     "data": {
      "text/plain": [
       "'AB\\nC'"
      ]
     },
     "execution_count": 60,
     "metadata": {},
     "output_type": "execute_result"
    }
   ],
   "source": [
    "pattern = re.compile('ab.c', re.I | re.S)\n",
    "pattern.search('AB\\nC').group()"
   ]
  },
  {
   "cell_type": "markdown",
   "metadata": {},
   "source": [
    "### re.compile\n",
    "\n",
    "**re.compile(pattern,flags = 0)**\n",
    "\n",
    "按照字符串 pattern 指定的规则生成一个 re.Pattern 实例，即一个可用的正则表达式对象。实例拥有 match 等匹配方法。"
   ]
  },
  {
   "cell_type": "code",
   "execution_count": 40,
   "metadata": {},
   "outputs": [
    {
     "name": "stdout",
     "output_type": "stream",
     "text": [
      "['good', 'good', 'day', 'day']\n"
     ]
    }
   ],
   "source": [
    "import re\n",
    "\n",
    "sample_str = 'good good study, day day up'\n",
    "pattern = re.compile(r'\\w[ao]+\\w')\n",
    "print(pattern.findall(sample_str))"
   ]
  },
  {
   "cell_type": "markdown",
   "metadata": {},
   "source": [
    "### re.match\n",
    "\n",
    "**re.match(pattern, string, flags=0)** \n",
    "\n",
    "如果字符串开头处有匹配模式的子字符串，则返回匹配对象。即使在多行模式下，也只匹配字符串开头，而非每行开头\n",
    "\n",
    "**re.match()接受参数介绍：**\n",
    "\n",
    "* string: 匹配时使用的文本。\n",
    "* re: 匹配时使用的Pattern对象。\n",
    "* pos: 文本中正则表达式开始搜索的索引。值与Pattern.match()和Pattern.seach()方法的同名参数相同。\n",
    "* endpos: 文本中正则表达式结束搜索的索引。值与Pattern.match()和Pattern.seach()方法的同名参数相同。\n",
    "* lastindex: 最后一个被捕获的分组的索引。如果没有被捕获的分组，将为None。\n",
    "* lastgroup: 最后一个被捕获的分组的别名。如果这个分组没有别名或者没有被捕获的分组，将为None。"
   ]
  },
  {
   "cell_type": "markdown",
   "metadata": {},
   "source": [
    "匹配`apple banana orange`中开头的 apple"
   ]
  },
  {
   "cell_type": "code",
   "execution_count": 41,
   "metadata": {},
   "outputs": [
    {
     "data": {
      "text/plain": [
       "'apple'"
      ]
     },
     "execution_count": 41,
     "metadata": {},
     "output_type": "execute_result"
    }
   ],
   "source": [
    "import re\n",
    "\n",
    "match = re.match(r'apple','apple banana orange')\n",
    "match.group()"
   ]
  },
  {
   "cell_type": "markdown",
   "metadata": {},
   "source": [
    "无法匹配文中的 banana"
   ]
  },
  {
   "cell_type": "code",
   "execution_count": 42,
   "metadata": {},
   "outputs": [
    {
     "name": "stdout",
     "output_type": "stream",
     "text": [
      "None\n"
     ]
    }
   ],
   "source": [
    "print(re.match(r'banana','apple banana orange'))"
   ]
  },
  {
   "cell_type": "markdown",
   "metadata": {},
   "source": [
    "|group( ) 格式|    功能    |\n",
    "|:-|:-|  \n",
    "|group([group1, …])  |获得一个或多个分组截获的字符串；指定多个参数时将以元组形式返回。group1可以使用编号也可以使用别名；编号0代表整个匹配的子串；不填写参数时，返回group(0)；没有截获字符串的组返回None；截获了多次的组返回最后一次截获的子串。|\n",
    "|groups([default])  |以元组形式返回全部分组截获的字符串。相当于调用group(1,2,…last)。default表示没有截获字符串的组以这个值替代，默认为None。|\n",
    "|groupdict([default])  |返回以有别名的组的别名为键、以该组截获的子串为值的字典，没有别名的组不包含在内。default含义同上。|\n",
    "|start([group])  |返回指定的组截获的子串在string中的起始索引（子串第一个字符的索引）。group默认值为0。|\n",
    "|end([group])  |返回指定的组截获的子串在string中的结束索引（子串最后一个字符的索引+1）。group默认值为0。|\n",
    "|span([group])  |返回(start(group), end(group))。|\n",
    "|expand(template)  |将匹配到的分组代入template中然后返回。template中可以使用\\id或\\g<id>、\\g<name>引用分组，但不能使用编号0。\\id与\\g<id>是等价的；但\\10将被认为是第10个分组，如果你想表达\\1之后是字符'0'，只能使用\\g<1>0。|"
   ]
  },
  {
   "cell_type": "code",
   "execution_count": 43,
   "metadata": {},
   "outputs": [],
   "source": [
    "import re\n",
    "\n",
    "match = re.match(r'(\\w+)\\W+(\\w+ \\w+)(?P<sign>.*)', 'Hello, Daniel Meng!')"
   ]
  },
  {
   "cell_type": "code",
   "execution_count": 44,
   "metadata": {},
   "outputs": [
    {
     "data": {
      "text/plain": [
       "('Hello', 'Daniel Meng')"
      ]
     },
     "execution_count": 44,
     "metadata": {},
     "output_type": "execute_result"
    }
   ],
   "source": [
    "# 获取两个分组\n",
    "match.group(1,2)"
   ]
  },
  {
   "cell_type": "code",
   "execution_count": 45,
   "metadata": {},
   "outputs": [
    {
     "data": {
      "text/plain": [
       "('Hello', 'Daniel Meng', '!')"
      ]
     },
     "execution_count": 45,
     "metadata": {},
     "output_type": "execute_result"
    }
   ],
   "source": [
    "# 获取所有分组\n",
    "match.groups()"
   ]
  },
  {
   "cell_type": "code",
   "execution_count": 46,
   "metadata": {},
   "outputs": [
    {
     "data": {
      "text/plain": [
       "{'sign': '!'}"
      ]
     },
     "execution_count": 46,
     "metadata": {},
     "output_type": "execute_result"
    }
   ],
   "source": [
    "# 获取分组字典，因为只有标点分组有别名，故只会获得一个返回值\n",
    "match.groupdict()"
   ]
  },
  {
   "cell_type": "code",
   "execution_count": 47,
   "metadata": {},
   "outputs": [
    {
     "data": {
      "text/plain": [
       "7"
      ]
     },
     "execution_count": 47,
     "metadata": {},
     "output_type": "execute_result"
    }
   ],
   "source": [
    "# 获取姓名分组在字符串中的起始索引\n",
    "match.start(2)"
   ]
  },
  {
   "cell_type": "code",
   "execution_count": 48,
   "metadata": {},
   "outputs": [
    {
     "data": {
      "text/plain": [
       "18"
      ]
     },
     "execution_count": 48,
     "metadata": {},
     "output_type": "execute_result"
    }
   ],
   "source": [
    "# 获取姓名分组在字符串中的结尾索引\n",
    "match.end(2)"
   ]
  },
  {
   "cell_type": "code",
   "execution_count": 49,
   "metadata": {},
   "outputs": [
    {
     "data": {
      "text/plain": [
       "(7, 18)"
      ]
     },
     "execution_count": 49,
     "metadata": {},
     "output_type": "execute_result"
    }
   ],
   "source": [
    "# 获取第二个分组的起止区间\n",
    "match.span(2)"
   ]
  },
  {
   "cell_type": "code",
   "execution_count": 50,
   "metadata": {},
   "outputs": [
    {
     "data": {
      "text/plain": [
       "'Daniel Meng! Hello'"
      ]
     },
     "execution_count": 50,
     "metadata": {},
     "output_type": "execute_result"
    }
   ],
   "source": [
    "# 将匹配到的分组重构，倒着说\n",
    "match.expand(r'\\2\\g<sign> \\1')"
   ]
  },
  {
   "cell_type": "markdown",
   "metadata": {},
   "source": [
    "### re.search\n",
    "\n",
    "**re.search(pattern, string, flags=0)**\n",
    "\n",
    "search 方法和 match 很像，但是 search 会全文扫描并返回第一个匹配的结果"
   ]
  },
  {
   "cell_type": "code",
   "execution_count": 51,
   "metadata": {},
   "outputs": [
    {
     "data": {
      "text/plain": [
       "'bbb1'"
      ]
     },
     "execution_count": 51,
     "metadata": {},
     "output_type": "execute_result"
    }
   ],
   "source": [
    "import re\n",
    "search = re.search(r'[a-z]+\\d', 'aaa bbb1 ccc2 ddd3')\n",
    "search.group()"
   ]
  },
  {
   "cell_type": "markdown",
   "metadata": {},
   "source": [
    "### re.findall\n",
    "\n",
    "**re.findall(pattern, string, flags=0)**\n",
    "\n",
    "findall 方法会将所有匹配的结果以列表形式返回"
   ]
  },
  {
   "cell_type": "code",
   "execution_count": 52,
   "metadata": {},
   "outputs": [
    {
     "data": {
      "text/plain": [
       "['bbb1', 'ccc2', 'ddd3']"
      ]
     },
     "execution_count": 52,
     "metadata": {},
     "output_type": "execute_result"
    }
   ],
   "source": [
    "import re\n",
    "re.findall(r'[a-z]+\\d', 'aaa bbb1 ccc2 ddd3')"
   ]
  },
  {
   "cell_type": "markdown",
   "metadata": {},
   "source": [
    "### re.finditer\n",
    "\n",
    "**re.finditer(pattern, string, flags=0)**\n",
    "\n",
    "搜索全文，返回一个顺序访问匹配结果（Match 对象）的迭代器对象"
   ]
  },
  {
   "cell_type": "code",
   "execution_count": 53,
   "metadata": {},
   "outputs": [
    {
     "name": "stdout",
     "output_type": "stream",
     "text": [
      "go to Bei jing\n",
      "go to Shang hai\n",
      "go to Liu yang\n"
     ]
    }
   ],
   "source": [
    "import re\n",
    "\n",
    "city_iter = re.finditer(r'[A-Z][a-z]+ \\w+', 'Bei jing Shang hai Liu yang')\n",
    "\n",
    "for city in city_iter:\n",
    "    print('go to %s' % city.group())"
   ]
  },
  {
   "cell_type": "markdown",
   "metadata": {},
   "source": [
    "### re.split\n",
    "\n",
    "**re.split(pattern,string,maxsplit=0,flags=0)**\n",
    "\n",
    "split 会将匹配到的内容当作切分符，将切分结果列表返回。`maxsplit` 指定最多切几刀，默认全切。"
   ]
  },
  {
   "cell_type": "code",
   "execution_count": 54,
   "metadata": {},
   "outputs": [
    {
     "data": {
      "text/plain": [
       "['one', 'two', 'three', 'four4five']"
      ]
     },
     "execution_count": 54,
     "metadata": {},
     "output_type": "execute_result"
    }
   ],
   "source": [
    "import re\n",
    "\n",
    "re.split(r'\\d','one1two2three3four4five',maxsplit=3)"
   ]
  },
  {
   "cell_type": "markdown",
   "metadata": {},
   "source": [
    "如果是以分组作为切分符，分组内容也将返回，如果只是正则表达式，则返回被分割出来的内容"
   ]
  },
  {
   "cell_type": "code",
   "execution_count": 55,
   "metadata": {},
   "outputs": [
    {
     "data": {
      "text/plain": [
       "['one', '1', 'two', '2', 'three', '3', 'four', '4', 'five']"
      ]
     },
     "execution_count": 55,
     "metadata": {},
     "output_type": "execute_result"
    }
   ],
   "source": [
    "re.split(r'(\\d)','one1two2three3four4five')"
   ]
  },
  {
   "cell_type": "markdown",
   "metadata": {},
   "source": [
    "### re.sub\n",
    "\n",
    "**re.sub(pattern, repl, string[, count]) | pattern.sub(repl, string[, count])**\n",
    "\n",
    "从给定字符串中检索匹配 `pattern` 的内容，替换为 `repl` 并返回新字符串。\n",
    "\n",
    "- 当 `repl` 是字符串时，可以使用\\id或\\g、\\g引用分组，但不能使用编号0。\n",
    "- 当repl是一个方法时，这个方法应当只接受一个参数（Match对象），并返回一个字符串用于替换（返回的字符串中不能再引用分组）。\n",
    "- count用于指定最多替换次数，不指定时全部替换。"
   ]
  },
  {
   "cell_type": "code",
   "execution_count": 56,
   "metadata": {},
   "outputs": [
    {
     "name": "stdout",
     "output_type": "stream",
     "text": [
      "re module is very important for regular expression.\n",
      "re-module-is-very-important-for-regular-expression.\n"
     ]
    }
   ],
   "source": [
    "import re\n",
    "\n",
    "text = 're module is very important for regular expression. # that\"s true'\n",
    "\n",
    "# 删除字符串中的注释\n",
    "pure_text = re.sub(r'\\s?#.*$', '', text)\n",
    "print(pure_text)\n",
    "\n",
    "# 替换空格为-\n",
    "link_text = re.sub(r' ','-', pure_text)\n",
    "print(link_text)"
   ]
  },
  {
   "cell_type": "code",
   "execution_count": 57,
   "metadata": {},
   "outputs": [
    {
     "name": "stdout",
     "output_type": "stream",
     "text": [
      " you say what I say \n",
      "I Say what You Say\n"
     ]
    }
   ],
   "source": [
    "import re\n",
    "\n",
    "pattern = re.compile(r'(\\s?\\w+ \\w+\\s?)\\w+(\\s?\\w+ \\w+\\s?)')\n",
    "text = 'I say what you say'\n",
    "print(pattern.sub(r'\\2 what \\1', text))\n",
    "\n",
    "def to_up(match):\n",
    "    return match.group(1).title() + 'what' + match.group(2).title()\n",
    "\n",
    "print(pattern.sub(to_up, text))"
   ]
  },
  {
   "cell_type": "markdown",
   "metadata": {},
   "source": [
    "### re.subn\n",
    "\n",
    "**re.subn(pattern,repl,string,count=0,flags=0)**\n",
    "\n",
    "subn 方法返回的是 `(新字符串，替换次数）` 元组"
   ]
  },
  {
   "cell_type": "code",
   "execution_count": 58,
   "metadata": {},
   "outputs": [
    {
     "name": "stdout",
     "output_type": "stream",
     "text": [
      "(' you say what I say ', 1)\n",
      "('I Say what You Say', 1)\n"
     ]
    }
   ],
   "source": [
    "import re\n",
    "\n",
    "pattern = re.compile(r'(\\s?\\w+ \\w+\\s?)\\w+(\\s?\\w+ \\w+\\s?)')\n",
    "text = 'I say what you say'\n",
    "print(pattern.subn(r'\\2 what \\1', text))\n",
    "\n",
    "def to_up(match):\n",
    "    return match.group(1).title() + 'what' + match.group(2).title()\n",
    "\n",
    "print(pattern.subn(to_up, text))"
   ]
  },
  {
   "cell_type": "markdown",
   "metadata": {},
   "source": [
    "### re.escape\n",
    "\n",
    "**re.escape(pattern)**\n",
    "\n",
    "escape 方法会转义除了 ASCII 字母、数字和下划线外的所有字符。如果你要输出的字符串有正则表达式相关字符，可以使用该方法。"
   ]
  },
  {
   "cell_type": "code",
   "execution_count": 59,
   "metadata": {},
   "outputs": [
    {
     "name": "stdout",
     "output_type": "stream",
     "text": [
      "\\^hi\\.\\*\n"
     ]
    }
   ],
   "source": [
    "import re\n",
    "\n",
    "print(re.escape('^hi.*'))"
   ]
  },
  {
   "cell_type": "markdown",
   "metadata": {},
   "source": [
    "## JSON\n",
    "\n",
    "JSON 全称是 JavaScript 对象标记（JavaScript object notation），是一种轻量级的**数据交换格式**，强调一下，JSON 是一种数据格式。\n",
    "\n",
    "数据格式都有其特定的表示形式，对于 JSON 就是 `{\"name\": content }`，应用中常常表现为字符串，符合 JSON 格式的字符串简称 JSON 字符串。\n",
    "\n",
    "JSON 作为一种数据交换格式，可以和各种编程语言下某种数据类型或数据结构进行转换，Python 中就是字典。\n",
    "\n",
    "和 Web 时代流行的另一种数据交换格式 XML 相比，JSON 更易于阅读，更易于解析也更易于网络传输。同时，在不同编程语言的程序间交换数据时，通常也会选择 JSON 格式。比较流行的服务设计规范比如 REST 同样选定 JSON 作为数据交换格式。"
   ]
  },
  {
   "cell_type": "markdown",
   "metadata": {},
   "source": [
    "### Python 里的 JSON\n",
    "\n",
    "Python 将和 JSON 相关的操作封装在模块 `json` 内"
   ]
  },
  {
   "cell_type": "code",
   "execution_count": 65,
   "metadata": {},
   "outputs": [],
   "source": [
    "import json"
   ]
  },
  {
   "cell_type": "markdown",
   "metadata": {},
   "source": [
    "JSON 格式数据传给 Python 时收到的会是一个字符串，通过 `loads` 方法解析字符串获取 JSON 对象，Python 内的 JSON 对象都被表示为一个字典。而这种由字符串到数据格式的转化有个专业名词——反序列化。"
   ]
  },
  {
   "cell_type": "code",
   "execution_count": 66,
   "metadata": {},
   "outputs": [
    {
     "name": "stdout",
     "output_type": "stream",
     "text": [
      "<class 'dict'> {'name': 'Daniel Meng', 'age': 18, 'married': False}\n"
     ]
    }
   ],
   "source": [
    "data = '{\"name\":\"Daniel Meng\", \"age\":18, \"married\":false}'\n",
    "json_data = json.loads(data)\n",
    "\n",
    "print(type(json_data), json_data)"
   ]
  },
  {
   "cell_type": "markdown",
   "metadata": {},
   "source": [
    "这里注意几件事：\n",
    "\n",
    "1. JSON 自有其数据格式规定，比如`{}`内的键和字符串必须用双引号而不能用单引号，布尔值用 false、true 表示\n",
    "2. 不同编程语言会用各自设计好的某种数据结构承载 JSON 格式数据，比如 Python 选择用字典。同时，解析后的数据表示与语言相关，比如例子中`\"`变成单引号，false 变成 False\n",
    "\n",
    "|JSON 数据类型|Python 数据类型|\n",
    "|:-|:-|  \n",
    "|object |dict|\n",
    "|array  |list|\n",
    "|string  |str|\n",
    "|number  |int|\n",
    "|number  |float|\n",
    "|true  |True|\n",
    "|false |False|\n",
    "|null| None|\n",
    "\n",
    "JSON 本身只是规定了最小基本数据单元的样子，而传输时的 JSON 数据可以很复杂"
   ]
  },
  {
   "cell_type": "code",
   "execution_count": 67,
   "metadata": {},
   "outputs": [
    {
     "name": "stdout",
     "output_type": "stream",
     "text": [
      "<class 'list'> [{'a': 'aaa', 'b': {'c': 111}}, {'d': 'ddd', 'e': {'f': 222}}]\n"
     ]
    }
   ],
   "source": [
    "data = '[{\"a\":\"aaa\", \"b\":{\"c\": 111}},{\"d\":\"ddd\", \"e\":{\"f\": 222}}]'\n",
    "\n",
    "json_data = json.loads(data)\n",
    "\n",
    "print(type(json_data), json_data)"
   ]
  },
  {
   "cell_type": "markdown",
   "metadata": {},
   "source": [
    "有反序列化自然有序列化，即将其他数据类型转换成用于传输的字符串。Python 中通过 json 模块下的 `dumps` 方法实现该功能"
   ]
  },
  {
   "cell_type": "code",
   "execution_count": 68,
   "metadata": {},
   "outputs": [
    {
     "name": "stdout",
     "output_type": "stream",
     "text": [
      "<class 'str'> [{\"name\": \"Daniel Meng\", \"age\": 18, \"married\": false}, {\"name\": \"Joey Meng\", \"age\": 26, \"married\": true}]\n"
     ]
    }
   ],
   "source": [
    "import json\n",
    "\n",
    "json_data = [\n",
    "    {'name': 'Daniel Meng', 'age': 18, 'married': False},\n",
    "    {'name': 'Joey Meng', 'age': 26, 'married': True}\n",
    "]\n",
    "\n",
    "data = json.dumps(json_data)\n",
    "\n",
    "print(type(data), data)"
   ]
  }
 ],
 "metadata": {
  "hide_input": false,
  "kernelspec": {
   "display_name": "Python 3",
   "language": "python",
   "name": "python3"
  },
  "language_info": {
   "codemirror_mode": {
    "name": "ipython",
    "version": 3
   },
   "file_extension": ".py",
   "mimetype": "text/x-python",
   "name": "python",
   "nbconvert_exporter": "python",
   "pygments_lexer": "ipython3",
   "version": "3.7.3"
  },
  "toc": {
   "base_numbering": 1,
   "nav_menu": {},
   "number_sections": true,
   "sideBar": true,
   "skip_h1_title": false,
   "title_cell": "Table of Contents",
   "title_sidebar": "Contents",
   "toc_cell": false,
   "toc_position": {},
   "toc_section_display": true,
   "toc_window_display": false
  },
  "varInspector": {
   "cols": {
    "lenName": 16,
    "lenType": 16,
    "lenVar": 40
   },
   "kernels_config": {
    "python": {
     "delete_cmd_postfix": "",
     "delete_cmd_prefix": "del ",
     "library": "var_list.py",
     "varRefreshCmd": "print(var_dic_list())"
    },
    "r": {
     "delete_cmd_postfix": ") ",
     "delete_cmd_prefix": "rm(",
     "library": "var_list.r",
     "varRefreshCmd": "cat(var_dic_list()) "
    }
   },
   "types_to_exclude": [
    "module",
    "function",
    "builtin_function_or_method",
    "instance",
    "_Feature"
   ],
   "window_display": false
  }
 },
 "nbformat": 4,
 "nbformat_minor": 2
}
