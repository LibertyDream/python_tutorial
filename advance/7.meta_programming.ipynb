{
 "cells": [
  {
   "cell_type": "markdown",
   "metadata": {},
   "source": [
    "# Python3入门到精通——元类编程\n",
    "\n",
    "作者： Daniel Meng\n",
    "\n",
    "GitHub： [LibertyDream](https://github.com/LibertyDream)\n",
    "\n",
    "博客：[明月轩](https://libertydream.github.io/)\n",
    "\n",
    "> 本系列教程采用[知识共享署名-非商业性使用-相同方式共享 2.5 中国大陆许可协议](http://creativecommons.org/licenses/by-nc-sa/2.5/cn/)"
   ]
  },
  {
   "cell_type": "markdown",
   "metadata": {},
   "source": [
    "对于未接触过软件工程和编程范式的人来说，很容易写出这样的代码"
   ]
  },
  {
   "cell_type": "code",
   "execution_count": 2,
   "metadata": {},
   "outputs": [],
   "source": [
    "from datetime import date, datetime\n",
    "class User:\n",
    "    def __init__(self, name, birthday):\n",
    "        self.birthday = birthday\n",
    "        self.name = name\n",
    "        self.age = 2020 - birthday.year"
   ]
  },
  {
   "cell_type": "code",
   "execution_count": 3,
   "metadata": {},
   "outputs": [
    {
     "data": {
      "text/plain": [
       "25"
      ]
     },
     "execution_count": 3,
     "metadata": {},
     "output_type": "execute_result"
    }
   ],
   "source": [
    "some_user = User('Daniel',date(1995,1,1))\n",
    "some_user.age"
   ]
  },
  {
   "cell_type": "markdown",
   "metadata": {},
   "source": [
    "年龄是可以通过当前时间和生日动态计算出来的，重点在于属性的访问上，当代码作者意识到这种年龄计算的荒谬时很可能他已经写了很多`some_user.age`在项目里了。如果这时新建方法`get_age()`去替代原模式，对既有项目的破坏性会很大。\n",
    "\n",
    "Python 对此提供了一个解决方法——动态属性。通过标记 `@property` 将函数标识为属性，通过标记`@property_name.settr` 动态修改属性。类比于依赖注入中的 get, set 方法。"
   ]
  },
  {
   "cell_type": "code",
   "execution_count": 4,
   "metadata": {},
   "outputs": [],
   "source": [
    "from datetime import date, datetime\n",
    "class User:\n",
    "    def __init__(self, name, birthday):\n",
    "        self.birthday = birthday\n",
    "        self.name = name\n",
    "        self._age = 0\n",
    "        \n",
    "    @property\n",
    "    def age(self):\n",
    "        return datetime.now().year - self.birthday.year\n",
    "\n",
    "    @age.setter\n",
    "    def age(self, val):\n",
    "        self._age = val"
   ]
  },
  {
   "cell_type": "code",
   "execution_count": 5,
   "metadata": {},
   "outputs": [
    {
     "data": {
      "text/plain": [
       "25"
      ]
     },
     "execution_count": 5,
     "metadata": {},
     "output_type": "execute_result"
    }
   ],
   "source": [
    "some_user = User('Daniel', date(1995,1,1))\n",
    "some_user.age"
   ]
  },
  {
   "cell_type": "code",
   "execution_count": 6,
   "metadata": {},
   "outputs": [
    {
     "name": "stdout",
     "output_type": "stream",
     "text": [
      "25 18\n"
     ]
    }
   ],
   "source": [
    "some_user.age = 18\n",
    "print(some_user.age, some_user._age)"
   ]
  },
  {
   "cell_type": "markdown",
   "metadata": {},
   "source": [
    "此时其他位置的`.age`不用改动，通过动态属性对于`age`的访问与修改，都可以自由设计逻辑了\n",
    "\n",
    "这里对属性访问再多说一点。Python 中对象属性访问的入口是`__getattribute__`方法，只要尝试访问某个属性就会被调用，无论是否真实存在。所以在实际编程中，除非特别确定否则不要覆盖`__getattribute__`方法，容易破坏类的功能"
   ]
  },
  {
   "cell_type": "code",
   "execution_count": 3,
   "metadata": {},
   "outputs": [],
   "source": [
    "class Student:\n",
    "    def __init__(self, name, std_id):\n",
    "        self.name = name\n",
    "        self.std_id = std_id\n",
    "    \n",
    "    def __getattribute__(self, item):\n",
    "        return 'Hacked'"
   ]
  },
  {
   "cell_type": "code",
   "execution_count": 5,
   "metadata": {},
   "outputs": [
    {
     "name": "stdout",
     "output_type": "stream",
     "text": [
      "Hacked Hacked Hacked\n"
     ]
    }
   ],
   "source": [
    "std = Student('Tom', 2002001)\n",
    "print(std.name, std.std_id, std.class_id)  # 访问入口被错误覆盖，无法正常访问"
   ]
  },
  {
   "cell_type": "markdown",
   "metadata": {},
   "source": [
    "但属性访问不到确实是必须应对的问题，Python 对此提供了稍弱一点的方法`__getattr__`，只有当属性访问失败时才会被调用，可以通过它来修正访问逻辑或调用格式"
   ]
  },
  {
   "cell_type": "code",
   "execution_count": 6,
   "metadata": {},
   "outputs": [],
   "source": [
    "class Employee:\n",
    "    def __init__(self, name, info={}):\n",
    "        self.name = name\n",
    "        self.info = info\n",
    "\n",
    "    def __getattr__(self, item):\n",
    "        return self.info[item]"
   ]
  },
  {
   "cell_type": "code",
   "execution_count": 7,
   "metadata": {},
   "outputs": [
    {
     "name": "stdout",
     "output_type": "stream",
     "text": [
      "Daniel 25 Queen Street\n"
     ]
    }
   ],
   "source": [
    "emp = Employee('Daniel',{'locate':'Queen Street','age':25})\n",
    "print(emp.name, emp.age, emp.locate)  # 错误访问被修正"
   ]
  },
  {
   "cell_type": "markdown",
   "metadata": {},
   "source": [
    "## 属性描述符\n",
    "\n",
    "动态属性可以方便我们设计访问和设置规则，但缺点是和具体属性是绑定在一起的，如果每个属性都添加一点类型检查逻辑，使用动态属性时会面临要编写大量重复代码，复用率很低。这时就要用到属性描述符了，将属性描述（类型检查，边界检查.....）独立封装\n",
    "\n",
    "具体来说，Python 提供了两种属性描述符——数据描述符和非数据描述符。数据描述符要求类必须实现`__get__`，`__set__`，`__delete__`中任意一个，非数据描述符要求实现`__get__`，多用于一般函数方法上"
   ]
  },
  {
   "cell_type": "code",
   "execution_count": 28,
   "metadata": {},
   "outputs": [],
   "source": [
    "import numbers\n",
    "\n",
    "class IntField:\n",
    "    '''整数标识'''\n",
    "\n",
    "    __counter = 0\n",
    "\n",
    "    def __init__(self):\n",
    "        cls = self.__class__\n",
    "        prefix = cls.__name__\n",
    "        index = cls.__counter\n",
    "        self.storage_name = '_{}_{}'.format(prefix, index)  # 保证每个描述符名称唯一\n",
    "        cls.__counter += 1\n",
    "\n",
    "    def __set__(self, instance, value):\n",
    "        if not isinstance(value, numbers.Integral):\n",
    "            print('Need integer')\n",
    "        elif value < 0:\n",
    "            print('Should be positive')\n",
    "        else:\n",
    "            setattr(instance, self.storage_name, value)\n",
    "\n",
    "    def __get__(self, instance, owner):  # owner 为托管类\n",
    "        return getattr(instance, self.storage_name)"
   ]
  },
  {
   "cell_type": "markdown",
   "metadata": {},
   "source": [
    "这里我们定义了一个整数的数据描述符。为了能在规定某个对象属性为整数时，既能做到类型绑定，也能对该绑定关系作出唯一标识。在初始化函数中我们构造了标识符字符串，`storage_name` 就是对象下的属性名称\n",
    "\n",
    "`__set__`的三个参数，`self` 是实例所属的类，`instance` 是该实例，`value` 是要设置的值，我们进行了类型、边界检查。`setattr` 是全局方法，等同于 `obj.attr_name = val` 运算\n",
    "\n",
    "`__get__`方法里，`owner` 是托管类，也就是使用了描述符此时想访问值的类。`getattr` 同是全局方法，等同于 `obj.attr`"
   ]
  },
  {
   "cell_type": "code",
   "execution_count": 26,
   "metadata": {},
   "outputs": [],
   "source": [
    "class User:\n",
    "    age = IntField()  # 将整型描述绑定到 age 属性上\n",
    "\n",
    "    def __init__(self, name, age):\n",
    "        self.age = age  # 不用担心类型检查的问题\n",
    "        self.name = name"
   ]
  },
  {
   "cell_type": "code",
   "execution_count": 30,
   "metadata": {},
   "outputs": [
    {
     "name": "stdout",
     "output_type": "stream",
     "text": [
      "Need integer\n"
     ]
    }
   ],
   "source": [
    "user = User('Daniel', 19)\n",
    "user.age = 'abc'  # 描述符限制，不会成功"
   ]
  },
  {
   "cell_type": "code",
   "execution_count": 31,
   "metadata": {},
   "outputs": [
    {
     "data": {
      "text/plain": [
       "{'_IntField_0': 19, 'name': 'Daniel'}"
      ]
     },
     "execution_count": 31,
     "metadata": {},
     "output_type": "execute_result"
    }
   ],
   "source": [
    "user.__dict__  # 注意年龄的存储名称"
   ]
  },
  {
   "cell_type": "markdown",
   "metadata": {},
   "source": [
    "有数据描述符时，属性访问规则发生了变化\n",
    "\n",
    "如果user是某个类的实例，那么`user.age`（以及等价的 `getattr(user，'age')`）\n",
    "首先调用`__getattribute__`。如果类定义了`__getattr__`方法，那么在`__getattribute__`抛出AttributeError的时候就会调用到`__getattr__`，而对于描述符`__get__`的调用，则是发生在`__getattribute__`内部的。\n",
    "\n",
    "比如对于`user=User()`，那么`user.age`访问顺序如下：\n",
    "\n",
    "1. 如果“age”是出现在User或其基类的`__dict__`中，且age是数据描述符，那么调用其`__get__`方法，否则\n",
    "2. 如果“age”出现在obj的`__dict__`中，那么直接返回`obj.dict__['age']`，否则\n",
    "3. 如果“age”出现在User或其基类的`__dict__`中\n",
    "    1. 如果age是非数据描述符，那么调用其`__get__`方法，否则\n",
    "    2. 返回`__dict__['age']`\n",
    "4. 如果User有`__getattr__`方法，调用`__getattr__`方法，否则\n",
    "5. 抛出AttributeError"
   ]
  },
  {
   "cell_type": "markdown",
   "metadata": {},
   "source": [
    "# 对象的创建\n",
    "\n",
    "通常我们已经习惯了使用`__init__`实例化对象，但实际执行过程中对象的创建分两步走：\n",
    "\n",
    "1. 使用`__new__`创建对象，需要传入对象的类`cls`（Python 解析器默认执行），期间可以自行设计修改创立逻辑，最后将对象返回\n",
    "2. 使用`__init__`初始化对象，如果`__new__`没有返回对象则不执行"
   ]
  },
  {
   "cell_type": "code",
   "execution_count": 32,
   "metadata": {},
   "outputs": [],
   "source": [
    "class Build:\n",
    "    def __new__(cls, *arg, **kw):\n",
    "        print('Hacked')\n",
    "        return \n",
    "    def __init__(self):\n",
    "        print('Success')"
   ]
  },
  {
   "cell_type": "code",
   "execution_count": 33,
   "metadata": {},
   "outputs": [
    {
     "name": "stdout",
     "output_type": "stream",
     "text": [
      "Hacked\n"
     ]
    }
   ],
   "source": [
    "build = Build()"
   ]
  },
  {
   "cell_type": "code",
   "execution_count": 35,
   "metadata": {},
   "outputs": [],
   "source": [
    "class OtherBuild:\n",
    "    def __new__(cls, *arg, **kw):\n",
    "        print('Build object')\n",
    "        return super().__new__(cls)\n",
    "    def __init__(self):\n",
    "        print('Initialize object')"
   ]
  },
  {
   "cell_type": "code",
   "execution_count": 36,
   "metadata": {},
   "outputs": [
    {
     "name": "stdout",
     "output_type": "stream",
     "text": [
      "Build object\n",
      "Initialize object\n"
     ]
    }
   ],
   "source": [
    "otherbuild = OtherBuild()"
   ]
  },
  {
   "cell_type": "markdown",
   "metadata": {},
   "source": [
    "# 元类\n",
    "\n",
    "之前说到过 Python 里一切皆对象，那类本身作为对象是被谁创建的呢？答案是元类，Python 中用`metaclass`指定元类，而 type 正是元类之一。所以创建类的一般过程如下：\n",
    "\n",
    "1. 如果当前类定义中指定了`metaclass`，那就使用该元类创建当前类，否则\n",
    "2. 前往当前类的基类中寻找`metaclass`，找到了就用相应元类创建当前类，否则\n",
    "3. 使用 `type` 创建当前类的类对象，全局唯一\n",
    "\n",
    "`type` 方法接收参数个数不同，行为不同。当使用 `type(name, bases, dict)` 形式时，会动态创建一个类出来，`bases`是元组，存储基类，`dict` 字典存放属性和方法声明"
   ]
  },
  {
   "cell_type": "code",
   "execution_count": 42,
   "metadata": {},
   "outputs": [
    {
     "name": "stdout",
     "output_type": "stream",
     "text": [
      "<class '__main__.User'>\n",
      "Hello, I am created by type\n"
     ]
    }
   ],
   "source": [
    "def say(self):  # 不要忘了 self 参数\n",
    "    print('Hello, I am created by type')\n",
    "\n",
    "user = type('User', (), {'name':'abc','say':say})  # 和 class 创建 User 效果相同\n",
    "print(user)\n",
    "user().say()"
   ]
  },
  {
   "cell_type": "markdown",
   "metadata": {},
   "source": [
    "有了元类就可以制定类的生成规则了，比如注入一些方法，规定必须实现的抽象方法等等，工程实践可以参照 Django 框架的 orm 源码。要注意元类在开发过程中不是必须的。"
   ]
  },
  {
   "cell_type": "code",
   "execution_count": 47,
   "metadata": {},
   "outputs": [
    {
     "name": "stdout",
     "output_type": "stream",
     "text": [
      "Build class\n",
      "('Son', (), {'__module__': '__main__', '__qualname__': 'Son'}) {}\n"
     ]
    }
   ],
   "source": [
    "class Meta(type):\n",
    "    def __new__(cls, *args, **kwds):\n",
    "        print('Build class')\n",
    "        print(args,kwds)\n",
    "        return super().__new__(cls, *args, **kwds)\n",
    "\n",
    "class Son(metaclass=Meta):\n",
    "    pass"
   ]
  }
 ],
 "metadata": {
  "kernelspec": {
   "display_name": "Python 3",
   "language": "python",
   "name": "python3"
  },
  "language_info": {
   "codemirror_mode": {
    "name": "ipython",
    "version": 3
   },
   "file_extension": ".py",
   "mimetype": "text/x-python",
   "name": "python",
   "nbconvert_exporter": "python",
   "pygments_lexer": "ipython3",
   "version": "3.7.3"
  }
 },
 "nbformat": 4,
 "nbformat_minor": 2
}
