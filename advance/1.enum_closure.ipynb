{
 "cells": [
  {
   "cell_type": "markdown",
   "metadata": {},
   "source": [
    "# Python3入门到精通——枚举与闭包\n",
    "\n",
    "作者： Daniel Meng\n",
    "\n",
    "GitHub： [LibertyDream](https://github.com/LibertyDream)\n",
    "\n",
    "博客：[明月轩](https://libertydream.github.io/)\n",
    "\n",
    "> 本系列教程采用[知识共享署名-非商业性使用-相同方式共享 2.5 中国大陆许可协议](http://creativecommons.org/licenses/by-nc-sa/2.5/cn/)"
   ]
  },
  {
   "cell_type": "markdown",
   "metadata": {},
   "source": [
    "## 枚举\n",
    "\n",
    "### 枚举的定义\n",
    "\n",
    "编程的时候，为了表示有限的类型，我们可以使用唯一的数字标识并赋予其意义，但缺点是可阅读性很差。除非双方有共识，不然别人很难通过 `if type = 1` 这样的语句明白你想要表达什么。\n",
    "\n",
    "为了**便捷、安全**地表达有限个类型，Python 提供了枚举类应对这一需求。强调一下，其他编程语言中枚举通常是作为一个数据类型提供的，Python 中枚举是个类。\n",
    "\n",
    "想要使用枚举，需要从模块 enum 中导入 Enum 类，自定义一个类继承 Enum，不同的类型值通过定义类变量实现，类变量值的类型不限定。类型名称要大写"
   ]
  },
  {
   "cell_type": "code",
   "execution_count": 1,
   "metadata": {},
   "outputs": [],
   "source": [
    "from enum import Enum"
   ]
  },
  {
   "cell_type": "code",
   "execution_count": 2,
   "metadata": {},
   "outputs": [],
   "source": [
    "class VIP(Enum):\n",
    "    '''QQ钻石会员'''\n",
    "    RED = 1  # 变量名要大写\n",
    "    YELLOW = 2\n",
    "    GREEN = 3\n",
    "    BLACK = 4\n",
    "    PINK = 5"
   ]
  },
  {
   "cell_type": "code",
   "execution_count": 3,
   "metadata": {},
   "outputs": [],
   "source": [
    "class City(Enum):\n",
    "    \n",
    "    BEIJING = 'Beijing' # 值类型不限\n",
    "    SHANGHA = 'Shangha'\n",
    "    SHENZHEN = 'Shenzhen'\n",
    "    GUANGZHOU = 'Guangzhou'"
   ]
  },
  {
   "cell_type": "markdown",
   "metadata": {},
   "source": [
    "使用枚举和访问类变量方式相同，`class_name.type_name`。注意，访问枚举类型的得到的就是类型名本身，而不是类变量的值，这也正是枚举类的意义所在。"
   ]
  },
  {
   "cell_type": "code",
   "execution_count": 4,
   "metadata": {},
   "outputs": [
    {
     "name": "stdout",
     "output_type": "stream",
     "text": [
      "VIP.RED\n"
     ]
    }
   ],
   "source": [
    "print(VIP.RED)"
   ]
  },
  {
   "cell_type": "code",
   "execution_count": 15,
   "metadata": {},
   "outputs": [
    {
     "name": "stdout",
     "output_type": "stream",
     "text": [
      "1\n"
     ]
    }
   ],
   "source": [
    "class Fake_VIP(object):\n",
    "    RED = 1\n",
    "    \n",
    "print(Fake_VIP.RED) # 得到的是类变量的值"
   ]
  },
  {
   "cell_type": "markdown",
   "metadata": {},
   "source": [
    "有人或许会说可以使用字典 `key:value` 表示类型，但字典和定义类变量最大的问题是不安全，它们都可以随意修改“类型值”"
   ]
  },
  {
   "cell_type": "code",
   "execution_count": 6,
   "metadata": {},
   "outputs": [
    {
     "ename": "AttributeError",
     "evalue": "Cannot reassign members.",
     "output_type": "error",
     "traceback": [
      "\u001b[1;31m---------------------------------------------------------------------------\u001b[0m",
      "\u001b[1;31mAttributeError\u001b[0m                            Traceback (most recent call last)",
      "\u001b[1;32m<ipython-input-6-bd41f76a69e5>\u001b[0m in \u001b[0;36m<module>\u001b[1;34m\u001b[0m\n\u001b[0;32m      1\u001b[0m \u001b[0mFake_VIP\u001b[0m\u001b[1;33m.\u001b[0m\u001b[0mRED\u001b[0m \u001b[1;33m=\u001b[0m \u001b[1;36m1\u001b[0m \u001b[1;31m# 普通的赋值操作\u001b[0m\u001b[1;33m\u001b[0m\u001b[1;33m\u001b[0m\u001b[0m\n\u001b[1;32m----> 2\u001b[1;33m \u001b[0mVIP\u001b[0m\u001b[1;33m.\u001b[0m\u001b[0mRED\u001b[0m \u001b[1;33m=\u001b[0m \u001b[1;36m9\u001b[0m \u001b[1;31m# 枚举类型不允许修改类型值\u001b[0m\u001b[1;33m\u001b[0m\u001b[1;33m\u001b[0m\u001b[0m\n\u001b[0m",
      "\u001b[1;32m~\\AppData\\Local\\Continuum\\anaconda3\\envs\\python37\\lib\\enum.py\u001b[0m in \u001b[0;36m__setattr__\u001b[1;34m(cls, name, value)\u001b[0m\n\u001b[0;32m    384\u001b[0m         \u001b[0mmember_map\u001b[0m \u001b[1;33m=\u001b[0m \u001b[0mcls\u001b[0m\u001b[1;33m.\u001b[0m\u001b[0m__dict__\u001b[0m\u001b[1;33m.\u001b[0m\u001b[0mget\u001b[0m\u001b[1;33m(\u001b[0m\u001b[1;34m'_member_map_'\u001b[0m\u001b[1;33m,\u001b[0m \u001b[1;33m{\u001b[0m\u001b[1;33m}\u001b[0m\u001b[1;33m)\u001b[0m\u001b[1;33m\u001b[0m\u001b[1;33m\u001b[0m\u001b[0m\n\u001b[0;32m    385\u001b[0m         \u001b[1;32mif\u001b[0m \u001b[0mname\u001b[0m \u001b[1;32min\u001b[0m \u001b[0mmember_map\u001b[0m\u001b[1;33m:\u001b[0m\u001b[1;33m\u001b[0m\u001b[1;33m\u001b[0m\u001b[0m\n\u001b[1;32m--> 386\u001b[1;33m             \u001b[1;32mraise\u001b[0m \u001b[0mAttributeError\u001b[0m\u001b[1;33m(\u001b[0m\u001b[1;34m'Cannot reassign members.'\u001b[0m\u001b[1;33m)\u001b[0m\u001b[1;33m\u001b[0m\u001b[1;33m\u001b[0m\u001b[0m\n\u001b[0m\u001b[0;32m    387\u001b[0m         \u001b[0msuper\u001b[0m\u001b[1;33m(\u001b[0m\u001b[1;33m)\u001b[0m\u001b[1;33m.\u001b[0m\u001b[0m__setattr__\u001b[0m\u001b[1;33m(\u001b[0m\u001b[0mname\u001b[0m\u001b[1;33m,\u001b[0m \u001b[0mvalue\u001b[0m\u001b[1;33m)\u001b[0m\u001b[1;33m\u001b[0m\u001b[1;33m\u001b[0m\u001b[0m\n\u001b[0;32m    388\u001b[0m \u001b[1;33m\u001b[0m\u001b[0m\n",
      "\u001b[1;31mAttributeError\u001b[0m: Cannot reassign members."
     ]
    }
   ],
   "source": [
    "Fake_VIP.RED = 1 # 普通的赋值操作\n",
    "VIP.RED = 9 # 枚举类型不允许修改类型值"
   ]
  },
  {
   "cell_type": "markdown",
   "metadata": {},
   "source": [
    "### 属性访问\n",
    "\n",
    "通过 `enum.type_name.name` 获取枚举类型的名称，得到的是名称字符串。通过 `enum.type_name.value` 获取类型值"
   ]
  },
  {
   "cell_type": "code",
   "execution_count": 16,
   "metadata": {},
   "outputs": [],
   "source": [
    "class Call(Enum):\n",
    "    \n",
    "    COP = 110\n",
    "    FIRE = 119\n",
    "    ICU = 120"
   ]
  },
  {
   "cell_type": "code",
   "execution_count": 17,
   "metadata": {},
   "outputs": [
    {
     "data": {
      "text/plain": [
       "'COP'"
      ]
     },
     "execution_count": 17,
     "metadata": {},
     "output_type": "execute_result"
    }
   ],
   "source": [
    "Call.COP.name"
   ]
  },
  {
   "cell_type": "code",
   "execution_count": 22,
   "metadata": {},
   "outputs": [
    {
     "data": {
      "text/plain": [
       "110"
      ]
     },
     "execution_count": 22,
     "metadata": {},
     "output_type": "execute_result"
    }
   ],
   "source": [
    "Call.COP.value"
   ]
  },
  {
   "cell_type": "code",
   "execution_count": 19,
   "metadata": {},
   "outputs": [
    {
     "name": "stdout",
     "output_type": "stream",
     "text": [
      "<class 'str'>\n",
      "<enum 'Call'>\n"
     ]
    }
   ],
   "source": [
    "print(type(Call.COP.name))  # 类型名称字符串\n",
    "print(type(Call.COP))  # 得到的是枚举类型"
   ]
  },
  {
   "cell_type": "markdown",
   "metadata": {},
   "source": [
    "如果知道类型名称可以通过类型名称获取对应的枚举类型"
   ]
  },
  {
   "cell_type": "code",
   "execution_count": 23,
   "metadata": {},
   "outputs": [
    {
     "data": {
      "text/plain": [
       "<Call.COP: 110>"
      ]
     },
     "execution_count": 23,
     "metadata": {},
     "output_type": "execute_result"
    }
   ],
   "source": [
    "Call['COP']"
   ]
  },
  {
   "cell_type": "markdown",
   "metadata": {},
   "source": [
    "枚举类型可以遍历"
   ]
  },
  {
   "cell_type": "code",
   "execution_count": 30,
   "metadata": {},
   "outputs": [
    {
     "name": "stdout",
     "output_type": "stream",
     "text": [
      "Call.COP\n",
      "Call.FIRE\n",
      "Call.ICU\n"
     ]
    }
   ],
   "source": [
    "for type_name in Call:\n",
    "    print(type_name)"
   ]
  },
  {
   "cell_type": "markdown",
   "metadata": {},
   "source": [
    "### 类型比较\n",
    "\n",
    "枚举类型支持身份比较（is）和等值比较（==），不支持大小比较"
   ]
  },
  {
   "cell_type": "code",
   "execution_count": 26,
   "metadata": {},
   "outputs": [],
   "source": [
    "class Num(Enum):\n",
    "    ONE = 1\n",
    "    TWO = 2\n",
    "    THREE = 3\n",
    "    FOUR = 1"
   ]
  },
  {
   "cell_type": "code",
   "execution_count": 25,
   "metadata": {},
   "outputs": [
    {
     "data": {
      "text/plain": [
       "False"
      ]
     },
     "execution_count": 25,
     "metadata": {},
     "output_type": "execute_result"
    }
   ],
   "source": [
    "Num.ONE == Num.TWO"
   ]
  },
  {
   "cell_type": "code",
   "execution_count": 27,
   "metadata": {},
   "outputs": [
    {
     "data": {
      "text/plain": [
       "True"
      ]
     },
     "execution_count": 27,
     "metadata": {},
     "output_type": "execute_result"
    }
   ],
   "source": [
    "Num.ONE == Num.FOUR"
   ]
  },
  {
   "cell_type": "code",
   "execution_count": 28,
   "metadata": {},
   "outputs": [
    {
     "data": {
      "text/plain": [
       "False"
      ]
     },
     "execution_count": 28,
     "metadata": {},
     "output_type": "execute_result"
    }
   ],
   "source": [
    "1 is Num.ONE"
   ]
  },
  {
   "cell_type": "code",
   "execution_count": 29,
   "metadata": {},
   "outputs": [
    {
     "data": {
      "text/plain": [
       "True"
      ]
     },
     "execution_count": 29,
     "metadata": {},
     "output_type": "execute_result"
    }
   ],
   "source": [
    "Num.TWO is Num.TWO"
   ]
  },
  {
   "cell_type": "markdown",
   "metadata": {},
   "source": [
    "注意到 `Num.FOUR` 的值和 `Num.ONE` 相同，此时前者会被当作后者的别名，遍历时也不会显现"
   ]
  },
  {
   "cell_type": "code",
   "execution_count": 31,
   "metadata": {},
   "outputs": [
    {
     "name": "stdout",
     "output_type": "stream",
     "text": [
      "Num.ONE\n"
     ]
    }
   ],
   "source": [
    "print(Num.FOUR)  # 别名"
   ]
  },
  {
   "cell_type": "code",
   "execution_count": 32,
   "metadata": {},
   "outputs": [
    {
     "name": "stdout",
     "output_type": "stream",
     "text": [
      "Num.ONE\n",
      "Num.TWO\n",
      "Num.THREE\n"
     ]
    }
   ],
   "source": [
    "for type_name in Num:\n",
    "    print(type_name)  # 没有 Num.FOUR"
   ]
  },
  {
   "cell_type": "markdown",
   "metadata": {},
   "source": [
    "如果想要将别名输出，可以访问枚举类下的成员变量`__members__`"
   ]
  },
  {
   "cell_type": "code",
   "execution_count": 34,
   "metadata": {
    "scrolled": true
   },
   "outputs": [
    {
     "name": "stdout",
     "output_type": "stream",
     "text": [
      "<class 'str'> ONE\n",
      "<class 'str'> TWO\n",
      "<class 'str'> THREE\n",
      "<class 'str'> FOUR\n"
     ]
    }
   ],
   "source": [
    "for type_name in Num.__members__:\n",
    "    print(type(type_name), type_name)"
   ]
  },
  {
   "cell_type": "markdown",
   "metadata": {},
   "source": [
    "### 数据库类型转换\n",
    "\n",
    "枚举类型在数据库中存储的通常是类型值，这样不可避免的在编程时需要把从数据库读来的数据转换成枚举类型，这一步可以通过构造函数实现"
   ]
  },
  {
   "cell_type": "code",
   "execution_count": 36,
   "metadata": {},
   "outputs": [
    {
     "name": "stdout",
     "output_type": "stream",
     "text": [
      "<enum 'Num'> Num.ONE\n"
     ]
    }
   ],
   "source": [
    "type_name = Num(1)\n",
    "print(type(type_name), type_name)"
   ]
  },
  {
   "cell_type": "code",
   "execution_count": 37,
   "metadata": {},
   "outputs": [
    {
     "data": {
      "text/plain": [
       "True"
      ]
     },
     "execution_count": 37,
     "metadata": {},
     "output_type": "execute_result"
    }
   ],
   "source": [
    "type_name == Num.ONE"
   ]
  },
  {
   "cell_type": "markdown",
   "metadata": {},
   "source": [
    "### IntEnum\n",
    "\n",
    "继承 Enum 得到的枚举类不限定类型值，甚至可以混用，如果希望值的类型全部统一成数字，可以使用 IntEnum。"
   ]
  },
  {
   "cell_type": "code",
   "execution_count": 40,
   "metadata": {},
   "outputs": [
    {
     "ename": "ValueError",
     "evalue": "invalid literal for int() with base 10: 'black'",
     "output_type": "error",
     "traceback": [
      "\u001b[1;31m---------------------------------------------------------------------------\u001b[0m",
      "\u001b[1;31mValueError\u001b[0m                                Traceback (most recent call last)",
      "\u001b[1;32m<ipython-input-40-e6fc0227351f>\u001b[0m in \u001b[0;36m<module>\u001b[1;34m\u001b[0m\n\u001b[0;32m      1\u001b[0m \u001b[1;32mfrom\u001b[0m \u001b[0menum\u001b[0m \u001b[1;32mimport\u001b[0m \u001b[0mIntEnum\u001b[0m\u001b[1;33m\u001b[0m\u001b[1;33m\u001b[0m\u001b[0m\n\u001b[0;32m      2\u001b[0m \u001b[1;33m\u001b[0m\u001b[0m\n\u001b[1;32m----> 3\u001b[1;33m \u001b[1;32mclass\u001b[0m \u001b[0mVIP\u001b[0m\u001b[1;33m(\u001b[0m\u001b[0mIntEnum\u001b[0m\u001b[1;33m)\u001b[0m\u001b[1;33m:\u001b[0m\u001b[1;33m\u001b[0m\u001b[1;33m\u001b[0m\u001b[0m\n\u001b[0m\u001b[0;32m      4\u001b[0m     \u001b[1;34m'''QQ钻石会员'''\u001b[0m\u001b[1;33m\u001b[0m\u001b[1;33m\u001b[0m\u001b[0m\n\u001b[0;32m      5\u001b[0m     \u001b[0mRED\u001b[0m \u001b[1;33m=\u001b[0m \u001b[1;36m1\u001b[0m\u001b[1;33m\u001b[0m\u001b[1;33m\u001b[0m\u001b[0m\n",
      "\u001b[1;32m~\\AppData\\Local\\Continuum\\anaconda3\\envs\\python37\\lib\\enum.py\u001b[0m in \u001b[0;36m__new__\u001b[1;34m(metacls, cls, bases, classdict)\u001b[0m\n\u001b[0;32m    216\u001b[0m                     \u001b[0menum_member\u001b[0m\u001b[1;33m.\u001b[0m\u001b[0m_value_\u001b[0m \u001b[1;33m=\u001b[0m \u001b[0mvalue\u001b[0m\u001b[1;33m\u001b[0m\u001b[1;33m\u001b[0m\u001b[0m\n\u001b[0;32m    217\u001b[0m             \u001b[1;32melse\u001b[0m\u001b[1;33m:\u001b[0m\u001b[1;33m\u001b[0m\u001b[1;33m\u001b[0m\u001b[0m\n\u001b[1;32m--> 218\u001b[1;33m                 \u001b[0menum_member\u001b[0m \u001b[1;33m=\u001b[0m \u001b[0m__new__\u001b[0m\u001b[1;33m(\u001b[0m\u001b[0menum_class\u001b[0m\u001b[1;33m,\u001b[0m \u001b[1;33m*\u001b[0m\u001b[0margs\u001b[0m\u001b[1;33m)\u001b[0m\u001b[1;33m\u001b[0m\u001b[1;33m\u001b[0m\u001b[0m\n\u001b[0m\u001b[0;32m    219\u001b[0m                 \u001b[1;32mif\u001b[0m \u001b[1;32mnot\u001b[0m \u001b[0mhasattr\u001b[0m\u001b[1;33m(\u001b[0m\u001b[0menum_member\u001b[0m\u001b[1;33m,\u001b[0m \u001b[1;34m'_value_'\u001b[0m\u001b[1;33m)\u001b[0m\u001b[1;33m:\u001b[0m\u001b[1;33m\u001b[0m\u001b[1;33m\u001b[0m\u001b[0m\n\u001b[0;32m    220\u001b[0m                     \u001b[1;32mif\u001b[0m \u001b[0mmember_type\u001b[0m \u001b[1;32mis\u001b[0m \u001b[0mobject\u001b[0m\u001b[1;33m:\u001b[0m\u001b[1;33m\u001b[0m\u001b[1;33m\u001b[0m\u001b[0m\n",
      "\u001b[1;31mValueError\u001b[0m: invalid literal for int() with base 10: 'black'"
     ]
    }
   ],
   "source": [
    "from enum import IntEnum\n",
    "\n",
    "class VIP(IntEnum):\n",
    "    '''QQ钻石会员'''\n",
    "    RED = 1 \n",
    "    YELLOW = 2\n",
    "    GREEN = 3\n",
    "    BLACK = 'black' # 会报错\n",
    "    PINK = 5"
   ]
  },
  {
   "cell_type": "markdown",
   "metadata": {},
   "source": [
    "此外，如果希望类型值彼此互斥，保证唯一性。可以借助 unique 触发器"
   ]
  },
  {
   "cell_type": "code",
   "execution_count": 41,
   "metadata": {
    "scrolled": true
   },
   "outputs": [
    {
     "ename": "ValueError",
     "evalue": "duplicate values found in <enum 'Num'>: FOUR -> ONE",
     "output_type": "error",
     "traceback": [
      "\u001b[1;31m---------------------------------------------------------------------------\u001b[0m",
      "\u001b[1;31mValueError\u001b[0m                                Traceback (most recent call last)",
      "\u001b[1;32m<ipython-input-41-1cbb674b5a0a>\u001b[0m in \u001b[0;36m<module>\u001b[1;34m\u001b[0m\n\u001b[0;32m      2\u001b[0m \u001b[1;33m\u001b[0m\u001b[0m\n\u001b[0;32m      3\u001b[0m \u001b[1;33m@\u001b[0m\u001b[0munique\u001b[0m\u001b[1;33m\u001b[0m\u001b[1;33m\u001b[0m\u001b[0m\n\u001b[1;32m----> 4\u001b[1;33m \u001b[1;32mclass\u001b[0m \u001b[0mNum\u001b[0m\u001b[1;33m(\u001b[0m\u001b[0mEnum\u001b[0m\u001b[1;33m)\u001b[0m\u001b[1;33m:\u001b[0m\u001b[1;33m\u001b[0m\u001b[1;33m\u001b[0m\u001b[0m\n\u001b[0m\u001b[0;32m      5\u001b[0m     \u001b[0mONE\u001b[0m \u001b[1;33m=\u001b[0m \u001b[1;36m1\u001b[0m\u001b[1;33m\u001b[0m\u001b[1;33m\u001b[0m\u001b[0m\n\u001b[0;32m      6\u001b[0m     \u001b[0mTWO\u001b[0m \u001b[1;33m=\u001b[0m \u001b[1;36m2\u001b[0m\u001b[1;33m\u001b[0m\u001b[1;33m\u001b[0m\u001b[0m\n",
      "\u001b[1;32m~\\AppData\\Local\\Continuum\\anaconda3\\envs\\python37\\lib\\enum.py\u001b[0m in \u001b[0;36munique\u001b[1;34m(enumeration)\u001b[0m\n\u001b[0;32m    867\u001b[0m                 [\"%s -> %s\" % (alias, name) for (alias, name) in duplicates])\n\u001b[0;32m    868\u001b[0m         raise ValueError('duplicate values found in %r: %s' %\n\u001b[1;32m--> 869\u001b[1;33m                 (enumeration, alias_details))\n\u001b[0m\u001b[0;32m    870\u001b[0m     \u001b[1;32mreturn\u001b[0m \u001b[0menumeration\u001b[0m\u001b[1;33m\u001b[0m\u001b[1;33m\u001b[0m\u001b[0m\n\u001b[0;32m    871\u001b[0m \u001b[1;33m\u001b[0m\u001b[0m\n",
      "\u001b[1;31mValueError\u001b[0m: duplicate values found in <enum 'Num'>: FOUR -> ONE"
     ]
    }
   ],
   "source": [
    "from enum import Enum, unique\n",
    "\n",
    "@unique\n",
    "class Num(Enum):\n",
    "    ONE = 1\n",
    "    TWO = 2\n",
    "    THREE = 3\n",
    "    FOUR = 1  # 会报错"
   ]
  },
  {
   "cell_type": "markdown",
   "metadata": {},
   "source": [
    "## 闭包\n",
    "\n",
    "### 一切皆对象\n",
    "\n",
    "在 C#、JAVA 这类种语言中，函数只是一段可执行的代码，一经编译就被固化下来。**Python 中一切皆对象**，函数也不例外。这意味着可以将函数当做参数进行传递、返回和调用。"
   ]
  },
  {
   "cell_type": "code",
   "execution_count": 14,
   "metadata": {},
   "outputs": [
    {
     "name": "stdout",
     "output_type": "stream",
     "text": [
      "call me <class 'function'>\n"
     ]
    }
   ],
   "source": [
    "def call(a):\n",
    "    return 'call %s' % a\n",
    "\n",
    "c = call  # 把函数赋值给变量\n",
    "print(c('me'), type(c))"
   ]
  },
  {
   "cell_type": "markdown",
   "metadata": {},
   "source": [
    "既然函数只是一个对象，那么在函数内部定义函数就可以理解为在一个函数内创建了一个对象，只不过这个对象是一个函数而已。\n",
    "\n",
    "### 闭包概念\n",
    "\n",
    "**现象一**"
   ]
  },
  {
   "cell_type": "code",
   "execution_count": 25,
   "metadata": {},
   "outputs": [],
   "source": [
    "def get_y():\n",
    "    slope = 2\n",
    "    def one_dim(x):  # 函数内部定义一个函数，且接受一个参数\n",
    "        return slope*x + 1\n",
    "    return one_dim  # 函数作为参数返回"
   ]
  },
  {
   "cell_type": "markdown",
   "metadata": {},
   "source": [
    "因为可见性不同，外部不能直接调用函数`one_dim`，但是可以通过调用`get_y`间接使用`one_dim`"
   ]
  },
  {
   "cell_type": "code",
   "execution_count": 24,
   "metadata": {},
   "outputs": [
    {
     "data": {
      "text/plain": [
       "5"
      ]
     },
     "execution_count": 24,
     "metadata": {},
     "output_type": "execute_result"
    }
   ],
   "source": [
    "y = get_y() \n",
    "y(2)"
   ]
  },
  {
   "cell_type": "markdown",
   "metadata": {},
   "source": [
    "这里实际上`y = one_dim`,y(2) 等价于 one_dim(2), 计算 2 × 2 + 1 = 5"
   ]
  },
  {
   "cell_type": "markdown",
   "metadata": {},
   "source": [
    "**现象二**\n",
    "\n",
    "如果`get_y`内部没有给定斜率，我们在外部进行定义，按照链式作用规则，我们依然可以得到相同结果"
   ]
  },
  {
   "cell_type": "code",
   "execution_count": 27,
   "metadata": {},
   "outputs": [
    {
     "data": {
      "text/plain": [
       "5"
      ]
     },
     "execution_count": 27,
     "metadata": {},
     "output_type": "execute_result"
    }
   ],
   "source": [
    "slope = 2 \n",
    "\n",
    "def get_y():\n",
    "    def one_dim(x):  \n",
    "        return slope*x + 1 # 内部没有会向上一级寻找\n",
    "    return one_dim\n",
    "\n",
    "y = get_y()\n",
    "y(2)"
   ]
  },
  {
   "cell_type": "markdown",
   "metadata": {},
   "source": [
    "**现象三**\n",
    "\n",
    "如果内外同时定义了斜率，但是值不相同，会发生什么呢？"
   ]
  },
  {
   "cell_type": "code",
   "execution_count": 28,
   "metadata": {},
   "outputs": [
    {
     "data": {
      "text/plain": [
       "5"
      ]
     },
     "execution_count": 28,
     "metadata": {},
     "output_type": "execute_result"
    }
   ],
   "source": [
    "def get_y():\n",
    "    slope = 2\n",
    "    def one_dim(x):  \n",
    "        return slope*x + 1 # 内部没有会向上一级寻找\n",
    "    return one_dim\n",
    "\n",
    "slope = 4 \n",
    "y = get_y()\n",
    "y(2)"
   ]
  },
  {
   "cell_type": "markdown",
   "metadata": {},
   "source": [
    "结果似乎有些奇怪，按理说 `y` 就是 `one_dim`，计算 `y(2)` 时因为内部没有斜率`slope`进而向外部访问。但这里没有访问与`y`同级的斜率`slope=4`，而是使用了`one_dim`定义时同级的斜率`slope=2`，这种**函数定义和定义时存在的变量(环境变量)彼此绑定在一起的状态就叫做闭包，即闭包 = 函数 + 环境变量**，环境变量不能是全局变量\n",
    "\n",
    "当`get_y`返回`one_dim`时，返回的不只是函数对象，实际上返回的是闭包，可以通过内部变量`__closure__`查看"
   ]
  },
  {
   "cell_type": "code",
   "execution_count": 29,
   "metadata": {},
   "outputs": [
    {
     "data": {
      "text/plain": [
       "(<cell at 0x000001CF35BDC318: int object at 0x00007FFEB2C9A1B0>,)"
      ]
     },
     "execution_count": 29,
     "metadata": {},
     "output_type": "execute_result"
    }
   ],
   "source": [
    "y.__closure__"
   ]
  },
  {
   "cell_type": "code",
   "execution_count": 32,
   "metadata": {
    "scrolled": true
   },
   "outputs": [
    {
     "data": {
      "text/plain": [
       "2"
      ]
     },
     "execution_count": 32,
     "metadata": {},
     "output_type": "execute_result"
    }
   ],
   "source": [
    "# 查看闭包内的环境变量\n",
    "y.__closure__[0].cell_contents"
   ]
  },
  {
   "cell_type": "markdown",
   "metadata": {},
   "source": [
    "### 闭包的意义\n",
    "\n",
    "闭包的意义在于将函数定义时的现场保存了下来，这样在函数调用时可以免受外部干扰，保证运行结果的正确。也正因为是和环境绑定，环境不同闭包也就不同，闭包不能由单一函数决定"
   ]
  },
  {
   "cell_type": "code",
   "execution_count": 34,
   "metadata": {},
   "outputs": [],
   "source": [
    "def get_y():\n",
    "    slope = 3\n",
    "    def one_dim(x):  # 一个闭包\n",
    "        return slope*x + 1\n",
    "\n",
    "def get_k():\n",
    "    slope = 4\n",
    "    def one_dim(x): # 另一个闭包\n",
    "        return slope*x + 1"
   ]
  },
  {
   "cell_type": "markdown",
   "metadata": {},
   "source": [
    "闭包的关键在于函数调用外部的环境变量，如果函数内部定义了同名变量，Python 会将其视作局部变量进行访问、返回，不再是闭包。闭包与是否返回值无关"
   ]
  },
  {
   "cell_type": "code",
   "execution_count": 35,
   "metadata": {},
   "outputs": [
    {
     "name": "stdout",
     "output_type": "stream",
     "text": [
      "10\n",
      "20\n",
      "10\n"
     ]
    }
   ],
   "source": [
    "def f1():\n",
    "    a = 10\n",
    "    def f2():\n",
    "        a = 20  # 局部变量，不再是闭包\n",
    "        print(a) # 访问内部的局部变量\n",
    "    print(a) # 访问 f1.a\n",
    "    f2()\n",
    "    print(a) # f2 无法操纵 f1.a，依旧是10\n",
    "\n",
    "f1()"
   ]
  },
  {
   "cell_type": "code",
   "execution_count": 40,
   "metadata": {},
   "outputs": [
    {
     "name": "stdout",
     "output_type": "stream",
     "text": [
      "<class 'function'>\n",
      "None\n"
     ]
    }
   ],
   "source": [
    "def f1():\n",
    "    a = 10\n",
    "    def f2():\n",
    "        a = 20  # 没有调用外部环境变量，不是闭包\n",
    "    return f2  # 闭包与返回值无关\n",
    "\n",
    "f = f1()\n",
    "print(type(f))\n",
    "print(f.__closure__) # 不是闭包故为空"
   ]
  },
  {
   "cell_type": "code",
   "execution_count": 42,
   "metadata": {},
   "outputs": [
    {
     "name": "stdout",
     "output_type": "stream",
     "text": [
      "(<cell at 0x000001CF35465C18: int object at 0x00007FFEB2C9A2B0>,)\n"
     ]
    }
   ],
   "source": [
    "def f1():\n",
    "    a = 10\n",
    "    def f2():\n",
    "        print(a) #  调用了外部环境变量，构成闭包\n",
    "    return f2 \n",
    "\n",
    "f = f1()\n",
    "print(f.__closure__)"
   ]
  },
  {
   "cell_type": "markdown",
   "metadata": {},
   "source": [
    "### 闭包的应用\n",
    "\n",
    "闭包存有环境变量，所以当当前步骤的计算需要之前的计算结果，就可以使用闭包"
   ]
  },
  {
   "cell_type": "code",
   "execution_count": 46,
   "metadata": {
    "scrolled": true
   },
   "outputs": [
    {
     "name": "stdout",
     "output_type": "stream",
     "text": [
      "1\n",
      "3\n",
      "6\n"
     ]
    }
   ],
   "source": [
    "init_pos = 0\n",
    "\n",
    "def pos(loc):  # loc 为环境变量\n",
    "    def go(step):\n",
    "        nonlocal loc # 函数内存在对 loc 的赋值，Python 会解析为局部变量，所以需要声明\n",
    "        new_loc = loc + step\n",
    "        loc = new_loc # 调用外部环境变量，通过闭包积累已经走过的距离\n",
    "        return loc\n",
    "    return go\n",
    "\n",
    "tour = pos(init_pos)\n",
    "print(tour(1))\n",
    "print(tour(2))\n",
    "print(tour(3))"
   ]
  },
  {
   "cell_type": "markdown",
   "metadata": {},
   "source": [
    "从另一个角度来看，闭包实现了在外部间接访问原本访问不到的局部变量，提供了一定的灵活性。但是因为存在外部调用的缘故，局部变量的内存空间迟迟得不到回收，因此容易导致内存泄漏"
   ]
  }
 ],
 "metadata": {
  "kernelspec": {
   "display_name": "Python37",
   "language": "python",
   "name": "python37"
  },
  "language_info": {
   "codemirror_mode": {
    "name": "ipython",
    "version": 3
   },
   "file_extension": ".py",
   "mimetype": "text/x-python",
   "name": "python",
   "nbconvert_exporter": "python",
   "pygments_lexer": "ipython3",
   "version": "3.7.4"
  }
 },
 "nbformat": 4,
 "nbformat_minor": 2
}
