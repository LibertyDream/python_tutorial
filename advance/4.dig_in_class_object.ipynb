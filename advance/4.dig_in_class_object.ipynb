{
 "cells": [
  {
   "cell_type": "markdown",
   "metadata": {},
   "source": [
    "# Python3入门到精通——深入类和对象\n",
    "\n",
    "作者： Daniel Meng\n",
    "\n",
    "GitHub： [LibertyDream](https://github.com/LibertyDream)\n",
    "\n",
    "博客：[明月轩](https://libertydream.github.io/)\n",
    "\n",
    "> 本系列教程采用[知识共享署名-非商业性使用-相同方式共享 2.5 中国大陆许可协议](http://creativecommons.org/licenses/by-nc-sa/2.5/cn/)"
   ]
  },
  {
   "cell_type": "markdown",
   "metadata": {},
   "source": [
    "# 鸭子类型\n",
    "\n",
    "鸭子类型（duck typing）是指一个对象有效的语义，不是由继承自特定的类或实现特定的接口决定的，而是由\"当前方法和属性的集合\"决定。\n",
    "\n",
    "> 当看到一只鸟走起来像鸭子、游泳起来像鸭子、叫起来也像鸭子，那么这只鸟就可以被称为鸭子。\n",
    "\n",
    "鸭子类型重点在于**关注对象行为而非对象所属类型**。借用维基百科的例子，在不使用鸭子类型的语言中，我们可以编写一个函数，它接受一个类型为\"鸭子\"的对象，并调用它的\"走\"和\"叫\"方法。在使用鸭子类型的语言中，这样的一个函数可以接受一个任意类型的对象，并调用它的\"走\"和\"叫\"方法。如果这些需要被调用的方法不存在，那么将引发一个运行时错误。\n",
    "\n",
    "任何拥有正确的\"走\"和\"叫\"方法的对象都可被该函数接受，鸭子类型因此得名。"
   ]
  },
  {
   "cell_type": "code",
   "execution_count": 1,
   "metadata": {},
   "outputs": [],
   "source": [
    "class Dog(object):\n",
    "    def say(self):\n",
    "        print('Wang! Wang!')\n",
    "\n",
    "class Cat(object):\n",
    "    def say(self):\n",
    "        print('Miao! Miao!')\n",
    "\n",
    "class Cow(object):\n",
    "    def say(self):\n",
    "        print('Mow! Mow!')"
   ]
  },
  {
   "cell_type": "code",
   "execution_count": 2,
   "metadata": {},
   "outputs": [
    {
     "name": "stdout",
     "output_type": "stream",
     "text": [
      "Wang! Wang!\n",
      "Miao! Miao!\n",
      "Mow! Mow!\n"
     ]
    }
   ],
   "source": [
    "animal_lst = [Dog, Cat, Cow]\n",
    "for animal in animal_lst:\n",
    "    animal().say()  # 鸭子类型，只关注行为，不关心类型，只要有相同方法的正确实现即可"
   ]
  },
  {
   "cell_type": "markdown",
   "metadata": {},
   "source": [
    "# 抽象基类\n",
    "\n",
    "类比于 Java 中的接口，主要针对两个场景：\n",
    "\n",
    "1. 判定一个对象是不是某种类型\n",
    "2. 强制要求子类实现某个方法\n",
    "\n",
    "Python 提供了 `abc` 模块进行基类编程，又针对常见的对象探索需求提供了常见基类，放在了 `collections.abc`。典型的抽象基类编程模板如下：\n",
    "\n",
    "```python\n",
    "import abc\n",
    "\n",
    "class AbstractClassName(metaclass=abc.ABCMeta):\n",
    "\n",
    "    @abc.abstractmethod\n",
    "    def abstract_method_name(self, *args, **kwd):\n",
    "        pass\n",
    "```\n",
    "\n",
    "抽象基类能帮我们在初始化对象时检查类型与方法实现，而不是在运行时才能知道有没有错"
   ]
  },
  {
   "cell_type": "code",
   "execution_count": 3,
   "metadata": {},
   "outputs": [
    {
     "name": "stdout",
     "output_type": "stream",
     "text": [
      "A\n"
     ]
    }
   ],
   "source": [
    "class A(object):\n",
    "    def alpha(self):\n",
    "        print('A')\n",
    "\n",
    "class B(A):\n",
    "    pass\n",
    "\n",
    "var_b = B()\n",
    "var_b.alpha()  # 运行时才检查、调用"
   ]
  },
  {
   "cell_type": "code",
   "execution_count": 5,
   "metadata": {},
   "outputs": [],
   "source": [
    "import abc\n",
    "\n",
    "class C(metaclass=abc.ABCMeta):\n",
    "    @abc.abstractmethod\n",
    "    def alpha(self):\n",
    "        pass"
   ]
  },
  {
   "cell_type": "code",
   "execution_count": 6,
   "metadata": {},
   "outputs": [
    {
     "ename": "TypeError",
     "evalue": "Can't instantiate abstract class D with abstract methods alpha",
     "output_type": "error",
     "traceback": [
      "\u001b[1;31m---------------------------------------------------------------------------\u001b[0m",
      "\u001b[1;31mTypeError\u001b[0m                                 Traceback (most recent call last)",
      "\u001b[1;32m<ipython-input-6-3a4e435b40bb>\u001b[0m in \u001b[0;36m<module>\u001b[1;34m\u001b[0m\n\u001b[0;32m      2\u001b[0m     \u001b[1;32mpass\u001b[0m\u001b[1;33m\u001b[0m\u001b[1;33m\u001b[0m\u001b[0m\n\u001b[0;32m      3\u001b[0m \u001b[1;33m\u001b[0m\u001b[0m\n\u001b[1;32m----> 4\u001b[1;33m \u001b[0mvar_d\u001b[0m \u001b[1;33m=\u001b[0m \u001b[0mD\u001b[0m\u001b[1;33m(\u001b[0m\u001b[1;33m)\u001b[0m  \u001b[1;31m# 初始化时就会检查方法实现，没实现会报错\u001b[0m\u001b[1;33m\u001b[0m\u001b[1;33m\u001b[0m\u001b[0m\n\u001b[0m",
      "\u001b[1;31mTypeError\u001b[0m: Can't instantiate abstract class D with abstract methods alpha"
     ]
    }
   ],
   "source": [
    "class D(C):\n",
    "    pass\n",
    "\n",
    "var_d = D()  # 初始化时就会检查方法实现，没实现会报错"
   ]
  },
  {
   "cell_type": "code",
   "execution_count": 8,
   "metadata": {},
   "outputs": [],
   "source": [
    "class E(C):\n",
    "    def alpha(self):\n",
    "        pass\n",
    "\n",
    "var_e = E()  # 实现了抽象方法，通过"
   ]
  },
  {
   "cell_type": "markdown",
   "metadata": {},
   "source": [
    "**因为有鸭子类型的存在，不建议使用抽象基类**，开发中频繁使用抽象基类容易导致依赖逻辑复杂化，还可以使用对象的组合"
   ]
  },
  {
   "cell_type": "markdown",
   "metadata": {},
   "source": [
    "## isinstance 和 type\n",
    "\n",
    "`isinstance`和`type`方法都能判断类型，而前者会沿着继承链连续判定，后者因为有时使用`==`，有时使用`is`而容易出现偏差。**判断类型优先选择`isinstance`**"
   ]
  },
  {
   "cell_type": "code",
   "execution_count": 2,
   "metadata": {},
   "outputs": [],
   "source": [
    "class A(object):\n",
    "    pass\n",
    "\n",
    "class B(A):\n",
    "    pass\n",
    "\n",
    "b = B()"
   ]
  },
  {
   "cell_type": "code",
   "execution_count": 3,
   "metadata": {},
   "outputs": [
    {
     "data": {
      "text/plain": [
       "True"
      ]
     },
     "execution_count": 3,
     "metadata": {},
     "output_type": "execute_result"
    }
   ],
   "source": [
    "isinstance(b,B)"
   ]
  },
  {
   "cell_type": "code",
   "execution_count": 4,
   "metadata": {},
   "outputs": [
    {
     "data": {
      "text/plain": [
       "True"
      ]
     },
     "execution_count": 4,
     "metadata": {},
     "output_type": "execute_result"
    }
   ],
   "source": [
    "isinstance(b,A)  # 沿继承链检验"
   ]
  },
  {
   "cell_type": "code",
   "execution_count": 9,
   "metadata": {},
   "outputs": [
    {
     "data": {
      "text/plain": [
       "__main__.B"
      ]
     },
     "execution_count": 9,
     "metadata": {},
     "output_type": "execute_result"
    }
   ],
   "source": [
    "type(b)"
   ]
  },
  {
   "cell_type": "code",
   "execution_count": 5,
   "metadata": {},
   "outputs": [
    {
     "data": {
      "text/plain": [
       "True"
      ]
     },
     "execution_count": 5,
     "metadata": {},
     "output_type": "execute_result"
    }
   ],
   "source": [
    "type(b) == B  # 检验“值”是否相等"
   ]
  },
  {
   "cell_type": "code",
   "execution_count": 6,
   "metadata": {},
   "outputs": [
    {
     "data": {
      "text/plain": [
       "False"
      ]
     },
     "execution_count": 6,
     "metadata": {},
     "output_type": "execute_result"
    }
   ],
   "source": [
    "type(b) == A"
   ]
  },
  {
   "cell_type": "code",
   "execution_count": 7,
   "metadata": {},
   "outputs": [
    {
     "data": {
      "text/plain": [
       "True"
      ]
     },
     "execution_count": 7,
     "metadata": {},
     "output_type": "execute_result"
    }
   ],
   "source": [
    "type(b) is B  # 核查 id 值是否一致"
   ]
  },
  {
   "cell_type": "code",
   "execution_count": 8,
   "metadata": {},
   "outputs": [
    {
     "data": {
      "text/plain": [
       "False"
      ]
     },
     "execution_count": 8,
     "metadata": {},
     "output_type": "execute_result"
    }
   ],
   "source": [
    "type(b) is A"
   ]
  },
  {
   "cell_type": "markdown",
   "metadata": {},
   "source": [
    "# 类和实例属性查找顺序\n",
    "\n",
    "一般来说，当类和实例存在同名属性时，`object.attribute`会按照先实例后类的顺序查找。但实际调用顺序 Method Resolution Order (MRO) 算法没那么简单，Python 从 2.0 到 3.0 经历了 DFS，BFS 到 [C3 算法](https://en.wikipedia.org/wiki/C3_linearization)的演进。下面，以下面两幅图说明 DFS，BFS 存在的问题\n",
    "\n",
    "![](https://raw.githubusercontent.com/LibertyDream/diy_img_host/master/img/2020-02-13_BFS_MRO.png)\n",
    "\n",
    "![](https://raw.githubusercontent.com/LibertyDream/diy_img_host/master/img/2020-02-13_DFS_MRO.png)\n",
    "\n",
    "图一使用 BFS 寻找属性不会遇到问题，但如果继续在第二幅图中使用 BFS，比如检索完 B 理应检索其父类 D，但如果恰巧 C 和 D 有同名属性，则 D 内属性就被遮蔽了\n",
    "\n",
    "同样的，图二使用 DFS 不会有问题，但如果在图一中使用，则调用链为 A-B-D-C，检索完 B 后应检索同级父类 C，但如果 C 和 D 有同名属性，则 C 内属性会被遮蔽\n",
    "\n",
    "因为这种两难场景，在 Python 3 中提出新式类（不用显式继承`object`，解析器会默认执行）后提出了 C3 算法。具体细节公式这里不讲，写代码看一下此时问题有没有解决。"
   ]
  },
  {
   "cell_type": "code",
   "execution_count": 1,
   "metadata": {},
   "outputs": [],
   "source": [
    "class D:\n",
    "    pass\n",
    "\n",
    "class B(D):\n",
    "    pass\n",
    "\n",
    "class C(D):\n",
    "    pass\n",
    "\n",
    "class A(B,C):\n",
    "    pass"
   ]
  },
  {
   "cell_type": "code",
   "execution_count": 2,
   "metadata": {},
   "outputs": [
    {
     "data": {
      "text/plain": [
       "(__main__.A, __main__.B, __main__.C, __main__.D, object)"
      ]
     },
     "execution_count": 2,
     "metadata": {},
     "output_type": "execute_result"
    }
   ],
   "source": [
    "A.__mro__  # 顺序正确，且自动加上了 object"
   ]
  },
  {
   "cell_type": "code",
   "execution_count": 3,
   "metadata": {},
   "outputs": [],
   "source": [
    "class D:\n",
    "    pass\n",
    "\n",
    "class B(D):\n",
    "    pass\n",
    "\n",
    "class E:\n",
    "    pass\n",
    "    \n",
    "class C(E):\n",
    "    pass\n",
    "\n",
    "class A(B,C):\n",
    "    pass"
   ]
  },
  {
   "cell_type": "code",
   "execution_count": 4,
   "metadata": {},
   "outputs": [
    {
     "data": {
      "text/plain": [
       "(__main__.A, __main__.B, __main__.D, __main__.C, __main__.E, object)"
      ]
     },
     "execution_count": 4,
     "metadata": {},
     "output_type": "execute_result"
    }
   ],
   "source": [
    "A.__mro__  # 顺序正确，且自动加上了 object"
   ]
  },
  {
   "cell_type": "markdown",
   "metadata": {},
   "source": [
    "### Python 自省机制\n",
    "\n",
    "说到调用链就得提一下自省机制了，所谓自省就是通过某种机制**访问对象内部结构**，通过魔法函数`__dict__`实现。实例的属性都会放在里面，注意，通过调用链访问到的父类属性不会出现在其中，因为不属于该对象"
   ]
  },
  {
   "cell_type": "code",
   "execution_count": 5,
   "metadata": {},
   "outputs": [],
   "source": [
    "class Person(object):\n",
    "    sex = 'male'\n",
    "\n",
    "class Coder(Person):\n",
    "    def __init__(self, company):\n",
    "        self.company = company"
   ]
  },
  {
   "cell_type": "code",
   "execution_count": 6,
   "metadata": {},
   "outputs": [
    {
     "data": {
      "text/plain": [
       "{'company': 'Google'}"
      ]
     },
     "execution_count": 6,
     "metadata": {},
     "output_type": "execute_result"
    }
   ],
   "source": [
    "some_coder = Coder('Google')\n",
    "some_coder.__dict__"
   ]
  },
  {
   "cell_type": "code",
   "execution_count": 7,
   "metadata": {},
   "outputs": [
    {
     "name": "stdout",
     "output_type": "stream",
     "text": [
      "male {'company': 'Google'}\n"
     ]
    }
   ],
   "source": [
    "print(some_coder.sex, some_coder.__dict__)  # 能调用到不代表是自己结构的一部分"
   ]
  },
  {
   "cell_type": "markdown",
   "metadata": {},
   "source": [
    "Python 还提供了一个强大的函数 `dir`，能够显示一切对象的内部详细结构，包括隐藏部分"
   ]
  },
  {
   "cell_type": "code",
   "execution_count": 8,
   "metadata": {},
   "outputs": [
    {
     "data": {
      "text/plain": [
       "['__class__',\n",
       " '__delattr__',\n",
       " '__dict__',\n",
       " '__dir__',\n",
       " '__doc__',\n",
       " '__eq__',\n",
       " '__format__',\n",
       " '__ge__',\n",
       " '__getattribute__',\n",
       " '__gt__',\n",
       " '__hash__',\n",
       " '__init__',\n",
       " '__init_subclass__',\n",
       " '__le__',\n",
       " '__lt__',\n",
       " '__module__',\n",
       " '__ne__',\n",
       " '__new__',\n",
       " '__reduce__',\n",
       " '__reduce_ex__',\n",
       " '__repr__',\n",
       " '__setattr__',\n",
       " '__sizeof__',\n",
       " '__str__',\n",
       " '__subclasshook__',\n",
       " '__weakref__',\n",
       " 'company',\n",
       " 'sex']"
      ]
     },
     "execution_count": 8,
     "metadata": {},
     "output_type": "execute_result"
    }
   ],
   "source": [
    "dir(some_coder)"
   ]
  },
  {
   "cell_type": "code",
   "execution_count": 9,
   "metadata": {},
   "outputs": [
    {
     "data": {
      "text/plain": [
       "['__class__',\n",
       " '__delattr__',\n",
       " '__dict__',\n",
       " '__dir__',\n",
       " '__doc__',\n",
       " '__eq__',\n",
       " '__format__',\n",
       " '__ge__',\n",
       " '__getattribute__',\n",
       " '__gt__',\n",
       " '__hash__',\n",
       " '__init__',\n",
       " '__init_subclass__',\n",
       " '__le__',\n",
       " '__lt__',\n",
       " '__module__',\n",
       " '__ne__',\n",
       " '__new__',\n",
       " '__reduce__',\n",
       " '__reduce_ex__',\n",
       " '__repr__',\n",
       " '__setattr__',\n",
       " '__sizeof__',\n",
       " '__str__',\n",
       " '__subclasshook__',\n",
       " '__weakref__',\n",
       " 'sex']"
      ]
     },
     "execution_count": 9,
     "metadata": {},
     "output_type": "execute_result"
    }
   ],
   "source": [
    "dir(Person)"
   ]
  },
  {
   "cell_type": "markdown",
   "metadata": {},
   "source": [
    "# Super 做了什么\n",
    "\n",
    "子类继承父类，可能只是重写或添加了一些新方法/属性，很多父类功能可以重用，重写一边太麻烦了。这时就可以使用`super()`了"
   ]
  },
  {
   "cell_type": "code",
   "execution_count": 1,
   "metadata": {},
   "outputs": [],
   "source": [
    "class A(object):\n",
    "    def __init__(self, name):\n",
    "        self.name = name\n",
    "        print('A is a nice father')\n",
    "\n",
    "class B(A):\n",
    "    def __init__(self, name, age):\n",
    "        self.age = age\n",
    "        super().__init__(name)\n",
    "        print('beautiful girl')"
   ]
  },
  {
   "cell_type": "code",
   "execution_count": 2,
   "metadata": {},
   "outputs": [
    {
     "name": "stdout",
     "output_type": "stream",
     "text": [
      "A is a nice father\n",
      "beautiful girl\n"
     ]
    }
   ],
   "source": [
    "b = B('b',18)  # 重用父类初始化方法"
   ]
  },
  {
   "cell_type": "markdown",
   "metadata": {},
   "source": [
    "表面上 `super()` 是调用父类方法而已，但更准确的讲，`super()` 实际是依照 MRO 规则，调用下一个对象的方法，还是拿上文的继承链举例\n",
    "\n",
    "![](https://raw.githubusercontent.com/LibertyDream/diy_img_host/master/img/2020-02-13_BFS_MRO.png)"
   ]
  },
  {
   "cell_type": "code",
   "execution_count": 8,
   "metadata": {},
   "outputs": [],
   "source": [
    "class D(object):\n",
    "    def __init__(self):\n",
    "        print('D')\n",
    "\n",
    "class B(D):\n",
    "    def __init__(self):\n",
    "        print('B')\n",
    "        super().__init__()\n",
    "        \n",
    "class C(D):\n",
    "    def __init__(self):\n",
    "        print('C')\n",
    "        super().__init__()\n",
    "        \n",
    "class A(B,C):\n",
    "    def __init__(self):\n",
    "        print('A')\n",
    "        super().__init__()"
   ]
  },
  {
   "cell_type": "code",
   "execution_count": 9,
   "metadata": {},
   "outputs": [
    {
     "name": "stdout",
     "output_type": "stream",
     "text": [
      "A\n",
      "B\n",
      "C\n",
      "D\n"
     ]
    }
   ],
   "source": [
    "a = A()"
   ]
  },
  {
   "cell_type": "code",
   "execution_count": 7,
   "metadata": {},
   "outputs": [
    {
     "data": {
      "text/plain": [
       "(__main__.A, __main__.B, __main__.C, __main__.D, object)"
      ]
     },
     "execution_count": 7,
     "metadata": {},
     "output_type": "execute_result"
    }
   ],
   "source": [
    "A.__mro__"
   ]
  },
  {
   "cell_type": "markdown",
   "metadata": {},
   "source": [
    "可以看到，虽然 B 继承了 D，但是在例子中按照 MRO 规则下一个是 C，所以 `super()` 先调用了 C 的构造函数，最后才是 D\n",
    "\n",
    "### Mixin\n",
    "\n",
    "虽然 Python 支持多继承，但实际开发中不推荐使用，而是应该遵循“少用继承，多用对象组合”的原则，具体到 Python 中就是 mixin （混合）模式了，类比于 Java 里的组合模式。\n",
    "\n",
    "mixin 类提供方法给其他类使用而不建立“父子”关系，通常 Mixin 类功能单一，不和基类发生关联，参数列表里没有 Mixin 不妨碍基类初始化。当然，Mixin 里拒绝使用`super()`，命名时通常以 `Mixin` 结尾，增强代码可读性"
   ]
  },
  {
   "cell_type": "code",
   "execution_count": 10,
   "metadata": {},
   "outputs": [],
   "source": [
    "class SayHiMixin(object):\n",
    "    def say(self):\n",
    "        print('Hi')\n",
    "\n",
    "class SayHelloMixin(object):\n",
    "    def say(self):\n",
    "        print('Hello')\n",
    "    \n",
    "class BaseClass(object):\n",
    "    pass\n",
    "\n",
    "class MyClass(SayHelloMixin, SayHiMixin, BaseClass):\n",
    "    pass"
   ]
  },
  {
   "cell_type": "code",
   "execution_count": 11,
   "metadata": {},
   "outputs": [
    {
     "name": "stdout",
     "output_type": "stream",
     "text": [
      "Hello\n"
     ]
    }
   ],
   "source": [
    "obj = MyClass()\n",
    "obj.say()"
   ]
  },
  {
   "cell_type": "markdown",
   "metadata": {},
   "source": [
    "# 上下文管理器\n",
    "\n",
    "在访问、管理外部资源的时候，经典结构是`try-except-finally`，尝试执行`try`部分内容，`except`捕获异常，无论怎样最终都会执行`finally`，Python 里对于顺利执行时还可以加上`else`。正因如此，通常`try`负责访问资源，`finally`负责关闭资源。"
   ]
  },
  {
   "cell_type": "code",
   "execution_count": 12,
   "metadata": {},
   "outputs": [],
   "source": [
    "def try_exc():\n",
    "    try:\n",
    "        print('I am trying')\n",
    "        raise KeyError\n",
    "    except KeyError:\n",
    "        print('Get KeyError')\n",
    "    else:\n",
    "        print('If everything goes well. You will be here')\n",
    "    finally:\n",
    "        print('This is end')"
   ]
  },
  {
   "cell_type": "code",
   "execution_count": 13,
   "metadata": {},
   "outputs": [
    {
     "name": "stdout",
     "output_type": "stream",
     "text": [
      "I am trying\n",
      "Get KeyError\n",
      "This is end\n"
     ]
    }
   ],
   "source": [
    "try_exc()"
   ]
  },
  {
   "cell_type": "markdown",
   "metadata": {},
   "source": [
    "当各部分内有`return`存在时，会依次压栈，然后从`finally`开始尝试寻找返回值"
   ]
  },
  {
   "cell_type": "code",
   "execution_count": 14,
   "metadata": {},
   "outputs": [
    {
     "data": {
      "text/plain": [
       "3"
      ]
     },
     "execution_count": 14,
     "metadata": {},
     "output_type": "execute_result"
    }
   ],
   "source": [
    "def try_exc_with_ret_1():\n",
    "    try:\n",
    "        return 1\n",
    "    except:\n",
    "        return -1\n",
    "    else:\n",
    "        return 2\n",
    "    finally:\n",
    "        return 3\n",
    "        \n",
    "try_exc_with_ret_1()"
   ]
  },
  {
   "cell_type": "code",
   "execution_count": 15,
   "metadata": {},
   "outputs": [
    {
     "data": {
      "text/plain": [
       "1"
      ]
     },
     "execution_count": 15,
     "metadata": {},
     "output_type": "execute_result"
    }
   ],
   "source": [
    "def try_exc_with_ret_2():\n",
    "    try:\n",
    "        return 1\n",
    "    except:\n",
    "        return -1\n",
    "    else:\n",
    "        return 2\n",
    "    finally:\n",
    "        pass\n",
    "        \n",
    "try_exc_with_ret_2()"
   ]
  },
  {
   "cell_type": "code",
   "execution_count": 16,
   "metadata": {},
   "outputs": [
    {
     "data": {
      "text/plain": [
       "2"
      ]
     },
     "execution_count": 16,
     "metadata": {},
     "output_type": "execute_result"
    }
   ],
   "source": [
    "def try_exc_with_ret_3():\n",
    "    try:\n",
    "        pass\n",
    "    except:\n",
    "        return -1\n",
    "    else:\n",
    "        return 2\n",
    "    finally:\n",
    "        pass\n",
    "        \n",
    "try_exc_with_ret_3()"
   ]
  },
  {
   "cell_type": "code",
   "execution_count": 17,
   "metadata": {},
   "outputs": [
    {
     "data": {
      "text/plain": [
       "-1"
      ]
     },
     "execution_count": 17,
     "metadata": {},
     "output_type": "execute_result"
    }
   ],
   "source": [
    "def try_exc_with_ret_4():\n",
    "    try:\n",
    "        raise AttributeError\n",
    "        return 1\n",
    "    except:\n",
    "        return -1\n",
    "    else:\n",
    "        return 2\n",
    "    finally:\n",
    "        pass\n",
    "        \n",
    "try_exc_with_ret_4()"
   ]
  },
  {
   "cell_type": "markdown",
   "metadata": {},
   "source": [
    "每次都这么写太麻烦了，Python 专门提供了 `with` 帮助管理上下文。要使用 `with`，要遵照上下文管理协议，向类中添加两个魔法函数——`__enter__()`,`__exit__()`。前者访问资源，后者负责释放资源"
   ]
  },
  {
   "cell_type": "code",
   "execution_count": 19,
   "metadata": {},
   "outputs": [
    {
     "name": "stdout",
     "output_type": "stream",
     "text": [
      "Access resource\n",
      "Say hello\n",
      "Release resource\n"
     ]
    }
   ],
   "source": [
    "class DemoContext:\n",
    "    def __enter__(self):\n",
    "        print('Access resource')\n",
    "        return self  # 返回资源对象\n",
    "    def __exit__(self, exc_type, exc_val, exc_tb):\n",
    "        print('Release resource')\n",
    "    def do_something(self):\n",
    "        print('Say hello')\n",
    "\n",
    "with DemoContext() as DC:\n",
    "    DC.do_something()"
   ]
  },
  {
   "cell_type": "markdown",
   "metadata": {},
   "source": [
    "如果你恰巧还知道生成器（后面会写文章讲），那么上面写类实现上下文管理就不是很 Pytonic 了。Python 提供了上下文管理模块 `contextlib`，通过装饰器 `contextmanager` 实现管理器的自动转换"
   ]
  },
  {
   "cell_type": "code",
   "execution_count": 20,
   "metadata": {},
   "outputs": [
    {
     "name": "stdout",
     "output_type": "stream",
     "text": [
      "Something before accessing resource\n",
      "Nice work\n",
      "finish work. clear resource\n"
     ]
    }
   ],
   "source": [
    "import contextlib\n",
    "\n",
    "@contextlib.contextmanager\n",
    "def pretend_open_file(file_name):\n",
    "    print('Something before accessing resource')\n",
    "    yield {}\n",
    "    print('finish work. clear resource')\n",
    "\n",
    "with pretend_open_file('gobble') as pf:\n",
    "    print('Nice work')"
   ]
  }
 ],
 "metadata": {
  "kernelspec": {
   "display_name": "Python 3",
   "language": "python",
   "name": "python3"
  },
  "language_info": {
   "codemirror_mode": {
    "name": "ipython",
    "version": 3
   },
   "file_extension": ".py",
   "mimetype": "text/x-python",
   "name": "python",
   "nbconvert_exporter": "python",
   "pygments_lexer": "ipython3",
   "version": "3.7.3"
  }
 },
 "nbformat": 4,
 "nbformat_minor": 2
}
