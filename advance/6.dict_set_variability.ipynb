{
 "cells": [
  {
   "cell_type": "markdown",
   "metadata": {},
   "source": [
    "# Python3入门到精通——dict、set 和可变性\n",
    "\n",
    "作者： Daniel Meng\n",
    "\n",
    "GitHub： [LibertyDream](https://github.com/LibertyDream)\n",
    "\n",
    "博客：[明月轩](https://libertydream.github.io/)\n",
    "\n",
    "> 本系列教程采用[知识共享署名-非商业性使用-相同方式共享 2.5 中国大陆许可协议](http://creativecommons.org/licenses/by-nc-sa/2.5/cn/)"
   ]
  },
  {
   "cell_type": "markdown",
   "metadata": {},
   "source": [
    "映射是编程中绕不过去的数据结构，Python 中的映射脱胎自 `Mapping` 和其超集 `MutableMapping`，`Mapping` 又继承自 `Collection`，和序列类相似。所以 Python 中的映射类型与序列类型有很多相似的操作。"
   ]
  },
  {
   "cell_type": "code",
   "execution_count": 1,
   "metadata": {},
   "outputs": [
    {
     "name": "stdout",
     "output_type": "stream",
     "text": [
      "Help on class Mapping in module collections.abc:\n",
      "\n",
      "class Mapping(Collection)\n",
      " |  Method resolution order:\n",
      " |      Mapping\n",
      " |      Collection\n",
      " |      Sized\n",
      " |      Iterable\n",
      " |      Container\n",
      " |      builtins.object\n",
      " |  \n",
      " |  Methods defined here:\n",
      " |  \n",
      " |  __contains__(self, key)\n",
      " |  \n",
      " |  __eq__(self, other)\n",
      " |      Return self==value.\n",
      " |  \n",
      " |  __getitem__(self, key)\n",
      " |  \n",
      " |  get(self, key, default=None)\n",
      " |      D.get(k[,d]) -> D[k] if k in D, else d.  d defaults to None.\n",
      " |  \n",
      " |  items(self)\n",
      " |      D.items() -> a set-like object providing a view on D's items\n",
      " |  \n",
      " |  keys(self)\n",
      " |      D.keys() -> a set-like object providing a view on D's keys\n",
      " |  \n",
      " |  values(self)\n",
      " |      D.values() -> an object providing a view on D's values\n",
      " |  \n",
      " |  ----------------------------------------------------------------------\n",
      " |  Data and other attributes defined here:\n",
      " |  \n",
      " |  __abstractmethods__ = frozenset({'__getitem__', '__iter__', '__len__'}...\n",
      " |  \n",
      " |  __hash__ = None\n",
      " |  \n",
      " |  __reversed__ = None\n",
      " |  \n",
      " |  ----------------------------------------------------------------------\n",
      " |  Class methods inherited from Collection:\n",
      " |  \n",
      " |  __subclasshook__(C) from abc.ABCMeta\n",
      " |      Abstract classes can override this to customize issubclass().\n",
      " |      \n",
      " |      This is invoked early on by abc.ABCMeta.__subclasscheck__().\n",
      " |      It should return True, False or NotImplemented.  If it returns\n",
      " |      NotImplemented, the normal algorithm is used.  Otherwise, it\n",
      " |      overrides the normal algorithm (and the outcome is cached).\n",
      " |  \n",
      " |  ----------------------------------------------------------------------\n",
      " |  Methods inherited from Sized:\n",
      " |  \n",
      " |  __len__(self)\n",
      " |  \n",
      " |  ----------------------------------------------------------------------\n",
      " |  Methods inherited from Iterable:\n",
      " |  \n",
      " |  __iter__(self)\n",
      "\n"
     ]
    }
   ],
   "source": [
    "import collections.abc as abc\n",
    "\n",
    "help(abc.Mapping)"
   ]
  },
  {
   "cell_type": "code",
   "execution_count": 2,
   "metadata": {
    "scrolled": true
   },
   "outputs": [
    {
     "name": "stdout",
     "output_type": "stream",
     "text": [
      "Help on class MutableMapping in module collections.abc:\n",
      "\n",
      "class MutableMapping(Mapping)\n",
      " |  Method resolution order:\n",
      " |      MutableMapping\n",
      " |      Mapping\n",
      " |      Collection\n",
      " |      Sized\n",
      " |      Iterable\n",
      " |      Container\n",
      " |      builtins.object\n",
      " |  \n",
      " |  Methods defined here:\n",
      " |  \n",
      " |  __delitem__(self, key)\n",
      " |  \n",
      " |  __setitem__(self, key, value)\n",
      " |  \n",
      " |  clear(self)\n",
      " |      D.clear() -> None.  Remove all items from D.\n",
      " |  \n",
      " |  pop(self, key, default=<object object at 0x000002474D02E0F0>)\n",
      " |      D.pop(k[,d]) -> v, remove specified key and return the corresponding value.\n",
      " |      If key is not found, d is returned if given, otherwise KeyError is raised.\n",
      " |  \n",
      " |  popitem(self)\n",
      " |      D.popitem() -> (k, v), remove and return some (key, value) pair\n",
      " |      as a 2-tuple; but raise KeyError if D is empty.\n",
      " |  \n",
      " |  setdefault(self, key, default=None)\n",
      " |      D.setdefault(k[,d]) -> D.get(k,d), also set D[k]=d if k not in D\n",
      " |  \n",
      " |  update(*args, **kwds)\n",
      " |      D.update([E, ]**F) -> None.  Update D from mapping/iterable E and F.\n",
      " |      If E present and has a .keys() method, does:     for k in E: D[k] = E[k]\n",
      " |      If E present and lacks .keys() method, does:     for (k, v) in E: D[k] = v\n",
      " |      In either case, this is followed by: for k, v in F.items(): D[k] = v\n",
      " |  \n",
      " |  ----------------------------------------------------------------------\n",
      " |  Data and other attributes defined here:\n",
      " |  \n",
      " |  __abstractmethods__ = frozenset({'__delitem__', '__getitem__', '__iter...\n",
      " |  \n",
      " |  ----------------------------------------------------------------------\n",
      " |  Methods inherited from Mapping:\n",
      " |  \n",
      " |  __contains__(self, key)\n",
      " |  \n",
      " |  __eq__(self, other)\n",
      " |      Return self==value.\n",
      " |  \n",
      " |  __getitem__(self, key)\n",
      " |  \n",
      " |  get(self, key, default=None)\n",
      " |      D.get(k[,d]) -> D[k] if k in D, else d.  d defaults to None.\n",
      " |  \n",
      " |  items(self)\n",
      " |      D.items() -> a set-like object providing a view on D's items\n",
      " |  \n",
      " |  keys(self)\n",
      " |      D.keys() -> a set-like object providing a view on D's keys\n",
      " |  \n",
      " |  values(self)\n",
      " |      D.values() -> an object providing a view on D's values\n",
      " |  \n",
      " |  ----------------------------------------------------------------------\n",
      " |  Data and other attributes inherited from Mapping:\n",
      " |  \n",
      " |  __hash__ = None\n",
      " |  \n",
      " |  __reversed__ = None\n",
      " |  \n",
      " |  ----------------------------------------------------------------------\n",
      " |  Class methods inherited from Collection:\n",
      " |  \n",
      " |  __subclasshook__(C) from abc.ABCMeta\n",
      " |      Abstract classes can override this to customize issubclass().\n",
      " |      \n",
      " |      This is invoked early on by abc.ABCMeta.__subclasscheck__().\n",
      " |      It should return True, False or NotImplemented.  If it returns\n",
      " |      NotImplemented, the normal algorithm is used.  Otherwise, it\n",
      " |      overrides the normal algorithm (and the outcome is cached).\n",
      " |  \n",
      " |  ----------------------------------------------------------------------\n",
      " |  Methods inherited from Sized:\n",
      " |  \n",
      " |  __len__(self)\n",
      " |  \n",
      " |  ----------------------------------------------------------------------\n",
      " |  Methods inherited from Iterable:\n",
      " |  \n",
      " |  __iter__(self)\n",
      "\n"
     ]
    }
   ],
   "source": [
    "help(abc.MutableMapping)"
   ]
  },
  {
   "cell_type": "markdown",
   "metadata": {},
   "source": [
    "Python 里最常见的映射就是 dict 了，这种内置类型由 C 实现，性能很高，而且封装了很多实用操作。简单举例\n",
    "\n",
    "- 清空字典--clear"
   ]
  },
  {
   "cell_type": "code",
   "execution_count": 4,
   "metadata": {},
   "outputs": [
    {
     "data": {
      "text/plain": [
       "{}"
      ]
     },
     "execution_count": 4,
     "metadata": {},
     "output_type": "execute_result"
    }
   ],
   "source": [
    "a = {'a':'A','b':'B'}\n",
    "a.clear()\n",
    "a"
   ]
  },
  {
   "cell_type": "markdown",
   "metadata": {},
   "source": [
    "- 获取字典存储内容--items"
   ]
  },
  {
   "cell_type": "code",
   "execution_count": 5,
   "metadata": {},
   "outputs": [
    {
     "name": "stdout",
     "output_type": "stream",
     "text": [
      "a A\n",
      "b B\n"
     ]
    }
   ],
   "source": [
    "obj_dict = {'a':'A','b':'B'}\n",
    "for key, val in obj_dict.items():\n",
    "    print(key, val)"
   ]
  },
  {
   "cell_type": "markdown",
   "metadata": {},
   "source": [
    "- 从可迭代对象中生成字典--fromkeys"
   ]
  },
  {
   "cell_type": "code",
   "execution_count": 8,
   "metadata": {},
   "outputs": [
    {
     "data": {
      "text/plain": [
       "{'a': ['A', 'B'], 'b': ['A', 'B']}"
      ]
     },
     "execution_count": 8,
     "metadata": {},
     "output_type": "execute_result"
    }
   ],
   "source": [
    "lst_key = ['a','b']\n",
    "same_val = ['A','B']\n",
    "\n",
    "obj_dict = dict.fromkeys(lst_key,same_val)\n",
    "obj_dict"
   ]
  },
  {
   "cell_type": "markdown",
   "metadata": {},
   "source": [
    "- 浅拷贝--copy（深拷贝要靠 copy.deepcopy)"
   ]
  },
  {
   "cell_type": "code",
   "execution_count": 9,
   "metadata": {},
   "outputs": [
    {
     "name": "stdout",
     "output_type": "stream",
     "text": [
      "{'a': ['C', 'B'], 'b': ['C', 'B']} {'a': ['C', 'B'], 'b': ['C', 'B']}\n",
      "{'a': ['C', 'B'], 'b': ['C', 'B']} {'a': ['A', 'B'], 'b': ['A', 'B']}\n"
     ]
    }
   ],
   "source": [
    "other_dict = obj_dict.copy()\n",
    "other_dict['a'][0] = 'C'\n",
    "print(obj_dict, other_dict)\n",
    "\n",
    "import copy\n",
    "\n",
    "other_dict = copy.deepcopy(obj_dict)\n",
    "other_dict['a'][0] = 'A'\n",
    "print(obj_dict, other_dict)"
   ]
  },
  {
   "cell_type": "markdown",
   "metadata": {},
   "source": [
    "- 查询--get(没找到会返回空字典)"
   ]
  },
  {
   "cell_type": "code",
   "execution_count": 10,
   "metadata": {},
   "outputs": [],
   "source": [
    "obj_dict.get('c')"
   ]
  },
  {
   "cell_type": "code",
   "execution_count": 11,
   "metadata": {},
   "outputs": [
    {
     "ename": "KeyError",
     "evalue": "'c'",
     "output_type": "error",
     "traceback": [
      "\u001b[1;31m---------------------------------------------------------------------------\u001b[0m",
      "\u001b[1;31mKeyError\u001b[0m                                  Traceback (most recent call last)",
      "\u001b[1;32m<ipython-input-11-c46bb2eb8d35>\u001b[0m in \u001b[0;36m<module>\u001b[1;34m\u001b[0m\n\u001b[1;32m----> 1\u001b[1;33m \u001b[0mobj_dict\u001b[0m\u001b[1;33m[\u001b[0m\u001b[1;34m'c'\u001b[0m\u001b[1;33m]\u001b[0m\u001b[1;33m\u001b[0m\u001b[1;33m\u001b[0m\u001b[0m\n\u001b[0m",
      "\u001b[1;31mKeyError\u001b[0m: 'c'"
     ]
    }
   ],
   "source": [
    "obj_dict['c']"
   ]
  },
  {
   "cell_type": "markdown",
   "metadata": {},
   "source": [
    "- 设置或添加默认值--setdefault"
   ]
  },
  {
   "cell_type": "code",
   "execution_count": 12,
   "metadata": {},
   "outputs": [
    {
     "data": {
      "text/plain": [
       "{'a': ['C', 'B'], 'b': ['C', 'B'], 'c': 'C'}"
      ]
     },
     "execution_count": 12,
     "metadata": {},
     "output_type": "execute_result"
    }
   ],
   "source": [
    "obj_dict.setdefault('c','C')\n",
    "obj_dict"
   ]
  },
  {
   "cell_type": "code",
   "execution_count": 13,
   "metadata": {},
   "outputs": [
    {
     "data": {
      "text/plain": [
       "{'a': ['C', 'B'], 'b': ['C', 'B'], 'c': 'C'}"
      ]
     },
     "execution_count": 13,
     "metadata": {},
     "output_type": "execute_result"
    }
   ],
   "source": [
    "obj_dict.setdefault('a','A')\n",
    "obj_dict"
   ]
  },
  {
   "cell_type": "markdown",
   "metadata": {},
   "source": [
    "- 追加/修改元素--update"
   ]
  },
  {
   "cell_type": "code",
   "execution_count": 15,
   "metadata": {},
   "outputs": [
    {
     "data": {
      "text/plain": [
       "{'a': 'A', 'b': ['C', 'B'], 'c': 'C'}"
      ]
     },
     "execution_count": 15,
     "metadata": {},
     "output_type": "execute_result"
    }
   ],
   "source": [
    "obj_dict.update((('a','A'),))\n",
    "obj_dict"
   ]
  },
  {
   "cell_type": "code",
   "execution_count": 20,
   "metadata": {},
   "outputs": [
    {
     "data": {
      "text/plain": [
       "{'a': 'A', 'b': ['C', 'B'], 'c': 'C', 'd': 'D'}"
      ]
     },
     "execution_count": 20,
     "metadata": {},
     "output_type": "execute_result"
    }
   ],
   "source": [
    "obj_dict.update({'d':'D'})\n",
    "obj_dict"
   ]
  },
  {
   "cell_type": "code",
   "execution_count": 21,
   "metadata": {},
   "outputs": [
    {
     "data": {
      "text/plain": [
       "{'a': 'A', 'b': ['C', 'B'], 'c': 'C', 'd': 'D', 'e': 'E', 'f': 'F'}"
      ]
     },
     "execution_count": 21,
     "metadata": {},
     "output_type": "execute_result"
    }
   ],
   "source": [
    "obj_dict.update(e='E',f='F')\n",
    "obj_dict"
   ]
  },
  {
   "cell_type": "markdown",
   "metadata": {},
   "source": [
    "如果想要自己封装一个字典，不建议继承 `dict`（`list` 同理），子类的覆盖方法有时不会生效"
   ]
  },
  {
   "cell_type": "code",
   "execution_count": 25,
   "metadata": {},
   "outputs": [
    {
     "name": "stdout",
     "output_type": "stream",
     "text": [
      "{'one': 1}\n",
      "{'one': 1, 'two': 4}\n"
     ]
    }
   ],
   "source": [
    "class ErrDict(dict):\n",
    "    def __setitem__(self, key, value):\n",
    "        super().__setitem__(key, value*2)\n",
    "\n",
    "err_dict = ErrDict(one = 1)  # 覆盖方法失效\n",
    "print(err_dict)\n",
    "\n",
    "err_dict['two'] = 2  # 覆盖方法有效\n",
    "print(err_dict)"
   ]
  },
  {
   "cell_type": "markdown",
   "metadata": {},
   "source": [
    "比较好的继承对象是 `collections.Userdict`，但更推荐通过实例化 `collections.defaultdict` 来构建自己的字典，在其内部`__getitem__` 的实现中通过重写 `__missing__` 方法，能做到当查询键不存在于字典中时，不报异常而是走缺失处理程序"
   ]
  },
  {
   "cell_type": "code",
   "execution_count": 28,
   "metadata": {},
   "outputs": [
    {
     "data": {
      "text/plain": [
       "{}"
      ]
     },
     "execution_count": 28,
     "metadata": {},
     "output_type": "execute_result"
    }
   ],
   "source": [
    "from collections import defaultdict\n",
    "\n",
    "my_dict = defaultdict(dict)\n",
    "\n",
    "my_dict['key']"
   ]
  },
  {
   "cell_type": "markdown",
   "metadata": {},
   "source": [
    "常和字典一起说的是集合 `set`，Python 里的集合能执行集合运算。此外还有一个 `frozenset`，顾名思义 frozenset 的值初始化后就不可更改了，所以很适合做字典的 `key`"
   ]
  },
  {
   "cell_type": "code",
   "execution_count": 29,
   "metadata": {},
   "outputs": [
    {
     "name": "stdout",
     "output_type": "stream",
     "text": [
      "{'c', 'b', 'a'} frozenset({'c', 'b', 'a'})\n"
     ]
    }
   ],
   "source": [
    "f_set = frozenset('abc')\n",
    "n_set = set('abc')\n",
    "print(n_set, f_set)"
   ]
  },
  {
   "cell_type": "markdown",
   "metadata": {},
   "source": [
    "而如果深究实现机制，集合就是字典的特例，因为字典中对键 `key` 的要求完全符合集合的特点，所以集合可以用所有 key 的 val 都为空的字典封装实现。\n",
    "\n",
    "字典的实现一般是基于哈希法，查询时先对键求散列值，定位到散列表的一个表元，如果此时表元为空则进入异常处理流程。如果表元有值，因为存在不同元素散列值相同的情形，需要确认 `key` 是否相同，不同则进入哈希冲突处理流程，比如再散列，链地址等，相同则正常返回。Python 内置 `hash()` 方法获取对象哈希值，也可以自己实现`__hash__`方法来自定义哈希规则\n",
    "\n",
    "哈希函数因为是通过索引直接访问表元，故读取效率极高，只有$O(1)$的时间复杂度，但内存占用也会大些。与之相比，`list` 为代表的序列类型往往效率会低很多。Python 对自己的内部对象和用户自定义对象都用 dict 进行了封装。\n",
    "\n",
    "同时为了确保唯一性，参与哈希计算的元素必须不可变，也就导致 `key` 只能是 `str` `tuple` 这类不可变对象。"
   ]
  },
  {
   "cell_type": "markdown",
   "metadata": {},
   "source": [
    "# 可变性\n",
    "\n",
    "说对象肯定得提一提变量。Java，C# 中的变量申明时会指定类型，初始化时计算机去内存开辟一块空间打上类型标识，从此变量就和这块空间绑定在了一起。Python 作为动态语言，变量和对象间的关系没有这么亲密，Python 变量实质只是一个指针，对象初始化完毕后，使变量指针指向对象的内存空间，所以 Python 变量更像是对象的别名"
   ]
  },
  {
   "cell_type": "code",
   "execution_count": 1,
   "metadata": {},
   "outputs": [
    {
     "data": {
      "text/plain": [
       "[1, 2, 3, 4]"
      ]
     },
     "execution_count": 1,
     "metadata": {},
     "output_type": "execute_result"
    }
   ],
   "source": [
    "one_lst = [1,2,3]\n",
    "two_lst = one_lst\n",
    "two_lst.append(4)  # 指针指向位置相同\n",
    "one_lst"
   ]
  },
  {
   "cell_type": "markdown",
   "metadata": {},
   "source": [
    "变量行为上，我们曾经提到过 `==` 和 `is` 的区别，前者实质是调用 `__eq__` 方法进行值比对，`is` 则是比较两变量指向的内存空间是否一致。Python 在这种普遍规律上做一定的优化，如果是小整数(-5~256)，短字符串，每次声明新变量时，Python 不会构建新对象而是会寻找上一个值相同的对象然后返回。"
   ]
  },
  {
   "cell_type": "code",
   "execution_count": 4,
   "metadata": {},
   "outputs": [
    {
     "name": "stdout",
     "output_type": "stream",
     "text": [
      "140715413836640 140715413836640\n"
     ]
    }
   ],
   "source": [
    "num_obj = 2\n",
    "another_num_obj = 2\n",
    "print(id(num_obj), id(another_num_obj))  # 小整数指向相同"
   ]
  },
  {
   "cell_type": "code",
   "execution_count": 21,
   "metadata": {},
   "outputs": [
    {
     "name": "stdout",
     "output_type": "stream",
     "text": [
      "2224771828848 2224771828848\n"
     ]
    }
   ],
   "source": [
    "str_obj = 'abc'\n",
    "another_str_obj = 'abc'\n",
    "print(id(str_obj),id(another_str_obj))"
   ]
  },
  {
   "cell_type": "markdown",
   "metadata": {},
   "source": [
    "有创建就有删除，Python 提供了 `del` 方法来删除变量。实质上，因为变量只是对象别名的缘故，Python 采用的是引用计数的方法来判断是否释放空间，执行`del(var_name)`时会将`var_name`指针释放，指针指向对象内部维护的引用计数减一，引用计数为 0 时释放对象占据的内存空间。\n",
    "\n",
    "对于自定义的对象，可以通过配置`__del__`方法告知解释器在回收该对象时要做些什么。"
   ]
  },
  {
   "cell_type": "code",
   "execution_count": 22,
   "metadata": {},
   "outputs": [
    {
     "data": {
      "text/plain": [
       "'abc'"
      ]
     },
     "execution_count": 22,
     "metadata": {},
     "output_type": "execute_result"
    }
   ],
   "source": [
    "a = 'abc'\n",
    "b = a\n",
    "del a  # 释放指针，引用计数减一\n",
    "\n",
    "b  # 计数不为零依旧可访问"
   ]
  },
  {
   "cell_type": "markdown",
   "metadata": {},
   "source": [
    "可变性除了变量自身，对象本身的可变性有时也会给人带来困扰。比如下面这个例子"
   ]
  },
  {
   "cell_type": "code",
   "execution_count": 24,
   "metadata": {},
   "outputs": [
    {
     "name": "stdout",
     "output_type": "stream",
     "text": [
      "[1, 2, 3, 4] [1, 2, 3, 4] [3, 4]\n"
     ]
    }
   ],
   "source": [
    "def add(factor_one, factor_two):\n",
    "    factor_one += factor_two\n",
    "    return factor_one\n",
    "\n",
    "param1 = [1,2]\n",
    "param2 = [3,4]\n",
    "print(add(param1, param2), param1, param2)"
   ]
  },
  {
   "cell_type": "markdown",
   "metadata": {},
   "source": [
    "这里定义了一个加法函数 `add`，执行两个加数的求和运算。传入了两个列表参数后，其中一个加数`param1`也被改变了。\n",
    "\n",
    "造成这一问题的原因是 `list` 本身就是一种可变对象，传递参数时将自己的引用传入，而 `+=` 本身是一种就地变换，导致 `param1` 实际既是参数又是结果。\n",
    "\n",
    "所以编程实践中**不要使用可变对象作为参数，也不要令默认参数为可变对象**"
   ]
  }
 ],
 "metadata": {
  "kernelspec": {
   "display_name": "Python 3",
   "language": "python",
   "name": "python3"
  },
  "language_info": {
   "codemirror_mode": {
    "name": "ipython",
    "version": 3
   },
   "file_extension": ".py",
   "mimetype": "text/x-python",
   "name": "python",
   "nbconvert_exporter": "python",
   "pygments_lexer": "ipython3",
   "version": "3.7.3"
  }
 },
 "nbformat": 4,
 "nbformat_minor": 2
}
