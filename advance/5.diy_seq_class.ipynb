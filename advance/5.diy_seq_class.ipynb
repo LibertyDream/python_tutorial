{
 "cells": [
  {
   "cell_type": "markdown",
   "metadata": {},
   "source": [
    "# Python3入门到精通——自定义序列类\n",
    "\n",
    "作者： Daniel Meng\n",
    "\n",
    "GitHub： [LibertyDream](https://github.com/LibertyDream)\n",
    "\n",
    "博客：[明月轩](https://libertydream.github.io/)\n",
    "\n",
    "> 本系列教程采用[知识共享署名-非商业性使用-相同方式共享 2.5 中国大陆许可协议](http://creativecommons.org/licenses/by-nc-sa/2.5/cn/)"
   ]
  },
  {
   "cell_type": "markdown",
   "metadata": {},
   "source": [
    "先回顾一下 Python 里的序列分类，按照存储类型可以分为容器序列和扁平序列\n",
    "\n",
    "容器序列可以存放不同类型的数据。即可以存放任意类型对象的引用。比如 list, tuple, deque\n",
    "\n",
    "扁平序列只能容纳一种类型，存放的是值而不是引用，实际是占据一段连续的内存空间，但只能存放诸如字符、字节和数值等基础类型数据。比如 str,bytes,bytearray,array.array\n",
    "\n",
    "按照存储内容是否可变，又可分类成可变序列与不可变序列。前者包括 list，deque，bytearray，array。后者包括 str,tuple,bytes\n",
    "\n",
    "不可变序列类型的实现可以参照 `collections.abc.Sequence`，继承 `Reversible` 和 `Collection` 两个类，需要实现 `__getitem__` 和 `__len__` 两个方法。而 MutableSequence 是继承 Sequence 后又通过 mixin 添加了若干方法"
   ]
  },
  {
   "cell_type": "code",
   "execution_count": 2,
   "metadata": {},
   "outputs": [
    {
     "name": "stdout",
     "output_type": "stream",
     "text": [
      "Help on class Sequence in module collections.abc:\n",
      "\n",
      "class Sequence(Reversible, Collection)\n",
      " |  All the operations on a read-only sequence.\n",
      " |  \n",
      " |  Concrete subclasses must override __new__ or __init__,\n",
      " |  __getitem__, and __len__.\n",
      " |  \n",
      " |  Method resolution order:\n",
      " |      Sequence\n",
      " |      Reversible\n",
      " |      Collection\n",
      " |      Sized\n",
      " |      Iterable\n",
      " |      Container\n",
      " |      builtins.object\n",
      " |  \n",
      " |  Methods defined here:\n",
      " |  \n",
      " |  __contains__(self, value)\n",
      " |  \n",
      " |  __getitem__(self, index)\n",
      " |  \n",
      " |  __iter__(self)\n",
      " |  \n",
      " |  __reversed__(self)\n",
      " |  \n",
      " |  count(self, value)\n",
      " |      S.count(value) -> integer -- return number of occurrences of value\n",
      " |  \n",
      " |  index(self, value, start=0, stop=None)\n",
      " |      S.index(value, [start, [stop]]) -> integer -- return first index of value.\n",
      " |      Raises ValueError if the value is not present.\n",
      " |      \n",
      " |      Supporting start and stop arguments is optional, but\n",
      " |      recommended.\n",
      " |  \n",
      " |  ----------------------------------------------------------------------\n",
      " |  Data and other attributes defined here:\n",
      " |  \n",
      " |  __abstractmethods__ = frozenset({'__getitem__', '__len__'})\n",
      " |  \n",
      " |  ----------------------------------------------------------------------\n",
      " |  Class methods inherited from Reversible:\n",
      " |  \n",
      " |  __subclasshook__(C) from abc.ABCMeta\n",
      " |      Abstract classes can override this to customize issubclass().\n",
      " |      \n",
      " |      This is invoked early on by abc.ABCMeta.__subclasscheck__().\n",
      " |      It should return True, False or NotImplemented.  If it returns\n",
      " |      NotImplemented, the normal algorithm is used.  Otherwise, it\n",
      " |      overrides the normal algorithm (and the outcome is cached).\n",
      " |  \n",
      " |  ----------------------------------------------------------------------\n",
      " |  Methods inherited from Sized:\n",
      " |  \n",
      " |  __len__(self)\n",
      "\n"
     ]
    }
   ],
   "source": [
    "import collections.abc as abc\n",
    "\n",
    "help(abc.Sequence)"
   ]
  },
  {
   "cell_type": "code",
   "execution_count": 3,
   "metadata": {},
   "outputs": [
    {
     "name": "stdout",
     "output_type": "stream",
     "text": [
      "Help on class MutableSequence in module collections.abc:\n",
      "\n",
      "class MutableSequence(Sequence)\n",
      " |  All the operations on a read-only sequence.\n",
      " |  \n",
      " |  Concrete subclasses must override __new__ or __init__,\n",
      " |  __getitem__, and __len__.\n",
      " |  \n",
      " |  Method resolution order:\n",
      " |      MutableSequence\n",
      " |      Sequence\n",
      " |      Reversible\n",
      " |      Collection\n",
      " |      Sized\n",
      " |      Iterable\n",
      " |      Container\n",
      " |      builtins.object\n",
      " |  \n",
      " |  Methods defined here:\n",
      " |  \n",
      " |  __delitem__(self, index)\n",
      " |  \n",
      " |  __iadd__(self, values)\n",
      " |  \n",
      " |  __setitem__(self, index, value)\n",
      " |  \n",
      " |  append(self, value)\n",
      " |      S.append(value) -- append value to the end of the sequence\n",
      " |  \n",
      " |  clear(self)\n",
      " |      S.clear() -> None -- remove all items from S\n",
      " |  \n",
      " |  extend(self, values)\n",
      " |      S.extend(iterable) -- extend sequence by appending elements from the iterable\n",
      " |  \n",
      " |  insert(self, index, value)\n",
      " |      S.insert(index, value) -- insert value before index\n",
      " |  \n",
      " |  pop(self, index=-1)\n",
      " |      S.pop([index]) -> item -- remove and return item at index (default last).\n",
      " |      Raise IndexError if list is empty or index is out of range.\n",
      " |  \n",
      " |  remove(self, value)\n",
      " |      S.remove(value) -- remove first occurrence of value.\n",
      " |      Raise ValueError if the value is not present.\n",
      " |  \n",
      " |  reverse(self)\n",
      " |      S.reverse() -- reverse *IN PLACE*\n",
      " |  \n",
      " |  ----------------------------------------------------------------------\n",
      " |  Data and other attributes defined here:\n",
      " |  \n",
      " |  __abstractmethods__ = frozenset({'__delitem__', '__getitem__', '__len_...\n",
      " |  \n",
      " |  ----------------------------------------------------------------------\n",
      " |  Methods inherited from Sequence:\n",
      " |  \n",
      " |  __contains__(self, value)\n",
      " |  \n",
      " |  __getitem__(self, index)\n",
      " |  \n",
      " |  __iter__(self)\n",
      " |  \n",
      " |  __reversed__(self)\n",
      " |  \n",
      " |  count(self, value)\n",
      " |      S.count(value) -> integer -- return number of occurrences of value\n",
      " |  \n",
      " |  index(self, value, start=0, stop=None)\n",
      " |      S.index(value, [start, [stop]]) -> integer -- return first index of value.\n",
      " |      Raises ValueError if the value is not present.\n",
      " |      \n",
      " |      Supporting start and stop arguments is optional, but\n",
      " |      recommended.\n",
      " |  \n",
      " |  ----------------------------------------------------------------------\n",
      " |  Class methods inherited from Reversible:\n",
      " |  \n",
      " |  __subclasshook__(C) from abc.ABCMeta\n",
      " |      Abstract classes can override this to customize issubclass().\n",
      " |      \n",
      " |      This is invoked early on by abc.ABCMeta.__subclasscheck__().\n",
      " |      It should return True, False or NotImplemented.  If it returns\n",
      " |      NotImplemented, the normal algorithm is used.  Otherwise, it\n",
      " |      overrides the normal algorithm (and the outcome is cached).\n",
      " |  \n",
      " |  ----------------------------------------------------------------------\n",
      " |  Methods inherited from Sized:\n",
      " |  \n",
      " |  __len__(self)\n",
      "\n"
     ]
    }
   ],
   "source": [
    "help(abc.MutableSequence)"
   ]
  },
  {
   "cell_type": "markdown",
   "metadata": {},
   "source": [
    "### +,+=,extend 和 append\n",
    "\n",
    "对于序列类型，拼接和添加是最常见的操作，但仔细追究还另有天地。`+` 执行的是运算，会对两个算子进行格式审查，`+=` 不同，它是通过 MutableSequence 中的 `__iadd__` 实现的，方法内部调用了 `extend` 方法，所以 `+=` 和调用 `extend` 一样，都接一个可迭代对象做参数，执行就地变换。加法则会返回运算结果"
   ]
  },
  {
   "cell_type": "code",
   "execution_count": 12,
   "metadata": {},
   "outputs": [
    {
     "data": {
      "text/plain": [
       "[1, 2, 3, 4]"
      ]
     },
     "execution_count": 12,
     "metadata": {},
     "output_type": "execute_result"
    }
   ],
   "source": [
    "one_lst = [1,2]\n",
    "rst_lst = one_lst + [3, 4]  # 加法有类型检查，左右类型要一致\n",
    "rst_lst"
   ]
  },
  {
   "cell_type": "code",
   "execution_count": 13,
   "metadata": {},
   "outputs": [
    {
     "data": {
      "text/plain": [
       "[1, 2, 3, 4]"
      ]
     },
     "execution_count": 13,
     "metadata": {},
     "output_type": "execute_result"
    }
   ],
   "source": [
    "one_lst += [3, 4]\n",
    "one_lst"
   ]
  },
  {
   "cell_type": "code",
   "execution_count": 14,
   "metadata": {},
   "outputs": [
    {
     "data": {
      "text/plain": [
       "[1, 2, 3, 4, 5, 6]"
      ]
     },
     "execution_count": 14,
     "metadata": {},
     "output_type": "execute_result"
    }
   ],
   "source": [
    "one_lst += (5, 6)  # 可迭代对象都能参与计算，效果等同于 one_lst.extend(value)\n",
    "one_lst"
   ]
  },
  {
   "cell_type": "code",
   "execution_count": 16,
   "metadata": {},
   "outputs": [
    {
     "data": {
      "text/plain": [
       "[1, 2, 3, 4, 5, 6, 7, 8]"
      ]
     },
     "execution_count": 16,
     "metadata": {},
     "output_type": "execute_result"
    }
   ],
   "source": [
    "one_lst.extend((7,8))\n",
    "one_lst"
   ]
  },
  {
   "cell_type": "markdown",
   "metadata": {},
   "source": [
    "注意这里不要和 `append` 方法弄混，`append(object)` 是在序列末尾添加一个新对象，而不是执行序列合并操作"
   ]
  },
  {
   "cell_type": "code",
   "execution_count": 17,
   "metadata": {},
   "outputs": [
    {
     "data": {
      "text/plain": [
       "[1, 2, 3, 4, 5, 6, 7, 8, [9, 10]]"
      ]
     },
     "execution_count": 17,
     "metadata": {},
     "output_type": "execute_result"
    }
   ],
   "source": [
    "one_lst.append([9,10])\n",
    "one_lst"
   ]
  },
  {
   "cell_type": "markdown",
   "metadata": {},
   "source": [
    "### 切片的实现\n",
    "\n",
    "Python 中的序列，比如 list，一大特色且高频使用的功能是切片，无论是取值，反转，添加，删除，在不谈可读性时切片实际都能实现。这么灵活的功能在实现上只需要完成 `__getitem__` 方法，就能对对象进行切片操作了"
   ]
  },
  {
   "cell_type": "code",
   "execution_count": 19,
   "metadata": {},
   "outputs": [],
   "source": [
    "class MySlice:\n",
    "    def __init__(self,val_lst):\n",
    "        self.vals = val_lst\n",
    "    \n",
    "    def __getitem__(self, item):\n",
    "        return self.vals[item]"
   ]
  },
  {
   "cell_type": "code",
   "execution_count": 20,
   "metadata": {},
   "outputs": [
    {
     "data": {
      "text/plain": [
       "[6, 5, 4, 3, 2, 1]"
      ]
     },
     "execution_count": 20,
     "metadata": {},
     "output_type": "execute_result"
    }
   ],
   "source": [
    "my_slice = MySlice([1,2,3,4,5,6])\n",
    "my_slice[::-1]"
   ]
  },
  {
   "cell_type": "markdown",
   "metadata": {},
   "source": [
    "此时结果看似没问题，但实际上述实现中 `self.vals[item]` 是借助 `list` 完成了切片，返回的数据类型是 `list` 不符合预期，对于一个序列，切片后应该还是本身才对。"
   ]
  },
  {
   "cell_type": "code",
   "execution_count": 21,
   "metadata": {},
   "outputs": [
    {
     "data": {
      "text/plain": [
       "list"
      ]
     },
     "execution_count": 21,
     "metadata": {},
     "output_type": "execute_result"
    }
   ],
   "source": [
    "rst_slice = my_slice[::-1]\n",
    "type(rst_slice)"
   ]
  },
  {
   "cell_type": "markdown",
   "metadata": {},
   "source": [
    "问题的关键在于传入的参数 `item` 上，它是 Python 内置类型 `slice` 的一个实例，当执行切片操作时，操作内容就被封装在其中，但却没有返回类型检查。所以经验上，对于序列类型的切片操作，需要自行实现操作类型判断，是取某个位置的值，还是切片，进而返回相应结果。"
   ]
  },
  {
   "cell_type": "code",
   "execution_count": 34,
   "metadata": {},
   "outputs": [],
   "source": [
    "import numbers\n",
    "\n",
    "class Group:\n",
    "    def __init__(self, group_name, company_name, staffs):\n",
    "        self.group_name = group_name\n",
    "        self.company_name = company_name\n",
    "        self.staffs = staffs\n",
    "\n",
    "    def __getitem__(self, item):\n",
    "        clss = type(self)\n",
    "        if isinstance(item, slice):  # sequence[::]\n",
    "            return clss(self.group_name,self.company_name,self.staffs[item])\n",
    "        elif isinstance(item, numbers.Integral):  # sequence[index]\n",
    "            return clss(self.group_name,self.company_name, [self.staffs[item]])\n",
    "    \n",
    "    #  实现自定义序列类的其他方法\n",
    "    def __len__(self):\n",
    "        return len(self.staffs)\n",
    "\n",
    "    def __reversed__(self):\n",
    "        self.staffs.reverse()\n",
    "    \n",
    "    def __iter__(self):\n",
    "        return iter(self.staffs)\n",
    "\n",
    "    def __contains__(self, item):\n",
    "        return True if item in self.staffs else False"
   ]
  },
  {
   "cell_type": "code",
   "execution_count": 36,
   "metadata": {},
   "outputs": [
    {
     "data": {
      "text/plain": [
       "{'group_name': 'anime', 'company_name': 'Bilibili', 'staffs': ['C', 'D']}"
      ]
     },
     "execution_count": 36,
     "metadata": {},
     "output_type": "execute_result"
    }
   ],
   "source": [
    "group = Group(company_name='Bilibili',group_name='anime',staffs=['A','B','C','D'])\n",
    "group[2:].__dict__"
   ]
  },
  {
   "cell_type": "code",
   "execution_count": 37,
   "metadata": {},
   "outputs": [
    {
     "data": {
      "text/plain": [
       "{'group_name': 'anime', 'company_name': 'Bilibili', 'staffs': ['B']}"
      ]
     },
     "execution_count": 37,
     "metadata": {},
     "output_type": "execute_result"
    }
   ],
   "source": [
    "group[1].__dict__"
   ]
  },
  {
   "cell_type": "markdown",
   "metadata": {},
   "source": [
    "### 维护有序序列\n",
    "\n",
    "实际开发中排序是永恒的主题，对于序列类型尤甚。如果自己维护序列可能会不停的重复造轮子，效率低下。Python 对此提供了 `bisect` 模块专门用于维护有序序列，默认升序。主要方法有 `insort`，`bisect` 通过二分法，前者负责插入，后者负责寻找目标位置。为了一些特殊需求，模块还提供了 `insort_right`,`insort_left`，`bisect_right`,`bisect_left` 方法来确认目标的前后近邻位置\n",
    "\n",
    "`insort` 和 `bisect` 等价于 `insort_right` 和 `bisect_right`"
   ]
  },
  {
   "cell_type": "code",
   "execution_count": 42,
   "metadata": {},
   "outputs": [
    {
     "name": "stdout",
     "output_type": "stream",
     "text": [
      "[2, 3, 4, 5]\n",
      "deque([6, 7, 8, 9])\n"
     ]
    }
   ],
   "source": [
    "import bisect\n",
    "from collections import deque\n",
    "sorted_seq_1 = []\n",
    "bisect.insort(sorted_seq_1, 4)\n",
    "bisect.insort(sorted_seq_1, 5)\n",
    "bisect.insort(sorted_seq_1, 3)\n",
    "bisect.insort(sorted_seq_1, 2)\n",
    "print(sorted_seq_1)\n",
    "\n",
    "sorted_seq_2 = deque()\n",
    "bisect.insort(sorted_seq_2, 8)\n",
    "bisect.insort(sorted_seq_2, 7)\n",
    "bisect.insort(sorted_seq_2, 9)\n",
    "bisect.insort(sorted_seq_2, 6)\n",
    "print(sorted_seq_2)"
   ]
  },
  {
   "cell_type": "code",
   "execution_count": 43,
   "metadata": {
    "scrolled": true
   },
   "outputs": [
    {
     "data": {
      "text/plain": [
       "3"
      ]
     },
     "execution_count": 43,
     "metadata": {},
     "output_type": "execute_result"
    }
   ],
   "source": [
    "bisect.bisect(sorted_seq_1, 4)"
   ]
  }
 ],
 "metadata": {
  "kernelspec": {
   "display_name": "Python 3",
   "language": "python",
   "name": "python3"
  },
  "language_info": {
   "codemirror_mode": {
    "name": "ipython",
    "version": 3
   },
   "file_extension": ".py",
   "mimetype": "text/x-python",
   "name": "python",
   "nbconvert_exporter": "python",
   "pygments_lexer": "ipython3",
   "version": "3.7.3"
  }
 },
 "nbformat": 4,
 "nbformat_minor": 2
}
