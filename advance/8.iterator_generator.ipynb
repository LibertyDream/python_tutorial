{
 "cells": [
  {
   "cell_type": "markdown",
   "metadata": {},
   "source": [
    "# Python3入门到精通——迭代器与生成器\n",
    "\n",
    "作者： Daniel Meng\n",
    "\n",
    "GitHub： [LibertyDream](https://github.com/LibertyDream)\n",
    "\n",
    "博客：[明月轩](https://libertydream.github.io/)\n",
    "\n",
    "> 本系列教程采用[知识共享署名-非商业性使用-相同方式共享 2.5 中国大陆许可协议](http://creativecommons.org/licenses/by-nc-sa/2.5/cn/)"
   ]
  },
  {
   "cell_type": "markdown",
   "metadata": {},
   "source": [
    "# 迭代对象与迭代器\n",
    "\n",
    "一般遍历数据都会采用 `for` 循环的方式，但其核心在于“迭代”。能被遍历访问的对象称之为**可迭代对象**，由底层协议`__iter__`支持，内置类型 list, tuple 等都实现了该协议，Python 文档中参数形式声明为 `iterable` 就是指所传参数必须实现了 `__iter__` \n",
    "\n",
    "在此基础上再加上 `__next__` 协议，就构成了迭代器，迭代器是和 `__getitem__` 协议所代表的随机访问相对的另一种集合元素访问方式，多用于一个接一个的遍历数据。此外，迭代器提供了一种惰性数据访问方式，只有当实际调用发生时才去访问、计算数据，否则只是一个声明占位\n",
    "\n",
    "Python 的 `collections.abc` 模块提供了可迭代对象 `Iterable` 和迭代器 `Iterator` 两个接口"
   ]
  },
  {
   "cell_type": "code",
   "execution_count": 5,
   "metadata": {},
   "outputs": [
    {
     "name": "stdout",
     "output_type": "stream",
     "text": [
      "Help on class Iterable in module collections.abc:\n",
      "\n",
      "class Iterable(builtins.object)\n",
      " |  Methods defined here:\n",
      " |  \n",
      " |  __iter__(self)\n",
      " |  \n",
      " |  ----------------------------------------------------------------------\n",
      " |  Class methods defined here:\n",
      " |  \n",
      " |  __subclasshook__(C) from abc.ABCMeta\n",
      " |      Abstract classes can override this to customize issubclass().\n",
      " |      \n",
      " |      This is invoked early on by abc.ABCMeta.__subclasscheck__().\n",
      " |      It should return True, False or NotImplemented.  If it returns\n",
      " |      NotImplemented, the normal algorithm is used.  Otherwise, it\n",
      " |      overrides the normal algorithm (and the outcome is cached).\n",
      " |  \n",
      " |  ----------------------------------------------------------------------\n",
      " |  Data and other attributes defined here:\n",
      " |  \n",
      " |  __abstractmethods__ = frozenset({'__iter__'})\n",
      "\n"
     ]
    }
   ],
   "source": [
    "from collections.abc import Iterable, Iterator\n",
    "\n",
    "help(Iterable)"
   ]
  },
  {
   "cell_type": "code",
   "execution_count": 6,
   "metadata": {},
   "outputs": [
    {
     "name": "stdout",
     "output_type": "stream",
     "text": [
      "Help on class Iterator in module collections.abc:\n",
      "\n",
      "class Iterator(Iterable)\n",
      " |  Method resolution order:\n",
      " |      Iterator\n",
      " |      Iterable\n",
      " |      builtins.object\n",
      " |  \n",
      " |  Methods defined here:\n",
      " |  \n",
      " |  __iter__(self)\n",
      " |  \n",
      " |  __next__(self)\n",
      " |      Return the next item from the iterator. When exhausted, raise StopIteration\n",
      " |  \n",
      " |  ----------------------------------------------------------------------\n",
      " |  Class methods defined here:\n",
      " |  \n",
      " |  __subclasshook__(C) from abc.ABCMeta\n",
      " |      Abstract classes can override this to customize issubclass().\n",
      " |      \n",
      " |      This is invoked early on by abc.ABCMeta.__subclasscheck__().\n",
      " |      It should return True, False or NotImplemented.  If it returns\n",
      " |      NotImplemented, the normal algorithm is used.  Otherwise, it\n",
      " |      overrides the normal algorithm (and the outcome is cached).\n",
      " |  \n",
      " |  ----------------------------------------------------------------------\n",
      " |  Data and other attributes defined here:\n",
      " |  \n",
      " |  __abstractmethods__ = frozenset({'__next__'})\n",
      "\n"
     ]
    }
   ],
   "source": [
    "help(Iterator)"
   ]
  },
  {
   "cell_type": "markdown",
   "metadata": {},
   "source": [
    "迭代器是软件工程设计模式中的一种，强调迭代对象和迭代器分离，对象只实现 `__iter__`，迭代器里实现 `__next__`。`__iter__` 要返回一个迭代器，可以自定义，也可以使用全局方法 `iter(obj)`，其会先在对象内部寻找`__iter__`实现，没有则尝试调用 obj 的 `__getitem__`"
   ]
  },
  {
   "cell_type": "code",
   "execution_count": 10,
   "metadata": {},
   "outputs": [],
   "source": [
    "class UserList:\n",
    "    def __init__(self, lst_id, form):\n",
    "        self.id = lst_id\n",
    "        self.form = form\n",
    "\n",
    "    def __iter__(self):\n",
    "        return UserListIterator(self.form)\n",
    "\n",
    "class UserListIterator:\n",
    "    def __init__(self, iter_obj):\n",
    "        self.index = 0\n",
    "        self.val = iter_obj\n",
    "    \n",
    "    def __next__(self):\n",
    "        try:\n",
    "            word = self.val[self.index]\n",
    "        except IndexError:\n",
    "            raise StopIteration\n",
    "        self.index += 1\n",
    "        return word"
   ]
  },
  {
   "cell_type": "markdown",
   "metadata": {},
   "source": [
    "使用迭代器实际就是不断通过全局方法 `next()` 调用 `__next__` 直到收到 `StopIteration` 异常，这也是上面我们进行异常转换的原因"
   ]
  },
  {
   "cell_type": "code",
   "execution_count": 13,
   "metadata": {},
   "outputs": [
    {
     "name": "stdout",
     "output_type": "stream",
     "text": [
      "Daniel\n",
      "Tom\n",
      "Li Lei\n"
     ]
    }
   ],
   "source": [
    "usr_lst = UserList(1, ['Daniel', 'Tom', 'Li Lei'])\n",
    "\n",
    "usr_itor = iter(usr_lst)\n",
    "while True:\n",
    "    try:\n",
    "        print(next(usr_itor))\n",
    "    except StopIteration:\n",
    "        break"
   ]
  },
  {
   "cell_type": "markdown",
   "metadata": {},
   "source": [
    "上述迭代器使用过程就是 `for` 循环做的事情"
   ]
  },
  {
   "cell_type": "code",
   "execution_count": 15,
   "metadata": {},
   "outputs": [
    {
     "name": "stdout",
     "output_type": "stream",
     "text": [
      "Daniel\n",
      "Tom\n",
      "Li Lei\n"
     ]
    }
   ],
   "source": [
    "usr_lst = UserList(1, ['Daniel', 'Tom', 'Li Lei'])\n",
    "\n",
    "for item in usr_lst:\n",
    "    print(item)"
   ]
  },
  {
   "cell_type": "markdown",
   "metadata": {},
   "source": [
    "# 生成器\n",
    "\n",
    "只要函数体内部出现了 `yeild` 关键字，函数就成为了生成器，每次 `yeild` 会返回一个生成器对象。"
   ]
  },
  {
   "cell_type": "code",
   "execution_count": 16,
   "metadata": {},
   "outputs": [
    {
     "name": "stdout",
     "output_type": "stream",
     "text": [
      "<generator object gen_func at 0x000001F03F6B0840> 1\n"
     ]
    }
   ],
   "source": [
    "def gen_func():\n",
    "    yield 1\n",
    "\n",
    "def func():\n",
    "    return 1\n",
    "\n",
    "print(gen_func(), func())"
   ]
  },
  {
   "cell_type": "markdown",
   "metadata": {},
   "source": [
    "`yeild` 只是返回生成器对象，不妨碍后续代码执行，函数体内可以有多个 `yeild`。同时生成器也实现了迭代器协议，可以遍历访问"
   ]
  },
  {
   "cell_type": "code",
   "execution_count": 17,
   "metadata": {},
   "outputs": [
    {
     "name": "stdout",
     "output_type": "stream",
     "text": [
      "1\n",
      "2\n",
      "Without being interrupted\n"
     ]
    }
   ],
   "source": [
    "def gen_func():\n",
    "    yield 1\n",
    "    yield 2\n",
    "\n",
    "    print('Without being interrupted')\n",
    "\n",
    "for gen in gen_func():\n",
    "    print(gen)"
   ]
  },
  {
   "cell_type": "markdown",
   "metadata": {},
   "source": [
    "既然可迭代，为什么要多此一举多写个生成器呢？是为了惰性求值，有时处理数据量过大，或计算过程中冗余数据过多，一次性处理硬件设备支撑不了。惰性计算的计算是延迟的，只有实际调用发生时才计算数据，这样我们就能分批适时完成计算任务，节约硬件资源\n",
    "\n",
    "以求解斐波那契数为例"
   ]
  },
  {
   "cell_type": "code",
   "execution_count": 18,
   "metadata": {},
   "outputs": [
    {
     "name": "stdout",
     "output_type": "stream",
     "text": [
      "[0, 1, 1, 2, 3, 5, 8, 13, 21, 34]\n"
     ]
    }
   ],
   "source": [
    "def lst_feibo(n):\n",
    "    lst = [0, 1]\n",
    "    if n < 3:\n",
    "        return lst[n]\n",
    "    idx, a, b = 2, 0, 1\n",
    "    while idx < n:\n",
    "        a, b = b, a+b\n",
    "        lst.append(b)\n",
    "        idx += 1\n",
    "    print(lst)\n",
    "\n",
    "lst_feibo(10)"
   ]
  },
  {
   "cell_type": "markdown",
   "metadata": {},
   "source": [
    "这里使用了列表做临时存储，如果所求 n 很大，内存会溢出。用生成器的做法会是"
   ]
  },
  {
   "cell_type": "code",
   "execution_count": 20,
   "metadata": {},
   "outputs": [
    {
     "name": "stdout",
     "output_type": "stream",
     "text": [
      "0 1 1 2 3 5 8 13 21 34"
     ]
    }
   ],
   "source": [
    "def gen_feibo(n):\n",
    "    if n == 0: return 0\n",
    "    if n == 1: return 1\n",
    "    idx, a, b = 2, 0, 1\n",
    "    yield 0\n",
    "    yield 1\n",
    "    while idx < n:\n",
    "        a, b = b, a+b\n",
    "        yield b\n",
    "        idx += 1\n",
    "\n",
    "for gen in gen_feibo(10):\n",
    "    print(gen, end=' ')"
   ]
  },
  {
   "cell_type": "markdown",
   "metadata": {},
   "source": [
    "这里我们可以自由决定什么时候向外传递计算值，也只有真实执行计算时才有输出。更重要的是，这种自由控制函数的能力使得跨程序协作成为可能，比如`gen_feibo`可以改为两个程序执行并保证结果不变，靠 list 的单程序就不容易做到这一点\n",
    "\n",
    "但生成器是怎么做到的呢？这里牵涉到一些底层机制了。举例来讲，"
   ]
  },
  {
   "cell_type": "code",
   "execution_count": 25,
   "metadata": {},
   "outputs": [],
   "source": [
    "def foo():\n",
    "    doo()\n",
    "\n",
    "def doo():\n",
    "    a=1\n",
    "    pass"
   ]
  },
  {
   "cell_type": "markdown",
   "metadata": {},
   "source": [
    "`foo` 调用了 `doo`，运行时 Python 解释器会调用底层的 C 函数 `PyEval_EvalFrameEx` 执行 `foo`，创建一个栈帧（stack frame）作 `foo` 的上下文，而 Python 中一切皆对象，栈帧同样是对象，函数体内部的代码经编译转换成字节码对象，可以通过 `dis` 模块查看"
   ]
  },
  {
   "cell_type": "code",
   "execution_count": 26,
   "metadata": {},
   "outputs": [
    {
     "name": "stdout",
     "output_type": "stream",
     "text": [
      "2           0 LOAD_GLOBAL              0 (doo)\n",
      "              2 CALL_FUNCTION            0\n",
      "              4 POP_TOP\n",
      "              6 LOAD_CONST               0 (None)\n",
      "              8 RETURN_VALUE\n"
     ]
    }
   ],
   "source": [
    "import dis\n",
    "\n",
    "dis.dis(foo)"
   ]
  },
  {
   "cell_type": "markdown",
   "metadata": {},
   "source": [
    "字节码对象全局唯一，运行在栈帧确立的上下文环境当中。当执行到 `doo` 调用部分时，又会创建一个新栈帧来执行 `boo` 的字节码。重点在于所有的栈帧都存放在堆上，而不同于 C++，JAVA 存放在栈内，执行完毕后并不会被自动销毁，也就是说 Python 里的栈帧是独立于调用者存在的\n",
    "\n",
    "可以通过 `inspect` 模块，查验 frame 生存周期"
   ]
  },
  {
   "cell_type": "code",
   "execution_count": 32,
   "metadata": {},
   "outputs": [],
   "source": [
    "import inspect\n",
    "\n",
    "frame = None\n",
    "\n",
    "def foo():\n",
    "    doo()\n",
    "\n",
    "def doo():\n",
    "    global frame\n",
    "    frame = inspect.currentframe()\n",
    "\n",
    "foo()"
   ]
  },
  {
   "cell_type": "markdown",
   "metadata": {},
   "source": [
    "运行 `foo` 以后栈帧被存放在了全局变量 `frame` 内，可以看下其内结构"
   ]
  },
  {
   "cell_type": "code",
   "execution_count": 31,
   "metadata": {},
   "outputs": [
    {
     "data": {
      "text/plain": [
       "['__class__',\n",
       " '__delattr__',\n",
       " '__dir__',\n",
       " '__doc__',\n",
       " '__eq__',\n",
       " '__format__',\n",
       " '__ge__',\n",
       " '__getattribute__',\n",
       " '__gt__',\n",
       " '__hash__',\n",
       " '__init__',\n",
       " '__init_subclass__',\n",
       " '__le__',\n",
       " '__lt__',\n",
       " '__ne__',\n",
       " '__new__',\n",
       " '__reduce__',\n",
       " '__reduce_ex__',\n",
       " '__repr__',\n",
       " '__setattr__',\n",
       " '__sizeof__',\n",
       " '__str__',\n",
       " '__subclasshook__',\n",
       " 'clear',\n",
       " 'f_back',\n",
       " 'f_builtins',\n",
       " 'f_code',\n",
       " 'f_globals',\n",
       " 'f_lasti',\n",
       " 'f_lineno',\n",
       " 'f_locals',\n",
       " 'f_trace',\n",
       " 'f_trace_lines',\n",
       " 'f_trace_opcodes']"
      ]
     },
     "execution_count": 31,
     "metadata": {},
     "output_type": "execute_result"
    }
   ],
   "source": [
    "dir(frame)"
   ]
  },
  {
   "cell_type": "code",
   "execution_count": 33,
   "metadata": {},
   "outputs": [
    {
     "data": {
      "text/plain": [
       "'doo'"
      ]
     },
     "execution_count": 33,
     "metadata": {},
     "output_type": "execute_result"
    }
   ],
   "source": [
    "frame.f_code.co_name  # 执行栈帧名"
   ]
  },
  {
   "cell_type": "code",
   "execution_count": 34,
   "metadata": {},
   "outputs": [
    {
     "data": {
      "text/plain": [
       "'foo'"
      ]
     },
     "execution_count": 34,
     "metadata": {},
     "output_type": "execute_result"
    }
   ],
   "source": [
    "frame.f_back.f_code.co_name  # 调用者栈帧名"
   ]
  },
  {
   "cell_type": "markdown",
   "metadata": {},
   "source": [
    "可以看到这实际就是一个递归过程（学习过操作系统原理的话更易理解），可以用下面这张图表示\n",
    "\n",
    "![](https://raw.githubusercontent.com/LibertyDream/diy_img_host/master/img/2020-02-23_creator_mech.png)\n",
    "\n",
    "调用函数存于函数栈内，但字节码存于堆上，正因如此生成器有了实现的可能。可以看下生成器的字节码"
   ]
  },
  {
   "cell_type": "code",
   "execution_count": 36,
   "metadata": {},
   "outputs": [
    {
     "name": "stdout",
     "output_type": "stream",
     "text": [
      "4           0 LOAD_CONST               1 (1)\n",
      "              2 YIELD_VALUE\n",
      "              4 POP_TOP\n",
      "\n",
      "  5           6 LOAD_CONST               2 ('Daniel')\n",
      "              8 STORE_FAST               0 (name)\n",
      "\n",
      "  6          10 LOAD_CONST               3 (2)\n",
      "             12 YIELD_VALUE\n",
      "             14 POP_TOP\n",
      "\n",
      "  7          16 LOAD_CONST               4 (18)\n",
      "             18 STORE_FAST               1 (age)\n",
      "\n",
      "  8          20 LOAD_CONST               5 ('Done')\n",
      "             22 RETURN_VALUE\n"
     ]
    }
   ],
   "source": [
    "import dis\n",
    "\n",
    "def gen_demo():\n",
    "    yield 1\n",
    "    name = 'Daniel'\n",
    "    yield 2\n",
    "    age = 18\n",
    "    return 'Done'\n",
    "\n",
    "dis.dis(gen_demo)"
   ]
  },
  {
   "cell_type": "markdown",
   "metadata": {},
   "source": [
    "可以看到代码运行到 `yeild` 时转到了 `YIELD_VALUE` 执行随后出栈。`yeild` 创立生成器对象，实际是对一般的 frame 和字节码进行了封装\n",
    "\n",
    "![](https://raw.githubusercontent.com/LibertyDream/diy_img_host/master/img/2020-02-23_creator_mech_heap.png)\n",
    "\n",
    "`f_lasti` 指明上一条运行指令，`f_locals` 则是调用者 frame 保存的局部变量\n"
   ]
  },
  {
   "cell_type": "code",
   "execution_count": 37,
   "metadata": {},
   "outputs": [
    {
     "name": "stdout",
     "output_type": "stream",
     "text": [
      "-1 {}\n",
      "2 {}\n",
      "12 {'name': 'Daniel'}\n"
     ]
    }
   ],
   "source": [
    "gen = gen_demo()\n",
    "\n",
    "print(gen.gi_frame.f_lasti, gen.gi_frame.f_locals)\n",
    "next(gen)\n",
    "print(gen.gi_frame.f_lasti, gen.gi_frame.f_locals)\n",
    "next(gen)\n",
    "print(gen.gi_frame.f_lasti, gen.gi_frame.f_locals)"
   ]
  },
  {
   "cell_type": "markdown",
   "metadata": {},
   "source": [
    "对照字节码不难发现，开始时 `f_lasti` 为空因为一条指令都没执行，但开始执行后 `f_lasti` 标记着最近一次指令调用位置，`f_locals` 记录着当时的现场信息\n",
    "\n",
    "正因为有指令，有环境，且生成器对象同位于堆内存不会主动释放，只要能拿到栈帧对象，任何地点，任何时间我们都能恢复现场，这也正是实现协程的根源\n",
    "\n",
    "生成器在 Python 内部都多处应用，比如 `collections.UserList`，其用 Python 向我们展示了 `list` 内部机制（`list` 本身是用 C 实现的，不允许自由覆盖方法），比如 for 遍历的场景下就用到了生成器"
   ]
  },
  {
   "cell_type": "code",
   "execution_count": null,
   "metadata": {},
   "outputs": [],
   "source": [
    "def SimulateUserList:\n",
    "    def __getitem__(self, index):\n",
    "        raise IndexError\n",
    "\n",
    "    def __iter__(self):\n",
    "        i = 0\n",
    "        try:\n",
    "            while True:\n",
    "                v = self[i]\n",
    "                yield v\n",
    "                i += 1\n",
    "        except IndexError:\n",
    "            return"
   ]
  },
  {
   "cell_type": "markdown",
   "metadata": {},
   "source": [
    "应用生成器也可以实现一个读取超大文件的自定义 read 方法，允许自定义分隔符"
   ]
  },
  {
   "cell_type": "code",
   "execution_count": null,
   "metadata": {},
   "outputs": [],
   "source": [
    "def read_lines(file, spliter):\n",
    "    buf = \"\"  # 缓存对象\n",
    "    while True:\n",
    "        while spliter in buf:  # 读取内容中可能存在不止一个分隔符\n",
    "            pos = buf.index(spliter)\n",
    "            yield buf[:pos]\n",
    "            buf = buf[pos + len(spliter):]\n",
    "        chunk = file.read( 4096 * 10)  # 每次读取 4096 × 10 个字节的内容\n",
    "\n",
    "        if not chunk:  # 读取到文件末尾\n",
    "            yield buf\n",
    "            break\n",
    "        buf += chunk"
   ]
  }
 ],
 "metadata": {
  "file_extension": ".py",
  "kernelspec": {
   "display_name": "Python 3",
   "language": "python",
   "name": "python3"
  },
  "language_info": {
   "codemirror_mode": {
    "name": "ipython",
    "version": 3
   },
   "file_extension": ".py",
   "mimetype": "text/x-python",
   "name": "python",
   "nbconvert_exporter": "python",
   "pygments_lexer": "ipython3",
   "version": "3.7.3"
  },
  "mimetype": "text/x-python",
  "name": "python",
  "npconvert_exporter": "python",
  "pygments_lexer": "ipython3",
  "version": 3
 },
 "nbformat": 4,
 "nbformat_minor": 2
}
