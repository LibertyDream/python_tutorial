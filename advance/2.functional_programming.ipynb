{
 "cells": [
  {
   "cell_type": "markdown",
   "metadata": {},
   "source": [
    "# Python3入门到精通——函数式编程与装饰器\n",
    "\n",
    "作者： Daniel Meng\n",
    "\n",
    "GitHub： [LibertyDream](https://github.com/LibertyDream)\n",
    "\n",
    "博客：[明月轩](https://libertydream.github.io/)\n",
    "\n",
    "> 本系列教程采用[知识共享署名-非商业性使用-相同方式共享 2.5 中国大陆许可协议](http://creativecommons.org/licenses/by-nc-sa/2.5/cn/)"
   ]
  },
  {
   "cell_type": "markdown",
   "metadata": {},
   "source": [
    "## 匿名函数\n",
    "\n",
    "顾名思义，匿名函数直观上就是省去命名的函数。Python 中通过`lambda`关键字定义匿名函数，格式为\n",
    "\n",
    "```python\n",
    "lambda parameter_list : expression\n",
    "```\n",
    "\n",
    "匿名函数接收的参数列表等同于`func(param)`中的参数列表`param`，区别在于函数体，匿名函数中只能是一些简短的表达式，不能定义、赋值变量，以表达式的计算结果作为返回值\n",
    "\n",
    "匿名函数同样可以作为赋值对象"
   ]
  },
  {
   "cell_type": "code",
   "execution_count": 1,
   "metadata": {},
   "outputs": [],
   "source": [
    "def add(x,y):\n",
    "    return x+y\n",
    "\n",
    "lam_add = lambda x,y: x+y  # 同样可以作为赋值对象"
   ]
  },
  {
   "cell_type": "code",
   "execution_count": 2,
   "metadata": {},
   "outputs": [
    {
     "data": {
      "text/plain": [
       "3"
      ]
     },
     "execution_count": 2,
     "metadata": {},
     "output_type": "execute_result"
    }
   ],
   "source": [
    "add(1,2)"
   ]
  },
  {
   "cell_type": "code",
   "execution_count": 3,
   "metadata": {},
   "outputs": [
    {
     "data": {
      "text/plain": [
       "3"
      ]
     },
     "execution_count": 3,
     "metadata": {},
     "output_type": "execute_result"
    }
   ],
   "source": [
    "lam_add(1,2)"
   ]
  },
  {
   "cell_type": "code",
   "execution_count": 4,
   "metadata": {},
   "outputs": [
    {
     "ename": "SyntaxError",
     "evalue": "can't assign to lambda (<ipython-input-4-0901228abce8>, line 1)",
     "output_type": "error",
     "traceback": [
      "\u001b[1;36m  File \u001b[1;32m\"<ipython-input-4-0901228abce8>\"\u001b[1;36m, line \u001b[1;32m1\u001b[0m\n\u001b[1;33m    lambda x,y: a = x+y  # 不允许赋值，只能写表达式\u001b[0m\n\u001b[1;37m                                       ^\u001b[0m\n\u001b[1;31mSyntaxError\u001b[0m\u001b[1;31m:\u001b[0m can't assign to lambda\n"
     ]
    }
   ],
   "source": [
    "lambda x,y: a = x+y  # 不允许赋值，只能写表达式"
   ]
  },
  {
   "cell_type": "markdown",
   "metadata": {},
   "source": [
    "从定义中可以看出匿名函数的突出特点在于表达式部分，也正因如此，其他语言如 C#，Java 称这种程式为 **lambda 表达式**，匿名函数另有其专门的形式\n",
    "\n",
    "### 三元表达式\n",
    "\n",
    "lambda 表达式里常常会有一种叫做三元运算的操作，形式如下\n",
    "\n",
    "```python\n",
    "true_res if expression else false_res\n",
    "```\n",
    "\n",
    "当`expression`为真时返回`true_res`，反之返回`false_res`。其效果等同于 Java 等其他语言中的三元运算 `expression ? true_res : false_res`\n",
    "\n",
    "别看其中带有`if else`关键字，它可不是条件语句，只是特殊点的表达式"
   ]
  },
  {
   "cell_type": "code",
   "execution_count": 5,
   "metadata": {},
   "outputs": [
    {
     "data": {
      "text/plain": [
       "1"
      ]
     },
     "execution_count": 5,
     "metadata": {},
     "output_type": "execute_result"
    }
   ],
   "source": [
    "1 if 2 < 3 else 0"
   ]
  },
  {
   "cell_type": "markdown",
   "metadata": {},
   "source": [
    "### map\n",
    "\n",
    "另一个常和 lambda 表达式一同出现的是映射（map），注意这是一个类，逻辑等同于数学中的映射，将输入空间进行某些运算投射到输出空间中。map 格式如下\n",
    "\n",
    "```python\n",
    "map(func, *iterables) --> map object\n",
    "```\n",
    "\n",
    "其接收一个函数和可迭代数据结构组成的参数列表，计算结果保存为一个 map 对象并将其返回。代码形式上看，map 相当于简化版本的 for 循环，对每一个元素都进行相同的 `func` 操作"
   ]
  },
  {
   "cell_type": "code",
   "execution_count": 7,
   "metadata": {},
   "outputs": [],
   "source": [
    "def double(x):\n",
    "    return 2*x\n",
    "\n",
    "res = map(double, [1,2,3,4,5])"
   ]
  },
  {
   "cell_type": "markdown",
   "metadata": {},
   "source": [
    "map 对象的内容通过可迭代数据结构初始化后查看"
   ]
  },
  {
   "cell_type": "code",
   "execution_count": 8,
   "metadata": {},
   "outputs": [
    {
     "data": {
      "text/plain": [
       "[2, 4, 6, 8, 10]"
      ]
     },
     "execution_count": 8,
     "metadata": {},
     "output_type": "execute_result"
    }
   ],
   "source": [
    "list(res)"
   ]
  },
  {
   "cell_type": "markdown",
   "metadata": {},
   "source": [
    "有了 map 和 lambda 表达式后，一些简单的运算逻辑就可以很简洁的表达出来，计算效率并不会发生变化。\n",
    "\n",
    "lambda 表达式可以充当 map 中的 `func` 功能，比如上面求取`2*x`的计算逻辑就可以使用下面的方法替代"
   ]
  },
  {
   "cell_type": "code",
   "execution_count": 10,
   "metadata": {},
   "outputs": [
    {
     "data": {
      "text/plain": [
       "[2, 4, 6, 8, 10, 12]"
      ]
     },
     "execution_count": 10,
     "metadata": {},
     "output_type": "execute_result"
    }
   ],
   "source": [
    "input_x = [1,2,3,4,5,6]\n",
    "\n",
    "list(map(lambda x : 2*x, input_x))"
   ]
  },
  {
   "cell_type": "markdown",
   "metadata": {},
   "source": [
    "因为 map 可以接收变长参数列表，所以可以再复杂些，但要注意 **lambda 表达式的参数个数和 map 参数列表长度要相同**"
   ]
  },
  {
   "cell_type": "code",
   "execution_count": 12,
   "metadata": {},
   "outputs": [
    {
     "data": {
      "text/plain": [
       "[3, 6, 9, 12, 15, 18]"
      ]
     },
     "execution_count": 12,
     "metadata": {},
     "output_type": "execute_result"
    }
   ],
   "source": [
    "input_x = [1,2,3,4,5,6]\n",
    "input_y = [1,2,3,4,5,6]\n",
    "\n",
    "list(map(lambda x,y : 2*x + y, input_x, input_y))"
   ]
  },
  {
   "cell_type": "markdown",
   "metadata": {},
   "source": [
    "要留意参数列表中**各参数长度一般要相同**,如果内部元素个数不相同，以元素个数最小的参数为准，即保证运算逻辑成立的最大元素个数"
   ]
  },
  {
   "cell_type": "code",
   "execution_count": 13,
   "metadata": {},
   "outputs": [
    {
     "data": {
      "text/plain": [
       "[3, 6, 9, 12]"
      ]
     },
     "execution_count": 13,
     "metadata": {},
     "output_type": "execute_result"
    }
   ],
   "source": [
    "input_x = [1,2,3,4,5,6]\n",
    "input_y = [1,2,3,4]\n",
    "\n",
    "list(map(lambda x,y : 2*x + y, input_x, input_y))  # 结果只有 4 个值"
   ]
  },
  {
   "cell_type": "code",
   "execution_count": 15,
   "metadata": {},
   "outputs": [
    {
     "data": {
      "text/plain": [
       "[3, 6, 9, 12]"
      ]
     },
     "execution_count": 15,
     "metadata": {},
     "output_type": "execute_result"
    }
   ],
   "source": [
    "input_x = [1,2,3,4]  # 是谁少了无所谓\n",
    "input_y = [1,2,3,4,5,6]\n",
    "\n",
    "list(map(lambda x,y : 2*x + y, input_x, input_y))"
   ]
  },
  {
   "cell_type": "markdown",
   "metadata": {},
   "source": [
    "### reduce\n",
    "\n",
    "lambda 表达式也常和缩减计算(reduce)一起使用，Python 中使用 reduce 要从 `functools` 模块中导入，**reduce 是一个函数**，其格式如下：\n",
    "\n",
    "```python\n",
    "reduce(function, sequence[, initial]) -> value\n",
    "```\n",
    "\n",
    "reduce会从左到右依次从`sequence`中取出两个值进行`function`计算，然后将计算结果作为参数之一和下一个`sequence`元素一起再一次进行`funciton`计算，不断重复直到`sequence`“消耗”完毕，这也是“缩减”的由来。如果指定了`initial`，第一次计算时`initial`会参与计算，也就是说第一次从`sequence`中只取一个值\n",
    "\n",
    "和 lambda 同用时注意因缩减计算每次有两个参数，**lambda 表达式的参数也必须是两个**"
   ]
  },
  {
   "cell_type": "code",
   "execution_count": 18,
   "metadata": {},
   "outputs": [
    {
     "data": {
      "text/plain": [
       "10"
      ]
     },
     "execution_count": 18,
     "metadata": {},
     "output_type": "execute_result"
    }
   ],
   "source": [
    "from functools import reduce\n",
    "\n",
    "input_x = [1,2,3,4]\n",
    "\n",
    "reduce(lambda x,y: x+y, input_x) # 1+2+3+4"
   ]
  },
  {
   "cell_type": "code",
   "execution_count": 21,
   "metadata": {},
   "outputs": [
    {
     "data": {
      "text/plain": [
       "'begin:1234'"
      ]
     },
     "execution_count": 21,
     "metadata": {},
     "output_type": "execute_result"
    }
   ],
   "source": [
    "input_y = ['1','2','3','4']\n",
    "reduce(lambda x,y: x+y, input_y, 'begin:') # 字符串拼接"
   ]
  },
  {
   "cell_type": "markdown",
   "metadata": {},
   "source": [
    "### filter\n",
    "\n",
    "再来看一个常和 lambda 表达式一起使用的兄弟，过滤器 filter，这也是一个类，形式如下：\n",
    "\n",
    "```python\n",
    "filter(function or None, iterable) --> filter object\n",
    "```\n",
    "\n",
    "filter 接收两个参数，一个是过滤判别函数`function`，该函数必须有返回值且返回值能判断真假，另一个是要遍历的数据`iterable`。如果`funciton`为空，保留`iterable`里值为真的内容\n",
    "\n",
    "filter 返回的也是一个对象，所以需要用 list 之类的数据结构获取里面的内容"
   ]
  },
  {
   "cell_type": "code",
   "execution_count": 25,
   "metadata": {},
   "outputs": [
    {
     "data": {
      "text/plain": [
       "[1, 1, 1, 1]"
      ]
     },
     "execution_count": 25,
     "metadata": {},
     "output_type": "execute_result"
    }
   ],
   "source": [
    "input_x = [1,0,1,0,1,0,1]\n",
    "\n",
    "list(filter(None, input_x))  # 1,0 本身就可以代表真与假"
   ]
  },
  {
   "cell_type": "code",
   "execution_count": 26,
   "metadata": {
    "scrolled": true
   },
   "outputs": [
    {
     "data": {
      "text/plain": [
       "[1, 3, 5]"
      ]
     },
     "execution_count": 26,
     "metadata": {},
     "output_type": "execute_result"
    }
   ],
   "source": [
    "input_x = [1,2,3,4,5,6]\n",
    "\n",
    "list(filter(lambda x: x%2, input_x)) # 筛选奇数"
   ]
  },
  {
   "cell_type": "markdown",
   "metadata": {},
   "source": [
    "map, reduce, filter 和 lambda 表达式是函数式编程的特征标识，lambda 表达式更是可以视为最基本的算子。相对的，命令式编程的标志性特征是函数定义 def，if-else 语句以及循环。函数式编程更强调结果而不是过程。\n",
    "\n",
    "函数式编程相较于命令式编程，有以下优点：\n",
    "\n",
    "1. 减少了可变量(Immutable Variable)的声明，程序更加安全\n",
    "2. 少了非常多的状态变量的声明与维护，天然适合并行计算等任务\n",
    "3. 代码更为简洁，可读性更强\n",
    "\n",
    "函数式编程中的函数实质上不是计算机编程概念里的函数，而是数学里的函数，即一种映射关系。也就是说函数输出值只和参数有关，与其他状态无关，只要参数不变，无论调用多少次结果都一样。\n",
    "\n",
    "函数式编程里的变量也不是通常意义上的变量，即状态存储单元，实质是数学里的变量，是一个值的名称，变量值不可变，也就是不能像命令式编程中那样多次赋值。`x = x + 1` 程序中可行是依赖于状态可变，在数学中会被判定为假"
   ]
  },
  {
   "cell_type": "markdown",
   "metadata": {},
   "source": [
    "## 装饰器\n",
    "\n",
    "无论使用哪种编程语言，总免不了对代码的补充、修订和重构，日积月累，人们为了提高开发效率总结出了一些经验和一系列原则。其中有一个很重要的原则——开闭原则，说的是\n",
    "\n",
    "**对象（类，模块，函数等等）应该对于扩展是开放的，但是对于修改是封闭的**\n",
    "\n",
    "就是说当需求变更，不应该直接修改旧有代码内容，而是通过扩展类或者函数功能实现这一目的。比如说下面有若干函数,分别打印`-`，`+`，`*`构成的分割线"
   ]
  },
  {
   "cell_type": "code",
   "execution_count": 1,
   "metadata": {},
   "outputs": [],
   "source": [
    "def line_split():\n",
    "    res = ''\n",
    "    for i in range(1000000):\n",
    "        if i % 100000 == 0:\n",
    "            res += '-'\n",
    "    print(res)\n",
    "    \n",
    "def plus_split():\n",
    "    res = ''\n",
    "    for i in range(1000000):\n",
    "        if i % 100000 == 0:\n",
    "            res += '+'\n",
    "    print(res)\n",
    "\n",
    "def multiple_split():\n",
    "    res = ''\n",
    "    for i in range(1000000):\n",
    "        if i % 100000 == 0:\n",
    "            res += '*'\n",
    "    print(res)"
   ]
  },
  {
   "cell_type": "code",
   "execution_count": 2,
   "metadata": {},
   "outputs": [
    {
     "name": "stdout",
     "output_type": "stream",
     "text": [
      "----------\n"
     ]
    }
   ],
   "source": [
    "line_split()"
   ]
  },
  {
   "cell_type": "code",
   "execution_count": 3,
   "metadata": {},
   "outputs": [
    {
     "name": "stdout",
     "output_type": "stream",
     "text": [
      "++++++++++\n"
     ]
    }
   ],
   "source": [
    "plus_split()"
   ]
  },
  {
   "cell_type": "code",
   "execution_count": 4,
   "metadata": {},
   "outputs": [
    {
     "name": "stdout",
     "output_type": "stream",
     "text": [
      "**********\n"
     ]
    }
   ],
   "source": [
    "multiple_split()"
   ]
  },
  {
   "cell_type": "markdown",
   "metadata": {},
   "source": [
    "突然我们有了新的需求，要求输出这些函数的运行时长。一个直观的想法是逐个添加功能代码"
   ]
  },
  {
   "cell_type": "code",
   "execution_count": null,
   "metadata": {},
   "outputs": [],
   "source": [
    "from time import time\n",
    "\n",
    "def bad_change():  # 违反开闭原则\n",
    "    start = time()\n",
    "    res = ''\n",
    "    for i in range(1000000):\n",
    "        if i % 100000 == 0:\n",
    "            res += '-'\n",
    "    end = time()\n",
    "    print(res)\n",
    "    print(start - end)"
   ]
  },
  {
   "cell_type": "markdown",
   "metadata": {},
   "source": [
    "这样直接修改旧有函数内容违反了开闭原则。因为只是一两个函数进行简单的修改或许看不出，但当很多函数都要增加这一功能，之后又要撤销这个功能，都要像这样直接修改内部内容不仅繁琐且容易出错。\n",
    "\n",
    "稍好些的设计是重新设计一个函数，专门负责运行时间的计算"
   ]
  },
  {
   "cell_type": "code",
   "execution_count": 15,
   "metadata": {},
   "outputs": [],
   "source": [
    "import time\n",
    "\n",
    "def time_cost(function): # 虽然实现了功能拓展，但也将功能分离了\n",
    "    start = time.time()\n",
    "    function()\n",
    "    end = time.time()\n",
    "    print('time costs: %.3fs'% (end - start))"
   ]
  },
  {
   "cell_type": "code",
   "execution_count": 16,
   "metadata": {
    "scrolled": true
   },
   "outputs": [
    {
     "name": "stdout",
     "output_type": "stream",
     "text": [
      "----------\n",
      "time costs: 0.102s\n"
     ]
    }
   ],
   "source": [
    "time_cost(line_split)"
   ]
  },
  {
   "cell_type": "code",
   "execution_count": 17,
   "metadata": {},
   "outputs": [
    {
     "name": "stdout",
     "output_type": "stream",
     "text": [
      "++++++++++\n",
      "time costs: 0.086s\n"
     ]
    }
   ],
   "source": [
    "time_cost(plus_split)"
   ]
  },
  {
   "cell_type": "code",
   "execution_count": 18,
   "metadata": {},
   "outputs": [
    {
     "name": "stdout",
     "output_type": "stream",
     "text": [
      "**********\n",
      "time costs: 0.090s\n"
     ]
    }
   ],
   "source": [
    "time_cost(multiple_split)"
   ]
  },
  {
   "cell_type": "markdown",
   "metadata": {},
   "source": [
    "这样我们就实现了功能的便捷拓展，但却将功能分离了，我们的本意是让原有函数本身具备这样一种功能，而不是将这种功能外包给其他函数。\n",
    "\n",
    "这时就要用到**装饰器**了，Python 的装饰器类似于 C# 的特性，Java 的注解。装饰器一般结构定义如下\n",
    "\n",
    "```python\n",
    "def decorator(function):\n",
    "    def wrapper():\n",
    "        function()\n",
    "    return wrapper\n",
    "```\n",
    "\n",
    "`wrapper`实现了对`function`的扩展并被`decorator`返回。通过与语法糖的配合实现**既拓展功能，又不分离功能**，语法糖使用方法如下\n",
    "\n",
    "```python\n",
    "@decorator\n",
    "def function():\n",
    "    pass\n",
    "```"
   ]
  },
  {
   "cell_type": "code",
   "execution_count": 19,
   "metadata": {},
   "outputs": [],
   "source": [
    "from time import time\n",
    "\n",
    "def time_out(function):\n",
    "    def wrapper():\n",
    "        start = time()\n",
    "        function()\n",
    "        end = time()\n",
    "        print('time costs: %.6f' % (end - start))\n",
    "    return wrapper\n",
    "\n",
    "@time_out  # 就像加了一个挂件一样\n",
    "def line_split():\n",
    "    res = ''\n",
    "    for i in range(1000000):\n",
    "        if i % 100000 == 0:\n",
    "            res += '-'\n",
    "    print(res)\n",
    "    \n",
    "@time_out\n",
    "def plus_split():\n",
    "    res = ''\n",
    "    for i in range(1000000):\n",
    "        if i % 100000 == 0:\n",
    "            res += '+'\n",
    "    print(res)\n",
    "\n",
    "@time_out\n",
    "def multiple_split():\n",
    "    res = ''\n",
    "    for i in range(1000000):\n",
    "        if i % 100000 == 0:\n",
    "            res += '*'\n",
    "    print(res)"
   ]
  },
  {
   "cell_type": "code",
   "execution_count": 20,
   "metadata": {},
   "outputs": [
    {
     "name": "stdout",
     "output_type": "stream",
     "text": [
      "----------\n",
      "time costs: 0.170900\n"
     ]
    }
   ],
   "source": [
    "line_split()"
   ]
  },
  {
   "cell_type": "code",
   "execution_count": 21,
   "metadata": {},
   "outputs": [
    {
     "name": "stdout",
     "output_type": "stream",
     "text": [
      "**********\n",
      "time costs: 0.090946\n"
     ]
    }
   ],
   "source": [
    "multiple_split()"
   ]
  },
  {
   "cell_type": "code",
   "execution_count": 22,
   "metadata": {},
   "outputs": [
    {
     "name": "stdout",
     "output_type": "stream",
     "text": [
      "++++++++++\n",
      "time costs: 0.168902\n"
     ]
    }
   ],
   "source": [
    "plus_split()"
   ]
  },
  {
   "cell_type": "markdown",
   "metadata": {},
   "source": [
    "通过装饰器我们既扩展了功能，同时调用方式也没有发生变化。语法糖保证了易读性。\n",
    "\n",
    "但还有一些疏漏，这些分隔符函数不用接收参数。当原函数参数列表不为空时，装饰器通过给`wrapper`传入可变参数列表`*args`进行匹配"
   ]
  },
  {
   "cell_type": "code",
   "execution_count": 30,
   "metadata": {},
   "outputs": [],
   "source": [
    "from time import time\n",
    "\n",
    "def time_out(function):\n",
    "    def wrapper(*args):  # 接收可变参数\n",
    "        start = time()\n",
    "        function(*args)\n",
    "        end = time()\n",
    "        print('time costs: %.6f' % (end - start))\n",
    "    return wrapper\n",
    "\n",
    "@time_out  # 不用因参数个数不同而重新定义新的装饰器\n",
    "def char_split(char):\n",
    "    res = ''+char\n",
    "    for i in range(1000000):\n",
    "        if i % 100000 == 0:\n",
    "            res += char\n",
    "    print(res)\n",
    "    \n",
    "@time_out\n",
    "def chars_split(char_one, char_two):\n",
    "    res = ''\n",
    "    for i in range(1000000):\n",
    "        if i % 200000 == 0:\n",
    "            res += char_one\n",
    "        elif i % 100000 == 0:\n",
    "            res += char_two\n",
    "    print(res)"
   ]
  },
  {
   "cell_type": "code",
   "execution_count": 31,
   "metadata": {},
   "outputs": [
    {
     "name": "stdout",
     "output_type": "stream",
     "text": [
      "aaaaaaaaaaa\n",
      "time costs: 0.102925\n"
     ]
    }
   ],
   "source": [
    "char_split('a')"
   ]
  },
  {
   "cell_type": "code",
   "execution_count": 33,
   "metadata": {},
   "outputs": [
    {
     "name": "stdout",
     "output_type": "stream",
     "text": [
      "ababababab\n",
      "time costs: 0.167900\n"
     ]
    }
   ],
   "source": [
    "chars_split('a', 'b')"
   ]
  },
  {
   "cell_type": "markdown",
   "metadata": {},
   "source": [
    "再进一步，如果不只是参数数量不定，可能还有关键字参数，于是得到了最常见的装饰器形态\n",
    "\n",
    "```python\n",
    "def decorator(function):\n",
    "    def wrapper(*args, **kw):\n",
    "        function(*args, **kw)\n",
    "    return wrapper\n",
    "```"
   ]
  },
  {
   "cell_type": "code",
   "execution_count": 34,
   "metadata": {},
   "outputs": [],
   "source": [
    "from time import time\n",
    "\n",
    "def time_out(function):\n",
    "    def wrapper(*args, **kw):  # 接收可变参数，关键字参数，可以应对任意形式的参数列表\n",
    "        start = time()\n",
    "        function(*args, **kw)\n",
    "        end = time()\n",
    "        print('time costs: %.6f' % (end - start))\n",
    "    return wrapper"
   ]
  },
  {
   "cell_type": "code",
   "execution_count": 37,
   "metadata": {},
   "outputs": [],
   "source": [
    "@time_out\n",
    "def note_char_split(char_one, char_two, **kw): \n",
    "    res = ''\n",
    "    for i in range(1000000):\n",
    "        if i % 200000 == 0:\n",
    "            res += char_one\n",
    "        elif i % 100000 == 0:\n",
    "            res += char_two\n",
    "    res += '\\n' + str(kw)\n",
    "    print(res)"
   ]
  },
  {
   "cell_type": "code",
   "execution_count": 38,
   "metadata": {
    "scrolled": true
   },
   "outputs": [
    {
     "name": "stdout",
     "output_type": "stream",
     "text": [
      "-|-|-|-|-|\n",
      "{'chars_type': 'str', 'chars_num': 2}\n",
      "time costs: 0.168899\n"
     ]
    }
   ],
   "source": [
    "note_char_split('-','|', chars_type='str', chars_num=2)"
   ]
  },
  {
   "cell_type": "markdown",
   "metadata": {},
   "source": [
    "此外，每个函数不止可以接受一个装饰器\n",
    "\n",
    "```python\n",
    "@decorator_1\n",
    "@decorator_2\n",
    "def function():\n",
    "    pass\n",
    "```"
   ]
  }
 ],
 "metadata": {
  "kernelspec": {
   "display_name": "Python37",
   "language": "python",
   "name": "python37"
  },
  "language_info": {
   "codemirror_mode": {
    "name": "ipython",
    "version": 3
   },
   "file_extension": ".py",
   "mimetype": "text/x-python",
   "name": "python",
   "nbconvert_exporter": "python",
   "pygments_lexer": "ipython3",
   "version": "3.7.4"
  }
 },
 "nbformat": 4,
 "nbformat_minor": 2
}
