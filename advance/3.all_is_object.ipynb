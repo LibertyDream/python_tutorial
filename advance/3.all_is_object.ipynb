{
 "cells": [
  {
   "cell_type": "markdown",
   "metadata": {},
   "source": [
    "# Python3入门到精通——一切皆对象与魔法函数\n",
    "\n",
    "作者： Daniel Meng\n",
    "\n",
    "GitHub： [LibertyDream](https://github.com/LibertyDream)\n",
    "\n",
    "博客：[明月轩](https://libertydream.github.io/)\n",
    "\n",
    "> 本系列教程采用[知识共享署名-非商业性使用-相同方式共享 2.5 中国大陆许可协议](http://creativecommons.org/licenses/by-nc-sa/2.5/cn/)"
   ]
  },
  {
   "cell_type": "markdown",
   "metadata": {},
   "source": [
    "Java 有类（class）和对象（object）的分别，函数、方法更是独一档。但在 Python 中，对不起，即使是包、模块，它们都是对象，**Python 比 Java 在对象化上更彻底**，这是其一。\n",
    "\n",
    "其二，既然都是对象，那么函数、类就可以当作对象使用，主要有四点：\n",
    "\n",
    "1. 能赋值给变量"
   ]
  },
  {
   "cell_type": "code",
   "execution_count": 1,
   "metadata": {},
   "outputs": [
    {
     "name": "stdout",
     "output_type": "stream",
     "text": [
      "call me Daniel Meng\n"
     ]
    }
   ],
   "source": [
    "def obj_func(name):\n",
    "    print('call me %s' % name)\n",
    "\n",
    "var_obj = obj_func\n",
    "var_obj('Daniel Meng')"
   ]
  },
  {
   "cell_type": "code",
   "execution_count": 2,
   "metadata": {},
   "outputs": [
    {
     "name": "stdout",
     "output_type": "stream",
     "text": [
      "I am Daniel Meng\n"
     ]
    },
    {
     "data": {
      "text/plain": [
       "<__main__.Obj_Class at 0x1967c314550>"
      ]
     },
     "execution_count": 2,
     "metadata": {},
     "output_type": "execute_result"
    }
   ],
   "source": [
    "class Obj_Class(object):\n",
    "\n",
    "    def __init__(self, name):\n",
    "        print('I am %s' % name)\n",
    "\n",
    "class_var_obj = Obj_Class\n",
    "class_var_obj('Daniel Meng')"
   ]
  },
  {
   "cell_type": "markdown",
   "metadata": {},
   "source": [
    "2. 可以添加到集合对象中"
   ]
  },
  {
   "cell_type": "code",
   "execution_count": 3,
   "metadata": {},
   "outputs": [
    {
     "data": {
      "text/plain": [
       "['a', __main__.Obj_Class, <function __main__.obj_func(name)>]"
      ]
     },
     "execution_count": 3,
     "metadata": {},
     "output_type": "execute_result"
    }
   ],
   "source": [
    "obj_lst = ['a', class_var_obj, var_obj]\n",
    "obj_lst"
   ]
  },
  {
   "cell_type": "markdown",
   "metadata": {},
   "source": [
    "3. 可以当作参数传给函数"
   ]
  },
  {
   "cell_type": "code",
   "execution_count": 4,
   "metadata": {},
   "outputs": [
    {
     "name": "stdout",
     "output_type": "stream",
     "text": [
      "call me Daniel Meng\n"
     ]
    }
   ],
   "source": [
    "def another_call_me(some_func, name):\n",
    "    some_func(name)\n",
    "\n",
    "another_call_me(obj_func, 'Daniel Meng')"
   ]
  },
  {
   "cell_type": "markdown",
   "metadata": {},
   "source": [
    "4. 可以作为函数返回值"
   ]
  },
  {
   "cell_type": "code",
   "execution_count": 5,
   "metadata": {},
   "outputs": [
    {
     "name": "stdout",
     "output_type": "stream",
     "text": [
      "Don't call me Daniel Meng\n"
     ]
    }
   ],
   "source": [
    "def out_func(name):\n",
    "    local_name = name\n",
    "    def inner_func():\n",
    "        print(\"Don't call me %s\" % local_name)\n",
    "    return inner_func\n",
    "\n",
    "var_obj = out_func('Daniel Meng')\n",
    "var_obj()"
   ]
  },
  {
   "cell_type": "markdown",
   "metadata": {},
   "source": [
    "## type、object 和 class 的关系\n",
    "\n",
    "![](https://raw.githubusercontent.com/LibertyDream/diy_img_host/master/img/2020-02-10_obj_type_class.png)\n",
    "\n",
    "`type`生成`class`，包括基础的`str`,`list`以及我们创建的类，所有类都有基类，顶级基类`object`是例外，其基类为空，`type`继承自`object`，`object`是`type`的一个实例，`type`作为一个对象，是自己创建了自己（指向自身的指针）"
   ]
  },
  {
   "cell_type": "code",
   "execution_count": 6,
   "metadata": {},
   "outputs": [
    {
     "data": {
      "text/plain": [
       "str"
      ]
     },
     "execution_count": 6,
     "metadata": {},
     "output_type": "execute_result"
    }
   ],
   "source": [
    "str_obj = 'abc'\n",
    "type(str_obj)"
   ]
  },
  {
   "cell_type": "code",
   "execution_count": 7,
   "metadata": {},
   "outputs": [
    {
     "data": {
      "text/plain": [
       "type"
      ]
     },
     "execution_count": 7,
     "metadata": {},
     "output_type": "execute_result"
    }
   ],
   "source": [
    "type(str)"
   ]
  },
  {
   "cell_type": "code",
   "execution_count": 8,
   "metadata": {},
   "outputs": [
    {
     "data": {
      "text/plain": [
       "__main__.MyClass"
      ]
     },
     "execution_count": 8,
     "metadata": {},
     "output_type": "execute_result"
    }
   ],
   "source": [
    "class MyClass:\n",
    "    pass\n",
    "\n",
    "class_obj = MyClass()\n",
    "type(class_obj)"
   ]
  },
  {
   "cell_type": "code",
   "execution_count": 9,
   "metadata": {},
   "outputs": [
    {
     "data": {
      "text/plain": [
       "type"
      ]
     },
     "execution_count": 9,
     "metadata": {},
     "output_type": "execute_result"
    }
   ],
   "source": [
    "type(MyClass)"
   ]
  },
  {
   "cell_type": "code",
   "execution_count": 10,
   "metadata": {},
   "outputs": [
    {
     "data": {
      "text/plain": [
       "type"
      ]
     },
     "execution_count": 10,
     "metadata": {},
     "output_type": "execute_result"
    }
   ],
   "source": [
    "type(type) # 指向自己的指针，自己创建自己"
   ]
  },
  {
   "cell_type": "code",
   "execution_count": 11,
   "metadata": {},
   "outputs": [
    {
     "name": "stdout",
     "output_type": "stream",
     "text": [
      "str 父类：<class 'object'>\n",
      "MyClass 父类：<class 'object'>\n",
      "type 父类：<class 'object'>\n"
     ]
    }
   ],
   "source": [
    "print('str 父类：%s' % str.__base__)\n",
    "print('MyClass 父类：%s' % MyClass.__base__)\n",
    "print('type 父类：%s' % type.__base__)"
   ]
  },
  {
   "cell_type": "markdown",
   "metadata": {},
   "source": [
    "## 回头看常见内置类型\n",
    "\n",
    "Python 中一切皆对象，这里回顾一下对象的三个基本特征——类型（`type`），身份（`id`）和值"
   ]
  },
  {
   "cell_type": "code",
   "execution_count": 12,
   "metadata": {},
   "outputs": [],
   "source": [
    "name = 'Daniel Meng' # 赋值"
   ]
  },
  {
   "cell_type": "code",
   "execution_count": 13,
   "metadata": {},
   "outputs": [
    {
     "data": {
      "text/plain": [
       "str"
      ]
     },
     "execution_count": 13,
     "metadata": {},
     "output_type": "execute_result"
    }
   ],
   "source": [
    "type(name) # 类型是字符串"
   ]
  },
  {
   "cell_type": "code",
   "execution_count": 14,
   "metadata": {},
   "outputs": [
    {
     "data": {
      "text/plain": [
       "1745840344304"
      ]
     },
     "execution_count": 14,
     "metadata": {},
     "output_type": "execute_result"
    }
   ],
   "source": [
    "id(name) # 指向内存位置的编号"
   ]
  },
  {
   "cell_type": "markdown",
   "metadata": {},
   "source": [
    "从对象角度，会发现 Python 中的内置类型比已知和想象中的要丰富的多。\n",
    "\n",
    "- None（全局唯一）\n",
    "- 数值类型\n",
    "    - int\n",
    "    - float\n",
    "    - complex\n",
    "    - bool\n",
    "- 迭代类型\n",
    "- 序列类型（可迭代）\n",
    "    - list\n",
    "    - array\n",
    "    - range\n",
    "    - tuple\n",
    "    - str\n",
    "    - bytes,memoryview\n",
    "- 映射（dict)\n",
    "- 集合\n",
    "    - set\n",
    "    - frozenset\n",
    "- 上下文管理类型（with）\n",
    "- 其他\n",
    "    - 模块\n",
    "    - class 和实例\n",
    "    - 函数\n",
    "    - 方法\n",
    "    - 代码（没错，代码也会变成对象>_<）\n",
    "    - object\n",
    "    - type\n",
    "    - ellipsis\n",
    "    - notimplemented"
   ]
  },
  {
   "cell_type": "markdown",
   "metadata": {},
   "source": [
    "# 魔法函数\n",
    "\n",
    "Python 中的魔法函数格式为`__FunctionName__`，前后双下滑线，中间函数名。魔法函数是 Python 内部定义好的，用于增强函数、类的功能且独立于二者"
   ]
  },
  {
   "cell_type": "code",
   "execution_count": 15,
   "metadata": {},
   "outputs": [],
   "source": [
    "class Class(object):\n",
    "\n",
    "    def __init__(self, student_lst):  # 魔法函数，初始化对象\n",
    "        self.student_lst = student_lst\n",
    "\n",
    "    def __getitem__(self,item):  # 魔法函数，尝试一次访问 0，1，2…… 号成员\n",
    "        return self.student_lst[item]"
   ]
  },
  {
   "cell_type": "code",
   "execution_count": 16,
   "metadata": {},
   "outputs": [
    {
     "name": "stdout",
     "output_type": "stream",
     "text": [
      "Tom\n",
      "Jerry\n",
      "Mark\n"
     ]
    }
   ],
   "source": [
    "demo_class = Class(['Tom','Jerry','Mark'])\n",
    "\n",
    "for stu in demo_class:\n",
    "    print(stu)"
   ]
  },
  {
   "cell_type": "markdown",
   "metadata": {},
   "source": [
    "正是通过各种各样的魔法函数以及魔法函数的组合、嵌套，Python 才能灵活构建出行为表现各异的数据模型。相应的，如果想要对象具有某种特性，比如可迭代，可获取长度，都要事先实现某些魔法函数才行\n",
    "\n",
    "Python 中的魔法函数大体归类如下\n",
    "\n",
    "- 数学运算型\n",
    "    - 一元运算\n",
    "    - 二元运算\n",
    "    - 算术运算\n",
    "    - 反向运算\n",
    "    - 增量赋值运算\n",
    "    - 位运算\n",
    "    - 反向位运算\n",
    "    - 增量位运算\n",
    "- 非数学运算型\n",
    "    - 字符串表示\n",
    "    - 集合、序列相关\n",
    "    - 迭代相关\n",
    "    - 可调用\n",
    "    - with 上下文管理器\n",
    "    - 数值转换\n",
    "    - 元类相关\n",
    "    - 属性相关\n",
    "    - 属性描述符\n",
    "    - 协程\n",
    "\n",
    "具体内容涉及到相关章节时会细谈，下面列出了部分重要的魔法函数及相关说明\n",
    "\n",
    "| Initialization and Construction | Description                                 |\n",
    "| ------------------------------- | ------------------------------------------- |\n",
    "| \\__new__(cls, other)            | To get called in an object's instantiation. |\n",
    "| \\__init__(self, other)          | To get called by the \\__new__ method.       |\n",
    "| \\__del__(self)                  | Destructor method.                          |\n",
    "\n",
    "| Unary operators and functions | Description                                        |\n",
    "| ----------------------------- | -------------------------------------------------- |\n",
    "| \\__pos__(self)                | To get called for unary positive e.g. +someobject. |\n",
    "| \\__neg__(self)                | To get called for unary negative e.g. -someobject. |\n",
    "| \\__abs__(self)                | To get called by built-in abs() function.          |\n",
    "| \\__invert__(self)             | To get called for inversion using the ~ operator.  |\n",
    "| \\__round__(self,n)            | To get called by built-in round() function.        |\n",
    "| \\__floor__(self)              | To get called by built-in math.floor() function.   |\n",
    "| \\__ceil__(self)               | To get called by built-in math.ceil() function.    |\n",
    "| \\__trunc__(self)              | To get called by built-in math.trunc() function.   |\n",
    "\n",
    "| Augmented Assignment        | Description                                                  |\n",
    "| --------------------------- | ------------------------------------------------------------ |\n",
    "| \\__iadd__(self, other)      | To get called on addition with assignment e.g. a +=b.        |\n",
    "| \\__isub__(self, other)      | To get called on subtraction with assignment e.g. a -=b.     |\n",
    "| \\__imul__(self, other)      | To get called on multiplication with assignment e.g. a *=b.  |\n",
    "| \\__ifloordiv__(self, other) | To get called on integer division with assignment e.g. a //=b. |\n",
    "| \\__idiv__(self, other)      | To get called on division with assignment e.g. a /=b.        |\n",
    "| \\__itruediv__(self, other)  | To get called on true division with assignment               |\n",
    "| \\__imod__(self, other)      | To get called on modulo with assignment e.g. a%=b.           |\n",
    "| \\__ipow__(self, other)      | To get called on exponentswith assignment e.g. a **=b.       |\n",
    "| \\__ilshift__(self, other)   | To get called on left bitwise shift with assignment e.g. a<<=b. |\n",
    "| \\__irshift__(self, other)   | To get called on right bitwise shift with assignment e.g. a >>=b. |\n",
    "| \\__iand__(self, other)      | To get called on bitwise AND with assignment e.g. a&=b.      |\n",
    "| \\__ior__(self, other)       | To get called on bitwise OR with assignment e.g. a\\|=b.      |\n",
    "| \\__ixor__(self, other)      | To get called on bitwise XOR with assignment e.g. a ^=b.     |\n",
    "\n",
    "| Type Conversion Magic Methods | Description                                                  |\n",
    "| ----------------------------- | ------------------------------------------------------------ |\n",
    "| \\__int__(self)                | To get called by built-int int() method to convert a type to an int. |\n",
    "| \\__float__(self)              | To get called by built-int float() method to convert a type to float. |\n",
    "| \\__complex__(self)            | To get called by built-int complex() method to convert a type to complex. |\n",
    "| \\__oct__(self)                | To get called by built-int oct() method to convert a type to octal. |\n",
    "| \\__hex__(self)                | To get called by built-int hex() method to convert a type to hexadecimal. |\n",
    "| \\__index__(self)              | To get called on type conversion to an int when the object is used in a slice expression. |\n",
    "| \\__trunc__(self)              | To get called from math.trunc() method.                      |\n",
    "\n",
    "| String Magic Methods         | Description                                                  |\n",
    "| ---------------------------- | ------------------------------------------------------------ |\n",
    "| \\__str__(self)               | To get called by built-int str() method to return a string representation of a type. |\n",
    "| \\__repr__(self)              | To get called by built-int repr() method to return a machine readable representation of a type. |\n",
    "| \\__unicode__(self)           | To get called by built-int unicode() method to return an unicode string of a type. |\n",
    "| \\__format__(self, formatstr) | To get called by built-int string.format() method to return a new style of string. |\n",
    "| \\__hash__(self)              | To get called by built-int hash() method to return an integer. |\n",
    "| \\__nonzero__(self)           | To get called by built-int bool() method to return True or False. |\n",
    "| \\__dir__(self)               | To get called by built-int dir() method to return a list of attributes of a class. |\n",
    "| \\__sizeof__(self)            | To get called by built-int sys.getsizeof() method to return the size of an object. |\n",
    "\n",
    "| Attribute Magic Methods         | Description                                                  |\n",
    "| ------------------------------- | ------------------------------------------------------------ |\n",
    "| \\__getattr__(self, name)        | Is called when the accessing attribute of a class that does not exist. |\n",
    "| \\__setattr__(self, name, value) | Is called when assigning a value to the attribute of a class. |\n",
    "| \\__delattr__(self, name)        | Is called when deleting an attribute of a class.             |\n",
    "\n",
    "| Operator Magic Methods          | Description                                                  |\n",
    "| ------------------------------- | ------------------------------------------------------------ |\n",
    "| \\__add__(self, other)           | To get called on add operation using + operator              |\n",
    "| \\__sub__(self, other)           | To get called on subtraction operation using - operator.     |\n",
    "| \\__mul__(self, other)           | To get called on multiplication operation using * operator.  |\n",
    "| \\__floordiv__(self, other)      | To get called on floor division operation using // operator. |\n",
    "| \\__div__(self, other)           | To get called on division operation using / operator.        |\n",
    "| \\__mod__(self, other)           | To get called on modulo operation using % operator.          |\n",
    "| \\__pow__(self, other\\[, modulo]) | To get called on calculating the power using ** operator.    |\n",
    "| \\__lt__(self, other)            | To get called on comparison using < operator.                |\n",
    "| \\__le__(self, other)            | To get called on comparison using <= operator.               |\n",
    "| \\__eq__(self, other)            | To get called on comparison using == operator.               |\n",
    "| \\__ne__(self, other)            | To get called on comparison using != operator.               |\n",
    "| \\__ge__(self, other)            | To get called on comparison using >= operator.               |"
   ]
  },
  {
   "cell_type": "markdown",
   "metadata": {},
   "source": [
    "理解魔法函数，对于写出高性能 Python 程序有巨大帮助。比如说对字符串的两个魔法函数`__str__`，`__repr__`。前者是对象字符串格式化时调用的，后者是开发环境下调用的"
   ]
  },
  {
   "cell_type": "code",
   "execution_count": 17,
   "metadata": {},
   "outputs": [],
   "source": [
    "class StrClass(object):\n",
    "    def __init__(self, strings):\n",
    "        self.str = strings\n",
    "\n",
    "    def __str__(self):\n",
    "        return ','.join(self.str)\n",
    "\n",
    "    def __repr__(self):\n",
    "        return '_'.join(self.str)\n",
    "\n",
    "sample_str = StrClass(['am','is','are'])"
   ]
  },
  {
   "cell_type": "code",
   "execution_count": 18,
   "metadata": {},
   "outputs": [
    {
     "data": {
      "text/plain": [
       "am_is_are"
      ]
     },
     "execution_count": 18,
     "metadata": {},
     "output_type": "execute_result"
    }
   ],
   "source": [
    "sample_str  # 调用 obj.__repr__()，一般开发环境下终端上不会有输出结果"
   ]
  },
  {
   "cell_type": "code",
   "execution_count": 19,
   "metadata": {},
   "outputs": [
    {
     "name": "stdout",
     "output_type": "stream",
     "text": [
      "am,is,are\n"
     ]
    }
   ],
   "source": [
    "print(sample_str)  # 调用 obj.__str__()"
   ]
  },
  {
   "cell_type": "markdown",
   "metadata": {},
   "source": [
    "再比如`__len__`，当我们使用`len()`方法时，会自动寻找对象下的`__len__`。但对于原生内置类型 list、set 等，因为是用 C 实现的，运行时 Cpython 解释器会取巧直接访问 C 程序中内部维护的变量值，从而实现高效访问"
   ]
  }
 ],
 "metadata": {
  "file_extension": ".py",
  "kernelspec": {
   "display_name": "Python 3.7.3 64-bit ('base': conda)",
   "language": "python",
   "name": "python37364bitbaseconda1352242ab2324fd7b4ed96af63682f18"
  },
  "language_info": {
   "codemirror_mode": {
    "name": "ipython",
    "version": 3
   },
   "file_extension": ".py",
   "mimetype": "text/x-python",
   "name": "python",
   "nbconvert_exporter": "python",
   "pygments_lexer": "ipython3",
   "version": "3.7.3"
  },
  "mimetype": "text/x-python",
  "name": "python",
  "npconvert_exporter": "python",
  "pygments_lexer": "ipython3",
  "version": 3
 },
 "nbformat": 4,
 "nbformat_minor": 2
}
