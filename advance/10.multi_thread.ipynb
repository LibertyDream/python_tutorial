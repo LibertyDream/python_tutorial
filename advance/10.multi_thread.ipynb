{
 "cells": [
  {
   "cell_type": "markdown",
   "metadata": {},
   "source": [
    "# Python3入门到精通——多线程与多进程\n",
    "\n",
    "作者： Daniel Meng\n",
    "\n",
    "GitHub： [LibertyDream](https://github.com/LibertyDream)\n",
    "\n",
    "博客：[明月轩](https://libertydream.github.io/)\n",
    "\n",
    "> 本系列教程采用[知识共享署名-非商业性使用-相同方式共享 2.5 中国大陆许可协议](http://creativecommons.org/licenses/by-nc-sa/2.5/cn/)"
   ]
  },
  {
   "cell_type": "markdown",
   "metadata": {},
   "source": [
    "# GIL\n",
    "\n",
    "Python 中的一个线程对应 C 里的一个线程，线程间协作免不了锁机制。而 Python 被人说的最多的锁莫过于全局解释器锁(GIL, Global Interpreter Lock) ，它导致同一时刻只有一个线程在 CPU 内核上执行字节码，无法将多线程映射到多核上执行\n",
    "\n",
    "但在某些情况下，GIL 会主动释放"
   ]
  },
  {
   "cell_type": "code",
   "execution_count": 1,
   "metadata": {},
   "outputs": [],
   "source": [
    "import threading\n",
    "test_res = []"
   ]
  },
  {
   "cell_type": "code",
   "execution_count": 6,
   "metadata": {},
   "outputs": [],
   "source": [
    "total = 0\n",
    "\n",
    "def add():\n",
    "    global total\n",
    "    for i in range(1000000):\n",
    "        total += 1\n",
    "\n",
    "def desc():\n",
    "    global total\n",
    "    for i in range(1000000):\n",
    "        total -= 1\n",
    "\n",
    "thread_one = threading.Thread(target=add)\n",
    "thread_two = threading.Thread(target=desc)\n",
    "thread_one.start()\n",
    "thread_two.start()\n",
    "thread_one.join()\n",
    "thread_two.join()\n",
    "\n",
    "test_res.append(total)"
   ]
  },
  {
   "cell_type": "markdown",
   "metadata": {},
   "source": [
    "执行四次上述代码"
   ]
  },
  {
   "cell_type": "code",
   "execution_count": 7,
   "metadata": {},
   "outputs": [
    {
     "data": {
      "text/plain": [
       "[-559567, -278363, -624265, -332884]"
      ]
     },
     "execution_count": 7,
     "metadata": {},
     "output_type": "execute_result"
    }
   ],
   "source": [
    "test_res"
   ]
  },
  {
   "cell_type": "markdown",
   "metadata": {},
   "source": [
    "发现结果不定。这是因为 GIL 会根据字节码长度和时间片释放 GIL，此外遇到 IO 操作时也会 GIL 也会被主动释放掉\n",
    "\n",
    "# 多线程编程\n",
    "\n",
    "进程是计算机资源的分配单位，线程构成进程并共享进程分得的资源，线程是操作系统任务调度的最小单位。对于 I/O 操作来讲，多进程还是多线程差别不大。\n",
    "\n",
    "Python 中线程相关的模块是 `threading`，多线程编程常见两种方式，其一是直接使用 `threading.Thread` 实例化线程"
   ]
  },
  {
   "cell_type": "code",
   "execution_count": 8,
   "metadata": {},
   "outputs": [],
   "source": [
    "import time\n",
    "from threading import Thread"
   ]
  },
  {
   "cell_type": "code",
   "execution_count": 9,
   "metadata": {},
   "outputs": [],
   "source": [
    "def get_html(url):\n",
    "    print('Start getting html')\n",
    "    time.sleep(2)\n",
    "    print('End  getting html')\n",
    "\n",
    "def get_detail(url):\n",
    "    print('Start getting url')\n",
    "    time.sleep(4)\n",
    "    print('End  getting url')\n",
    "\n",
    "html_thread = Thread(target=get_html, args=('',))\n",
    "detail_thread = Thread(target=get_detail, args=('',))"
   ]
  },
  {
   "cell_type": "markdown",
   "metadata": {},
   "source": [
    "这里模拟爬虫定义两个方法，分别爬取 html 和页面详情信息。`Thread` 实例化时通过 `target` 指定线程要执行的任务，注意传的是方法名。运行参数以元组方式传给 `args` "
   ]
  },
  {
   "cell_type": "code",
   "execution_count": 10,
   "metadata": {},
   "outputs": [
    {
     "name": "stdout",
     "output_type": "stream",
     "text": [
      "Start getting html\n",
      "Start getting urlCost time:0.022986173629760742\n",
      "\n"
     ]
    }
   ],
   "source": [
    "start_time = time.time()\n",
    "\n",
    "html_thread.setDaemon(True)\n",
    "detail_thread.setDaemon(True)\n",
    "html_thread.start()\n",
    "detail_thread.start()\n",
    "\n",
    "print('Cost time:{}'.format(time.time() - start_time))"
   ]
  },
  {
   "cell_type": "markdown",
   "metadata": {},
   "source": [
    "通过 `setDaemon` 将线程设为守护线程，当主线程结束时随之结束。同时可以看到任务开始后，因为线程并行，输出内容有一部分发生了重合，想要保证次序可以使用 `thread.join()` 方法进行阻塞。保证线程执行完毕后主线程才继续执行"
   ]
  },
  {
   "cell_type": "code",
   "execution_count": 11,
   "metadata": {},
   "outputs": [
    {
     "name": "stdout",
     "output_type": "stream",
     "text": [
      "Start getting html\n",
      "Start getting url\n",
      "End  getting html\n",
      "End  getting url\n",
      "Cost time:4.019838809967041\n"
     ]
    }
   ],
   "source": [
    "start_time = time.time()\n",
    "\n",
    "html_join_thread = Thread(target=get_html, args=('',))\n",
    "detail_join_thread = Thread(target=get_detail, args=('',))\n",
    "html_join_thread.start()\n",
    "detail_join_thread.start()\n",
    "\n",
    "html_join_thread.join()\n",
    "detail_join_thread.join()\n",
    "\n",
    "print('Cost time:{}'.format(time.time() - start_time))"
   ]
  },
  {
   "cell_type": "markdown",
   "metadata": {},
   "source": [
    "直接实例化 `Thread` 适合简单任务或临时调试用，大型项目里的多线程都是继承 `Thread` 封装成类"
   ]
  },
  {
   "cell_type": "code",
   "execution_count": 12,
   "metadata": {},
   "outputs": [],
   "source": [
    "class GetHtml(Thread):\n",
    "    def __init__(self, name):\n",
    "        super().__init__(name=name)\n",
    "\n",
    "    def run(self):\n",
    "        print('Start getting html')\n",
    "        time.sleep(2)\n",
    "        print('End  getting html')\n",
    "\n",
    "class GetDetail(Thread):\n",
    "    def __init__(self, name):\n",
    "        super().__init__(name=name)\n",
    "\n",
    "    def run(self):\n",
    "        print('Start getting url')\n",
    "        time.sleep(4)\n",
    "        print('End  getting url')"
   ]
  },
  {
   "cell_type": "code",
   "execution_count": 13,
   "metadata": {},
   "outputs": [
    {
     "name": "stdout",
     "output_type": "stream",
     "text": [
      "Start getting htmlStart getting url\n",
      "\n",
      "End  getting html\n",
      "End  getting url\n",
      "Cost time:4.017937183380127\n"
     ]
    }
   ],
   "source": [
    "start_time = time.time()\n",
    "\n",
    "html_thread = GetHtml('get_html')\n",
    "detail_thread = GetDetail('get_detail')\n",
    "\n",
    "html_thread.start()\n",
    "detail_thread.start()\n",
    "\n",
    "html_thread.join()\n",
    "detail_thread.join()\n",
    "\n",
    "print('Cost time:{}'.format(time.time() - start_time))"
   ]
  },
  {
   "cell_type": "markdown",
   "metadata": {},
   "source": [
    "## 线程间通信\n",
    "\n",
    "多线程间常常要协调资源，保证一致性，所以通信机制就很重要。直观的实现方法就是共享变量了，可以利用 Python 对象可变性选一个对象为各线程当联络员，可以写出如下伪代码"
   ]
  },
  {
   "cell_type": "code",
   "execution_count": null,
   "metadata": {},
   "outputs": [],
   "source": [
    "share_lst = []\n",
    "\n",
    "def get_html(share_lst):\n",
    "    '''\n",
    "        解析 html 获取 <html></html> 间的内容\n",
    "    '''\n",
    "    while True:\n",
    "        for i in range(20):\n",
    "            share_lst.append('http:{id}'.format(id=i))\n",
    "\n",
    "def get_detail(share_lst):\n",
    "    '''\n",
    "        从 <html></html> 内抽取详情信息并格式化\n",
    "    '''\n",
    "    while True:\n",
    "        if share_lst:\n",
    "            item = share_lst.pop()\n",
    "            print(\"Processing {}\".format(item))\n",
    "\n",
    "html_thread = Thread(target=get_html, args=(share_lst,))\n",
    "html_thread.start()\n",
    "\n",
    "for i in range(10):\n",
    "    detail_thread = Thread(target=get_detail, args=(share_lst,))\n",
    "    detail_thread.start()\n"
   ]
  },
  {
   "cell_type": "markdown",
   "metadata": {},
   "source": [
    "这里依旧是获取 html 内容和其中细节的两个方法，考虑到速度差异只开启一个抓取线程，10 个分析线程，线程间通过共享列表的形式通信。\n",
    "\n",
    "但 `list.pop` 方法并不是线程安全的，很容易出事故。更好的做法是用线程安全的数据结构代替，比如消息队列 `queue.Queue`"
   ]
  },
  {
   "cell_type": "code",
   "execution_count": 14,
   "metadata": {},
   "outputs": [],
   "source": [
    "from queue import Queue\n",
    "\n",
    "msg_queue = Queue(maxsize=100)  # 容量为 100 的消息队列\n",
    "\n",
    "def get_html(queue):\n",
    "    '''\n",
    "        解析 html 获取 <html></html> 间的内容\n",
    "    '''\n",
    "    while True:\n",
    "        for i in range(20):\n",
    "            queue.put('http:{id}'.format(id=i))\n",
    "\n",
    "def get_detail(queue):\n",
    "    '''\n",
    "        从 <html></html> 内抽取详情信息并格式化\n",
    "    '''\n",
    "    while True:\n",
    "        if share_lst:\n",
    "            item = queue.get()\n",
    "            print(\"Processing {}\".format(item))"
   ]
  },
  {
   "cell_type": "markdown",
   "metadata": {},
   "source": [
    "`Queue` 是基于 `deque` 封装出来的，`deque` 本身是字节码级线程安全的。`Queue` 提供了很多线程安全方法，比如 `get`，`put`，也能选择二者是否会等待阻塞。其次，`Queue.join()` 阻塞方法执行后，必须在某个位置调用 `Queue.task_done()` 告知，然后才能解除阻塞"
   ]
  },
  {
   "cell_type": "code",
   "execution_count": 15,
   "metadata": {},
   "outputs": [
    {
     "name": "stdout",
     "output_type": "stream",
     "text": [
      "Help on class Queue in module queue:\n",
      "\n",
      "class Queue(builtins.object)\n",
      " |  Queue(maxsize=0)\n",
      " |  \n",
      " |  Create a queue object with a given maximum size.\n",
      " |  \n",
      " |  If maxsize is <= 0, the queue size is infinite.\n",
      " |  \n",
      " |  Methods defined here:\n",
      " |  \n",
      " |  __init__(self, maxsize=0)\n",
      " |      Initialize self.  See help(type(self)) for accurate signature.\n",
      " |  \n",
      " |  empty(self)\n",
      " |      Return True if the queue is empty, False otherwise (not reliable!).\n",
      " |      \n",
      " |      This method is likely to be removed at some point.  Use qsize() == 0\n",
      " |      as a direct substitute, but be aware that either approach risks a race\n",
      " |      condition where a queue can grow before the result of empty() or\n",
      " |      qsize() can be used.\n",
      " |      \n",
      " |      To create code that needs to wait for all queued tasks to be\n",
      " |      completed, the preferred technique is to use the join() method.\n",
      " |  \n",
      " |  full(self)\n",
      " |      Return True if the queue is full, False otherwise (not reliable!).\n",
      " |      \n",
      " |      This method is likely to be removed at some point.  Use qsize() >= n\n",
      " |      as a direct substitute, but be aware that either approach risks a race\n",
      " |      condition where a queue can shrink before the result of full() or\n",
      " |      qsize() can be used.\n",
      " |  \n",
      " |  get(self, block=True, timeout=None)\n",
      " |      Remove and return an item from the queue.\n",
      " |      \n",
      " |      If optional args 'block' is true and 'timeout' is None (the default),\n",
      " |      block if necessary until an item is available. If 'timeout' is\n",
      " |      a non-negative number, it blocks at most 'timeout' seconds and raises\n",
      " |      the Empty exception if no item was available within that time.\n",
      " |      Otherwise ('block' is false), return an item if one is immediately\n",
      " |      available, else raise the Empty exception ('timeout' is ignored\n",
      " |      in that case).\n",
      " |  \n",
      " |  get_nowait(self)\n",
      " |      Remove and return an item from the queue without blocking.\n",
      " |      \n",
      " |      Only get an item if one is immediately available. Otherwise\n",
      " |      raise the Empty exception.\n",
      " |  \n",
      " |  join(self)\n",
      " |      Blocks until all items in the Queue have been gotten and processed.\n",
      " |      \n",
      " |      The count of unfinished tasks goes up whenever an item is added to the\n",
      " |      queue. The count goes down whenever a consumer thread calls task_done()\n",
      " |      to indicate the item was retrieved and all work on it is complete.\n",
      " |      \n",
      " |      When the count of unfinished tasks drops to zero, join() unblocks.\n",
      " |  \n",
      " |  put(self, item, block=True, timeout=None)\n",
      " |      Put an item into the queue.\n",
      " |      \n",
      " |      If optional args 'block' is true and 'timeout' is None (the default),\n",
      " |      block if necessary until a free slot is available. If 'timeout' is\n",
      " |      a non-negative number, it blocks at most 'timeout' seconds and raises\n",
      " |      the Full exception if no free slot was available within that time.\n",
      " |      Otherwise ('block' is false), put an item on the queue if a free slot\n",
      " |      is immediately available, else raise the Full exception ('timeout'\n",
      " |      is ignored in that case).\n",
      " |  \n",
      " |  put_nowait(self, item)\n",
      " |      Put an item into the queue without blocking.\n",
      " |      \n",
      " |      Only enqueue the item if a free slot is immediately available.\n",
      " |      Otherwise raise the Full exception.\n",
      " |  \n",
      " |  qsize(self)\n",
      " |      Return the approximate size of the queue (not reliable!).\n",
      " |  \n",
      " |  task_done(self)\n",
      " |      Indicate that a formerly enqueued task is complete.\n",
      " |      \n",
      " |      Used by Queue consumer threads.  For each get() used to fetch a task,\n",
      " |      a subsequent call to task_done() tells the queue that the processing\n",
      " |      on the task is complete.\n",
      " |      \n",
      " |      If a join() is currently blocking, it will resume when all items\n",
      " |      have been processed (meaning that a task_done() call was received\n",
      " |      for every item that had been put() into the queue).\n",
      " |      \n",
      " |      Raises a ValueError if called more times than there were items\n",
      " |      placed in the queue.\n",
      " |  \n",
      " |  ----------------------------------------------------------------------\n",
      " |  Data descriptors defined here:\n",
      " |  \n",
      " |  __dict__\n",
      " |      dictionary for instance variables (if defined)\n",
      " |  \n",
      " |  __weakref__\n",
      " |      list of weak references to the object (if defined)\n",
      "\n"
     ]
    }
   ],
   "source": [
    "help(Queue)"
   ]
  },
  {
   "cell_type": "markdown",
   "metadata": {},
   "source": [
    "## 线程同步\n",
    "\n",
    "线程协作一大问题就是同步，比如 ATM 转账，购物时加减库存，使用多线程时我们当然希望账户金额和库存余量都是正确而稳定的。但通常不会如意。"
   ]
  },
  {
   "cell_type": "code",
   "execution_count": 16,
   "metadata": {},
   "outputs": [],
   "source": [
    "a = 0\n",
    "\n",
    "def inc():\n",
    "    global a\n",
    "    a += 1\n",
    "\n",
    "def dec():\n",
    "    global a\n",
    "    a -= 1"
   ]
  },
  {
   "cell_type": "code",
   "execution_count": 17,
   "metadata": {},
   "outputs": [
    {
     "name": "stdout",
     "output_type": "stream",
     "text": [
      "5           0 LOAD_GLOBAL              0 (a)\n",
      "              2 LOAD_CONST               1 (1)\n",
      "              4 INPLACE_ADD\n",
      "              6 STORE_GLOBAL             0 (a)\n",
      "              8 LOAD_CONST               0 (None)\n",
      "             10 RETURN_VALUE\n",
      "None\n",
      "------------------------------------------------\n",
      "  9           0 LOAD_GLOBAL              0 (a)\n",
      "              2 LOAD_CONST               1 (1)\n",
      "              4 INPLACE_SUBTRACT\n",
      "              6 STORE_GLOBAL             0 (a)\n",
      "              8 LOAD_CONST               0 (None)\n",
      "             10 RETURN_VALUE\n",
      "None\n"
     ]
    }
   ],
   "source": [
    "import dis\n",
    "\n",
    "print(dis.dis(inc))\n",
    "print('------------------------------------------------')\n",
    "print(dis.dis(dec))"
   ]
  },
  {
   "cell_type": "markdown",
   "metadata": {},
   "source": [
    "这里构造了两个简单函数，分别实现对同一变量的加一减一操作。通过字节码可以看到，两个方法在运行时指令相似度很高，区别只是 `INPLACE_ADD` `INPLACE_SUBTRACT`。问题就在这里，之前说过 GIL 执行时可能因为时间片耗尽或字节码执行数耗尽而主动释放。那就存在这样一种情景，`inc` 指令执行完第二条时间片耗尽，转向`dec`，此时刚好轮到 `INPLACE_SUBTRACT` 执行，但没来得及将新值 -1 赋给 `a`  `dec` 时间片就耗尽转回 `inc`，这时再执行`INPLACE_ADD`，就有了另一个值 1 赋给 `a`。\n",
    "\n",
    "于是在下一个时间片来临时，因为执行总有先后，读取 `a` 的值就会出现反复震荡。\n",
    "\n",
    "对于同步，经典解决方案是锁，在 Python 中 `threading` 模块提供了很多实现"
   ]
  },
  {
   "cell_type": "code",
   "execution_count": 18,
   "metadata": {},
   "outputs": [],
   "source": [
    "from threading import Lock\n",
    "\n",
    "a = 0\n",
    "lock = Lock()\n",
    "def inc():\n",
    "    global a\n",
    "    lock.acquire()\n",
    "    a += 1\n",
    "    lock.release()\n",
    "\n",
    "def dec():\n",
    "    global a\n",
    "    lock.acquire()\n",
    "    a -= 1\n",
    "    lock.release()"
   ]
  },
  {
   "cell_type": "markdown",
   "metadata": {},
   "source": [
    "每一个 `Lock` 对象就是一把锁，通过 `acquire` 方法获取锁后会将之后的字节码锁定，遇到 `release` 后解锁，其余线程才能再对锁定的字节码恢复访问。\n",
    "\n",
    "但对于锁有两个长久困扰：一是锁会降低性能，上锁解锁时间开销并不小，二是死锁，即多个线程在执行过程中，因争夺资源而造成的一种互相等待的现象，如无外界干扰，它们都将无法推进下去。\n",
    "\n",
    "对于其中一类因嵌套调用，导致重复尝试获取同一把锁而导致的死锁问题，Python 提供了 `threading.Rlock` (可重入锁)，**同一线程**内可以多次申请加锁，但要注意加锁和解锁次数必须一致。"
   ]
  },
  {
   "cell_type": "code",
   "execution_count": null,
   "metadata": {},
   "outputs": [],
   "source": [
    "def func_with_lock(*args):\n",
    "    ......\n",
    "    Rlock.acquire()\n",
    "\n",
    "    other_func_with_lock()\n",
    "\n",
    "    Rlock.release()\n",
    "    ......\n",
    "\n",
    "def other_func_with_lock(*args):\n",
    "    ......\n",
    "    lock.acquire()\n",
    "\n",
    "    do something\n",
    "\n",
    "    lock.release()\n",
    "    ......"
   ]
  },
  {
   "cell_type": "markdown",
   "metadata": {},
   "source": [
    "### Condition\n",
    "\n",
    "有了锁可以一定程度保证一致性和数据鲁棒，但并不能覆盖所有场景。比如有时需要若干线程按照某种顺序交替执行，因为 GIL 会因为时间片或字节码行数问题主动释放的，如果恰巧一个时间片内线程“超额”完成了任务，就打破了交替顺序。\n",
    "\n",
    "这种情况下就需要用到稍高级点的锁机制——`Condition`了。`threading.Condition` 是基于 `threading.lock` 或 `threading.Rlock` 封装的条件型锁，通过 `wait()`，`notify()` 方法保证阻塞的顺序性，除非收到 `notify()` 传来的信号，`wait()` 会持续阻塞。\n",
    "\n",
    "但也正因 `Condition` 工作的特点，决定了使用 `Condition` 的时候线程启动顺序很关键。"
   ]
  },
  {
   "cell_type": "code",
   "execution_count": 19,
   "metadata": {},
   "outputs": [],
   "source": [
    "import threading\n",
    "\n",
    "class YinShi(threading.Thread):\n",
    "    def __init__(self, name, cond):\n",
    "        super().__init__(name=name)\n",
    "        self.cond = cond\n",
    "    \n",
    "    def run(self):\n",
    "        with self.cond:\n",
    "            print('{} : 窗前明月光'.format(self.name))\n",
    "            self.cond.notify()\n",
    "            self.cond.wait()\n",
    "\n",
    "            print('{} : 举头望明月'.format(self.name))\n",
    "            self.cond.notify()\n",
    "            self.cond.wait()\n",
    "\n",
    "\n",
    "class ZuoDui(threading.Thread):\n",
    "    def __init__(self, name, cond):\n",
    "        super().__init__(name=name)\n",
    "        self.cond = cond\n",
    "    \n",
    "    def run(self):\n",
    "        with self.cond:\n",
    "            self.cond.wait()\n",
    "            \n",
    "            print('{} : 疑是地上霜'.format(self.name))\n",
    "            self.cond.notify()\n",
    "            self.cond.wait()\n",
    "\n",
    "            print('{} : 低头思故乡'.format(self.name))\n",
    "            self.cond.notify()"
   ]
  },
  {
   "cell_type": "code",
   "execution_count": 20,
   "metadata": {},
   "outputs": [
    {
     "name": "stdout",
     "output_type": "stream",
     "text": [
      "Yin Shi : 窗前明月光\n",
      "Zuo Dui : 疑是地上霜\n",
      "Yin Shi : 举头望明月\n",
      "Zuo Dui : 低头思故乡\n"
     ]
    }
   ],
   "source": [
    "cond = threading.Condition()\n",
    "yin_shi = YinShi('Yin Shi', cond)\n",
    "zuo_dui = ZuoDui('Zuo Dui', cond)\n",
    "\n",
    "zuo_dui.start()  # 注意启动顺序，后说话的要先 wait 等候通知唤醒\n",
    "yin_shi.start()"
   ]
  },
  {
   "cell_type": "markdown",
   "metadata": {},
   "source": [
    "这里我们构造了一个念诗场景，两个对象依次执行。要注意的是，`Condition` 封装后同样是锁，所以需要先获取底层的 `cond.acquire` 加锁，但 Python 多实现了 `__enter__` 和 `__exit__` 方法使 `Condition` 成为上下文管理器，底层锁的获取可以使用 `with` 来实现，这之后才能使用 `wait` 和 `notify`。当初次 `wait` 调用发生时底层锁解除锁定。\n",
    "\n",
    "但还有高一层的锁，`Condition` 内部维护了一个双端队列，每次调用 `wait()` 都会创建一个锁加入队列，每次 `notify()` 执行时则弹出一个锁解除锁定"
   ]
  },
  {
   "cell_type": "markdown",
   "metadata": {},
   "source": [
    "### Semaphore\n",
    "\n",
    "有一类生产场景是需要限制线程并发量的，比如数据库读写，往往是一个写线程和多个读线程，考虑到线程开销问题需要对读线程数加以限制。`threading.Semaphore` 就是一种用于控制访问数量的锁。"
   ]
  },
  {
   "cell_type": "code",
   "execution_count": 21,
   "metadata": {},
   "outputs": [],
   "source": [
    "import threading\n",
    "import time\n",
    "\n",
    "class Process(threading.Thread):\n",
    "    def __init__(self, name, sem):\n",
    "        super().__init__(name=name)\n",
    "        self.sem = sem\n",
    "\n",
    "    def run(self):\n",
    "        time.sleep(2)\n",
    "        print('{} is processed.'.format(self.name))\n",
    "        self.sem.release()\n",
    "\n",
    "class Scrapy(threading.Thread):\n",
    "    def __init__(self, sem):\n",
    "        super().__init__()\n",
    "        self.sem = sem\n",
    "\n",
    "    def run(self):\n",
    "        for i in range(15):\n",
    "            self.sem.acquire()\n",
    "            prc = Process(\"http://www.google.com?id={}\".format(i), self.sem)\n",
    "            prc.start()"
   ]
  },
  {
   "cell_type": "code",
   "execution_count": 24,
   "metadata": {},
   "outputs": [
    {
     "name": "stdout",
     "output_type": "stream",
     "text": [
      "http://www.google.com?id=0 is processed.http://www.google.com?id=2 is processed.\n",
      "http://www.google.com?id=1 is processed.\n",
      "\n",
      "http://www.google.com?id=4 is processed.http://www.google.com?id=5 is processed.\n",
      "http://www.google.com?id=3 is processed.\n",
      "\n",
      "http://www.google.com?id=6 is processed.http://www.google.com?id=7 is processed.\n",
      "http://www.google.com?id=8 is processed.\n",
      "\n",
      "http://www.google.com?id=9 is processed.http://www.google.com?id=10 is processed.\n",
      "http://www.google.com?id=11 is processed.\n",
      "\n",
      "http://www.google.com?id=12 is processed.http://www.google.com?id=13 is processed.\n",
      "\n",
      "http://www.google.com?id=14 is processed.\n"
     ]
    }
   ],
   "source": [
    "%run ./code/semaphore.py\n",
    "time.sleep(15)\n",
    "# sem = threading.Semaphore(3)\n",
    "# scrapy = Scrapy(sem)  # 每次 3 个线程\n",
    "# scrapy.start()"
   ]
  },
  {
   "cell_type": "markdown",
   "metadata": {},
   "source": [
    "这里模仿了爬虫抓取与处理过程，每次限值 3 个线程同时处理爬取信息。\n",
    "\n",
    "`Semaphore` 初始化时要指定并发线程数，每次调用 `Semaphore.acquire` 时计数器减一，为 0 时陷入阻塞，`Semaphore.release` 调用时，计数器加一\n",
    "\n",
    "# 线程池\n",
    "\n",
    "每次分配任务都要自己维护线程不免效率太低，同时人们希望能获取线程执行状态信息，或是取得线程执行结果，当线程执行完毕在主线程中可以收到反馈。于是有了线程池的概念，开发者只需要获取线程池，取用其中线程执行任务，同时在主线程中可以获取线程结果，控制线程状态。\n",
    "\n",
    "Python 中 `concurrent.futures` 提供了线程池服务，"
   ]
  },
  {
   "cell_type": "code",
   "execution_count": 25,
   "metadata": {},
   "outputs": [
    {
     "name": "stdout",
     "output_type": "stream",
     "text": [
      "False\n",
      "False\n"
     ]
    }
   ],
   "source": [
    "from concurrent.futures import ThreadPoolExecutor\n",
    "import time\n",
    "\n",
    "def get_html(times):\n",
    "    time.sleep(times)\n",
    "    print('get html {}'.format(times))\n",
    "    return times\n",
    "\n",
    "pool = ThreadPoolExecutor(max_workers=3)\n",
    "task1 = pool.submit(get_html, (2))\n",
    "task2 = pool.submit(get_html, (3))\n",
    "\n",
    "print(task1.done())\n",
    "print(task2.done())"
   ]
  },
  {
   "cell_type": "markdown",
   "metadata": {},
   "source": [
    "初始化线程池对象是可以通过 `max_workers` 参数指定最多同时有几个线程工作，通过 `submit` 方法将任务提交给线程池运行，同时 `submit` 会返回一个 future 对象，其中包含了很多线程状态相关的方法。比如 `future.done()` 可以获知任务是否执行成功\n",
    "\n",
    "要注意 `submit` 方法是立即返回值的，不会阻塞主线程，所以上述代码结果是 False，等待一会就能收到成功反馈"
   ]
  },
  {
   "cell_type": "code",
   "execution_count": 28,
   "metadata": {},
   "outputs": [
    {
     "name": "stdout",
     "output_type": "stream",
     "text": [
      "False\n",
      "False\n",
      "get html 2\n",
      "get html 3\n",
      "True\n",
      "True\n"
     ]
    }
   ],
   "source": [
    "task1 = pool.submit(get_html, (2))\n",
    "task2 = pool.submit(get_html, (3))\n",
    "\n",
    "print(task1.done())\n",
    "print(task2.done())\n",
    "time.sleep(4)\n",
    "print(task1.done())\n",
    "print(task2.done())"
   ]
  },
  {
   "cell_type": "markdown",
   "metadata": {},
   "source": [
    "`future.result()` 方法可以获取任务返回结果，`future.cancel()` 可以在任务执行前取消任务，对运行中、执行完成的任务无效"
   ]
  },
  {
   "cell_type": "code",
   "execution_count": 29,
   "metadata": {},
   "outputs": [
    {
     "name": "stdout",
     "output_type": "stream",
     "text": [
      "False\n",
      "True\n",
      "get html 2\n",
      "2\n"
     ]
    }
   ],
   "source": [
    "pool = ThreadPoolExecutor(max_workers=1)  # 只允许线程串行执行\n",
    "task1 = pool.submit(get_html, (2))\n",
    "task2 = pool.submit(get_html, (3))\n",
    "\n",
    "print(task1.done())\n",
    "print(task2.cancel())  # 取消任务 2\n",
    "time.sleep(3)\n",
    "print(task1.result())"
   ]
  },
  {
   "cell_type": "markdown",
   "metadata": {},
   "source": [
    "当然，生产环境的任务多是批量执行的，我们通常在意的也是执行成功的任务。`concurrent.futures.as_completed` 就是这样一个生成器，可以动态监测执行成功的任务，并返回相应的 future 对象"
   ]
  },
  {
   "cell_type": "code",
   "execution_count": 30,
   "metadata": {},
   "outputs": [
    {
     "name": "stdout",
     "output_type": "stream",
     "text": [
      "get html 1\n",
      "task 1 complete.\n",
      "get html 2\n",
      "task 2 complete.\n",
      "get html 3\n",
      "task 3 complete.\n"
     ]
    }
   ],
   "source": [
    "from concurrent.futures import ThreadPoolExecutor, as_completed\n",
    "import time\n",
    "\n",
    "def get_html(times):\n",
    "    time.sleep(times)\n",
    "    print('get html {}'.format(times))\n",
    "    return times\n",
    "\n",
    "pool = ThreadPoolExecutor(max_workers=3)\n",
    "tasks = [2,1,3]\n",
    "tasks_rst = [pool.submit(get_html, (i)) for i in tasks]\n",
    "\n",
    "for future in as_completed(tasks_rst):\n",
    "    print('task {} complete.'.format(future.result()))\n",
    "\n",
    "time.sleep(3)"
   ]
  },
  {
   "cell_type": "markdown",
   "metadata": {},
   "source": [
    "如果只是想要任务返回结果，通过线程池的 `map(func_name, tasks)` 方法也能做到，其会将 `tasks` 中的每一个元素提取出来传入 `func_name` 执行"
   ]
  },
  {
   "cell_type": "code",
   "execution_count": 31,
   "metadata": {},
   "outputs": [
    {
     "name": "stdout",
     "output_type": "stream",
     "text": [
      "get html 1\n",
      "task 1 complete.\n",
      "get html 2\n",
      "task 2 complete.\n",
      "get html 3\n",
      "task 3 complete.\n"
     ]
    }
   ],
   "source": [
    "from concurrent.futures import ThreadPoolExecutor\n",
    "import time\n",
    "\n",
    "def get_html(times):\n",
    "    time.sleep(times)\n",
    "    print('get html {}'.format(times))\n",
    "    return times\n",
    "\n",
    "pool = ThreadPoolExecutor(max_workers=3)\n",
    "tasks = [1,2,3]\n",
    "\n",
    "for result in pool.map(get_html, tasks):\n",
    "    print('task {} complete.'.format(result))\n",
    "    \n",
    "time.sleep(3)"
   ]
  },
  {
   "cell_type": "markdown",
   "metadata": {},
   "source": [
    "`concurrent.futures.wait()` 方法可以使程序陷入阻塞，当某些任务完成后才恢复，还可以传入参数控制等候规则，比如 `FIRST_COMPLETED` 指定任意任务完成后即解除阻塞"
   ]
  },
  {
   "cell_type": "code",
   "execution_count": 32,
   "metadata": {},
   "outputs": [
    {
     "name": "stdout",
     "output_type": "stream",
     "text": [
      "get html 1\n",
      "Cancel wait\n",
      "get html 2\n",
      "get html 3\n"
     ]
    }
   ],
   "source": [
    "from concurrent.futures import ThreadPoolExecutor, as_completed, wait, FIRST_COMPLETED\n",
    "import time\n",
    "\n",
    "def get_html(times):\n",
    "    time.sleep(times)\n",
    "    print('get html {}'.format(times))\n",
    "    return times\n",
    "\n",
    "pool = ThreadPoolExecutor(max_workers=3)\n",
    "tasks = [2,1,3]\n",
    "tasks_rst = [pool.submit(get_html, (i)) for i in tasks]\n",
    "\n",
    "wait(tasks_rst, return_when=FIRST_COMPLETED)\n",
    "print('Cancel wait')\n",
    "\n",
    "time.sleep(3)"
   ]
  },
  {
   "cell_type": "markdown",
   "metadata": {},
   "source": [
    "# 多进程\n",
    "\n",
    "Python 多进程和多线程接口近乎一致，比如同是 `threading.futures` 模块下，有进程池类 `threading.futures.ProcessPoolExcutor`。\n",
    "\n",
    "因为 GIL 的存在，Python 在涉及数学、图形等耗 CPU 运算任务时多进程性能更优，而 I/O 运算多的任务则适于使用多线程"
   ]
  },
  {
   "cell_type": "code",
   "execution_count": 33,
   "metadata": {},
   "outputs": [
    {
     "name": "stdout",
     "output_type": "stream",
     "text": [
      "ProcessPoolExecutor begin compute Fibonacci\n",
      "[6765, 10946, 17711, 28657, 46368, 75025, 121393, 196418, 317811, 514229, 832040, 1346269, 2178309, 3524578, 5702887]\n",
      "ProcessPoolExecutor time cost:6.444280624389648\n",
      "ThreadPoolExecutor begin compute Fibonacci\n",
      "[17711, 10946, 6765, 28657, 46368, 75025, 121393, 196418, 317811, 514229, 832040, 1346269, 2178309, 3524578, 5702887]\n",
      "ThreadPoolExecutor time cost:8.758058309555054\n",
      "--------------------\n",
      "ProcessPoolExecutor begin random sleep test\n",
      "ProcessPoolExecutor time cost:8.164332628250122\n",
      "ThreadPoolExecutor begin random sleep test\n",
      "ThreadPoolExecutor time cost:8.002155065536499\n"
     ]
    }
   ],
   "source": [
    "%run ./code/process_thread_compare.py"
   ]
  },
  {
   "cell_type": "markdown",
   "metadata": {},
   "source": [
    "除去 `threading` 模块，还有一个多进程模块 `multiprocessing`，其中的 `multiprocessing.Process` 类比于 `Thread`，是 Python 提供的进程类，可以通过相似的实例化、继承的方式创建自己的进程\n",
    "\n"
   ]
  },
  {
   "cell_type": "code",
   "execution_count": 35,
   "metadata": {},
   "outputs": [],
   "source": [
    "import multiprocessing\n",
    "import time\n",
    "class MyProcess(multiprocessing.Process):\n",
    "    def __init__(self, name):\n",
    "        super().__init__(name=name)\n",
    "    \n",
    "    def run(self):\n",
    "        print('{} running'.format(self.name))\n",
    "        time.sleep(2)\n",
    "        print('{} finished'.format(self.name))\n",
    "\n",
    "def delay(times):\n",
    "    time.sleep(times)\n",
    "    print('sleeping done')\n",
    "    return times\n",
    "\n",
    "process_obj = multiprocessing.Process(target=delay, args=(2,))\n",
    "my_process = MyProcess('inherit')\n",
    "\n",
    "process_obj.start()\n",
    "my_process.start()\n",
    "\n",
    "process_obj.join()\n",
    "my_process.join()"
   ]
  },
  {
   "cell_type": "markdown",
   "metadata": {},
   "source": [
    "`multiprocessing` 下面也有进程池 `Pool`，进程是资源分配的单位，所以一个计算核分配一个进程最好，可以通过 `multiprocessing.cpu_count()` 来获取"
   ]
  },
  {
   "cell_type": "code",
   "execution_count": 36,
   "metadata": {},
   "outputs": [],
   "source": [
    "pool = multiprocessing.Pool(multiprocessing.cpu_count())\n",
    "res = pool.apply_async(delay, (3,))\n",
    "\n",
    "pool.close()\n",
    "pool.join()"
   ]
  },
  {
   "cell_type": "markdown",
   "metadata": {},
   "source": [
    "`apply_async` 方法类似于 `submit` 会收到一个 `ApplyResult` 返回对象，通过 `get` 方法获取返回值。`Pool.join()` 会调用进程池内所有任务的 `join()` 方法，等待所有任务完成恢复阻塞。但要注意前提是先调用 `Pool.close()` 停止接收任务提交。\n",
    "\n",
    "和线程池一样，单就任务结果的获取进程池通过 map 也能做到，具体方法是 `imap`,`imap_unordered`。前者严格遵照参数传递顺序获取结果，后者则不，谁先返回结果先处理谁"
   ]
  },
  {
   "cell_type": "code",
   "execution_count": null,
   "metadata": {},
   "outputs": [],
   "source": [
    "for res in pool.imap(delay, [3,1,5]):\n",
    "    print('{}s sleep task done.'.format(res))"
   ]
  },
  {
   "cell_type": "markdown",
   "metadata": {},
   "source": [
    "### 进程间通信\n",
    "\n",
    "线程要沟通很简单，因为都是共享进程的资源。但每个进程资源都是独立的，所以进程间通信需要额外一些处理。\n",
    "\n",
    "先说两两进程通信的情况，多线程中我们提到可以使用消息队列 `deque.Queue` 进行讯息沟通，进程间通信也有消息队列，只不过是 `multiprocessing.Queue`"
   ]
  },
  {
   "cell_type": "code",
   "execution_count": 2,
   "metadata": {},
   "outputs": [],
   "source": [
    "from multiprocessing import Process, Queue\n",
    "import time\n",
    "\n",
    "def producer(queue):\n",
    "    queue.put('food')\n",
    "    time.sleep(2)\n",
    "\n",
    "def consumer(queue):\n",
    "    time.sleep(2)\n",
    "    print(queue.get())\n",
    "\n",
    "queue = Queue(10)\n",
    "produce_thread = Process(target=producer, args=(queue,))\n",
    "consume_thread = Process(target=consumer, args=(queue,))\n",
    "\n",
    "produce_thread.start()\n",
    "consume_thread.start()\n",
    "\n",
    "produce_thread.join()\n",
    "consume_thread.join()"
   ]
  },
  {
   "cell_type": "markdown",
   "metadata": {},
   "source": [
    "进程池内的进程间通信，如果仍是使用消息队列，需要借助 `multiprocessing.Manager` 对象下的 `Queue` "
   ]
  },
  {
   "cell_type": "code",
   "execution_count": null,
   "metadata": {},
   "outputs": [],
   "source": [
    "from multiprocessing import Manager, Pool\n",
    "import time\n",
    "\n",
    "def producer(queue):\n",
    "    queue.put('food')\n",
    "    time.sleep(2)\n",
    "\n",
    "def consumer(queue):\n",
    "    time.sleep(2)\n",
    "    print(queue.get())\n",
    "\n",
    "queue = Manager().Queue(10)  # 注意队列来源\n",
    "pool = Pool(2)\n",
    "\n",
    "pool.apply_async(producer, args=(queue,))\n",
    "pool.apply_async(consumer, args=(queue,))\n",
    "\n",
    "pool.close()\n",
    "pool.join()"
   ]
  },
  {
   "cell_type": "markdown",
   "metadata": {},
   "source": [
    "除了消息队列，两两进程间通信还可以通过管道 `Pipe` 收发讯息，性能强于消息队列"
   ]
  },
  {
   "cell_type": "code",
   "execution_count": null,
   "metadata": {},
   "outputs": [],
   "source": [
    "from multiprocessing import Manager, Pipe\n",
    "import time\n",
    "\n",
    "def producer(send_port):\n",
    "    send_port.send('food')\n",
    "\n",
    "def consumer(recv_port):\n",
    "    print(recv_port.recv())\n",
    "\n",
    "send_port, recv_port = Pipe()\n",
    "produce_thread = Process(target=producer, args=(send_port,))\n",
    "consume_thread = Process(target=consumer, args=(recv_port,))\n",
    "\n",
    "produce_thread.start()\n",
    "consume_thread.start()\n",
    "\n",
    "produce_thread.join()\n",
    "consume_thread.join()"
   ]
  },
  {
   "cell_type": "markdown",
   "metadata": {},
   "source": [
    "如果一定要使用共享变量的方式可不可以呢? `Manager` 对象下可以创建各种用于进程间通信的常见数据结构"
   ]
  },
  {
   "cell_type": "code",
   "execution_count": null,
   "metadata": {},
   "outputs": [],
   "source": [
    "from multiprocessing import Manager\n",
    "import time\n",
    "\n",
    "def producer(arg_dict):\n",
    "    arg_dict[Producer] = 'create food'\n",
    "\n",
    "def consumer(arg_dict):\n",
    "    arg_dict[Consumer] = 'eat food'\n",
    "\n",
    "arg_dict = Manager().dict()\n",
    "produce_thread = Process(target=producer, args=(arg_dict,))\n",
    "consume_thread = Process(target=consumer, args=(arg_dict,))\n",
    "\n",
    "produce_thread.start()\n",
    "consume_thread.start()\n",
    "\n",
    "produce_thread.join()\n",
    "consume_thread.join()\n",
    "print(arg_dict)"
   ]
  }
 ],
 "metadata": {
  "file_extension": ".py",
  "kernelspec": {
   "display_name": "Python 3",
   "language": "python",
   "name": "python3"
  },
  "language_info": {
   "codemirror_mode": {
    "name": "ipython",
    "version": 3
   },
   "file_extension": ".py",
   "mimetype": "text/x-python",
   "name": "python",
   "nbconvert_exporter": "python",
   "pygments_lexer": "ipython3",
   "version": "3.7.3"
  },
  "mimetype": "text/x-python",
  "name": "python",
  "npconvert_exporter": "python",
  "pygments_lexer": "ipython3",
  "version": 3
 },
 "nbformat": 4,
 "nbformat_minor": 2
}
