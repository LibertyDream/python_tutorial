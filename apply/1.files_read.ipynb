{
 "cells": [
  {
   "cell_type": "markdown",
   "metadata": {},
   "source": [
    "- [读取 zip 文件](#读取-zip-文件)\n",
    "- [读取 Text 文件](#读取-Text-文件)\n",
    "- [用 Pandas 导入 CSV 文件](#用-Pandas-导入-CSV-文件)\n",
    "- [读取 Excel 文件](#读取-Excel-文件)\n",
    "- [从数据库导入](#从数据库导入)\n",
    "- [JSON 文件处理](#JSON-文件处理)\n",
    "- [读取 Pickle 文件](#读取-Pickle-文件)\n",
    "- [Web 抓取](#Web-抓取)\n",
    "- [用 PIL 读取图像](#用-PIL-读取图像)\n",
    "- [用 Glob 读取多个文件](#用-Glob-读取多个文件)"
   ]
  },
  {
   "cell_type": "markdown",
   "metadata": {},
   "source": [
    "### 读取 zip 文件\n",
    "\n",
    "压缩文件能帮助我们节省空间和时间。ZIP 是种存档文件，支持无损数据压缩。用 Python 打开 ZIP 文件夹先得有 **Zip File** 库。\n",
    "\n",
    "本文所有文件都已打包进独立 ZIP 文件中，来提取看看吧。"
   ]
  },
  {
   "cell_type": "code",
   "execution_count": 5,
   "metadata": {},
   "outputs": [
    {
     "name": "stdout",
     "output_type": "stream",
     "text": [
      "File Name                                             Modified             Size\n",
      "Employee.txt                                   2020-12-30 21:54:52            0\n",
      "Liberty Dream.txt                              2020-12-30 21:54:02            0\n",
      "Products.csv                                   2020-12-30 21:55:02            0\n",
      "sample_db.db                                   2020-12-30 21:56:32            0\n",
      "sample_json.json                               2020-12-30 21:55:58            0\n",
      "sample_pickle.pkl                              2020-12-30 21:56:16            0\n",
      "test_demo_1.py                                 2020-12-30 21:57:10            0\n",
      "test_demo_2.py                                 2020-12-30 21:57:48            0\n",
      "test_img.png                                   2019-07-17 09:28:22       255274\n",
      "World_city.xlsx                                2020-12-30 21:58:56            0\n",
      "Xiao Ming/                                     2020-12-30 21:52:28            0\n",
      "Xiao Ming/1.jpeg                               2020-12-30 21:51:32        17800\n",
      "Xiao Ming/2.jpeg                               2020-12-30 21:51:40        30112\n",
      "Xiao Ming/3.jpeg                               2020-12-30 21:51:46        19132\n",
      "Xiao Ming/4.jpeg                               2020-12-30 21:52:04        45219\n"
     ]
    }
   ],
   "source": [
    "from zipfile import ZipFile\n",
    "\n",
    "# 压缩文件路径\n",
    "file = './data/demo data.zip'\n",
    "\n",
    "# 读取并解压内容\n",
    "with ZipFile (file, 'r') as zip:\n",
    "    zip.printdir()\n",
    "    zip.extractall(path='./data/demo data')"
   ]
  },
  {
   "cell_type": "markdown",
   "metadata": {},
   "source": [
    "执行上面的代码后，可以在同目录下的 `apply/data/demo data` 文件夹中看到相同结构内容\n",
    "\n",
    "![](https://raw.githubusercontent.com/LibertyDream/diy_img_host/master/img/2020-12-29_release_dic.png)"
   ]
  },
  {
   "cell_type": "markdown",
   "metadata": {},
   "source": [
    "### 读取 Text 文件\n",
    "\n",
    " 文本文件算是最常见的文件格式了。Python 用 `open()` 方法读取指定路径的文件，并用参数指定访问方式。读文件模式为 `r`，还有其他访问模式：\n",
    "\n",
    "- `w` —— 写入文件\n",
    "- `r+` 或 `w+` —— 读取并写入文件\n",
    "- `a` —— 追加到既有文本后面\n",
    "- `a+` —— 读取后再追加\n",
    "\n",
    "Python 提供了三种方法读取文本文件：\n",
    "\n",
    "1. `read(n)` – 从文本中读取 n 个字符，不指定数字就读取全部。可以自动识别定界符并分隔句子。\n",
    "2. `readline(n)` – 从文件中读取 n 个字符，但不超过一行\n",
    "3. `readlines()` – 读取全部信息，但不同于 `read()`，该方法不会管分隔符，将其一并读入列表\n",
    "\n",
    "来看看这些方法读文件时的异同吧："
   ]
  },
  {
   "cell_type": "code",
   "execution_count": 9,
   "metadata": {
    "scrolled": true
   },
   "outputs": [
    {
     "name": "stdout",
     "output_type": "stream",
     "text": [
      "欢迎来到 Python 文件导入教程。我们会关注以下文件类型的处理：\n",
      "1. Text\n",
      "2. CSV\n",
      "3. Excel\n",
      "4. SQL\n",
      "5. Web 数据\n",
      "6. Image\n",
      "阅读愉快！\n"
     ]
    }
   ],
   "source": [
    "# 读取 text 文件,指定解码格式为 utf-8\n",
    "with open(r'./data/demo data/Liberty Dream.txt','r',encoding='utf-8') as f:\n",
    "    print(f.read())"
   ]
  },
  {
   "cell_type": "markdown",
   "metadata": {},
   "source": [
    "`read()` 方法成功以结构化的方式读入了所有数据。"
   ]
  },
  {
   "cell_type": "code",
   "execution_count": 11,
   "metadata": {},
   "outputs": [
    {
     "name": "stdout",
     "output_type": "stream",
     "text": [
      "欢迎来到\n"
     ]
    }
   ],
   "source": [
    "# 读取 text 文件,读取 n 个字节\n",
    "with open(r'./data/demo data/Liberty Dream.txt','r',encoding='utf-8') as f:\n",
    "    print(f.read(4))"
   ]
  },
  {
   "cell_type": "markdown",
   "metadata": {},
   "source": [
    "给 `read()` 指定一个数后，可以读取定量的字符"
   ]
  },
  {
   "cell_type": "code",
   "execution_count": 12,
   "metadata": {},
   "outputs": [
    {
     "name": "stdout",
     "output_type": "stream",
     "text": [
      "欢迎来到 Python 文件导入教程。我们会关注以下文件类型的处理：\n",
      "\n"
     ]
    }
   ],
   "source": [
    "# 按行读取 text 文件\n",
    "with open(r'./data/demo data/Liberty Dream.txt','r',encoding='utf-8') as f:\n",
    "    print(f.readline())"
   ]
  },
  {
   "cell_type": "markdown",
   "metadata": {},
   "source": [
    "用了 `readline()`，只读了一行文本进来"
   ]
  },
  {
   "cell_type": "code",
   "execution_count": 13,
   "metadata": {},
   "outputs": [
    {
     "name": "stdout",
     "output_type": "stream",
     "text": [
      "['欢迎来到 Python 文件导入教程。我们会关注以下文件类型的处理：\\n', '1. Text\\n', '2. CSV\\n', '3. Excel\\n', '4. SQL\\n', '5. Web 数据\\n', '6. Image\\n', '阅读愉快！']\n"
     ]
    }
   ],
   "source": [
    "# 将 text 文件解析成列表\n",
    "with open(r'./data/demo data/Liberty Dream.txt','r',encoding='utf-8') as f:\n",
    "    print(f.readlines())"
   ]
  },
  {
   "cell_type": "markdown",
   "metadata": {},
   "source": [
    "这里 `readlines()` 方法将整个文本提取成了列表格式。"
   ]
  },
  {
   "cell_type": "markdown",
   "metadata": {},
   "source": [
    "### 用 Pandas 导入 CSV 文件\n",
    "\n",
    "经典的 CSV 格式。CSV（ Comma Separated Value，字符分隔值）文件算是数据科学行业里最常见的文件类型了。这类文件用 `,` 作分隔符分隔数据值，文件中的一行就是一条数据记录。如果用 Notepad 打开，你会看到类似这样的数据格式：\n",
    "\n",
    "![](https://raw.githubusercontent.com/LibertyDream/diy_img_host/master/img/2020-12-30_csv_file_demo.png)\n",
    "\n",
    "\n",
    "通过 [Pandas](https://pandas.pydata.org/) 库可以很方便的用 `read_csv()` 方法读取 CSV 文件"
   ]
  },
  {
   "cell_type": "code",
   "execution_count": 15,
   "metadata": {},
   "outputs": [
    {
     "data": {
      "text/html": [
       "<div>\n",
       "<style scoped>\n",
       "    .dataframe tbody tr th:only-of-type {\n",
       "        vertical-align: middle;\n",
       "    }\n",
       "\n",
       "    .dataframe tbody tr th {\n",
       "        vertical-align: top;\n",
       "    }\n",
       "\n",
       "    .dataframe thead th {\n",
       "        text-align: right;\n",
       "    }\n",
       "</style>\n",
       "<table border=\"1\" class=\"dataframe\">\n",
       "  <thead>\n",
       "    <tr style=\"text-align: right;\">\n",
       "      <th></th>\n",
       "      <th>ID</th>\n",
       "      <th>Product</th>\n",
       "      <th>Price</th>\n",
       "    </tr>\n",
       "  </thead>\n",
       "  <tbody>\n",
       "    <tr>\n",
       "      <th>0</th>\n",
       "      <td>1</td>\n",
       "      <td>Pen</td>\n",
       "      <td>10</td>\n",
       "    </tr>\n",
       "    <tr>\n",
       "      <th>1</th>\n",
       "      <td>2</td>\n",
       "      <td>Pencil</td>\n",
       "      <td>5</td>\n",
       "    </tr>\n",
       "    <tr>\n",
       "      <th>2</th>\n",
       "      <td>3</td>\n",
       "      <td>Eraser</td>\n",
       "      <td>2</td>\n",
       "    </tr>\n",
       "    <tr>\n",
       "      <th>3</th>\n",
       "      <td>4</td>\n",
       "      <td>Notebook</td>\n",
       "      <td>40</td>\n",
       "    </tr>\n",
       "    <tr>\n",
       "      <th>4</th>\n",
       "      <td>5</td>\n",
       "      <td>Stapler</td>\n",
       "      <td>60</td>\n",
       "    </tr>\n",
       "  </tbody>\n",
       "</table>\n",
       "</div>"
      ],
      "text/plain": [
       "   ID   Product  Price\n",
       "0   1       Pen     10\n",
       "1   2    Pencil      5\n",
       "2   3    Eraser      2\n",
       "3   4  Notebook     40\n",
       "4   5   Stapler     60"
      ]
     },
     "execution_count": 15,
     "metadata": {},
     "output_type": "execute_result"
    }
   ],
   "source": [
    "import pandas as pd\n",
    "\n",
    "# 读取文件为 DataFrame\n",
    "df = pd.read_csv(r'./data/demo data/Products.csv')\n",
    "\n",
    "df"
   ]
  },
  {
   "cell_type": "markdown",
   "metadata": {},
   "source": [
    "但数据值里包括逗号的话 CSV 文件就会遇到问题。这可以靠采用不同分隔符解决，比如 `\\t` 或 `;` 等："
   ]
  },
  {
   "cell_type": "code",
   "execution_count": 16,
   "metadata": {},
   "outputs": [
    {
     "data": {
      "text/html": [
       "<div>\n",
       "<style scoped>\n",
       "    .dataframe tbody tr th:only-of-type {\n",
       "        vertical-align: middle;\n",
       "    }\n",
       "\n",
       "    .dataframe tbody tr th {\n",
       "        vertical-align: top;\n",
       "    }\n",
       "\n",
       "    .dataframe thead th {\n",
       "        text-align: right;\n",
       "    }\n",
       "</style>\n",
       "<table border=\"1\" class=\"dataframe\">\n",
       "  <thead>\n",
       "    <tr style=\"text-align: right;\">\n",
       "      <th></th>\n",
       "      <th>ID</th>\n",
       "      <th>Name</th>\n",
       "      <th>Job</th>\n",
       "    </tr>\n",
       "  </thead>\n",
       "  <tbody>\n",
       "    <tr>\n",
       "      <th>0</th>\n",
       "      <td>1</td>\n",
       "      <td>Tom</td>\n",
       "      <td>Full Stack</td>\n",
       "    </tr>\n",
       "    <tr>\n",
       "      <th>1</th>\n",
       "      <td>2</td>\n",
       "      <td>Jerry</td>\n",
       "      <td>Frontend</td>\n",
       "    </tr>\n",
       "    <tr>\n",
       "      <th>2</th>\n",
       "      <td>3</td>\n",
       "      <td>Merry</td>\n",
       "      <td>Backend</td>\n",
       "    </tr>\n",
       "    <tr>\n",
       "      <th>3</th>\n",
       "      <td>4</td>\n",
       "      <td>Jack</td>\n",
       "      <td>Data Science</td>\n",
       "    </tr>\n",
       "  </tbody>\n",
       "</table>\n",
       "</div>"
      ],
      "text/plain": [
       "   ID   Name           Job\n",
       "0   1    Tom    Full Stack\n",
       "1   2  Jerry      Frontend\n",
       "2   3  Merry       Backend\n",
       "3   4   Jack  Data Science"
      ]
     },
     "execution_count": 16,
     "metadata": {},
     "output_type": "execute_result"
    }
   ],
   "source": [
    "import pandas as pd\n",
    "\n",
    "df = pd.read_csv(r'./data/demo data/Employee.txt',delimiter='\\t')\n",
    "df"
   ]
  },
  {
   "cell_type": "markdown",
   "metadata": {},
   "source": [
    "### 读取 Excel 文件\n",
    "\n",
    "想必你对 Excel 文件不会陌生，谈到表格类数据必定少不了它。Pandas 提供了一个很方便的方法 `read_excel()` 读取 Excel 文件："
   ]
  },
  {
   "cell_type": "code",
   "execution_count": 1,
   "metadata": {},
   "outputs": [
    {
     "data": {
      "text/html": [
       "<div>\n",
       "<style scoped>\n",
       "    .dataframe tbody tr th:only-of-type {\n",
       "        vertical-align: middle;\n",
       "    }\n",
       "\n",
       "    .dataframe tbody tr th {\n",
       "        vertical-align: top;\n",
       "    }\n",
       "\n",
       "    .dataframe thead th {\n",
       "        text-align: right;\n",
       "    }\n",
       "</style>\n",
       "<table border=\"1\" class=\"dataframe\">\n",
       "  <thead>\n",
       "    <tr style=\"text-align: right;\">\n",
       "      <th></th>\n",
       "      <th>ID</th>\n",
       "      <th>City</th>\n",
       "      <th>Country</th>\n",
       "    </tr>\n",
       "  </thead>\n",
       "  <tbody>\n",
       "    <tr>\n",
       "      <th>0</th>\n",
       "      <td>1</td>\n",
       "      <td>Beijing</td>\n",
       "      <td>China</td>\n",
       "    </tr>\n",
       "    <tr>\n",
       "      <th>1</th>\n",
       "      <td>2</td>\n",
       "      <td>Tokyo</td>\n",
       "      <td>Japan</td>\n",
       "    </tr>\n",
       "    <tr>\n",
       "      <th>2</th>\n",
       "      <td>3</td>\n",
       "      <td>Delhi</td>\n",
       "      <td>India</td>\n",
       "    </tr>\n",
       "    <tr>\n",
       "      <th>3</th>\n",
       "      <td>4</td>\n",
       "      <td>Washington</td>\n",
       "      <td>America</td>\n",
       "    </tr>\n",
       "  </tbody>\n",
       "</table>\n",
       "</div>"
      ],
      "text/plain": [
       "   ID        City  Country\n",
       "0   1     Beijing    China\n",
       "1   2       Tokyo    Japan\n",
       "2   3       Delhi    India\n",
       "3   4  Washington  America"
      ]
     },
     "execution_count": 1,
     "metadata": {},
     "output_type": "execute_result"
    }
   ],
   "source": [
    "import pandas as pd\n",
    "\n",
    "df = pd.read_excel(r'./data/demo data/World_city.xlsx')\n",
    "\n",
    "df"
   ]
  },
  {
   "cell_type": "markdown",
   "metadata": {},
   "source": [
    "但 Excel 文件通常有多个表单，此时可以用 Pandas 的 `ExcelFile()` 方法打印文件内所有表单名称："
   ]
  },
  {
   "cell_type": "code",
   "execution_count": 2,
   "metadata": {},
   "outputs": [
    {
     "data": {
      "text/plain": [
       "['Asia', 'Europe', 'Africa']"
      ]
     },
     "execution_count": 2,
     "metadata": {},
     "output_type": "execute_result"
    }
   ],
   "source": [
    "# pandas 读取 Excel sheets\n",
    "\n",
    "xls = pd.ExcelFile(r'./data/demo data/World_city.xlsx')\n",
    "\n",
    "xls.sheet_names"
   ]
  },
  {
   "cell_type": "markdown",
   "metadata": {},
   "source": [
    "这样我们就可以通过参数 `sheet_name` 借助 `read_excel()` 方法读取任意表单内的数据了："
   ]
  },
  {
   "cell_type": "code",
   "execution_count": 3,
   "metadata": {},
   "outputs": [
    {
     "data": {
      "text/html": [
       "<div>\n",
       "<style scoped>\n",
       "    .dataframe tbody tr th:only-of-type {\n",
       "        vertical-align: middle;\n",
       "    }\n",
       "\n",
       "    .dataframe tbody tr th {\n",
       "        vertical-align: top;\n",
       "    }\n",
       "\n",
       "    .dataframe thead th {\n",
       "        text-align: right;\n",
       "    }\n",
       "</style>\n",
       "<table border=\"1\" class=\"dataframe\">\n",
       "  <thead>\n",
       "    <tr style=\"text-align: right;\">\n",
       "      <th></th>\n",
       "      <th>ID</th>\n",
       "      <th>City</th>\n",
       "      <th>Country</th>\n",
       "    </tr>\n",
       "  </thead>\n",
       "  <tbody>\n",
       "    <tr>\n",
       "      <th>0</th>\n",
       "      <td>1</td>\n",
       "      <td>London</td>\n",
       "      <td>Britain</td>\n",
       "    </tr>\n",
       "    <tr>\n",
       "      <th>1</th>\n",
       "      <td>2</td>\n",
       "      <td>Pairs</td>\n",
       "      <td>France</td>\n",
       "    </tr>\n",
       "    <tr>\n",
       "      <th>2</th>\n",
       "      <td>3</td>\n",
       "      <td>Berlin</td>\n",
       "      <td>Germany</td>\n",
       "    </tr>\n",
       "    <tr>\n",
       "      <th>3</th>\n",
       "      <td>4</td>\n",
       "      <td>Moscow</td>\n",
       "      <td>Russia</td>\n",
       "    </tr>\n",
       "  </tbody>\n",
       "</table>\n",
       "</div>"
      ],
      "text/plain": [
       "   ID    City  Country\n",
       "0   1  London  Britain\n",
       "1   2   Pairs   France\n",
       "2   3  Berlin  Germany\n",
       "3   4  Moscow   Russia"
      ]
     },
     "execution_count": 3,
     "metadata": {},
     "output_type": "execute_result"
    }
   ],
   "source": [
    "# 读取欧洲表单\n",
    "\n",
    "df = pd.read_excel(r'./data/demo data/World_city.xlsx', sheet_name='Europe')\n",
    "\n",
    "df"
   ]
  },
  {
   "cell_type": "markdown",
   "metadata": {},
   "source": [
    "### 从数据库导入\n",
    "\n",
    "实际项目中，免不了从项目数据库中提取数据（所以 SQL 还是得学滴）。数据在数据库中是以表格形式存储的，（一般）这些系统又名关系数据库管理系统（RDBMS），访问不同数据库需要不同的 PYthon 模块支持，比如 SQLite 需要 sqlite3，MySQL 需要 mysql-connector。\n",
    "\n",
    "一般的数据访问步骤为：\n",
    "\n",
    "1. 用 `connect()` 创建一个数据库连接，需要传入要访问的数据库名。它会返回一个 Connection 对象\n",
    "2. 用 `cursor()` 创建一个 cursor 对象，通过它实现操作数据的 SQL 指令\n",
    "3. 调用指针对象的 `execute()` 方法执行 SQL 命令。检索数据会用到 `SELECT` 语句，并将查询存入一个对象\n",
    "4. 将对象内数据读入 DataFrame 可以通过 `fetchone()` 读入一行，或是 `fetchcall()` 读取所有行\n",
    "\n",
    "一个好习惯是，即使只是读取数据，也用 `commit()` 方法将你的事务保存/提交。"
   ]
  },
  {
   "cell_type": "code",
   "execution_count": 38,
   "metadata": {},
   "outputs": [
    {
     "name": "stdout",
     "output_type": "stream",
     "text": [
      "Enter username: root\n",
      "Enter password: ········\n"
     ]
    },
    {
     "data": {
      "text/html": [
       "<div>\n",
       "<style scoped>\n",
       "    .dataframe tbody tr th:only-of-type {\n",
       "        vertical-align: middle;\n",
       "    }\n",
       "\n",
       "    .dataframe tbody tr th {\n",
       "        vertical-align: top;\n",
       "    }\n",
       "\n",
       "    .dataframe thead th {\n",
       "        text-align: right;\n",
       "    }\n",
       "</style>\n",
       "<table border=\"1\" class=\"dataframe\">\n",
       "  <thead>\n",
       "    <tr style=\"text-align: right;\">\n",
       "      <th></th>\n",
       "      <th>0</th>\n",
       "      <th>1</th>\n",
       "      <th>2</th>\n",
       "      <th>3</th>\n",
       "    </tr>\n",
       "  </thead>\n",
       "  <tbody>\n",
       "    <tr>\n",
       "      <th>0</th>\n",
       "      <td>10001</td>\n",
       "      <td>1001</td>\n",
       "      <td>韦恩-艾灵顿</td>\n",
       "      <td>1.93</td>\n",
       "    </tr>\n",
       "    <tr>\n",
       "      <th>1</th>\n",
       "      <td>10002</td>\n",
       "      <td>1001</td>\n",
       "      <td>雷吉-杰克逊</td>\n",
       "      <td>1.91</td>\n",
       "    </tr>\n",
       "    <tr>\n",
       "      <th>2</th>\n",
       "      <td>10003</td>\n",
       "      <td>1001</td>\n",
       "      <td>安德烈-德拉蒙德</td>\n",
       "      <td>2.11</td>\n",
       "    </tr>\n",
       "    <tr>\n",
       "      <th>3</th>\n",
       "      <td>10004</td>\n",
       "      <td>1001</td>\n",
       "      <td>索恩-马克</td>\n",
       "      <td>2.16</td>\n",
       "    </tr>\n",
       "    <tr>\n",
       "      <th>4</th>\n",
       "      <td>10005</td>\n",
       "      <td>1001</td>\n",
       "      <td>布鲁斯-布朗</td>\n",
       "      <td>1.96</td>\n",
       "    </tr>\n",
       "    <tr>\n",
       "      <th>5</th>\n",
       "      <td>10006</td>\n",
       "      <td>1001</td>\n",
       "      <td>兰斯顿-加洛韦</td>\n",
       "      <td>1.88</td>\n",
       "    </tr>\n",
       "    <tr>\n",
       "      <th>6</th>\n",
       "      <td>10007</td>\n",
       "      <td>1001</td>\n",
       "      <td>格伦-罗宾逊三世</td>\n",
       "      <td>1.98</td>\n",
       "    </tr>\n",
       "    <tr>\n",
       "      <th>7</th>\n",
       "      <td>10008</td>\n",
       "      <td>1001</td>\n",
       "      <td>伊斯梅尔-史密斯</td>\n",
       "      <td>1.83</td>\n",
       "    </tr>\n",
       "    <tr>\n",
       "      <th>8</th>\n",
       "      <td>10009</td>\n",
       "      <td>1001</td>\n",
       "      <td>扎扎-帕楚里亚</td>\n",
       "      <td>2.11</td>\n",
       "    </tr>\n",
       "    <tr>\n",
       "      <th>9</th>\n",
       "      <td>10010</td>\n",
       "      <td>1001</td>\n",
       "      <td>乔恩-洛伊尔</td>\n",
       "      <td>2.08</td>\n",
       "    </tr>\n",
       "  </tbody>\n",
       "</table>\n",
       "</div>"
      ],
      "text/plain": [
       "       0     1         2     3\n",
       "0  10001  1001    韦恩-艾灵顿  1.93\n",
       "1  10002  1001    雷吉-杰克逊  1.91\n",
       "2  10003  1001  安德烈-德拉蒙德  2.11\n",
       "3  10004  1001     索恩-马克  2.16\n",
       "4  10005  1001    布鲁斯-布朗  1.96\n",
       "5  10006  1001   兰斯顿-加洛韦  1.88\n",
       "6  10007  1001  格伦-罗宾逊三世  1.98\n",
       "7  10008  1001  伊斯梅尔-史密斯  1.83\n",
       "8  10009  1001   扎扎-帕楚里亚  2.11\n",
       "9  10010  1001    乔恩-洛伊尔  2.08"
      ]
     },
     "execution_count": 38,
     "metadata": {},
     "output_type": "execute_result"
    }
   ],
   "source": [
    "from getpass import getpass\n",
    "from mysql.connector import connect, Error\n",
    "\n",
    "# 连接数据库\n",
    "try:\n",
    "     db=connect(\n",
    "        host=\"localhost\",\n",
    "        user=input(\"Enter username: \"),\n",
    "        passwd=getpass(\"Enter password: \"),\n",
    "        database=\"nba\",\n",
    "        auth_plugin='mysql_native_password'\n",
    "    )\n",
    "except Error as e:\n",
    "    print(e)\n",
    "    \n",
    "# 获取游标\n",
    "cursor = db.cursor()\n",
    "\n",
    "# 执行查询操作\n",
    "cursor.execute(\"SELECT * FROM player LIMIT 10\")\n",
    "\n",
    "df = pd.DataFrame(cursor.fetchall())\n",
    "\n",
    "db.commit()\n",
    "\n",
    "df"
   ]
  },
  {
   "cell_type": "code",
   "execution_count": 40,
   "metadata": {},
   "outputs": [
    {
     "name": "stdout",
     "output_type": "stream",
     "text": [
      "team id:1001\n",
      "height:1.95\n"
     ]
    },
    {
     "data": {
      "text/html": [
       "<div>\n",
       "<style scoped>\n",
       "    .dataframe tbody tr th:only-of-type {\n",
       "        vertical-align: middle;\n",
       "    }\n",
       "\n",
       "    .dataframe tbody tr th {\n",
       "        vertical-align: top;\n",
       "    }\n",
       "\n",
       "    .dataframe thead th {\n",
       "        text-align: right;\n",
       "    }\n",
       "</style>\n",
       "<table border=\"1\" class=\"dataframe\">\n",
       "  <thead>\n",
       "    <tr style=\"text-align: right;\">\n",
       "      <th></th>\n",
       "      <th>0</th>\n",
       "      <th>1</th>\n",
       "    </tr>\n",
       "  </thead>\n",
       "  <tbody>\n",
       "    <tr>\n",
       "      <th>0</th>\n",
       "      <td>10003</td>\n",
       "      <td>安德烈-德拉蒙德</td>\n",
       "    </tr>\n",
       "    <tr>\n",
       "      <th>1</th>\n",
       "      <td>10004</td>\n",
       "      <td>索恩-马克</td>\n",
       "    </tr>\n",
       "    <tr>\n",
       "      <th>2</th>\n",
       "      <td>10005</td>\n",
       "      <td>布鲁斯-布朗</td>\n",
       "    </tr>\n",
       "    <tr>\n",
       "      <th>3</th>\n",
       "      <td>10007</td>\n",
       "      <td>格伦-罗宾逊三世</td>\n",
       "    </tr>\n",
       "    <tr>\n",
       "      <th>4</th>\n",
       "      <td>10009</td>\n",
       "      <td>扎扎-帕楚里亚</td>\n",
       "    </tr>\n",
       "    <tr>\n",
       "      <th>5</th>\n",
       "      <td>10010</td>\n",
       "      <td>乔恩-洛伊尔</td>\n",
       "    </tr>\n",
       "    <tr>\n",
       "      <th>6</th>\n",
       "      <td>10011</td>\n",
       "      <td>布雷克-格里芬</td>\n",
       "    </tr>\n",
       "    <tr>\n",
       "      <th>7</th>\n",
       "      <td>10012</td>\n",
       "      <td>雷吉-巴洛克</td>\n",
       "    </tr>\n",
       "    <tr>\n",
       "      <th>8</th>\n",
       "      <td>10013</td>\n",
       "      <td>卢克-肯纳德</td>\n",
       "    </tr>\n",
       "    <tr>\n",
       "      <th>9</th>\n",
       "      <td>10014</td>\n",
       "      <td>斯坦利-约翰逊</td>\n",
       "    </tr>\n",
       "    <tr>\n",
       "      <th>10</th>\n",
       "      <td>10015</td>\n",
       "      <td>亨利-埃伦森</td>\n",
       "    </tr>\n",
       "    <tr>\n",
       "      <th>11</th>\n",
       "      <td>10018</td>\n",
       "      <td>斯维亚托斯拉夫-米凯卢克</td>\n",
       "    </tr>\n",
       "  </tbody>\n",
       "</table>\n",
       "</div>"
      ],
      "text/plain": [
       "        0             1\n",
       "0   10003      安德烈-德拉蒙德\n",
       "1   10004         索恩-马克\n",
       "2   10005        布鲁斯-布朗\n",
       "3   10007      格伦-罗宾逊三世\n",
       "4   10009       扎扎-帕楚里亚\n",
       "5   10010        乔恩-洛伊尔\n",
       "6   10011       布雷克-格里芬\n",
       "7   10012        雷吉-巴洛克\n",
       "8   10013        卢克-肯纳德\n",
       "9   10014       斯坦利-约翰逊\n",
       "10  10015        亨利-埃伦森\n",
       "11  10018  斯维亚托斯拉夫-米凯卢克"
      ]
     },
     "execution_count": 40,
     "metadata": {},
     "output_type": "execute_result"
    }
   ],
   "source": [
    "team_id = int(input(\"team id: \"))\n",
    "height = float(input(\"height: \"))\n",
    "\n",
    "select_query =\"\"\"\n",
    "SELECT player_id,player_name FROM player\n",
    "WHERE team_id=%d AND height > %f;\n",
    "\"\"\" % (team_id, height)\n",
    "\n",
    "cursor.execute(select_query)\n",
    "\n",
    "df = pd.DataFrame(cursor.fetchall())\n",
    "\n",
    "db.commit()\n",
    "\n",
    "df"
   ]
  },
  {
   "cell_type": "code",
   "execution_count": 41,
   "metadata": {},
   "outputs": [],
   "source": [
    "# 关闭数据库\n",
    "cursor.close()\n",
    "db.close()"
   ]
  },
  {
   "cell_type": "markdown",
   "metadata": {},
   "source": [
    "### JSON 文件处理\n",
    "\n",
    "**JSON (JavaScript Object Notation)** 是用于数据存储、交换的轻量可读文件格式。机器很容易解析、生成这些文件。\n",
    "\n",
    "JSON 中的数据用类似 Python 字典的方式存在 `{}` 中，JSON 是语言独立的，一般文件长这样：\n",
    "\n",
    "![](https://raw.githubusercontent.com/LibertyDream/diy_img_host/master/img/2020-12-31_json_style.png)\n",
    "\n",
    "Python 提供了 `json` 模块来读取 JSON 文件，像读文本一样简单。只不过这里的读方法变成了 `json.load()`，其返回一个 JSON 字典。\n",
    "\n",
    "接着就可以用 `pandas.DataFrame()` 方法将其转换成 Pandas dataframe 格式了。"
   ]
  },
  {
   "cell_type": "code",
   "execution_count": 44,
   "metadata": {},
   "outputs": [
    {
     "name": "stdout",
     "output_type": "stream",
     "text": [
      "<class 'dict'>\n"
     ]
    },
    {
     "data": {
      "text/html": [
       "<div>\n",
       "<style scoped>\n",
       "    .dataframe tbody tr th:only-of-type {\n",
       "        vertical-align: middle;\n",
       "    }\n",
       "\n",
       "    .dataframe tbody tr th {\n",
       "        vertical-align: top;\n",
       "    }\n",
       "\n",
       "    .dataframe thead th {\n",
       "        text-align: right;\n",
       "    }\n",
       "</style>\n",
       "<table border=\"1\" class=\"dataframe\">\n",
       "  <thead>\n",
       "    <tr style=\"text-align: right;\">\n",
       "      <th></th>\n",
       "      <th>firstName</th>\n",
       "      <th>lastName</th>\n",
       "      <th>hobbies</th>\n",
       "      <th>age</th>\n",
       "    </tr>\n",
       "  </thead>\n",
       "  <tbody>\n",
       "    <tr>\n",
       "      <th>0</th>\n",
       "      <td>Jane</td>\n",
       "      <td>Doe</td>\n",
       "      <td>[running, sky diving, singing]</td>\n",
       "      <td>35</td>\n",
       "    </tr>\n",
       "    <tr>\n",
       "      <th>1</th>\n",
       "      <td>Teddy</td>\n",
       "      <td>Dunken</td>\n",
       "      <td>[reading, singing, swimming]</td>\n",
       "      <td>40</td>\n",
       "    </tr>\n",
       "  </tbody>\n",
       "</table>\n",
       "</div>"
      ],
      "text/plain": [
       "  firstName lastName                         hobbies  age\n",
       "0      Jane      Doe  [running, sky diving, singing]   35\n",
       "1     Teddy   Dunken    [reading, singing, swimming]   40"
      ]
     },
     "execution_count": 44,
     "metadata": {},
     "output_type": "execute_result"
    }
   ],
   "source": [
    "import json\n",
    "\n",
    "with open(r'./data/demo data/sample_json.json','r') as file:\n",
    "    data = json.load(file)\n",
    "    \n",
    "print(type(data))\n",
    "\n",
    "df_json = pd.DataFrame(data)\n",
    "df_json"
   ]
  },
  {
   "cell_type": "markdown",
   "metadata": {},
   "source": [
    "你甚至可以用 `pandas.read_json()` 直接将 JSON 文件读入 dataframe："
   ]
  },
  {
   "cell_type": "code",
   "execution_count": 45,
   "metadata": {},
   "outputs": [
    {
     "data": {
      "text/html": [
       "<div>\n",
       "<style scoped>\n",
       "    .dataframe tbody tr th:only-of-type {\n",
       "        vertical-align: middle;\n",
       "    }\n",
       "\n",
       "    .dataframe tbody tr th {\n",
       "        vertical-align: top;\n",
       "    }\n",
       "\n",
       "    .dataframe thead th {\n",
       "        text-align: right;\n",
       "    }\n",
       "</style>\n",
       "<table border=\"1\" class=\"dataframe\">\n",
       "  <thead>\n",
       "    <tr style=\"text-align: right;\">\n",
       "      <th></th>\n",
       "      <th>firstName</th>\n",
       "      <th>lastName</th>\n",
       "      <th>hobbies</th>\n",
       "      <th>age</th>\n",
       "    </tr>\n",
       "  </thead>\n",
       "  <tbody>\n",
       "    <tr>\n",
       "      <th>0</th>\n",
       "      <td>Jane</td>\n",
       "      <td>Doe</td>\n",
       "      <td>[running, sky diving, singing]</td>\n",
       "      <td>35</td>\n",
       "    </tr>\n",
       "    <tr>\n",
       "      <th>1</th>\n",
       "      <td>Teddy</td>\n",
       "      <td>Dunken</td>\n",
       "      <td>[reading, singing, swimming]</td>\n",
       "      <td>40</td>\n",
       "    </tr>\n",
       "  </tbody>\n",
       "</table>\n",
       "</div>"
      ],
      "text/plain": [
       "  firstName lastName                         hobbies  age\n",
       "0      Jane      Doe  [running, sky diving, singing]   35\n",
       "1     Teddy   Dunken    [reading, singing, swimming]   40"
      ]
     },
     "execution_count": 45,
     "metadata": {},
     "output_type": "execute_result"
    }
   ],
   "source": [
    "path = r'./data/demo data/sample_json.json'\n",
    "df = pd.read_json(path)\n",
    "df"
   ]
  },
  {
   "cell_type": "markdown",
   "metadata": {},
   "source": [
    "### 读取 Pickle 文件\n",
    "\n",
    "Pickle 文件常用于存储 Python 序列化对象，也就是说像 list，set，tuple，dict 这些在存入磁盘前先被转换成了字符流。这可以让你之后继续使用对象，当训练完模型想存起来之后预测用时，这就能派上用场了。\n",
    "\n",
    "所以，如果存储前将文件序列化了，用之前就得先反序列化，这可以通过 `pickle` 模块的 `pickle.load()` 方法实现。在用 `open()` 打开 pickle 文件时候记得得用 `rb` 做参数。"
   ]
  },
  {
   "cell_type": "markdown",
   "metadata": {},
   "source": [
    "### Web 抓取\n"
   ]
  },
  {
   "cell_type": "markdown",
   "metadata": {},
   "source": [
    "### 用 PIL 读取图像"
   ]
  },
  {
   "cell_type": "markdown",
   "metadata": {},
   "source": [
    "### 用 Glob 读取多个文件"
   ]
  },
  {
   "cell_type": "markdown",
   "metadata": {},
   "source": [
    "---\n",
    "\n",
    "作者：Daniel Meng\n",
    "\n",
    "GitHub: [LibertyDream](https://github.com/LibertyDream)\n",
    "\n",
    "博客：[明月轩](https://libertydream.github.io/)"
   ]
  }
 ],
 "metadata": {
  "kernelspec": {
   "display_name": "Python 3.7.3 64-bit ('base': conda)",
   "language": "python",
   "name": "python37364bitbaseconda1352242ab2324fd7b4ed96af63682f18"
  },
  "language_info": {
   "codemirror_mode": {
    "name": "ipython",
    "version": 3
   },
   "file_extension": ".py",
   "mimetype": "text/x-python",
   "name": "python",
   "nbconvert_exporter": "python",
   "pygments_lexer": "ipython3",
   "version": "3.7.9"
  }
 },
 "nbformat": 4,
 "nbformat_minor": 4
}
