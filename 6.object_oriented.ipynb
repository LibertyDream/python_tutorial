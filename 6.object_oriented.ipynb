{
 "cells": [
  {
   "cell_type": "markdown",
   "metadata": {},
   "source": [
    "# Python3简明教程——面向对象\n",
    "\n",
    "#### 作者：一轩明月\n",
    "\n",
    "编程就是和计算机对话，告诉计算机做什么、怎么做。而当代计算机的外貌或许不同，但其实质都差不多，因为他们都是按照**冯诺依曼架构**设计的，冯诺依曼架构设计计算机讲究**存储程序**，即程序和数据都存放在一起\n",
    "\n",
    "而对于怎么放，一开始人们**按照机器运行的思路**，需要数据就先准备好数据，处理数据所需的函数与算法也准备好，然后运行程序，按照一定顺序执行语句，以完成任务。这就是**面向过程**的编程\n",
    "\n",
    "当程序越来越复杂，简单的“顺序”堆放数据和程序给项目开发带来了巨大的效率瓶颈。于是人们开始**按照人类认识世界的方式**重新将程序和数据围绕着某个意义组织起来，这就是**面向对象**的编程\n",
    "\n",
    "面向对象编程有两个核心概念，一是**类**，一个是**对象**。类就是人类认识世界时所相信的那些意义，是对世界的抽象，比如教师，学生，国家，公司。而对象是类的实例化，比如孔子，颜回，中国，腾讯。\n",
    "\n",
    "**使用类和对象进行编程不代表就是面向对象，尽量编写有意义的面向对象代码**\n",
    "\n",
    "## 类的定义\n",
    "\n",
    "Python中使用关键字`class`定义类，类的命名推荐**每个单词首字母大写**。类内可以像模块一样定义变量和方法。"
   ]
  },
  {
   "cell_type": "code",
   "execution_count": null,
   "metadata": {},
   "outputs": [],
   "source": [
    "class Student():  # 简单的类定义，但有错误\n",
    "    age = 0\n",
    "    name = ''\n",
    "    \n",
    "    def print_student_details():\n",
    "        print(\"name: %s, age: %s\":(name, age))"
   ]
  },
  {
   "cell_type": "markdown",
   "metadata": {},
   "source": [
    "使用类要先将类实例化，通过`ClassName()`的方式进行，可以将实例化的结果赋值给一个变量。Python中类的实例化不必像 C++ 或者 Java 一样借助`new`关键字"
   ]
  },
  {
   "cell_type": "code",
   "execution_count": null,
   "metadata": {},
   "outputs": [],
   "source": [
    "student = Student()"
   ]
  },
  {
   "cell_type": "markdown",
   "metadata": {},
   "source": [
    "实例化后，使用`.`操作符访问类中的变量和方法"
   ]
  },
  {
   "cell_type": "code",
   "execution_count": null,
   "metadata": {},
   "outputs": [],
   "source": [
    "student.print_student_details()"
   ]
  },
  {
   "cell_type": "markdown",
   "metadata": {},
   "source": [
    "类中的方法当然能像函数定义一样不接收参数，但即使如此，类中方法也需要在定义时最少传入`self`作为参数"
   ]
  },
  {
   "cell_type": "code",
   "execution_count": 10,
   "metadata": {},
   "outputs": [
    {
     "ename": "TypeError",
     "evalue": "print_student_details() takes 0 positional arguments but 1 was given",
     "output_type": "error",
     "traceback": [
      "\u001b[1;31m---------------------------------------------------------------------------\u001b[0m",
      "\u001b[1;31mTypeError\u001b[0m                                 Traceback (most recent call last)",
      "\u001b[1;32m<ipython-input-10-060aad832b66>\u001b[0m in \u001b[0;36m<module>\u001b[1;34m()\u001b[0m\n\u001b[0;32m      7\u001b[0m \u001b[1;33m\u001b[0m\u001b[0m\n\u001b[0;32m      8\u001b[0m \u001b[0mstudent\u001b[0m \u001b[1;33m=\u001b[0m \u001b[0mStudent\u001b[0m\u001b[1;33m(\u001b[0m\u001b[1;33m)\u001b[0m\u001b[1;33m\u001b[0m\u001b[0m\n\u001b[1;32m----> 9\u001b[1;33m \u001b[0mstudent\u001b[0m\u001b[1;33m.\u001b[0m\u001b[0mprint_student_details\u001b[0m\u001b[1;33m(\u001b[0m\u001b[1;33m)\u001b[0m\u001b[1;33m\u001b[0m\u001b[0m\n\u001b[0m",
      "\u001b[1;31mTypeError\u001b[0m: print_student_details() takes 0 positional arguments but 1 was given"
     ]
    }
   ],
   "source": [
    "class Student():\n",
    "    age = 0\n",
    "    name = ''\n",
    "    \n",
    "    def print_student_details():  # 最少要有self作为参数\n",
    "        print('name: %s, age: %s' % (name, age))\n",
    "        \n",
    "student = Student()\n",
    "student.print_student_details()"
   ]
  },
  {
   "cell_type": "markdown",
   "metadata": {},
   "source": [
    "其次，模块中的变量使用时按照`var_name`形式定义即可通过`var_name`调用，但类里的变量在使用时必须通过`self.var_name`的方式调用"
   ]
  },
  {
   "cell_type": "code",
   "execution_count": 11,
   "metadata": {},
   "outputs": [
    {
     "ename": "NameError",
     "evalue": "name 'name' is not defined",
     "output_type": "error",
     "traceback": [
      "\u001b[1;31m---------------------------------------------------------------------------\u001b[0m",
      "\u001b[1;31mNameError\u001b[0m                                 Traceback (most recent call last)",
      "\u001b[1;32m<ipython-input-11-ebf2d7303933>\u001b[0m in \u001b[0;36m<module>\u001b[1;34m()\u001b[0m\n\u001b[0;32m      7\u001b[0m \u001b[1;33m\u001b[0m\u001b[0m\n\u001b[0;32m      8\u001b[0m \u001b[0mstudent\u001b[0m \u001b[1;33m=\u001b[0m \u001b[0mStudent\u001b[0m\u001b[1;33m(\u001b[0m\u001b[1;33m)\u001b[0m\u001b[1;33m\u001b[0m\u001b[0m\n\u001b[1;32m----> 9\u001b[1;33m \u001b[0mstudent\u001b[0m\u001b[1;33m.\u001b[0m\u001b[0mprint_student_details\u001b[0m\u001b[1;33m(\u001b[0m\u001b[1;33m)\u001b[0m\u001b[1;33m\u001b[0m\u001b[0m\n\u001b[0m",
      "\u001b[1;32m<ipython-input-11-ebf2d7303933>\u001b[0m in \u001b[0;36mprint_student_details\u001b[1;34m(self)\u001b[0m\n\u001b[0;32m      4\u001b[0m \u001b[1;33m\u001b[0m\u001b[0m\n\u001b[0;32m      5\u001b[0m     \u001b[1;32mdef\u001b[0m \u001b[0mprint_student_details\u001b[0m\u001b[1;33m(\u001b[0m\u001b[0mself\u001b[0m\u001b[1;33m)\u001b[0m\u001b[1;33m:\u001b[0m\u001b[1;33m\u001b[0m\u001b[0m\n\u001b[1;32m----> 6\u001b[1;33m         \u001b[0mprint\u001b[0m\u001b[1;33m(\u001b[0m\u001b[1;34m'name: %s, age: %s'\u001b[0m \u001b[1;33m%\u001b[0m \u001b[1;33m(\u001b[0m\u001b[0mname\u001b[0m\u001b[1;33m,\u001b[0m \u001b[0mage\u001b[0m\u001b[1;33m)\u001b[0m\u001b[1;33m)\u001b[0m\u001b[1;33m\u001b[0m\u001b[0m\n\u001b[0m\u001b[0;32m      7\u001b[0m \u001b[1;33m\u001b[0m\u001b[0m\n\u001b[0;32m      8\u001b[0m \u001b[0mstudent\u001b[0m \u001b[1;33m=\u001b[0m \u001b[0mStudent\u001b[0m\u001b[1;33m(\u001b[0m\u001b[1;33m)\u001b[0m\u001b[1;33m\u001b[0m\u001b[0m\n",
      "\u001b[1;31mNameError\u001b[0m: name 'name' is not defined"
     ]
    }
   ],
   "source": [
    "class Student():\n",
    "    age = 0\n",
    "    name = ''\n",
    "    \n",
    "    def print_student_details(self):\n",
    "        print('name: %s, age: %s' % (name, age))  # 调用类里的变量必须使用 self.var_name方式\n",
    "        \n",
    "student = Student()\n",
    "student.print_student_details()"
   ]
  },
  {
   "cell_type": "code",
   "execution_count": 12,
   "metadata": {},
   "outputs": [
    {
     "name": "stdout",
     "output_type": "stream",
     "text": [
      "name: , age: 0\n"
     ]
    }
   ],
   "source": [
    "class Student():  # 正确的类定义\n",
    "    age = 0\n",
    "    name = ''\n",
    "    \n",
    "    def print_student_details(self):\n",
    "        print('name: %s, age: %s' % (self.name, self.age))\n",
    "        \n",
    "student = Student()\n",
    "student.print_student_details()"
   ]
  },
  {
   "cell_type": "markdown",
   "metadata": {},
   "source": [
    "如此我们就将变量`name`，`age`和方法`print_student_details`装在了`Student`这个类中。这就体现了类最基本的功能——**封装**，每个类都有自己的一些变量和方法。\n",
    "\n",
    "注意，**类中只能定义方法而不能使用**"
   ]
  },
  {
   "cell_type": "code",
   "execution_count": 13,
   "metadata": {},
   "outputs": [
    {
     "ename": "TypeError",
     "evalue": "print_student_details() missing 1 required positional argument: 'self'",
     "output_type": "error",
     "traceback": [
      "\u001b[1;31m---------------------------------------------------------------------------\u001b[0m",
      "\u001b[1;31mTypeError\u001b[0m                                 Traceback (most recent call last)",
      "\u001b[1;32m<ipython-input-13-218f236d950c>\u001b[0m in \u001b[0;36m<module>\u001b[1;34m()\u001b[0m\n\u001b[1;32m----> 1\u001b[1;33m \u001b[1;32mclass\u001b[0m \u001b[0mStudent\u001b[0m\u001b[1;33m(\u001b[0m\u001b[1;33m)\u001b[0m\u001b[1;33m:\u001b[0m\u001b[1;33m\u001b[0m\u001b[0m\n\u001b[0m\u001b[0;32m      2\u001b[0m     \u001b[0mage\u001b[0m \u001b[1;33m=\u001b[0m \u001b[1;36m0\u001b[0m\u001b[1;33m\u001b[0m\u001b[0m\n\u001b[0;32m      3\u001b[0m     \u001b[0mname\u001b[0m \u001b[1;33m=\u001b[0m \u001b[1;34m''\u001b[0m\u001b[1;33m\u001b[0m\u001b[0m\n\u001b[0;32m      4\u001b[0m \u001b[1;33m\u001b[0m\u001b[0m\n\u001b[0;32m      5\u001b[0m     \u001b[1;32mdef\u001b[0m \u001b[0mprint_student_details\u001b[0m\u001b[1;33m(\u001b[0m\u001b[0mself\u001b[0m\u001b[1;33m)\u001b[0m\u001b[1;33m:\u001b[0m\u001b[1;33m\u001b[0m\u001b[0m\n",
      "\u001b[1;32m<ipython-input-13-218f236d950c>\u001b[0m in \u001b[0;36mStudent\u001b[1;34m()\u001b[0m\n\u001b[0;32m      6\u001b[0m         \u001b[0mprint\u001b[0m\u001b[1;33m(\u001b[0m\u001b[1;34m'name: %s, age: %s'\u001b[0m \u001b[1;33m%\u001b[0m \u001b[1;33m(\u001b[0m\u001b[0mself\u001b[0m\u001b[1;33m.\u001b[0m\u001b[0mname\u001b[0m\u001b[1;33m,\u001b[0m \u001b[0mself\u001b[0m\u001b[1;33m.\u001b[0m\u001b[0mage\u001b[0m\u001b[1;33m)\u001b[0m\u001b[1;33m)\u001b[0m\u001b[1;33m\u001b[0m\u001b[0m\n\u001b[0;32m      7\u001b[0m \u001b[1;33m\u001b[0m\u001b[0m\n\u001b[1;32m----> 8\u001b[1;33m     \u001b[0mprint_student_details\u001b[0m\u001b[1;33m(\u001b[0m\u001b[1;33m)\u001b[0m  \u001b[1;31m# 类中不能调用方法\u001b[0m\u001b[1;33m\u001b[0m\u001b[0m\n\u001b[0m",
      "\u001b[1;31mTypeError\u001b[0m: print_student_details() missing 1 required positional argument: 'self'"
     ]
    }
   ],
   "source": [
    "class Student():\n",
    "    age = 0\n",
    "    name = ''\n",
    "    \n",
    "    def print_student_details(self):\n",
    "        print('name: %s, age: %s' % (self.name, self.age))\n",
    "    \n",
    "    print_student_details()  # 类中不能调用方法\n"
   ]
  },
  {
   "cell_type": "markdown",
   "metadata": {},
   "source": [
    "在编程实践中，**类的定义和类的调用应该分属不同模块，避免在同一模块中即定义又使用**\n",
    "\n",
    "在一个模块定义好类后，可以在其他模块内通过`from module_name import class_name`的方式导入类，再实例化类进行使用\n",
    "\n",
    "> 方法和函数形式和功用都很类似，但方法的概念更偏向设计层面，讲究作为意义的一部分，而函数的概念更像是程序运行时的一种过程式的称谓。\n",
    "\n",
    "> 类里面的变量也叫做数据成员、属性，和方法一起构成了类。二者对应于意义的属性和行为，比如老师这一抽象具有教师编号等属性，还有留作业等行为\n",
    "\n",
    "### 类和对象\n",
    "\n",
    "通过上面的介绍和样例，应该已经知道怎么定义和使用类，但怎么理解类和对象呢？\n",
    "\n",
    "专业的定义中，类是现实世界或思维世界中的实体在计算机中的反应，它将数据及这些数据上的操作封装在一起。现实或认知里有的东西（概念、意义等）映射到计算机世界中就化身为一个类，比如学生，猫，狗。这些概念本身包含了一些独有的特征和行为，比如学生有学号、学历特征，要会做作业和考试，猫有叫声、花纹特征，要能捉老鼠、爬树。\n",
    "\n",
    "这些概念所蕴含的**独有特征**就是类里的数据，也叫做**数据成员或者属性**，概念本身所蕴含的**独有行为**就是类里的**方法**。\n",
    "\n",
    "**方法、属性和类所代表的概念(意义)要对应，这是类的设计原则，也是编程艺术的体现。**这时我们再来看一下上面`Student`类的设计："
   ]
  },
  {
   "cell_type": "code",
   "execution_count": null,
   "metadata": {},
   "outputs": [],
   "source": [
    "class Student():\n",
    "    age = 0\n",
    "    name = ''\n",
    "    \n",
    "    def print_student_details(self):\n",
    "        print('name: %s, age: %s' % (self.name, self.age))"
   ]
  },
  {
   "cell_type": "markdown",
   "metadata": {},
   "source": [
    "学生当然有年龄、姓名的属性，但是`print_student_details`这个打印学生档案的方法并不是学生自有的行为，学生的行为应该是做作业、考试、听课等。打印学生信息应该交给另一个类，比如打印类`Printer`"
   ]
  },
  {
   "cell_type": "code",
   "execution_count": null,
   "metadata": {},
   "outputs": [],
   "source": [
    "class Student():\n",
    "    age = 0\n",
    "    name = ''\n",
    "    \n",
    "    def do_homework(self):\n",
    "        pass\n",
    "    \n",
    "class Printer():\n",
    "    \n",
    "    def print_info(self):\n",
    "        pass"
   ]
  },
  {
   "cell_type": "markdown",
   "metadata": {},
   "source": [
    "类既然是一类事物的总称，那么这一类事物中的每一个独特的个体就是对象，所以也说**对象是类的实例化**。类告诉我们有什么属性和方法， 对象告诉我们属性具体是什么，也是具体行为的执行者，当想要使用类的时候请实例化一个对象去做吧，正如生活中老师下达任务给学生做，最后总要指明是给李蕾、韩梅梅或是其他人，一定落实在人上，而不是学生这样一个概念上。\n",
    "\n",
    "生活中学生可能拥有相同的年龄、名字，但每个学生都是独一无二的个体。计算机中也一样，对象属性可以相同，但每个对象都是独一无二的，可以通过`id`查看"
   ]
  },
  {
   "cell_type": "code",
   "execution_count": 2,
   "metadata": {},
   "outputs": [],
   "source": [
    "class Student():\n",
    "    name = 'Li Lei'\n",
    "    age = 18\n",
    "    \n",
    "    def do_homework(self):\n",
    "        print('I am doing homework')"
   ]
  },
  {
   "cell_type": "code",
   "execution_count": 3,
   "metadata": {},
   "outputs": [
    {
     "name": "stdout",
     "output_type": "stream",
     "text": [
      "student1   name: Li Lei, age: 18\n",
      "student2   name: Li Lei, age: 18\n"
     ]
    }
   ],
   "source": [
    "student1 = Student()\n",
    "student2 = Student()\n",
    "\n",
    "print('student1   name: %s, age: %s' % (student1.name, student1.age))  # 两名学生姓名、年龄相同\n",
    "print('student2   name: %s, age: %s' % (student2.name, student2.age))"
   ]
  },
  {
   "cell_type": "code",
   "execution_count": 5,
   "metadata": {},
   "outputs": [
    {
     "name": "stdout",
     "output_type": "stream",
     "text": [
      "student1 id:2510290950128, student2 id: 2510290950464\n"
     ]
    }
   ],
   "source": [
    "print('student1 id:%s, student2 id: %s' % (id(student1), id(student2)))  # 内存位置并不相同"
   ]
  },
  {
   "cell_type": "markdown",
   "metadata": {},
   "source": [
    "## 构造函数\n",
    "\n",
    "上面我们创建学生对象的时候都是使用`Student`类下数据成员的默认值，并不能自由“定制”属性。我们希望能像函数那样，自行决定参数值，来定制对象属性，类里面通过一个名为**构造函数**的方法实现这个功能——`__init__`,注意是双下划线，这也是构造函数唯一的名字。构造函数也和其他方法一样最少需要`self`作为参数。"
   ]
  },
  {
   "cell_type": "code",
   "execution_count": 8,
   "metadata": {},
   "outputs": [],
   "source": [
    "class Student():\n",
    "    \n",
    "    name = ''\n",
    "    age = 18\n",
    "    \n",
    "    def __init__(self):\n",
    "        print('object is created.')\n",
    "    \n",
    "    def do_homework(self):\n",
    "        print('I am doing homework!')"
   ]
  },
  {
   "cell_type": "markdown",
   "metadata": {},
   "source": [
    "构造函数的功能就是建构对象，按照我们希望的方式初始化对象属性，在实例化类的时候会自动运行。虽然能通过`.`操作符调用构造函数，但强烈建议不要这样做。"
   ]
  },
  {
   "cell_type": "code",
   "execution_count": 9,
   "metadata": {},
   "outputs": [
    {
     "name": "stdout",
     "output_type": "stream",
     "text": [
      "object is created.\n",
      "object is created.\n"
     ]
    }
   ],
   "source": [
    "some_student = Student()  # 自动执行构造函数，打印一遍\n",
    "some_student.__init__()  # 手动调用，打印一遍。  强烈建议不要这样做"
   ]
  },
  {
   "cell_type": "markdown",
   "metadata": {},
   "source": [
    "构造函数有且仅有唯一默认返回值`None` 。不能自定义返回其他值。"
   ]
  },
  {
   "cell_type": "code",
   "execution_count": 11,
   "metadata": {},
   "outputs": [
    {
     "name": "stdout",
     "output_type": "stream",
     "text": [
      "object is created.\n",
      "None\n"
     ]
    },
    {
     "data": {
      "text/plain": [
       "NoneType"
      ]
     },
     "execution_count": 11,
     "metadata": {},
     "output_type": "execute_result"
    }
   ],
   "source": [
    "rst = some_student.__init__()\n",
    "\n",
    "print(rst)\n",
    "type(rst)"
   ]
  },
  {
   "cell_type": "code",
   "execution_count": 13,
   "metadata": {},
   "outputs": [
    {
     "name": "stdout",
     "output_type": "stream",
     "text": [
      "object is created.\n"
     ]
    },
    {
     "ename": "TypeError",
     "evalue": "__init__() should return None, not 'str'",
     "output_type": "error",
     "traceback": [
      "\u001b[1;31m---------------------------------------------------------------------------\u001b[0m",
      "\u001b[1;31mTypeError\u001b[0m                                 Traceback (most recent call last)",
      "\u001b[1;32m<ipython-input-13-c68d4c58d7b4>\u001b[0m in \u001b[0;36m<module>\u001b[1;34m()\u001b[0m\n\u001b[0;32m     11\u001b[0m         \u001b[0mprint\u001b[0m\u001b[1;33m(\u001b[0m\u001b[1;34m'I am doing homework!'\u001b[0m\u001b[1;33m)\u001b[0m\u001b[1;33m\u001b[0m\u001b[0m\n\u001b[0;32m     12\u001b[0m \u001b[1;33m\u001b[0m\u001b[0m\n\u001b[1;32m---> 13\u001b[1;33m \u001b[0msome_student\u001b[0m \u001b[1;33m=\u001b[0m \u001b[0mStudent\u001b[0m\u001b[1;33m(\u001b[0m\u001b[1;33m)\u001b[0m\u001b[1;33m\u001b[0m\u001b[0m\n\u001b[0m",
      "\u001b[1;31mTypeError\u001b[0m: __init__() should return None, not 'str'"
     ]
    }
   ],
   "source": [
    "class Student():\n",
    "    \n",
    "    name = ''\n",
    "    age = 18\n",
    "    \n",
    "    def __init__(self):\n",
    "        print('object is created.')\n",
    "        return 'create a object'  # 构造函数返回值只能是 None\n",
    "    \n",
    "    def do_homework(self):\n",
    "        print('I am doing homework!')\n",
    "\n",
    "some_student = Student()"
   ]
  },
  {
   "cell_type": "markdown",
   "metadata": {},
   "source": [
    "### 类变量和实例变量\n",
    "\n",
    "可以在`self`之后给出构建对象时外部要传入的参数列表，通常都是必须参数。但类中的赋值规则和模块里函数中的赋值规则不同，因为接收值的变量可能不是同一个。\n",
    "\n",
    "为作解释我们重新定义一下`Student`类"
   ]
  },
  {
   "cell_type": "code",
   "execution_count": 21,
   "metadata": {},
   "outputs": [],
   "source": [
    "class Student():\n",
    "    \n",
    "    name = 'Wu Ming'\n",
    "    age = 18\n",
    "    \n",
    "    def __init__(self, name, age):\n",
    "        name = name  # Python能识别出这是为左边的 name 变量赋值， 形参是右边的 name\n",
    "        age = age\n",
    "    \n",
    "    def do_homework(self):\n",
    "        print('I am doing homework!')"
   ]
  },
  {
   "cell_type": "markdown",
   "metadata": {},
   "source": [
    "新的`Student`类在实例化的时候要指明姓名和年龄，类中属性的默认值是`Wu Ming`和`18`。我们构造两个对象并输出各自的姓名、年龄"
   ]
  },
  {
   "cell_type": "code",
   "execution_count": 16,
   "metadata": {},
   "outputs": [
    {
     "name": "stdout",
     "output_type": "stream",
     "text": [
      "Student1   name: Wu Ming, age: 18\n",
      "Student2   name: Wu Ming, age: 18\n"
     ]
    }
   ],
   "source": [
    "li_lei = Student('Li Lei', 21)\n",
    "han_mei_mei = Student('Han Meimei', 20)\n",
    "\n",
    "print('Student1   name: %s, age: %s' % (li_lei.name, li_lei.age))\n",
    "print('Student2   name: %s, age: %s' % (han_mei_mei.name, han_mei_mei.age))"
   ]
  },
  {
   "cell_type": "markdown",
   "metadata": {},
   "source": [
    "打印结果似乎有些奇怪，我们给出了两个对象的姓名与年纪，为什么打印值仍旧是默认值呢？这里涉及到了两个概念——类变量和实例变量\n",
    "\n",
    "顾名思义，**类变量**是指属于类的变量，**实例变量**是属于对象的变量。\n",
    "\n",
    "类变量就是在定义类后，定义方法前定义的变量，**注意，在 C, Java 等其他语言中这个位置定义的变量是实例变量，与 Python 不同**。实例变量是在构造函数里借助`self`,通过形如`self.var_name`的方式确定的。具体到这个例子中："
   ]
  },
  {
   "cell_type": "code",
   "execution_count": 17,
   "metadata": {},
   "outputs": [],
   "source": [
    "class Student():\n",
    "    \n",
    "    name = 'Wu Ming'  # 类变量\n",
    "    age = 18  # 类变量\n",
    "    \n",
    "    def __init__(self, name, age):\n",
    "        \n",
    "        # name = name  # 类似普通方法中定义的变量\n",
    "        # age = age  # 类似普通方法中定义的变量\n",
    "        \n",
    "        self.name = name  # 实例变量\n",
    "        self.age = age  # 实例变量\n",
    "    \n",
    "    def do_homework(self):\n",
    "        print('I am doing homework!')"
   ]
  },
  {
   "cell_type": "markdown",
   "metadata": {},
   "source": [
    "有了类变量和实例变量的概念后，再来看一下类的设计。既然类变量是类本身所拥有的，应该和具体对象无关，相应的，实例变量所代表的属性也是紧紧的和一个个具体对象绑定，和类代表的概念无关。那么本例中，学生姓名、年龄自然是学生个体所拥有的属性，和“学生”这一概念无关，应当作为实例变量，而学生在政治网络中的位置是“学生”这一身份本身确定的，并不因学生不同而不同。\n",
    "\n",
    "所以理想中的`Student`的类设计现阶段应该如下："
   ]
  },
  {
   "cell_type": "code",
   "execution_count": 18,
   "metadata": {},
   "outputs": [],
   "source": [
    "class Student():\n",
    "    \n",
    "    political_class = 0\n",
    "    \n",
    "    def __init__(self, name, age):\n",
    "        self.name = name  \n",
    "        self.age = age\n",
    "    \n",
    "    def do_homework(self):\n",
    "        print('I am doing homework!')"
   ]
  },
  {
   "cell_type": "markdown",
   "metadata": {},
   "source": [
    "话虽如此，我们依旧没有解释清楚为什么`li_lei`和`han_mei_mei`两个对象没有输出自身信息，却输出了默认值。除了类变量和实例变量的概念，还要知道 Python 中变量的访问顺序，面向对象编程中，解释器会**先找对象的实例变量，后找同名类变量**。\n",
    "\n",
    "为了确认对象所拥有的变量与变量值，可以使用`__dict__`这一 Python 内置变量来进行查看,类也有"
   ]
  },
  {
   "cell_type": "code",
   "execution_count": 19,
   "metadata": {},
   "outputs": [
    {
     "data": {
      "text/plain": [
       "{}"
      ]
     },
     "execution_count": 19,
     "metadata": {},
     "output_type": "execute_result"
    }
   ],
   "source": [
    "li_lei.__dict__"
   ]
  },
  {
   "cell_type": "code",
   "execution_count": 20,
   "metadata": {},
   "outputs": [
    {
     "data": {
      "text/plain": [
       "{}"
      ]
     },
     "execution_count": 20,
     "metadata": {},
     "output_type": "execute_result"
    }
   ],
   "source": [
    "han_mei_mei.__dict__"
   ]
  },
  {
   "cell_type": "code",
   "execution_count": 22,
   "metadata": {},
   "outputs": [
    {
     "data": {
      "text/plain": [
       "mappingproxy({'__dict__': <attribute '__dict__' of 'Student' objects>,\n",
       "              '__doc__': None,\n",
       "              '__init__': <function __main__.Student.__init__>,\n",
       "              '__module__': '__main__',\n",
       "              '__weakref__': <attribute '__weakref__' of 'Student' objects>,\n",
       "              'age': 18,\n",
       "              'do_homework': <function __main__.Student.do_homework>,\n",
       "              'name': 'Wu Ming'})"
      ]
     },
     "execution_count": 22,
     "metadata": {},
     "output_type": "execute_result"
    }
   ],
   "source": [
    "Student.__dict__"
   ]
  },
  {
   "cell_type": "markdown",
   "metadata": {},
   "source": [
    "可以看到，`li_lei`和`han_mei_mei`两个对象中没有存储任何变量，而`Student`类中存有`name`和`age`两个字段。所以打印时自然输出的是默认值了。\n",
    "\n",
    "### self与实例方法\n",
    "\n",
    "有实例变量自然就有实例方法，即属于对象的方法，特点是必须传入一个`self`，目前我们所接触到的方法都是实例方法。`self`定义时必须给出，对象调用方法的时候自动隐去\n",
    "\n",
    "`self`实际上代表着调用方法的对象本身，比如，对于`Student`类中的实例方法来说，构造`li_lei`时，构造函数中的`self`就代表`li_lei`这个对象，构造`han_mei_mei`时就代表`han_mei_mei`。\n",
    "\n",
    "Python 中的`self`等价于 C，Java 中的 `this` 关键字，但`self`本身不是 Python 保留的关键字，可以是任意形式，只是必须第一个给出。"
   ]
  },
  {
   "cell_type": "code",
   "execution_count": 23,
   "metadata": {},
   "outputs": [],
   "source": [
    "class Student():\n",
    "    \n",
    "    political_class = 0\n",
    "    \n",
    "    def __init__(this, name, age):  # 不必拘泥于 self，但 Python 建议是 self\n",
    "        this.name = name  \n",
    "        this.age = age\n",
    "    \n",
    "    def do_homework(self):\n",
    "        print('%s is doing homework!' % self.name)"
   ]
  },
  {
   "cell_type": "code",
   "execution_count": 24,
   "metadata": {},
   "outputs": [
    {
     "name": "stdout",
     "output_type": "stream",
     "text": [
      "Li Lei is doing homework!\n"
     ]
    }
   ],
   "source": [
    "li_lei = Student('Li Lei', 21)\n",
    "li_lei.do_homework()"
   ]
  },
  {
   "cell_type": "code",
   "execution_count": null,
   "metadata": {},
   "outputs": [],
   "source": []
  }
 ],
 "metadata": {
  "kernelspec": {
   "display_name": "Python 3",
   "language": "python",
   "name": "python3"
  },
  "language_info": {
   "codemirror_mode": {
    "name": "ipython",
    "version": 3
   },
   "file_extension": ".py",
   "mimetype": "text/x-python",
   "name": "python",
   "nbconvert_exporter": "python",
   "pygments_lexer": "ipython3",
   "version": "3.6.4"
  }
 },
 "nbformat": 4,
 "nbformat_minor": 2
}
