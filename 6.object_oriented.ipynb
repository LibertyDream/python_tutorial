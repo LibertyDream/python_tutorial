{
 "cells": [
  {
   "cell_type": "markdown",
   "metadata": {},
   "source": [
    "# Python3简明教程——面向对象\n",
    "\n",
    "#### 作者：一轩明月\n",
    "\n",
    "编程就是和计算机对话，告诉计算机做什么、怎么做。而当代计算机的外貌或许不同，但其实质都差不多，因为他们都是按照**冯诺依曼架构**设计的，冯诺依曼架构设计计算机讲究**存储程序**，即程序和数据都存放在一起\n",
    "\n",
    "而对于怎么放，一开始人们**按照机器运行的思路**，需要数据就先准备好数据，处理数据所需的函数与算法也准备好，然后运行程序，按照一定顺序执行语句，以完成任务。这就是**面向过程**的编程\n",
    "\n",
    "当程序越来越复杂，简单的“顺序”堆放数据和程序给项目开发带来了巨大的效率瓶颈。于是人们开始**按照人类认识世界的方式**重新将程序和数据围绕着某个意义组织起来，这就是**面向对象**的编程\n",
    "\n",
    "面向对象编程有两个核心概念，一是**类**，一个是**对象**。类就是人类认识世界时所相信的那些意义，是对世界的抽象，比如教师，学生，国家，公司。而对象是类的实例化，比如孔子，颜回，中国，腾讯。\n",
    "\n",
    "**使用类和对象进行编程不代表就是面向对象，尽量编写有意义的面向对象代码**\n",
    "\n",
    "## 类的定义\n",
    "\n",
    "Python中使用关键字`class`定义类，类的命名推荐**每个单词首字母大写**。类内可以像模块一样定义变量和方法。"
   ]
  },
  {
   "cell_type": "code",
   "execution_count": null,
   "metadata": {},
   "outputs": [],
   "source": [
    "class Student():  # 简单的类定义，但有错误\n",
    "    age = 0\n",
    "    name = ''\n",
    "    \n",
    "    def print_student_details():\n",
    "        print(\"name: %s, age: %s\":(name, age))"
   ]
  },
  {
   "cell_type": "markdown",
   "metadata": {},
   "source": [
    "使用类要先将类实例化，通过`ClassName()`的方式进行，可以将实例化的结果赋值给一个变量。Python中类的实例化不必像 C++ 或者 Java 一样借助`new`关键字"
   ]
  },
  {
   "cell_type": "code",
   "execution_count": null,
   "metadata": {},
   "outputs": [],
   "source": [
    "student = Student()"
   ]
  },
  {
   "cell_type": "markdown",
   "metadata": {},
   "source": [
    "实例化后，使用`.`操作符访问类中的变量和方法"
   ]
  },
  {
   "cell_type": "code",
   "execution_count": null,
   "metadata": {},
   "outputs": [],
   "source": [
    "student.print_student_details()"
   ]
  },
  {
   "cell_type": "markdown",
   "metadata": {},
   "source": [
    "类中的方法当然能像函数定义一样不接收参数，但即使如此，类中方法也需要在定义时最少传入`self`作为参数"
   ]
  },
  {
   "cell_type": "code",
   "execution_count": 10,
   "metadata": {},
   "outputs": [
    {
     "ename": "TypeError",
     "evalue": "print_student_details() takes 0 positional arguments but 1 was given",
     "output_type": "error",
     "traceback": [
      "\u001b[1;31m---------------------------------------------------------------------------\u001b[0m",
      "\u001b[1;31mTypeError\u001b[0m                                 Traceback (most recent call last)",
      "\u001b[1;32m<ipython-input-10-060aad832b66>\u001b[0m in \u001b[0;36m<module>\u001b[1;34m()\u001b[0m\n\u001b[0;32m      7\u001b[0m \u001b[1;33m\u001b[0m\u001b[0m\n\u001b[0;32m      8\u001b[0m \u001b[0mstudent\u001b[0m \u001b[1;33m=\u001b[0m \u001b[0mStudent\u001b[0m\u001b[1;33m(\u001b[0m\u001b[1;33m)\u001b[0m\u001b[1;33m\u001b[0m\u001b[0m\n\u001b[1;32m----> 9\u001b[1;33m \u001b[0mstudent\u001b[0m\u001b[1;33m.\u001b[0m\u001b[0mprint_student_details\u001b[0m\u001b[1;33m(\u001b[0m\u001b[1;33m)\u001b[0m\u001b[1;33m\u001b[0m\u001b[0m\n\u001b[0m",
      "\u001b[1;31mTypeError\u001b[0m: print_student_details() takes 0 positional arguments but 1 was given"
     ]
    }
   ],
   "source": [
    "class Student():\n",
    "    age = 0\n",
    "    name = ''\n",
    "    \n",
    "    def print_student_details():  # 最少要有self作为参数\n",
    "        print('name: %s, age: %s' % (name, age))\n",
    "        \n",
    "student = Student()\n",
    "student.print_student_details()"
   ]
  },
  {
   "cell_type": "markdown",
   "metadata": {},
   "source": [
    "其次，模块中的变量使用时按照`var_name`形式定义即可通过`var_name`调用，但类里的变量在使用时必须通过`self.var_name`的方式调用"
   ]
  },
  {
   "cell_type": "code",
   "execution_count": 11,
   "metadata": {},
   "outputs": [
    {
     "ename": "NameError",
     "evalue": "name 'name' is not defined",
     "output_type": "error",
     "traceback": [
      "\u001b[1;31m---------------------------------------------------------------------------\u001b[0m",
      "\u001b[1;31mNameError\u001b[0m                                 Traceback (most recent call last)",
      "\u001b[1;32m<ipython-input-11-ebf2d7303933>\u001b[0m in \u001b[0;36m<module>\u001b[1;34m()\u001b[0m\n\u001b[0;32m      7\u001b[0m \u001b[1;33m\u001b[0m\u001b[0m\n\u001b[0;32m      8\u001b[0m \u001b[0mstudent\u001b[0m \u001b[1;33m=\u001b[0m \u001b[0mStudent\u001b[0m\u001b[1;33m(\u001b[0m\u001b[1;33m)\u001b[0m\u001b[1;33m\u001b[0m\u001b[0m\n\u001b[1;32m----> 9\u001b[1;33m \u001b[0mstudent\u001b[0m\u001b[1;33m.\u001b[0m\u001b[0mprint_student_details\u001b[0m\u001b[1;33m(\u001b[0m\u001b[1;33m)\u001b[0m\u001b[1;33m\u001b[0m\u001b[0m\n\u001b[0m",
      "\u001b[1;32m<ipython-input-11-ebf2d7303933>\u001b[0m in \u001b[0;36mprint_student_details\u001b[1;34m(self)\u001b[0m\n\u001b[0;32m      4\u001b[0m \u001b[1;33m\u001b[0m\u001b[0m\n\u001b[0;32m      5\u001b[0m     \u001b[1;32mdef\u001b[0m \u001b[0mprint_student_details\u001b[0m\u001b[1;33m(\u001b[0m\u001b[0mself\u001b[0m\u001b[1;33m)\u001b[0m\u001b[1;33m:\u001b[0m\u001b[1;33m\u001b[0m\u001b[0m\n\u001b[1;32m----> 6\u001b[1;33m         \u001b[0mprint\u001b[0m\u001b[1;33m(\u001b[0m\u001b[1;34m'name: %s, age: %s'\u001b[0m \u001b[1;33m%\u001b[0m \u001b[1;33m(\u001b[0m\u001b[0mname\u001b[0m\u001b[1;33m,\u001b[0m \u001b[0mage\u001b[0m\u001b[1;33m)\u001b[0m\u001b[1;33m)\u001b[0m\u001b[1;33m\u001b[0m\u001b[0m\n\u001b[0m\u001b[0;32m      7\u001b[0m \u001b[1;33m\u001b[0m\u001b[0m\n\u001b[0;32m      8\u001b[0m \u001b[0mstudent\u001b[0m \u001b[1;33m=\u001b[0m \u001b[0mStudent\u001b[0m\u001b[1;33m(\u001b[0m\u001b[1;33m)\u001b[0m\u001b[1;33m\u001b[0m\u001b[0m\n",
      "\u001b[1;31mNameError\u001b[0m: name 'name' is not defined"
     ]
    }
   ],
   "source": [
    "class Student():\n",
    "    age = 0\n",
    "    name = ''\n",
    "    \n",
    "    def print_student_details(self):\n",
    "        print('name: %s, age: %s' % (name, age))  # 调用类里的变量必须使用 self.var_name方式\n",
    "        \n",
    "student = Student()\n",
    "student.print_student_details()"
   ]
  },
  {
   "cell_type": "code",
   "execution_count": 12,
   "metadata": {},
   "outputs": [
    {
     "name": "stdout",
     "output_type": "stream",
     "text": [
      "name: , age: 0\n"
     ]
    }
   ],
   "source": [
    "class Student():  # 正确的类定义\n",
    "    age = 0\n",
    "    name = ''\n",
    "    \n",
    "    def print_student_details(self):\n",
    "        print('name: %s, age: %s' % (self.name, self.age))\n",
    "        \n",
    "student = Student()\n",
    "student.print_student_details()"
   ]
  },
  {
   "cell_type": "markdown",
   "metadata": {},
   "source": [
    "如此我们就将变量`name`，`age`和方法`print_student_details`装在了`Student`这个类中。这就体现了类最基本的功能——**封装**，每个类都有自己的一些变量和方法。\n",
    "\n",
    "类是人类对世界认知在计算机世界的投影，是意义的化身，所以类中只能定义方法而不能使用"
   ]
  },
  {
   "cell_type": "code",
   "execution_count": 13,
   "metadata": {},
   "outputs": [
    {
     "ename": "TypeError",
     "evalue": "print_student_details() missing 1 required positional argument: 'self'",
     "output_type": "error",
     "traceback": [
      "\u001b[1;31m---------------------------------------------------------------------------\u001b[0m",
      "\u001b[1;31mTypeError\u001b[0m                                 Traceback (most recent call last)",
      "\u001b[1;32m<ipython-input-13-218f236d950c>\u001b[0m in \u001b[0;36m<module>\u001b[1;34m()\u001b[0m\n\u001b[1;32m----> 1\u001b[1;33m \u001b[1;32mclass\u001b[0m \u001b[0mStudent\u001b[0m\u001b[1;33m(\u001b[0m\u001b[1;33m)\u001b[0m\u001b[1;33m:\u001b[0m\u001b[1;33m\u001b[0m\u001b[0m\n\u001b[0m\u001b[0;32m      2\u001b[0m     \u001b[0mage\u001b[0m \u001b[1;33m=\u001b[0m \u001b[1;36m0\u001b[0m\u001b[1;33m\u001b[0m\u001b[0m\n\u001b[0;32m      3\u001b[0m     \u001b[0mname\u001b[0m \u001b[1;33m=\u001b[0m \u001b[1;34m''\u001b[0m\u001b[1;33m\u001b[0m\u001b[0m\n\u001b[0;32m      4\u001b[0m \u001b[1;33m\u001b[0m\u001b[0m\n\u001b[0;32m      5\u001b[0m     \u001b[1;32mdef\u001b[0m \u001b[0mprint_student_details\u001b[0m\u001b[1;33m(\u001b[0m\u001b[0mself\u001b[0m\u001b[1;33m)\u001b[0m\u001b[1;33m:\u001b[0m\u001b[1;33m\u001b[0m\u001b[0m\n",
      "\u001b[1;32m<ipython-input-13-218f236d950c>\u001b[0m in \u001b[0;36mStudent\u001b[1;34m()\u001b[0m\n\u001b[0;32m      6\u001b[0m         \u001b[0mprint\u001b[0m\u001b[1;33m(\u001b[0m\u001b[1;34m'name: %s, age: %s'\u001b[0m \u001b[1;33m%\u001b[0m \u001b[1;33m(\u001b[0m\u001b[0mself\u001b[0m\u001b[1;33m.\u001b[0m\u001b[0mname\u001b[0m\u001b[1;33m,\u001b[0m \u001b[0mself\u001b[0m\u001b[1;33m.\u001b[0m\u001b[0mage\u001b[0m\u001b[1;33m)\u001b[0m\u001b[1;33m)\u001b[0m\u001b[1;33m\u001b[0m\u001b[0m\n\u001b[0;32m      7\u001b[0m \u001b[1;33m\u001b[0m\u001b[0m\n\u001b[1;32m----> 8\u001b[1;33m     \u001b[0mprint_student_details\u001b[0m\u001b[1;33m(\u001b[0m\u001b[1;33m)\u001b[0m  \u001b[1;31m# 类中不能调用方法\u001b[0m\u001b[1;33m\u001b[0m\u001b[0m\n\u001b[0m",
      "\u001b[1;31mTypeError\u001b[0m: print_student_details() missing 1 required positional argument: 'self'"
     ]
    }
   ],
   "source": [
    "class Student():\n",
    "    age = 0\n",
    "    name = ''\n",
    "    \n",
    "    def print_student_details(self):\n",
    "        print('name: %s, age: %s' % (self.name, self.age))\n",
    "    \n",
    "    print_student_details()  # 类中不能调用方法\n"
   ]
  },
  {
   "cell_type": "markdown",
   "metadata": {},
   "source": [
    "在编程实践中，**类的定义和类的调用应该分属不同模块，避免在同一模块中即定义又使用**\n",
    "\n",
    "在一个模块定义好类后，可以在其他模块内通过`from module_name import class_name`的方式导入类，再实例化类进行使用\n",
    "\n",
    "> 方法和函数形式和功用都很类似，但方法的概念更偏向设计层面，讲究作为意义的一部分，而函数的概念更像是程序运行时的一种过程式的称谓。\n",
    "\n",
    "> 类里面的变量也叫做数据成员、属性，和方法一起构成了类。二者对应于意义的属性和行为，比如老师这一抽象具有教师编号等属性，还有留作业等行为"
   ]
  },
  {
   "cell_type": "code",
   "execution_count": null,
   "metadata": {},
   "outputs": [],
   "source": []
  },
  {
   "cell_type": "code",
   "execution_count": null,
   "metadata": {},
   "outputs": [],
   "source": []
  }
 ],
 "metadata": {
  "kernelspec": {
   "display_name": "Python 3",
   "language": "python",
   "name": "python3"
  },
  "language_info": {
   "codemirror_mode": {
    "name": "ipython",
    "version": 3
   },
   "file_extension": ".py",
   "mimetype": "text/x-python",
   "name": "python",
   "nbconvert_exporter": "python",
   "pygments_lexer": "ipython3",
   "version": "3.6.4"
  }
 },
 "nbformat": 4,
 "nbformat_minor": 2
}
