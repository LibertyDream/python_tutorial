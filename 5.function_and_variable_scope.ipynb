{
 "cells": [
  {
   "cell_type": "markdown",
   "metadata": {},
   "source": [
    "# Python3简明教程——函数与变量作用域\n",
    "\n",
    "#### 作者：一轩明月\n",
    "\n",
    "## 函数\n",
    "\n",
    "所谓函数，就是能执行特定任务的一段被命了名的程序。不管什么编程语言都会有函数这一概念，因为其有很重要的功能：\n",
    "\n",
    "* 功能性\n",
    "\n",
    "如定义所说，一个函数一定具备解决某一特定场景下问题的能力。或者说一个函数就是一个小工具、一个套路\n",
    "\n",
    "* 封装性\n",
    "\n",
    "一个良好的函数无论多么复杂，都能很好的隐藏自身的细节，暴露在外面的只是返回值、接受参数和函数说明而已，具体的功能实现外面的人都不用了解。\n",
    "\n",
    "* 重用性\n",
    "\n",
    "函数的存在大大降低了重复编码带来的成本损耗，从而提升了效率。而经常用于解决某类问题的函数们通常会进一步封装成一个函数库供人们使用。\n",
    "\n",
    "一个标准的函数定义形式如下："
   ]
  },
  {
   "cell_type": "code",
   "execution_count": null,
   "metadata": {},
   "outputs": [],
   "source": [
    "def funcname(parameter_list):\n",
    "    pass "
   ]
  },
  {
   "cell_type": "markdown",
   "metadata": {},
   "source": [
    "这里注意几点：\n",
    "\n",
    "1. 参数列表部分`parameter_list`可以没有\n",
    "2. 如果函数有返回值，通过关键字`return`进行返回，如果没有返回值，python会返回一个`None`\n",
    "3. python中不需要像c，java语言那样明确每个函数的返回值类型\n",
    "\n",
    "函数可以嵌套使用，但为了良好的代码阅读体验和编程规范，**不推荐超过两层的嵌套调用**\n",
    "\n",
    "~~func(func1(func2(func(...))))~~\n",
    "\n",
    "下面简单实现两个函数以作示例。"
   ]
  },
  {
   "cell_type": "code",
   "execution_count": 1,
   "metadata": {},
   "outputs": [
    {
     "name": "stdout",
     "output_type": "stream",
     "text": [
      "Python\n",
      "3 None\n"
     ]
    }
   ],
   "source": [
    "def add_two_num(x, y):\n",
    "    result = x + y\n",
    "    return result\n",
    "\n",
    "def print_code(code):\n",
    "    print(code)\n",
    "    \n",
    "result_add = add_two_num(1, 2)\n",
    "result_print = print_code('Python')\n",
    "print(result_add, result_print)"
   ]
  },
  {
   "cell_type": "code",
   "execution_count": 3,
   "metadata": {},
   "outputs": [
    {
     "ename": "RecursionError",
     "evalue": "maximum recursion depth exceeded",
     "output_type": "error",
     "traceback": [
      "\u001b[1;31m---------------------------------------------------------------------------\u001b[0m",
      "\u001b[1;31mRecursionError\u001b[0m                            Traceback (most recent call last)",
      "\u001b[1;32m<ipython-input-3-f1cb3df65552>\u001b[0m in \u001b[0;36m<module>\u001b[1;34m()\u001b[0m\n\u001b[0;32m      3\u001b[0m     \u001b[0mprint\u001b[0m\u001b[1;33m(\u001b[0m\u001b[0mcode\u001b[0m\u001b[1;33m)\u001b[0m\u001b[1;33m\u001b[0m\u001b[0m\n\u001b[0;32m      4\u001b[0m \u001b[1;33m\u001b[0m\u001b[0m\n\u001b[1;32m----> 5\u001b[1;33m \u001b[0mprint\u001b[0m\u001b[1;33m(\u001b[0m\u001b[1;34m'Python'\u001b[0m\u001b[1;33m)\u001b[0m\u001b[1;33m\u001b[0m\u001b[0m\n\u001b[0m",
      "\u001b[1;32m<ipython-input-3-f1cb3df65552>\u001b[0m in \u001b[0;36mprint\u001b[1;34m(code)\u001b[0m\n\u001b[0;32m      1\u001b[0m \u001b[1;31m# 无限递归的错误示例\u001b[0m\u001b[1;33m\u001b[0m\u001b[1;33m\u001b[0m\u001b[0m\n\u001b[0;32m      2\u001b[0m \u001b[1;32mdef\u001b[0m \u001b[0mprint\u001b[0m\u001b[1;33m(\u001b[0m\u001b[0mcode\u001b[0m\u001b[1;33m)\u001b[0m\u001b[1;33m:\u001b[0m\u001b[1;33m\u001b[0m\u001b[0m\n\u001b[1;32m----> 3\u001b[1;33m     \u001b[0mprint\u001b[0m\u001b[1;33m(\u001b[0m\u001b[0mcode\u001b[0m\u001b[1;33m)\u001b[0m\u001b[1;33m\u001b[0m\u001b[0m\n\u001b[0m\u001b[0;32m      4\u001b[0m \u001b[1;33m\u001b[0m\u001b[0m\n\u001b[0;32m      5\u001b[0m \u001b[0mprint\u001b[0m\u001b[1;33m(\u001b[0m\u001b[1;34m'Python'\u001b[0m\u001b[1;33m)\u001b[0m\u001b[1;33m\u001b[0m\u001b[0m\n",
      "... last 1 frames repeated, from the frame below ...\n",
      "\u001b[1;32m<ipython-input-3-f1cb3df65552>\u001b[0m in \u001b[0;36mprint\u001b[1;34m(code)\u001b[0m\n\u001b[0;32m      1\u001b[0m \u001b[1;31m# 无限递归的错误示例\u001b[0m\u001b[1;33m\u001b[0m\u001b[1;33m\u001b[0m\u001b[0m\n\u001b[0;32m      2\u001b[0m \u001b[1;32mdef\u001b[0m \u001b[0mprint\u001b[0m\u001b[1;33m(\u001b[0m\u001b[0mcode\u001b[0m\u001b[1;33m)\u001b[0m\u001b[1;33m:\u001b[0m\u001b[1;33m\u001b[0m\u001b[0m\n\u001b[1;32m----> 3\u001b[1;33m     \u001b[0mprint\u001b[0m\u001b[1;33m(\u001b[0m\u001b[0mcode\u001b[0m\u001b[1;33m)\u001b[0m\u001b[1;33m\u001b[0m\u001b[0m\n\u001b[0m\u001b[0;32m      4\u001b[0m \u001b[1;33m\u001b[0m\u001b[0m\n\u001b[0;32m      5\u001b[0m \u001b[0mprint\u001b[0m\u001b[1;33m(\u001b[0m\u001b[1;34m'Python'\u001b[0m\u001b[1;33m)\u001b[0m\u001b[1;33m\u001b[0m\u001b[0m\n",
      "\u001b[1;31mRecursionError\u001b[0m: maximum recursion depth exceeded"
     ]
    }
   ],
   "source": [
    "# 无限递归的错误示例\n",
    "def print(code):\n",
    "    print(code)\n",
    "\n",
    "print('Python')"
   ]
  },
  {
   "cell_type": "markdown",
   "metadata": {},
   "source": [
    "这里注意几点：\n",
    "\n",
    "1. 先定义再使用，和变量一样。python是解释型语言，运行时编译，所以不能在定义之前调用函数，否则python解释器找不到。\n",
    "2. 自定义函数的名称避免和内置函数同名。如注释代码所示，会陷入无限递归，运行时会报错\n",
    "3. 函数参数赋值顺序和传参顺序一致，从左到右依次赋值。这里额外留意下，目前自定义的`add_two_num()`有且只能接受两个参数，多了少了都不行，而内置函数`print()`通过`,`分隔可以接受任意数量的参数\n",
    "\n",
    "> python会监测递归动态，根据机器性能状况的差异，当发现一段代码自循环超过一定次数（995,998,1000等），就会报错。可以通过`sys.setrecursionlimit(recur_nums)指定递归深度。但python内部有额外机制，并不会允许特别大的深度\n",
    "\n",
    "对于返回值，传统语言一般只允许返回一个值，也有通过`out/ref`返回多值的方法。python想要返回多个值，方法很简单，通过`,`分隔开即可，如下代码所示："
   ]
  },
  {
   "cell_type": "code",
   "execution_count": 2,
   "metadata": {},
   "outputs": [
    {
     "name": "stdout",
     "output_type": "stream",
     "text": [
      "<class 'tuple'> 12 10\n",
      "12 10\n"
     ]
    }
   ],
   "source": [
    "def damage(skill_one, skill_two):\n",
    "    damage_one = skill_one * 3\n",
    "    damage_two = skill_two + 2\n",
    "    return damage_one, damage_two\n",
    "\n",
    "# 下标解包\n",
    "damages = damage(4,8)\n",
    "print(type(damages),damages[0],damages[1])\n",
    "\n",
    "# 序列解包\n",
    "skill_damage1,skill_damage2 = damage(4,8)\n",
    "print(skill_damage1,skill_damage2)"
   ]
  },
  {
   "cell_type": "markdown",
   "metadata": {},
   "source": [
    "多返回值的函数会将多个返回值封装成一个元组。注意样例代码中获取返回值的方式，第一种具有传统语言和新手风格，但并不赞成使用，当返回值众多，每个都用下标访问调用，日后维护代码时很难以理解。\n",
    "\n",
    "第二种就是一种 pythonic 风格的解包方式了，通过明晰、有意义的变量接收返回值，易于理解且代码简介。这种方式叫做**序列解包**\n",
    "\n",
    "更好的理解序列解包，先来了解下pythonic的赋值方式"
   ]
  },
  {
   "cell_type": "code",
   "execution_count": 3,
   "metadata": {},
   "outputs": [],
   "source": [
    "# 传统方式\n",
    "a = 1\n",
    "b = 2\n",
    "c = 3\n",
    "\n",
    "# pythonic\n",
    "a,b,c = 1,2,3"
   ]
  },
  {
   "cell_type": "markdown",
   "metadata": {},
   "source": [
    "两种方式的效果等价，但后一种更显“优美”。而进一步的"
   ]
  },
  {
   "cell_type": "code",
   "execution_count": 4,
   "metadata": {},
   "outputs": [
    {
     "name": "stdout",
     "output_type": "stream",
     "text": [
      "<class 'tuple'>\n",
      "1 2 3\n"
     ]
    }
   ],
   "source": [
    "d = 1,2,3\n",
    "print(type(d))\n",
    "\n",
    "a,b,c = d\n",
    "print(a,b,c)"
   ]
  },
  {
   "cell_type": "markdown",
   "metadata": {},
   "source": [
    "`d = 1,2,3`这样的也是一种快速获得一个序列变量的方式。而`a,b,c = d`这样，通过**和序列内元素数目相等**的变量获取各个元素值，这样的方式就是序列解包。\n",
    "\n",
    "当多个变量的赋值相同时，可以使用**链式赋值**——`a=b=c=1`\n",
    "\n",
    "## 参数\n",
    "\n",
    "python中参数类型很多，主要是这么几种：\n",
    "\n",
    "### 必须参数"
   ]
  },
  {
   "cell_type": "code",
   "execution_count": null,
   "metadata": {},
   "outputs": [],
   "source": [
    "def add(x, y):\n",
    "    result = x + y\n",
    "    return result"
   ]
  },
  {
   "cell_type": "markdown",
   "metadata": {},
   "source": [
    "对上述函数定义，指定了函数接收的两个参数`x`和`y`，定义里指定的参数也叫**形式参数**。当调用该函数时，如`c = add(x_value,y_value)`,必须传入和函数定义中数量一致的参数，默认从左向右依次赋值。函数调用时传入的参数也叫**实际参数**，即这里的`x_value`,`y_value`。\n",
    "\n",
    "这种函数定义多少就必须传入多少否则报错的参数类型就是必须参数\n",
    "\n",
    "### 关键字参数\n",
    "\n",
    "上面提到调用函数时传入参数默认是自左向右依次赋值，对函数`add`来说就是先给`x`赋值，再给`y`赋值。如果想要改变赋值顺序，或者说自定义赋值顺序，可以这样：\n",
    "\n",
    "`c = add(y=3, x=2)`\n",
    "\n",
    "这样的参数形式就是关键字参数，通过`参数名 = 参数赋值`的形式明确各个参数的传入值，可阅读性良好，也能改变传参顺序。\n",
    "\n",
    "### 默认参数\n",
    "\n",
    "很多时候对于一个函数的调用，多数参数值是一样的，重复输入相同的内容开发效率很低。这时候就可以使用默认参数了，义同其名，当没有明确指定参数值时，解释器会将默认值赋值给参数"
   ]
  },
  {
   "cell_type": "code",
   "execution_count": 5,
   "metadata": {},
   "outputs": [
    {
     "name": "stdout",
     "output_type": "stream",
     "text": [
      "我叫小旋风\n",
      "我今年18岁\n",
      "我是男生\n",
      "我在狮驼岭上学\n"
     ]
    }
   ],
   "source": [
    "def print_student_files(name, gender, age, college):\n",
    "    print('我叫' + name)\n",
    "    print('我今年' + str(age) + '岁')\n",
    "    print('我是' + gender + '生')\n",
    "    print('我在' + college + '上学')\n",
    "\n",
    "print_student_files('小旋风', '男', 18, '狮驼岭')"
   ]
  },
  {
   "cell_type": "markdown",
   "metadata": {},
   "source": [
    "比如对如上函数定义，在`狮驼岭`上学的学生在`gender,age,college`一栏或几栏里内容都是一致的。这时就可以修改函数定义如下"
   ]
  },
  {
   "cell_type": "code",
   "execution_count": 6,
   "metadata": {},
   "outputs": [],
   "source": [
    "def print_student_files(name, gender='男', age=18, college='狮驼岭'):\n",
    "    print('我叫' + name)\n",
    "    print('我今年' + str(age) + '岁')\n",
    "    print('我是' + gender + '生')\n",
    "    print('我在' + college + '上学')"
   ]
  },
  {
   "cell_type": "markdown",
   "metadata": {},
   "source": [
    "这时如果个人数据和默认值无异，就可以只传入唯一的必须参数`print_student_files('奔波灞')`。如果有数据不同，则将对应值传入即可`print_student_files('蜘蛛精','女',16,'盘丝洞')`"
   ]
  },
  {
   "cell_type": "code",
   "execution_count": 7,
   "metadata": {},
   "outputs": [
    {
     "name": "stdout",
     "output_type": "stream",
     "text": [
      "我叫奔波灞\n",
      "我今年18岁\n",
      "我是男生\n",
      "我在狮驼岭上学\n"
     ]
    }
   ],
   "source": [
    "print_student_files('奔波灞')"
   ]
  },
  {
   "cell_type": "code",
   "execution_count": 8,
   "metadata": {},
   "outputs": [
    {
     "name": "stdout",
     "output_type": "stream",
     "text": [
      "我叫蜘蛛精\n",
      "我今年16岁\n",
      "我是女生\n",
      "我在盘丝洞上学\n"
     ]
    }
   ],
   "source": [
    "print_student_files('蜘蛛精', '女', 16, '盘丝洞')"
   ]
  },
  {
   "cell_type": "markdown",
   "metadata": {},
   "source": [
    "目前为止默认参数看起来很简单，但有这么一些坑必须小心：\n",
    "\n",
    "* **不能跳过默认值赋值**\n",
    "\n",
    "当不显式的给参数赋值时，默认从左到右依次赋值，所以不能自以为是的跳跃赋值。比如对上面的函数，有一个学生`糊涂虫`，它的数据只有年龄和默认值不同，但函数调用不能这么写`print_student_files('糊涂虫',17)`，解释器会将实参`17`赋值给`gender`一栏。"
   ]
  },
  {
   "cell_type": "code",
   "execution_count": 10,
   "metadata": {},
   "outputs": [
    {
     "name": "stdout",
     "output_type": "stream",
     "text": [
      "我叫糊涂虫\n",
      "我今年18岁\n"
     ]
    },
    {
     "ename": "TypeError",
     "evalue": "must be str, not int",
     "output_type": "error",
     "traceback": [
      "\u001b[1;31m---------------------------------------------------------------------------\u001b[0m",
      "\u001b[1;31mTypeError\u001b[0m                                 Traceback (most recent call last)",
      "\u001b[1;32m<ipython-input-10-bfc83b4de022>\u001b[0m in \u001b[0;36m<module>\u001b[1;34m()\u001b[0m\n\u001b[1;32m----> 1\u001b[1;33m \u001b[0mprint_student_files\u001b[0m\u001b[1;33m(\u001b[0m\u001b[1;34m'糊涂虫'\u001b[0m\u001b[1;33m,\u001b[0m \u001b[1;36m17\u001b[0m\u001b[1;33m)\u001b[0m\u001b[1;33m\u001b[0m\u001b[0m\n\u001b[0m",
      "\u001b[1;32m<ipython-input-6-938facb24f9a>\u001b[0m in \u001b[0;36mprint_student_files\u001b[1;34m(name, gender, age, college)\u001b[0m\n\u001b[0;32m      2\u001b[0m     \u001b[0mprint\u001b[0m\u001b[1;33m(\u001b[0m\u001b[1;34m'我叫'\u001b[0m \u001b[1;33m+\u001b[0m \u001b[0mname\u001b[0m\u001b[1;33m)\u001b[0m\u001b[1;33m\u001b[0m\u001b[0m\n\u001b[0;32m      3\u001b[0m     \u001b[0mprint\u001b[0m\u001b[1;33m(\u001b[0m\u001b[1;34m'我今年'\u001b[0m \u001b[1;33m+\u001b[0m \u001b[0mstr\u001b[0m\u001b[1;33m(\u001b[0m\u001b[0mage\u001b[0m\u001b[1;33m)\u001b[0m \u001b[1;33m+\u001b[0m \u001b[1;34m'岁'\u001b[0m\u001b[1;33m)\u001b[0m\u001b[1;33m\u001b[0m\u001b[0m\n\u001b[1;32m----> 4\u001b[1;33m     \u001b[0mprint\u001b[0m\u001b[1;33m(\u001b[0m\u001b[1;34m'我是'\u001b[0m \u001b[1;33m+\u001b[0m \u001b[0mgender\u001b[0m \u001b[1;33m+\u001b[0m \u001b[1;34m'生'\u001b[0m\u001b[1;33m)\u001b[0m\u001b[1;33m\u001b[0m\u001b[0m\n\u001b[0m\u001b[0;32m      5\u001b[0m     \u001b[0mprint\u001b[0m\u001b[1;33m(\u001b[0m\u001b[1;34m'我在'\u001b[0m \u001b[1;33m+\u001b[0m \u001b[0mcollege\u001b[0m \u001b[1;33m+\u001b[0m \u001b[1;34m'上学'\u001b[0m\u001b[1;33m)\u001b[0m\u001b[1;33m\u001b[0m\u001b[0m\n",
      "\u001b[1;31mTypeError\u001b[0m: must be str, not int"
     ]
    }
   ],
   "source": [
    "print_student_files('糊涂虫', 17)"
   ]
  },
  {
   "cell_type": "markdown",
   "metadata": {},
   "source": [
    "正确的方式是`print_student_files('糊涂虫', age = 17)`"
   ]
  },
  {
   "cell_type": "code",
   "execution_count": 11,
   "metadata": {},
   "outputs": [
    {
     "name": "stdout",
     "output_type": "stream",
     "text": [
      "我叫糊涂虫\n",
      "我今年17岁\n",
      "我是男生\n",
      "我在狮驼岭上学\n"
     ]
    }
   ],
   "source": [
    "print_student_files('糊涂虫', age=17)"
   ]
  },
  {
   "cell_type": "markdown",
   "metadata": {},
   "source": [
    "* **默认参数和非默认参数不能混杂**\n",
    "\n",
    "函数定义时，默认参数和非默认参数不能穿插，下面的定义形式是非法的："
   ]
  },
  {
   "cell_type": "code",
   "execution_count": 12,
   "metadata": {},
   "outputs": [
    {
     "ename": "SyntaxError",
     "evalue": "non-default argument follows default argument (<ipython-input-12-71526d0e917e>, line 1)",
     "output_type": "error",
     "traceback": [
      "\u001b[1;36m  File \u001b[1;32m\"<ipython-input-12-71526d0e917e>\"\u001b[1;36m, line \u001b[1;32m1\u001b[0m\n\u001b[1;33m    def print_student_files(name, gender='男', age=18, college='狮驼岭',teacher):\u001b[0m\n\u001b[1;37m                           ^\u001b[0m\n\u001b[1;31mSyntaxError\u001b[0m\u001b[1;31m:\u001b[0m non-default argument follows default argument\n"
     ]
    }
   ],
   "source": [
    "def print_student_files(name, gender='男', age=18, college='狮驼岭',teacher):\n",
    "    print('我叫' + name)\n",
    "    print('我今年' + str(age) + '岁')\n",
    "    print('我是' + gender + '生')\n",
    "    print('我在' + college + '上学')"
   ]
  },
  {
   "cell_type": "markdown",
   "metadata": {},
   "source": [
    "如果要加入一个必须参数，其应该在默认参数之前"
   ]
  },
  {
   "cell_type": "code",
   "execution_count": null,
   "metadata": {},
   "outputs": [],
   "source": [
    "def print_student_files(name, num_id, gender='男', age=18, college='狮驼岭'):\n",
    "    print('我叫' + name)\n",
    "    print('我今年' + str(age) + '岁')\n",
    "    print('我是' + gender + '生')\n",
    "    print('我在' + college + '上学')\n",
    "    print('我的id是' + num_id)"
   ]
  },
  {
   "cell_type": "markdown",
   "metadata": {},
   "source": [
    "* **调用传参时定位参数和关键字参数不能混杂**\n",
    "\n",
    "和上一个坑类似，调用时默认的传参和关键字传参不能穿插，下面的调用是非法的："
   ]
  },
  {
   "cell_type": "code",
   "execution_count": 13,
   "metadata": {},
   "outputs": [
    {
     "ename": "SyntaxError",
     "evalue": "positional argument follows keyword argument (<ipython-input-13-72741bab2308>, line 1)",
     "output_type": "error",
     "traceback": [
      "\u001b[1;36m  File \u001b[1;32m\"<ipython-input-13-72741bab2308>\"\u001b[1;36m, line \u001b[1;32m1\u001b[0m\n\u001b[1;33m    print_student_files('糊涂虫', gender='男', 17, college='魔王寨')\u001b[0m\n\u001b[1;37m                                                  ^\u001b[0m\n\u001b[1;31mSyntaxError\u001b[0m\u001b[1;31m:\u001b[0m positional argument follows keyword argument\n"
     ]
    }
   ],
   "source": [
    "print_student_files('糊涂虫', gender='男', 17, college='魔王寨')"
   ]
  },
  {
   "cell_type": "code",
   "execution_count": null,
   "metadata": {},
   "outputs": [],
   "source": []
  }
 ],
 "metadata": {
  "kernelspec": {
   "display_name": "Python 3",
   "language": "python",
   "name": "python3"
  },
  "language_info": {
   "codemirror_mode": {
    "name": "ipython",
    "version": 3
   },
   "file_extension": ".py",
   "mimetype": "text/x-python",
   "name": "python",
   "nbconvert_exporter": "python",
   "pygments_lexer": "ipython3",
   "version": "3.6.4"
  }
 },
 "nbformat": 4,
 "nbformat_minor": 2
}
