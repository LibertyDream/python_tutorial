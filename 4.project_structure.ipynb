{
 "cells": [
  {
   "cell_type": "markdown",
   "metadata": {},
   "source": [
    "# Python3简明教程——项目结构\n",
    "\n",
    "#### 作者：一轩明月\n",
    "\n",
    "![项目结构](./img/basic/project_structure.png)\n",
    "\n",
    "python项目结构和其他语言一样，都是层级结构。\n",
    "\n",
    "* 包是最顶级的结构，常常是围绕某一特定主题的功能模块的集合\n",
    "* 模块就是一个个的python文件，用于实现某一种特定功能\n",
    "* 类是项目结构中的基本建设单位，通常负责模块下某一子功能的实现\n",
    "\n",
    "一个包可以有多个模块，一个模块可以有多个类，一个类可以有多个函数。**函数和变量不属于项目结构**，通常从属于类之中，负责完成计算任务和记录、传递数据。\n",
    "\n",
    "区别于c、java等语言，python使模块和单个文件一体带来的效果是**一个文件中可以有多个java中主类一样的类**。一个模块中也可以不写类，只是写一些函数或是存放一些变量\n",
    "\n",
    "## 包与模块的名字\n",
    "\n",
    "包就是文件夹，文件夹的名字就是包名。但并不是是一个文件夹就是一个包，python识别一个文件夹是否为包是依赖一个文件`_init_.py`，只要有这个文件（并不需要里面有特定内容），python就会判定当前文件夹是一个包。\n",
    "\n",
    "包下面可以有子包。模块可以和子包平级\n",
    "\n",
    "![包与模块](./img/basic/package_name.png)\n",
    "\n",
    "一个模块就是一个`.py`结尾的文件。模块名就是文件名。当不同包有相同名称的模块时，通过`包名.模块名`进行调用，前面的`包名`也就是所谓的**命名空间**，更准确的表述应该是`路径.模块名`\n",
    "\n",
    "> 上面所说的包识别文件`_init_.py`，它也是文件，所以它也是一个模块。但这个模块的名字可不是_init_，这个模块的名字就是它的包名，如图所示的话其名字就是`seven`\n",
    "\n",
    "## 模块与包的导入\n",
    "\n",
    "有时一个模块下面的数据会期望被其他模块访问，比如对下列文件结构\n",
    "\n",
    "![导入文件结构](./img/basic/import_test_1.png)\n",
    "\n",
    "文件c5.py期望访问c4.py中的变量`import_var`，这时需要使用关键字`import`来导入模块。**单纯的`import`只能导入模块不能直接导入模块下的变量**。于是在c5.py文件中可以这么写"
   ]
  },
  {
   "cell_type": "code",
   "execution_count": null,
   "metadata": {},
   "outputs": [],
   "source": [
    "import c4\n",
    "print(c4.import_var) or do something"
   ]
  },
  {
   "cell_type": "markdown",
   "metadata": {},
   "source": [
    "python是解释型语言，**对变量的访问要遵循先定义后使用的原则**，即是说上面两行代码不可颠倒顺序。\n",
    "\n",
    "导入模块时，如果两个模块不在同一文件夹下，需要加上命名空间，也就是路径，比如上述文件结构变动：\n",
    "\n",
    "![多层文件结构](./img/basic/import_test_2.png)\n",
    "\n",
    "此时c5.py的导入模块语句应变成"
   ]
  },
  {
   "cell_type": "code",
   "execution_count": null,
   "metadata": {},
   "outputs": [],
   "source": [
    "import import_test.c4\n",
    "\n",
    "print(import_test.c4.import_var) or do something"
   ]
  },
  {
   "cell_type": "markdown",
   "metadata": {},
   "source": [
    "显而易见，当包下层级很多或名字很长时，`import`的使用会不方便，此时可以使用`as`关键字。"
   ]
  },
  {
   "cell_type": "code",
   "execution_count": null,
   "metadata": {},
   "outputs": [],
   "source": [
    "import import_test.c4 as a\n",
    "\n",
    "print(a.import_var) or do something"
   ]
  },
  {
   "cell_type": "markdown",
   "metadata": {},
   "source": [
    "即使使用了`as`关键词，使用外部变量依旧要使用`模块名.变量名`的方式来调用。有没有导入后直接使用变量的方式呢？有的，那就是`from import`导入方式"
   ]
  },
  {
   "cell_type": "code",
   "execution_count": null,
   "metadata": {},
   "outputs": [],
   "source": [
    "from import_test.c4 import import_var\n",
    "\n",
    "print(import_var) or do something"
   ]
  },
  {
   "cell_type": "markdown",
   "metadata": {},
   "source": [
    "有了`from`后，`import`也可以直接导入模块了"
   ]
  },
  {
   "cell_type": "code",
   "execution_count": null,
   "metadata": {},
   "outputs": [],
   "source": [
    "from import_test import c4\n",
    "\n",
    "print(c4.import_var) or do something"
   ]
  },
  {
   "cell_type": "markdown",
   "metadata": {},
   "source": [
    "有时一个模块里有很多变量需要导入，可以使用`*`来表示全部导入。__但不推荐这么做!__ 一来这样会带来阅读难度逻辑不清，二者`*`可能会将不需要的内容也导入进来，增加冗余\n",
    "\n",
    "```python\n",
    "from [namespace.]module_name import *\n",
    "```\n",
    "\n",
    "为了限制`*`，可以使用下面操作限制其代表内容，以c4.py为例"
   ]
  },
  {
   "cell_type": "code",
   "execution_count": null,
   "metadata": {},
   "outputs": [],
   "source": [
    "# c4.py\n",
    "__all__ = ['import_a','import_b','import_c']\n",
    "\n",
    "import_var = 2\n",
    "import_a = 3\n",
    "import_b = 4\n",
    "import_c = 5"
   ]
  },
  {
   "cell_type": "markdown",
   "metadata": {},
   "source": [
    "**在文件开头加入`__all__`(all左右是双下划线)列表**。此时对于操作`from c4 import *`来讲，只能获取all列表中的量，即变量`import_var`并未被导入\n",
    "\n",
    "在变量不多的时候也可以在`import`关键字后面，以`,`分隔列出所需要的变量\n",
    "\n",
    "```python\n",
    "from [namespace.]module_name import var1,var2,...\n",
    "```\n",
    "\n",
    "但有限的变量也可能因为名字长度、变量数量的缘故超出python规范的80字符边界。此时可以使用`()`或`\\`来进行换行\n",
    "\n",
    "```python\n",
    "from [namespace.]module_name import (var1,var2,\n",
    "...)\n",
    "\n",
    "from [namespace.]module_name import var1,var2, \\\n",
    "var3,var4...\n",
    "```\n",
    "\n",
    "**虽然效果相同，但不推荐使用`\\`**\n",
    "\n",
    "### \\_\\_init\\_\\_.py的作用\n",
    "\n",
    "在前文中我们提到过python用于识别包的文件`__init__.py`(下文简称为init模块)。它的作用当然不止于此。\n",
    "\n",
    "* 预处理模块\n",
    "\n",
    "init模块在其所在包被导入时，python解释器会自动寻找并运行该模块(不论是导入包内模块还是只是一个模块内的变量)，所以可以在里面对包内的一些模块进行预处理等操作\n",
    "\n",
    "* 限制导入模块\n",
    "\n",
    "上面我们介绍限制`import *`时，讲到过`__all__`这个列表，对于init模块同样适用。比如对于如下文件结构\n",
    "\n",
    "![初始文件使用](./img/basic/import_test_3.png)\n",
    "\n",
    "在import\\_test的初始模块中加入`__all__ = ['c4']`\n",
    "\n",
    "此时在seven.c6中若执行`from import_test import *`并试图访问import\\_test.c5或import_test.c6中的元素将会报错"
   ]
  },
  {
   "cell_type": "code",
   "execution_count": null,
   "metadata": {},
   "outputs": [],
   "source": [
    "# seven.c6\n",
    "from import_test import *\n",
    "print(c4.import_a)\n",
    "print(c4.import_b)\n",
    "print(c5.import_d)"
   ]
  },
  {
   "cell_type": "markdown",
   "metadata": {},
   "source": [
    "* 批量导入\n",
    "\n",
    "python标准库经常会为自定义模块所使用，如果每个模块都要导入标准库中的各自所需的模块，不仅繁琐而且冗余多。此时init模块就派上了用场。\n",
    "\n",
    "可以将本包内可能用到的系统库通过init模块统一导入，其他模块使用时通过`package_name.module_name`方式调用即可\n",
    "\n",
    "## 包和模块误区纠正\n",
    "\n",
    "1. 包和模块不会被重复导入，多个模块内`import`相同模块，导入阶段只会导入一次，但会带来代码冗余\n",
    "2. 避免循环导入\n",
    "\n",
    "假设有如下文件结构\n",
    "\n",
    "![循环导入](./img/basic/import_cycle.png)\n",
    "\n",
    "p1~p3三个模块下分别有如下语句"
   ]
  },
  {
   "cell_type": "code",
   "execution_count": null,
   "metadata": {},
   "outputs": [],
   "source": [
    "# p1.py\n",
    "from p2 import p2\n",
    "p1 = 1\n",
    "print(p2)\n",
    "\n",
    "# p2.py\n",
    "from p3 import p3\n",
    "p2 = 2\n",
    "\n",
    "# p3.py\n",
    "from p1 import p1\n",
    "p3 = 3 "
   ]
  },
  {
   "cell_type": "markdown",
   "metadata": {},
   "source": [
    "这就构成了循环导入，或许单看都没有问题，但运行时会出错，这是一个很难察觉的问题，特别是在模块很多的大型项目中。终止方式很简单，**删掉其中一个的导入即可**\n",
    "\n",
    "3. 导入模块时，就会运行模块代码\n",
    "\n",
    "比如模块p2被导入到p1模块中时，p2模块中的代码便会被执行，如果有像在控制台上的输出，也会输出出来\n",
    "\n",
    "# 模块内置变量\n",
    "\n",
    "如上文所示，模块中拥有很多`__varName__`形式的变量。可以使用`dir()`函数了解所有变量。在本地python环境下，运行如下代码"
   ]
  },
  {
   "cell_type": "code",
   "execution_count": null,
   "metadata": {},
   "outputs": [],
   "source": [
    "test_var_a = 2\n",
    "test_var_b = 3\n",
    "\n",
    "infos = dir()\n",
    "print(infos)"
   ]
  },
  {
   "cell_type": "markdown",
   "metadata": {},
   "source": [
    "可以得到如下结果：\n",
    "\n",
    "```shell\n",
    "PS E:\\Python\\seven> python .\\c7.py\n",
    "['__builtins__', '__cached__', '__doc__', '__file__', '__loader__', '__name__', '__package__', '__spec__', 'test_var_a', 'test_var_b']\n",
    "```"
   ]
  },
  {
   "cell_type": "markdown",
   "metadata": {},
   "source": [
    "> `dir()`可以接收模块名、类名作为参数，用于查看模块或类内的变量有哪些\n",
    "\n",
    "\n",
    "可以看到`dir()`中包括了隐含的内置变量和自定义的变量。内置变量中需要掌握的有这么几个：\n",
    "\n",
    "* \\_\\_doc\\_\\_  文件注释\n",
    "* \\_\\_name\\_\\_  文件全名，即`路径.文件名`或者`命名空间.文件名`\n",
    "* \\_\\_file\\_\\_  文件的路径地址，结果因执行命令而异，比如可能是windows下的相对路径地址或者是绝对路径地址\n",
    "* \\_\\_package\\_\\_  包名，有多层的话彼此以`.`分隔\n",
    "\n",
    "> \\_\\_builtins\\_\\_ 内置函数存在其中 \n",
    "\n",
    "> \\_\\_cached\\_\\_ 文件缓存路径 \n",
    "\n",
    "> \\_\\_loader\\_\\_  加载模块时导入程序所使用的对象，多用于自检\n",
    "\n",
    "> \\_\\_spec\\_\\_ 导入模块时所使用的规约\n",
    "\n",
    "上述说明为一般情况，针对**入口文件**（进入/启动程序的文件）略有不同。当前文件为入口文件时：\n",
    "\n",
    "* `__name__`的内容被修改为\\_\\_main\\_\\_\n",
    "* `__package__`为空，即其不属于任何包，**即使实际路径上存在着若干上级目录或包**\n",
    "* `__file__`为当前目录。即`./entry_file_name`形式\n",
    "\n",
    "有人可能心有疑惑，入口文件既然是文件，按照python理解应该也是模块，那应该也可以当作一个模块来运行。如果想要这么做，在运行该文件时需要这么写命令（**必须在入口文件上级目录中执行**）：\n",
    "\n",
    "`python -m namespace.module_name`或者`python namespace_path\\module_name`\n"
   ]
  },
  {
   "cell_type": "code",
   "execution_count": null,
   "metadata": {},
   "outputs": [],
   "source": [
    "# __name__经典应用——让一个模块同时具备可执行性和可导入性\n",
    "\n",
    "if __name__ == '__main__': # 分辨当前模块是要用于执行还是导入\n",
    "    pass"
   ]
  },
  {
   "cell_type": "markdown",
   "metadata": {},
   "source": [
    "## 相对导入和绝对导入\n",
    "\n",
    "要理解相对导入和绝对导入，首先要理解**顶级包**的概念。下图展示了常规python项目的结构样式，main.py是入口文件。\n",
    "\n",
    "![常规项目结构](./img/basic/project_structure_1.png)\n",
    "\n",
    "对于package2又有如下结构\n",
    "\n",
    "![package2结构](./img/basic/project_structure_2.png)\n",
    "\n",
    "此时从上帝视角看，此项目的顶级包应该是`demo`，但是因为入口文件main.py处于`demo`之下，所以是访问不到的，也因此**顶级包具体是谁需要看入口文件的位置**。可以通过打印`__package__`来检验。\n",
    "\n",
    "```python\n",
    "print(__package__)\n",
    "```\n",
    "\n",
    "```shell\n",
    "PS E:\\Python\\demo> python .\\main.py\n",
    "None\n",
    "```\n",
    "\n",
    "如果main中导入m2。对m2来讲此时的顶级包是package2，即**最多到main同级的包**。\n",
    "\n"
   ]
  },
  {
   "cell_type": "code",
   "execution_count": null,
   "metadata": {},
   "outputs": [],
   "source": [
    "# main.py\n",
    "import package2.package4.m2\n",
    "\n",
    "# m2.py\n",
    "print(__package__)"
   ]
  },
  {
   "cell_type": "markdown",
   "metadata": {},
   "source": [
    "```shell\n",
    "PS E:\\Python\\demo> python .\\main.py\n",
    "package2.package4\n",
    "```\n",
    "\n",
    "这里的`顶级包.次级包. ... .模块名`的访问方式就是**绝对导入**\n",
    "\n",
    "相对导入使用的符号是`.`，一个`.`表示当前目录，`..`表示上级目录，`...`表示上上级目录，以此类推\n",
    "\n",
    "相对导入使用方式是`from .基于当前模块位置的路径.模块名 import something`，**入口文件内不能使用相对导入，import后面不能使用相对导入**\n",
    "\n",
    "本例中可以这样使用"
   ]
  },
  {
   "cell_type": "code",
   "execution_count": null,
   "metadata": {},
   "outputs": [],
   "source": [
    "# main.py\n",
    "import package2.package4.m2\n",
    "\n",
    "# m1.py\n",
    "demo_var = 2\n",
    "print(__package__)\n",
    "\n",
    "# m2.py\n",
    "from ..m1 import demo_var\n",
    "print(__package__)"
   ]
  },
  {
   "cell_type": "markdown",
   "metadata": {},
   "source": [
    "```shell\n",
    "PS E:\\Python\\demo> python .\\main.py\n",
    "package2\n",
    "package2.package4\n",
    "```\n",
    "\n",
    "main调用m2，m2调用了m1，m1的包路径优先输出，之后输出m2的。要留意，这里m1，m2的顶级包都只是到达了main同级的package2\n",
    "\n",
    "相对导入的实现实际上是依靠`__name__`这一内置变量，上面说过入口文件的`__name__`会被修改为\\_\\_main\\_\\_，所以相对导入在入口文件中不行。如果非要在入口文件中使用相对导入，可以使用上文所说的**通过视入口文件为模块的方式运行程序**"
   ]
  }
 ],
 "metadata": {
  "kernelspec": {
   "display_name": "Python 3",
   "language": "python",
   "name": "python3"
  },
  "language_info": {
   "codemirror_mode": {
    "name": "ipython",
    "version": 3
   },
   "file_extension": ".py",
   "mimetype": "text/x-python",
   "name": "python",
   "nbconvert_exporter": "python",
   "pygments_lexer": "ipython3",
   "version": "3.6.4"
  }
 },
 "nbformat": 4,
 "nbformat_minor": 2
}
