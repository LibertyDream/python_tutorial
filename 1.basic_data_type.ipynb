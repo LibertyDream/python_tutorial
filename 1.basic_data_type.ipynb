{
 "cells": [
  {
   "cell_type": "markdown",
   "metadata": {},
   "source": [
    "![asd](../求职/数据挖掘/语言基础/image/Python基本数据类型.png)"
   ]
  },
  {
   "cell_type": "markdown",
   "metadata": {},
   "source": [
    "# Number:数字\n",
    "\n",
    "数字类型可分为数值类和布尔类型。数值类又分为整型和浮点型两种。\n",
    "\n",
    "python3中取消了short，long，统一用int表示整数。取消了double类型，统一用float表示，**这里的float就是其他语言中的双精度double**\n",
    "\n",
    "使用方法`type(a)`，可以获知参数a的类型"
   ]
  },
  {
   "cell_type": "code",
   "execution_count": null,
   "metadata": {},
   "outputs": [],
   "source": []
  }
 ],
 "metadata": {
  "kernelspec": {
   "display_name": "Python 3",
   "language": "python",
   "name": "python3"
  },
  "language_info": {
   "codemirror_mode": {
    "name": "ipython",
    "version": 3
   },
   "file_extension": ".py",
   "mimetype": "text/x-python",
   "name": "python",
   "nbconvert_exporter": "python",
   "pygments_lexer": "ipython3",
   "version": "3.6.4"
  }
 },
 "nbformat": 4,
 "nbformat_minor": 2
}
