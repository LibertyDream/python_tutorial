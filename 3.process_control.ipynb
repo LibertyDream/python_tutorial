{
 "cells": [
  {
   "cell_type": "markdown",
   "metadata": {},
   "source": [
    "# Python3简明教程——流程控制语句\n",
    "\n",
    "#### 作者：一轩明月\n",
    "\n",
    "## 表达式\n",
    "\n",
    "表达式（Expression）是运算符（operator）和操作数（operand）所构成的序列。是编程语言中最基本的概念之一\n",
    "\n",
    "简单地说python中的表达式就是一行行的语句"
   ]
  },
  {
   "cell_type": "code",
   "execution_count": 1,
   "metadata": {},
   "outputs": [
    {
     "data": {
      "text/plain": [
       "12"
      ]
     },
     "execution_count": 1,
     "metadata": {},
     "output_type": "execute_result"
    }
   ],
   "source": [
    "1+11"
   ]
  },
  {
   "cell_type": "code",
   "execution_count": 2,
   "metadata": {},
   "outputs": [],
   "source": [
    "a = [1,2,3]"
   ]
  },
  {
   "cell_type": "code",
   "execution_count": 5,
   "metadata": {},
   "outputs": [],
   "source": [
    "a = 1\n",
    "b = 2\n",
    "c = a and b or 0 \n",
    "c = int('1') + 2 # 这些都是表达式"
   ]
  },
  {
   "cell_type": "markdown",
   "metadata": {},
   "source": [
    "例子中的一行行输入都被叫做表达式。说到表达式就不能不提表达式间的优先级问题。Python不同类别运算符优先级如下图所示。\n",
    "\n",
    "![运算符优先级](./img/basic/pred_operator.PNG)\n",
    "\n",
    "注意：\n",
    "\n",
    "* **`()`的优先级最高**，可以使用`()`来验证和修改执行顺序\n",
    "* 同等级运算符中也存在优先级问题。如逻辑运算符中`not`>`and`>`or`\n",
    "* 同级情况下执行顺序是从左往右顺序执行，也就是**左结合**。但当出现赋值`=`操作时会变成**右结合**，也就是不论是否`=`是当前第一优先级，都要先将`=`右边部分计算完成"
   ]
  },
  {
   "cell_type": "code",
   "execution_count": 6,
   "metadata": {},
   "outputs": [
    {
     "data": {
      "text/plain": [
       "1"
      ]
     },
     "execution_count": 6,
     "metadata": {},
     "output_type": "execute_result"
    }
   ],
   "source": [
    "a or b and c"
   ]
  },
  {
   "cell_type": "code",
   "execution_count": 7,
   "metadata": {},
   "outputs": [
    {
     "data": {
      "text/plain": [
       "False"
      ]
     },
     "execution_count": 7,
     "metadata": {},
     "output_type": "execute_result"
    }
   ],
   "source": [
    "not a or b + 2 == c "
   ]
  },
  {
   "cell_type": "code",
   "execution_count": 9,
   "metadata": {},
   "outputs": [
    {
     "data": {
      "text/plain": [
       "False"
      ]
     },
     "execution_count": 9,
     "metadata": {},
     "output_type": "execute_result"
    }
   ],
   "source": [
    "(not a) or ((b + 2) == c)"
   ]
  },
  {
   "cell_type": "code",
   "execution_count": 10,
   "metadata": {},
   "outputs": [],
   "source": [
    "b = a is c"
   ]
  },
  {
   "cell_type": "markdown",
   "metadata": {},
   "source": [
    "## 流程控制语句\n",
    "\n",
    "* 条件控制语句——选择性问题\n",
    "* 循环控制语句——一种解决问题的基本思想\n",
    "\n",
    "### 条件控制语句\n",
    "\n",
    "即`if else`语句。python中的使用方式为\n",
    "\n",
    "```python\n",
    "if 逻辑判断 :\n",
    "    deal with things\n",
    "    ...\n",
    "else :\n",
    "    deal with other things\n",
    "    ...\n",
    "```\n",
    "\n",
    "---\n",
    "\n",
    "**python规范碎碎念:**\n",
    "* python默认每一行是一条语句，区别于c、java等必须以`;`结尾的方式，python中语句结尾处的`;`是可选的\n",
    "* python不依赖`{}`来识别代码块，而是依赖缩进对齐来标识代码块，也因此python代码不能被压缩和混淆。**缩进要求是4空格为基准，使用时注意ide等工具中对tab键的步进量的设置**\n",
    "\n",
    "---\n",
    "\n",
    "条件判断最常应用的场景莫过于检测用户登录时的条件判断了，下面简单模拟一下。_`input()`是一个函数可以获得用户在控制台上的输入,函数在后面单独说_"
   ]
  },
  {
   "cell_type": "code",
   "execution_count": 11,
   "metadata": {},
   "outputs": [
    {
     "name": "stdout",
     "output_type": "stream",
     "text": [
      "please input account\n",
      "meng\n",
      "please input password\n",
      "123\n",
      "fail\n"
     ]
    }
   ],
   "source": [
    "account = 'Daniel Meng'\n",
    "password = '123456'\n",
    "\n",
    "print('please input account')\n",
    "\n",
    "user_account = input()\n",
    "\n",
    "print('please input password')\n",
    "\n",
    "user_password = input()\n",
    "\n",
    "if account == user_account and password == user_password:\n",
    "    print('success')\n",
    "else:\n",
    "    print('fail')"
   ]
  },
  {
   "cell_type": "markdown",
   "metadata": {},
   "source": [
    "---\n",
    "\n",
    "**python规范碎碎念：**\n",
    "\n",
    "* python区分大小写，var和VAR不同\n",
    "* python没有常量机制，所有希望表示常量的变量应当全部用大写表示，如ACCOUNT\n",
    "* python中变量的命名如果是组合词的话通过`_`连接，区别于驼峰命名法等\n",
    "* python项目通常有很多个`.py`文件组成，一个python文件称之为一个模块，每一个模块顶部都应有一个由\\`\\`\\` \\`\\`\\`包裹的部分，用于解释当前模块的意义和作用\n",
    "* python中标识符前不要留空格\n",
    "* 每个python文件都应留一个空行\n",
    "* 变量应置于函数或类中，直接暴露在模块中的变量一般理解为常量\n",
    "* 为了提高可阅读性，多元运算符如`=`等左右应当各留空一格\n"
   ]
  },
  {
   "cell_type": "code",
   "execution_count": null,
   "metadata": {},
   "outputs": [],
   "source": [
    "'''\n",
    "    if-else条件语句的使用和规范\n",
    "'''\n",
    "ACCOUNT = 'Daniel Meng'\n",
    "PASSWORD = '123456'\n",
    "\n",
    "print('please input account')\n",
    "USER_ACCOUNT = input()\n",
    "\n",
    "print('please input password')\n",
    "USER_PASSWORD = input()\n",
    "\n",
    "if ACCOUNT == USER_ACCOUNT and PASSWORD == USER_PASSWORD :\n",
    "    print('success')\n",
    "else :\n",
    "    print('fail')\n"
   ]
  },
  {
   "cell_type": "markdown",
   "metadata": {},
   "source": [
    "---\n",
    "\n",
    "控制语句可以独立使用，也可以嵌套\n",
    "\n",
    "```python\n",
    "if condition:\n",
    "    if expression:\n",
    "        pass\n",
    "else:\n",
    "    if condition:\n",
    "        pass\n",
    "    else:\n",
    "        pass\n",
    "\n",
    "if expression:\n",
    "    pass\n",
    "\n",
    "if expression:\n",
    "    pass\n",
    "```\n",
    "\n",
    "这里讲一下由缩进带来的**代码块**的概念。对于同样缩进水平的代码属于同一代码块，处于同一级别\n",
    "\n",
    "```python\n",
    "if expression:\n",
    "    code1\n",
    "        code11\n",
    "        code11\n",
    "            code22\n",
    "            code22\n",
    "                code33\n",
    "                code33\n",
    "    code2\n",
    "    code3\n",
    "else:\n",
    "    code1\n",
    "    code2\n",
    "    code3\n",
    "```\n",
    "\n",
    "当遇到多条件判断时，可以使用`elif`语法，这是`else if`的简写。**`else`和`elif`都不能单独出现**"
   ]
  },
  {
   "cell_type": "code",
   "execution_count": 14,
   "metadata": {},
   "outputs": [
    {
     "name": "stdout",
     "output_type": "stream",
     "text": [
      "请输入a的值：3\n",
      "banana\n"
     ]
    }
   ],
   "source": [
    "a = input('请输入a的值：')\n",
    "a = int(a)\n",
    "\n",
    "if a == 1:\n",
    "    print('apple')\n",
    "elif a == 2:\n",
    "    print('orange')\n",
    "elif a == 3:\n",
    "    print('banana')\n",
    "else:\n",
    "    print('shopping')"
   ]
  },
  {
   "cell_type": "markdown",
   "metadata": {},
   "source": [
    "**注意，因为python是弱类型语言，所以`input()`函数统一都按字符串类型捕获，之后需要自行将数据转换成自身希望的类型**\n",
    "\n",
    "> python中没有c，java中的`switch case`语法。python中可以使用上文所述的`if... elif... elif... else`形式来代替。进一步的官方建议也可以使用字典的形式来实现`switch`语句的作用\n",
    "\n",
    "```python\n",
    "def function_1(...):\n",
    "    ...\n",
    "\n",
    "functions = {'a': function_1,\n",
    "             'b': function_2,\n",
    "             'c': self.method_1, ...}\n",
    "\n",
    "func = functions[value]\n",
    "func()\n",
    "```\n",
    "\n",
    "### 循环控制语句\n",
    "\n",
    "包括`while`和`for`两类循环。先说`while`循环\n",
    "\n",
    "```python\n",
    "while condition:\n",
    "    #循环体\n",
    "    do your things\n",
    "    ...\n",
    "orther statements\n",
    "```\n",
    "\n",
    "循环语句很容易发生死循环的错误。**在循环体中一定要有能影响循环条件的语句**"
   ]
  },
  {
   "cell_type": "code",
   "execution_count": 15,
   "metadata": {},
   "outputs": [
    {
     "name": "stdout",
     "output_type": "stream",
     "text": [
      "I am While 1\n",
      "I am While 2\n",
      "I am While 3\n",
      "I am While 4\n",
      "I am While 5\n",
      "I am While 6\n",
      "I am While 7\n",
      "I am While 8\n",
      "I am While 9\n",
      "I am While 10\n",
      "I am While 11\n"
     ]
    }
   ],
   "source": [
    "counter = 0\n",
    "\n",
    "while counter <= 10:\n",
    "    # 代码块\n",
    "    counter += 1\n",
    "    print('I am While ' + str(counter))"
   ]
  },
  {
   "cell_type": "markdown",
   "metadata": {},
   "source": [
    "python中无论是`while`还是`for`，都可以搭配`else`，表示循环条件结束后进行的操作\n",
    "\n",
    "```\n",
    "while condition:\n",
    "    do your things\n",
    "    ...\n",
    "else:\n",
    "    pass\n",
    "```\n",
    "\n",
    "**`pass`指代的是空操作**\n",
    "\n",
    "while循环多用于递归，for循环多用于遍历序列、集合或字典。也可以说while多用于循环次数不定，for用于循环次数确定的场合。\n",
    "\n",
    "```python\n",
    "for target_list in expression_list:\n",
    "    do your things\n",
    "    ...\n",
    "```\n",
    "\n",
    "上面给出了`for`循环格式。其也可以搭配`else`操作\n",
    "\n",
    "```python\n",
    "for target_list in expression_list:\n",
    "    pass\n",
    "else:\n",
    "    pass\n",
    "```\n",
    "\n",
    "循环控制语句可以嵌套使用"
   ]
  },
  {
   "cell_type": "code",
   "execution_count": 16,
   "metadata": {},
   "outputs": [
    {
     "name": "stdout",
     "output_type": "stream",
     "text": [
      "apple orange banana grape 1 2 3 fruit is gone\n"
     ]
    }
   ],
   "source": [
    "a = [['apple','orange','banana','grape'],(1,2,3)]\n",
    "\n",
    "for x in a:\n",
    "    for y in x:\n",
    "        print(y,end=' ')\n",
    "else:\n",
    "    print('fruit is gone')"
   ]
  },
  {
   "cell_type": "markdown",
   "metadata": {},
   "source": [
    "`else`部分会在遍历完，或者说for循环完成后执行。\n",
    "\n",
    "> `print()`方法中可以使用第二个参数`end`，来控制结果输出格式，默认`end = '\\n'`\n",
    "\n",
    "\n",
    "在循环中，有时要对某些情况特殊处理，比如说临界/错误时退出，忽略某些值等。这时就会使用到`break`和`continue`操作了\n",
    "\n",
    "`break`会终止最内层循环，**如果被终止层循环配有`else`部分，`else`部分也会被略过**。`continue`则是跳过当前第n次循环，直接进行第n+1次循环"
   ]
  },
  {
   "cell_type": "code",
   "execution_count": 17,
   "metadata": {},
   "outputs": [
    {
     "name": "stdout",
     "output_type": "stream",
     "text": [
      "apple\n",
      "orange\n",
      "1\n",
      "3\n",
      "Done\n"
     ]
    }
   ],
   "source": [
    "a = [['apple','orange','banana','grape'],(1,2,3)]\n",
    "\n",
    "for x in a:\n",
    "    for y in x:\n",
    "        if y == 'banana':\n",
    "            break\n",
    "        elif y == 2:\n",
    "            continue\n",
    "        print(y)\n",
    "    else:\n",
    "        print('Done')"
   ]
  },
  {
   "cell_type": "markdown",
   "metadata": {},
   "source": [
    "注意例子中，因为`break`,所以没有输出banana、grape和else部分。因为`continue`，程序跳过了2,其余部分正常输出\n",
    "\n",
    "如果有c、java等其他语言背景可能会产生疑问，上面的`for`更像是`for each`。如果是下面这种**指定循环次数**的经典for，python该怎么表示呢？\n",
    "\n",
    "```java\n",
    "for(int i = 0; i < n; i++){\n",
    "    do something\n",
    "}\n",
    "```\n",
    "对此，python使用了`range(start,end[,step])`函数，它可以接受三个参数，表示以步长`step`为单位获取一个`[start,end)`范围内的序列，步长可选，默认为1"
   ]
  },
  {
   "cell_type": "code",
   "execution_count": 19,
   "metadata": {},
   "outputs": [
    {
     "name": "stdout",
     "output_type": "stream",
     "text": [
      "0 | 1 | 2 | 3 | 4 | 5 | 6 | 7 | 8 | 9 | \n",
      "0 | 2 | 4 | 6 | 8 | \n",
      "10 | 8 | 6 | 4 | 2 | "
     ]
    }
   ],
   "source": [
    "for x in range(0,10):\n",
    "    print(x, end = ' | ')\n",
    "print()\n",
    "for x in range(0,10,2):\n",
    "    print(x, end = ' | ')\n",
    "print()\n",
    "for x in range(10,0,-2):\n",
    "    print(x, end = ' | ')\n"
   ]
  }
 ],
 "metadata": {
  "kernelspec": {
   "display_name": "Python 3",
   "language": "python",
   "name": "python3"
  },
  "language_info": {
   "codemirror_mode": {
    "name": "ipython",
    "version": 3
   },
   "file_extension": ".py",
   "mimetype": "text/x-python",
   "name": "python",
   "nbconvert_exporter": "python",
   "pygments_lexer": "ipython3",
   "version": "3.6.4"
  }
 },
 "nbformat": 4,
 "nbformat_minor": 2
}
